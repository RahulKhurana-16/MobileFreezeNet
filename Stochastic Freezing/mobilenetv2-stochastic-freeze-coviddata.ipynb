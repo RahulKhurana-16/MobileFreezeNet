{
 "cells": [
  {
   "cell_type": "code",
   "execution_count": 1,
   "id": "019a0fbc",
   "metadata": {
    "_cell_guid": "b1076dfc-b9ad-4769-8c92-a6c4dae69d19",
    "_uuid": "8f2839f25d086af736a60e9eeb907d3b93b6e0e5",
    "execution": {
     "iopub.execute_input": "2022-09-02T04:36:14.823011Z",
     "iopub.status.busy": "2022-09-02T04:36:14.822412Z",
     "iopub.status.idle": "2022-09-02T04:36:26.379892Z",
     "shell.execute_reply": "2022-09-02T04:36:26.378702Z"
    },
    "papermill": {
     "duration": 11.569404,
     "end_time": "2022-09-02T04:36:26.382408",
     "exception": false,
     "start_time": "2022-09-02T04:36:14.813004",
     "status": "completed"
    },
    "tags": []
   },
   "outputs": [
    {
     "name": "stdout",
     "output_type": "stream",
     "text": [
      "Collecting openpyxl\r\n",
      "  Downloading openpyxl-3.0.10-py2.py3-none-any.whl (242 kB)\r\n",
      "\u001b[2K     \u001b[90m━━━━━━━━━━━━━━━━━━━━━━━━━━━━━━━━━━━━━━━\u001b[0m \u001b[32m242.1/242.1 kB\u001b[0m \u001b[31m1.4 MB/s\u001b[0m eta \u001b[36m0:00:00\u001b[0m\r\n",
      "\u001b[?25hCollecting et-xmlfile\r\n",
      "  Downloading et_xmlfile-1.1.0-py3-none-any.whl (4.7 kB)\r\n",
      "Installing collected packages: et-xmlfile, openpyxl\r\n",
      "Successfully installed et-xmlfile-1.1.0 openpyxl-3.0.10\r\n",
      "\u001b[33mWARNING: Running pip as the 'root' user can result in broken permissions and conflicting behaviour with the system package manager. It is recommended to use a virtual environment instead: https://pip.pypa.io/warnings/venv\u001b[0m\u001b[33m\r\n",
      "\u001b[0m"
     ]
    }
   ],
   "source": [
    "!pip install openpyxl"
   ]
  },
  {
   "cell_type": "code",
   "execution_count": 2,
   "id": "33144d37",
   "metadata": {
    "execution": {
     "iopub.execute_input": "2022-09-02T04:36:26.399742Z",
     "iopub.status.busy": "2022-09-02T04:36:26.399420Z",
     "iopub.status.idle": "2022-09-02T04:36:33.010004Z",
     "shell.execute_reply": "2022-09-02T04:36:33.008849Z"
    },
    "papermill": {
     "duration": 6.62218,
     "end_time": "2022-09-02T04:36:33.012543",
     "exception": false,
     "start_time": "2022-09-02T04:36:26.390363",
     "status": "completed"
    },
    "tags": []
   },
   "outputs": [],
   "source": [
    "import numpy as np # linear algebra\n",
    "import pandas as pd \n",
    "import os\n",
    "import cv2\n",
    "import seaborn as sns\n",
    "\n",
    "# libraries for files preparation\n",
    "from sklearn.utils import shuffle\n",
    "from sklearn.model_selection import train_test_split\n",
    "import shutil\n",
    "from sklearn.metrics import matthews_corrcoef\n",
    "\n",
    "# libraries for CNN models and plotting\n",
    "import tensorflow as tf\n",
    "import tensorflow.keras.layers as tfl\n",
    "import tensorflow.keras as keras\n",
    "\n",
    "from tensorflow.keras.preprocessing.image import ImageDataGenerator\n",
    "from tensorflow.keras.layers import Conv2D, MaxPooling2D, Dense, Flatten, Dropout\n",
    "from tensorflow.keras import Sequential\n",
    "from tensorflow.keras.callbacks import EarlyStopping\n",
    "\n",
    "import matplotlib.pyplot as plt\n",
    "%matplotlib inline"
   ]
  },
  {
   "cell_type": "code",
   "execution_count": 3,
   "id": "880c06ba",
   "metadata": {
    "execution": {
     "iopub.execute_input": "2022-09-02T04:36:33.029153Z",
     "iopub.status.busy": "2022-09-02T04:36:33.028644Z",
     "iopub.status.idle": "2022-09-02T04:36:33.105074Z",
     "shell.execute_reply": "2022-09-02T04:36:33.104117Z"
    },
    "papermill": {
     "duration": 0.086872,
     "end_time": "2022-09-02T04:36:33.107224",
     "exception": false,
     "start_time": "2022-09-02T04:36:33.020352",
     "status": "completed"
    },
    "tags": []
   },
   "outputs": [],
   "source": [
    "path = '../input/mobilenetv2-kfolds/MobileNetFOLDS/'\n",
    "fold1 = pd.read_csv(path+'Fold1.csv')\n",
    "fold2 = pd.read_csv(path+'Fold2.csv')\n",
    "fold3 = pd.read_csv(path+'Fold3.csv')\n",
    "fold4 = pd.read_csv(path+'Fold4.csv')\n",
    "fold5 = pd.read_csv(path+'Fold5.csv')\n",
    "fold6 = pd.read_csv(path+'Fold6.csv')\n",
    "fold7 = pd.read_csv(path+'Fold7.csv')\n",
    "fold8 = pd.read_csv(path+'Fold8.csv')\n",
    "fold9 = pd.read_csv(path+'Fold9.csv')\n",
    "fold10 = pd.read_csv(path+'Fold10.csv')"
   ]
  },
  {
   "cell_type": "code",
   "execution_count": 4,
   "id": "30145300",
   "metadata": {
    "execution": {
     "iopub.execute_input": "2022-09-02T04:36:33.124306Z",
     "iopub.status.busy": "2022-09-02T04:36:33.122663Z",
     "iopub.status.idle": "2022-09-02T04:36:33.144290Z",
     "shell.execute_reply": "2022-09-02T04:36:33.143285Z"
    },
    "papermill": {
     "duration": 0.032027,
     "end_time": "2022-09-02T04:36:33.146653",
     "exception": false,
     "start_time": "2022-09-02T04:36:33.114626",
     "status": "completed"
    },
    "tags": []
   },
   "outputs": [
    {
     "data": {
      "text/plain": [
       "1    9275\n",
       "3    6012\n",
       "0    3616\n",
       "2    1345\n",
       "Name: label, dtype: int64"
      ]
     },
     "execution_count": 4,
     "metadata": {},
     "output_type": "execute_result"
    }
   ],
   "source": [
    "data = pd.concat([fold1,fold2,fold3,fold4,fold5,fold6,fold7,fold8,fold9,fold10], axis=0).reset_index(drop=True)\n",
    "data['label'].value_counts()"
   ]
  },
  {
   "cell_type": "code",
   "execution_count": 5,
   "id": "2038fa80",
   "metadata": {
    "execution": {
     "iopub.execute_input": "2022-09-02T04:36:33.162189Z",
     "iopub.status.busy": "2022-09-02T04:36:33.161925Z",
     "iopub.status.idle": "2022-09-02T04:36:33.170944Z",
     "shell.execute_reply": "2022-09-02T04:36:33.170073Z"
    },
    "papermill": {
     "duration": 0.019673,
     "end_time": "2022-09-02T04:36:33.173639",
     "exception": false,
     "start_time": "2022-09-02T04:36:33.153966",
     "status": "completed"
    },
    "tags": []
   },
   "outputs": [],
   "source": [
    "data = shuffle(data)"
   ]
  },
  {
   "cell_type": "code",
   "execution_count": 6,
   "id": "5ac26b53",
   "metadata": {
    "execution": {
     "iopub.execute_input": "2022-09-02T04:36:33.189551Z",
     "iopub.status.busy": "2022-09-02T04:36:33.189256Z",
     "iopub.status.idle": "2022-09-02T04:36:33.223688Z",
     "shell.execute_reply": "2022-09-02T04:36:33.222240Z"
    },
    "papermill": {
     "duration": 0.045358,
     "end_time": "2022-09-02T04:36:33.226252",
     "exception": false,
     "start_time": "2022-09-02T04:36:33.180894",
     "status": "completed"
    },
    "tags": []
   },
   "outputs": [
    {
     "name": "stdout",
     "output_type": "stream",
     "text": [
      "(18131, 2)\n",
      "(2117, 2)\n"
     ]
    }
   ],
   "source": [
    "df_test = fold1.copy()\n",
    "train = pd.concat([fold10,fold2,fold3,fold4,fold5,fold6,fold7,fold8,fold9], axis=0).reset_index(drop=True)\n",
    "train = shuffle(train)\n",
    "\n",
    "df_test.to_csv(\"testexp1.csv\",index=False)\n",
    "train.to_csv(\"trainexp1.csv\",index=False)\n",
    "\n",
    "print(train.shape)\n",
    "print(df_test.shape)"
   ]
  },
  {
   "cell_type": "code",
   "execution_count": 7,
   "id": "bdb9a966",
   "metadata": {
    "execution": {
     "iopub.execute_input": "2022-09-02T04:36:33.242587Z",
     "iopub.status.busy": "2022-09-02T04:36:33.242313Z",
     "iopub.status.idle": "2022-09-02T04:36:33.259666Z",
     "shell.execute_reply": "2022-09-02T04:36:33.258535Z"
    },
    "papermill": {
     "duration": 0.028412,
     "end_time": "2022-09-02T04:36:33.262393",
     "exception": false,
     "start_time": "2022-09-02T04:36:33.233981",
     "status": "completed"
    },
    "tags": []
   },
   "outputs": [
    {
     "name": "stdout",
     "output_type": "stream",
     "text": [
      "(16317, 2)\n",
      "(1814, 2)\n"
     ]
    }
   ],
   "source": [
    "df_train, df_val = train_test_split(train, test_size=0.10, random_state=42, stratify=train['label'])\n",
    "print(df_train.shape)\n",
    "print(df_val.shape)"
   ]
  },
  {
   "cell_type": "code",
   "execution_count": 8,
   "id": "bb216c95",
   "metadata": {
    "execution": {
     "iopub.execute_input": "2022-09-02T04:36:33.279734Z",
     "iopub.status.busy": "2022-09-02T04:36:33.279461Z",
     "iopub.status.idle": "2022-09-02T04:36:33.287051Z",
     "shell.execute_reply": "2022-09-02T04:36:33.286098Z"
    },
    "papermill": {
     "duration": 0.018083,
     "end_time": "2022-09-02T04:36:33.289287",
     "exception": false,
     "start_time": "2022-09-02T04:36:33.271204",
     "status": "completed"
    },
    "tags": []
   },
   "outputs": [
    {
     "data": {
      "text/plain": [
       "1    7430\n",
       "3    4870\n",
       "0    2928\n",
       "2    1089\n",
       "Name: label, dtype: int64"
      ]
     },
     "execution_count": 8,
     "metadata": {},
     "output_type": "execute_result"
    }
   ],
   "source": [
    "df_train['label'].value_counts()"
   ]
  },
  {
   "cell_type": "code",
   "execution_count": 9,
   "id": "065b04bb",
   "metadata": {
    "execution": {
     "iopub.execute_input": "2022-09-02T04:36:33.306608Z",
     "iopub.status.busy": "2022-09-02T04:36:33.305137Z",
     "iopub.status.idle": "2022-09-02T04:36:33.316644Z",
     "shell.execute_reply": "2022-09-02T04:36:33.315799Z"
    },
    "papermill": {
     "duration": 0.021973,
     "end_time": "2022-09-02T04:36:33.318610",
     "exception": false,
     "start_time": "2022-09-02T04:36:33.296637",
     "status": "completed"
    },
    "tags": []
   },
   "outputs": [],
   "source": [
    "import os\n",
    "# Create a new directory\n",
    "base_dir = 'base_dir'\n",
    "os.mkdir(base_dir)\n",
    "\n",
    "train_dir = os.path.join(base_dir, 'train_dir')\n",
    "os.mkdir(train_dir)\n",
    "\n",
    "val_dir = os.path.join(base_dir, 'val_dir')\n",
    "os.mkdir(val_dir)\n",
    "\n",
    "test_dir = os.path.join(base_dir, 'test_dir')\n",
    "os.mkdir(test_dir)\n",
    "\n",
    "# create new folders inside train_dir\n",
    "train_covid = os.path.join(train_dir, 'covid')\n",
    "os.mkdir(train_covid)\n",
    "train_normal = os.path.join(train_dir, 'normal')\n",
    "os.mkdir(train_normal)\n",
    "train_viral_pneumonia = os.path.join(train_dir, 'viral pneumonia')\n",
    "os.mkdir(train_viral_pneumonia)\n",
    "train_lung_opacity = os.path.join(train_dir, 'lung opacity')\n",
    "os.mkdir(train_lung_opacity)\n",
    "\n",
    "# create new folders inside val_dir\n",
    "val_covid = os.path.join(val_dir, 'covid')\n",
    "os.mkdir(val_covid)\n",
    "val_normal = os.path.join(val_dir, 'normal')\n",
    "os.mkdir(val_normal)\n",
    "val_viral_pneumonia = os.path.join(val_dir, 'viral pneumonia')\n",
    "os.mkdir(val_viral_pneumonia)\n",
    "val_lung_opacity = os.path.join(val_dir, 'lung opacity')\n",
    "os.mkdir(val_lung_opacity)\n",
    "\n",
    "\n",
    "# create new folders inside test_dir\n",
    "test_covid = os.path.join(test_dir, 'covid')\n",
    "os.mkdir(test_covid)\n",
    "test_normal = os.path.join(test_dir, 'normal')\n",
    "os.mkdir(test_normal)\n",
    "test_viral_pneumonia = os.path.join(test_dir, 'viral pneumonia')\n",
    "os.mkdir(test_viral_pneumonia)\n",
    "test_lung_opacity = os.path.join(test_dir, 'lung opacity')\n",
    "os.mkdir(test_lung_opacity)"
   ]
  },
  {
   "cell_type": "code",
   "execution_count": 10,
   "id": "09d0f53a",
   "metadata": {
    "execution": {
     "iopub.execute_input": "2022-09-02T04:36:33.335506Z",
     "iopub.status.busy": "2022-09-02T04:36:33.334904Z",
     "iopub.status.idle": "2022-09-02T04:36:33.343142Z",
     "shell.execute_reply": "2022-09-02T04:36:33.342309Z"
    },
    "papermill": {
     "duration": 0.019018,
     "end_time": "2022-09-02T04:36:33.345078",
     "exception": false,
     "start_time": "2022-09-02T04:36:33.326060",
     "status": "completed"
    },
    "tags": []
   },
   "outputs": [],
   "source": [
    "train_list = list(df_train['FILE NAME'])\n",
    "val_list = list(df_val['FILE NAME'])\n",
    "test_list = list(df_test['FILE NAME'])"
   ]
  },
  {
   "cell_type": "code",
   "execution_count": 11,
   "id": "8d1574b9",
   "metadata": {
    "execution": {
     "iopub.execute_input": "2022-09-02T04:36:33.361470Z",
     "iopub.status.busy": "2022-09-02T04:36:33.361151Z",
     "iopub.status.idle": "2022-09-02T04:39:45.194127Z",
     "shell.execute_reply": "2022-09-02T04:39:45.192325Z"
    },
    "papermill": {
     "duration": 191.849403,
     "end_time": "2022-09-02T04:39:45.201847",
     "exception": false,
     "start_time": "2022-09-02T04:36:33.352444",
     "status": "completed"
    },
    "tags": []
   },
   "outputs": [],
   "source": [
    "for image in train_list:\n",
    "    \n",
    "    # add .png extension \n",
    "    filename = image + '.png'\n",
    "    # get the label for a certain image\n",
    "    target = int(data.loc[data['FILE NAME'] == image, ['label']].values)\n",
    "    \n",
    "    # match the target with the folder's name and source path of the image\n",
    "    if target == 0:\n",
    "        label = 'covid'\n",
    "        src = os.path.join('../input/covid19-radiography-database/COVID-19_Radiography_Dataset/COVID/images', filename)\n",
    "        \n",
    "    if target == 1:\n",
    "        label = 'normal'\n",
    "        # As 'FILE NAME's in .xlsx file begins with 'NORMAL' but real file names begin with 'Normal'\n",
    "        filename = filename.capitalize()\n",
    "        src = os.path.join('../input/covid19-radiography-database/COVID-19_Radiography_Dataset/Normal/images', filename)\n",
    "        \n",
    "    if target == 2:\n",
    "        label = 'viral pneumonia'\n",
    "        src = os.path.join('../input/covid19-radiography-database/COVID-19_Radiography_Dataset/Viral Pneumonia/images', filename)\n",
    "    \n",
    "    if target == 3:\n",
    "        label = 'lung opacity'\n",
    "        src = os.path.join('../input/covid19-radiography-database/COVID-19_Radiography_Dataset/Lung_Opacity/images', filename)\n",
    "  \n",
    "    # destination path to image\n",
    "    dst = os.path.join(train_dir, label, filename)\n",
    "    \n",
    "    # copy the image from the source to the destination\n",
    "    shutil.copyfile(src, dst)\n",
    "\n",
    "# Copy images to val_dir folder\n",
    "for image in val_list:\n",
    "    \n",
    "    # add .png extension \n",
    "    filename = image + '.png'\n",
    "    # get the label for a certain image\n",
    "    target = int(data.loc[data['FILE NAME'] == image, ['label']].values)\n",
    "    \n",
    "    # match the target with the folder's name and source path of the image\n",
    "    if target == 0:\n",
    "        label = 'covid'\n",
    "        src = os.path.join('../input/covid19-radiography-database/COVID-19_Radiography_Dataset/COVID/images', filename)\n",
    "        \n",
    "    if target == 1:\n",
    "        label = 'normal'\n",
    "        filename = filename.capitalize()\n",
    "        src = os.path.join('../input/covid19-radiography-database/COVID-19_Radiography_Dataset/Normal/images', filename)\n",
    "        \n",
    "    if target == 2:\n",
    "        label = 'viral pneumonia'\n",
    "        src = os.path.join('../input/covid19-radiography-database/COVID-19_Radiography_Dataset/Viral Pneumonia/images', filename)\n",
    "    \n",
    "    if target == 3:\n",
    "        label = 'lung opacity'\n",
    "        src = os.path.join('../input/covid19-radiography-database/COVID-19_Radiography_Dataset/Lung_Opacity/images', filename)\n",
    "\n",
    "  \n",
    "    # destination path to image\n",
    "    dst = os.path.join(val_dir, label, filename)\n",
    "    \n",
    "    # copy the image from the source to the destination\n",
    "    shutil.copyfile(src, dst)\n",
    "    \n",
    "    \n",
    "\n",
    "    \n",
    "# Copy images to test_dir folder\n",
    "for image in test_list:\n",
    "    \n",
    "    # add .png extension \n",
    "    filename = image + '.png'\n",
    "    # get the label for a certain image\n",
    "    target = int(data.loc[data['FILE NAME'] == image, ['label']].values)\n",
    "    \n",
    "    # match the target with the folder's name and source path of the image\n",
    "    if target == 0:\n",
    "        label = 'covid'\n",
    "        src = os.path.join('../input/covid19-radiography-database/COVID-19_Radiography_Dataset/COVID/images', filename)\n",
    "        \n",
    "    if target == 1:\n",
    "        label = 'normal'\n",
    "        filename = filename.capitalize()\n",
    "        src = os.path.join('../input/covid19-radiography-database/COVID-19_Radiography_Dataset/Normal/images', filename)\n",
    "        \n",
    "    if target == 2:\n",
    "        label = 'viral pneumonia'\n",
    "        src = os.path.join('../input/covid19-radiography-database/COVID-19_Radiography_Dataset/Viral Pneumonia/images', filename)\n",
    "    \n",
    "    if target == 3:\n",
    "        label = 'lung opacity'\n",
    "        src = os.path.join('../input/covid19-radiography-database/COVID-19_Radiography_Dataset/Lung_Opacity/images', filename)\n",
    "\n",
    "  \n",
    "    # destination path to image\n",
    "    dst = os.path.join(test_dir, label, filename)\n",
    "    \n",
    "    # copy the image from the source to the destination\n",
    "    shutil.copyfile(src, dst)"
   ]
  },
  {
   "cell_type": "code",
   "execution_count": 12,
   "id": "1ce7e795",
   "metadata": {
    "execution": {
     "iopub.execute_input": "2022-09-02T04:39:45.243092Z",
     "iopub.status.busy": "2022-09-02T04:39:45.242687Z",
     "iopub.status.idle": "2022-09-02T04:39:45.267806Z",
     "shell.execute_reply": "2022-09-02T04:39:45.266760Z"
    },
    "papermill": {
     "duration": 0.05223,
     "end_time": "2022-09-02T04:39:45.274547",
     "exception": false,
     "start_time": "2022-09-02T04:39:45.222317",
     "status": "completed"
    },
    "tags": []
   },
   "outputs": [
    {
     "name": "stdout",
     "output_type": "stream",
     "text": [
      "2928\n",
      "7430\n",
      "1089\n",
      "4870\n"
     ]
    }
   ],
   "source": [
    "print(len(os.listdir('base_dir/train_dir/covid')))\n",
    "print(len(os.listdir('base_dir/train_dir/normal')))\n",
    "print(len(os.listdir('base_dir/train_dir/viral pneumonia')))\n",
    "print(len(os.listdir('base_dir/train_dir/lung opacity')))"
   ]
  },
  {
   "cell_type": "code",
   "execution_count": 13,
   "id": "ea97c408",
   "metadata": {
    "execution": {
     "iopub.execute_input": "2022-09-02T04:39:45.302007Z",
     "iopub.status.busy": "2022-09-02T04:39:45.301617Z",
     "iopub.status.idle": "2022-09-02T04:39:45.310844Z",
     "shell.execute_reply": "2022-09-02T04:39:45.309316Z"
    },
    "papermill": {
     "duration": 0.023569,
     "end_time": "2022-09-02T04:39:45.314548",
     "exception": false,
     "start_time": "2022-09-02T04:39:45.290979",
     "status": "completed"
    },
    "tags": []
   },
   "outputs": [
    {
     "name": "stdout",
     "output_type": "stream",
     "text": [
      "1814\n"
     ]
    }
   ],
   "source": [
    "print(len(os.listdir('base_dir/val_dir/covid')) + len(os.listdir('base_dir/val_dir/normal')) + len(os.listdir('base_dir/val_dir/viral pneumonia')) + len(os.listdir('base_dir/val_dir/lung opacity')))"
   ]
  },
  {
   "cell_type": "code",
   "execution_count": 14,
   "id": "56c1fb85",
   "metadata": {
    "execution": {
     "iopub.execute_input": "2022-09-02T04:39:45.339080Z",
     "iopub.status.busy": "2022-09-02T04:39:45.338729Z",
     "iopub.status.idle": "2022-09-02T04:39:45.347225Z",
     "shell.execute_reply": "2022-09-02T04:39:45.346013Z"
    },
    "papermill": {
     "duration": 0.02395,
     "end_time": "2022-09-02T04:39:45.350241",
     "exception": false,
     "start_time": "2022-09-02T04:39:45.326291",
     "status": "completed"
    },
    "tags": []
   },
   "outputs": [
    {
     "name": "stdout",
     "output_type": "stream",
     "text": [
      "2117\n"
     ]
    }
   ],
   "source": [
    "print(len(os.listdir('base_dir/test_dir/covid')) + len(os.listdir('base_dir/test_dir/normal')) + len(os.listdir('base_dir/test_dir/viral pneumonia')) + len(os.listdir('base_dir/test_dir/lung opacity')))"
   ]
  },
  {
   "cell_type": "code",
   "execution_count": 15,
   "id": "9becfd3b",
   "metadata": {
    "execution": {
     "iopub.execute_input": "2022-09-02T04:39:45.374535Z",
     "iopub.status.busy": "2022-09-02T04:39:45.374094Z",
     "iopub.status.idle": "2022-09-02T04:39:45.379723Z",
     "shell.execute_reply": "2022-09-02T04:39:45.378486Z"
    },
    "papermill": {
     "duration": 0.021521,
     "end_time": "2022-09-02T04:39:45.383147",
     "exception": false,
     "start_time": "2022-09-02T04:39:45.361626",
     "status": "completed"
    },
    "tags": []
   },
   "outputs": [],
   "source": [
    "IMG_SIZE = (224 , 224)\n",
    "train_directory = \"base_dir/train_dir\"\n",
    "val_directory = \"base_dir/val_dir\"\n",
    "test_directory = \"base_dir/test_dir\""
   ]
  },
  {
   "cell_type": "code",
   "execution_count": 16,
   "id": "35785365",
   "metadata": {
    "execution": {
     "iopub.execute_input": "2022-09-02T04:39:45.407191Z",
     "iopub.status.busy": "2022-09-02T04:39:45.406779Z",
     "iopub.status.idle": "2022-09-02T04:39:46.355627Z",
     "shell.execute_reply": "2022-09-02T04:39:46.354225Z"
    },
    "papermill": {
     "duration": 0.963389,
     "end_time": "2022-09-02T04:39:46.358034",
     "exception": false,
     "start_time": "2022-09-02T04:39:45.394645",
     "status": "completed"
    },
    "tags": []
   },
   "outputs": [
    {
     "name": "stdout",
     "output_type": "stream",
     "text": [
      "Found 16317 images belonging to 4 classes.\n",
      "Found 1814 images belonging to 4 classes.\n",
      "Found 2117 images belonging to 4 classes.\n"
     ]
    }
   ],
   "source": [
    "train_datagen = ImageDataGenerator(rescale=1./255)\n",
    "test_datagen = ImageDataGenerator(rescale=1./255)\n",
    "train_generator = train_datagen.flow_from_directory(\n",
    "        train_directory,\n",
    "        target_size=IMG_SIZE,\n",
    "        batch_size=8,\n",
    "        class_mode='categorical')\n",
    "validation_generator = test_datagen.flow_from_directory(\n",
    "        val_directory,\n",
    "        target_size=IMG_SIZE,\n",
    "        batch_size=8,\n",
    "        shuffle=False,\n",
    "        class_mode='categorical')\n",
    "test_generator = test_datagen.flow_from_directory(\n",
    "        test_directory,\n",
    "        target_size=IMG_SIZE,\n",
    "        batch_size=8,\n",
    "        shuffle=False,\n",
    "        class_mode='categorical')"
   ]
  },
  {
   "cell_type": "code",
   "execution_count": 17,
   "id": "a32175fc",
   "metadata": {
    "execution": {
     "iopub.execute_input": "2022-09-02T04:39:46.375283Z",
     "iopub.status.busy": "2022-09-02T04:39:46.374699Z",
     "iopub.status.idle": "2022-09-02T04:39:51.022573Z",
     "shell.execute_reply": "2022-09-02T04:39:51.021602Z"
    },
    "papermill": {
     "duration": 4.658887,
     "end_time": "2022-09-02T04:39:51.024844",
     "exception": false,
     "start_time": "2022-09-02T04:39:46.365957",
     "status": "completed"
    },
    "tags": []
   },
   "outputs": [
    {
     "name": "stderr",
     "output_type": "stream",
     "text": [
      "2022-09-02 04:39:46.791345: I tensorflow/stream_executor/cuda/cuda_gpu_executor.cc:937] successful NUMA node read from SysFS had negative value (-1), but there must be at least one NUMA node, so returning NUMA node zero\n",
      "2022-09-02 04:39:46.952035: I tensorflow/stream_executor/cuda/cuda_gpu_executor.cc:937] successful NUMA node read from SysFS had negative value (-1), but there must be at least one NUMA node, so returning NUMA node zero\n",
      "2022-09-02 04:39:46.952797: I tensorflow/stream_executor/cuda/cuda_gpu_executor.cc:937] successful NUMA node read from SysFS had negative value (-1), but there must be at least one NUMA node, so returning NUMA node zero\n",
      "2022-09-02 04:39:46.954926: I tensorflow/core/platform/cpu_feature_guard.cc:142] This TensorFlow binary is optimized with oneAPI Deep Neural Network Library (oneDNN) to use the following CPU instructions in performance-critical operations:  AVX2 AVX512F FMA\n",
      "To enable them in other operations, rebuild TensorFlow with the appropriate compiler flags.\n",
      "2022-09-02 04:39:46.955326: I tensorflow/stream_executor/cuda/cuda_gpu_executor.cc:937] successful NUMA node read from SysFS had negative value (-1), but there must be at least one NUMA node, so returning NUMA node zero\n",
      "2022-09-02 04:39:46.956371: I tensorflow/stream_executor/cuda/cuda_gpu_executor.cc:937] successful NUMA node read from SysFS had negative value (-1), but there must be at least one NUMA node, so returning NUMA node zero\n",
      "2022-09-02 04:39:46.957257: I tensorflow/stream_executor/cuda/cuda_gpu_executor.cc:937] successful NUMA node read from SysFS had negative value (-1), but there must be at least one NUMA node, so returning NUMA node zero\n",
      "2022-09-02 04:39:49.184881: I tensorflow/stream_executor/cuda/cuda_gpu_executor.cc:937] successful NUMA node read from SysFS had negative value (-1), but there must be at least one NUMA node, so returning NUMA node zero\n",
      "2022-09-02 04:39:49.185943: I tensorflow/stream_executor/cuda/cuda_gpu_executor.cc:937] successful NUMA node read from SysFS had negative value (-1), but there must be at least one NUMA node, so returning NUMA node zero\n",
      "2022-09-02 04:39:49.186708: I tensorflow/stream_executor/cuda/cuda_gpu_executor.cc:937] successful NUMA node read from SysFS had negative value (-1), but there must be at least one NUMA node, so returning NUMA node zero\n",
      "2022-09-02 04:39:49.187311: I tensorflow/core/common_runtime/gpu/gpu_device.cc:1510] Created device /job:localhost/replica:0/task:0/device:GPU:0 with 15403 MB memory:  -> device: 0, name: Tesla P100-PCIE-16GB, pci bus id: 0000:00:04.0, compute capability: 6.0\n"
     ]
    },
    {
     "name": "stdout",
     "output_type": "stream",
     "text": [
      "Downloading data from https://storage.googleapis.com/tensorflow/keras-applications/mobilenet_v2/mobilenet_v2_weights_tf_dim_ordering_tf_kernels_1.0_224_no_top.h5\n",
      "9412608/9406464 [==============================] - 0s 0us/step\n",
      "9420800/9406464 [==============================] - 0s 0us/step\n"
     ]
    }
   ],
   "source": [
    "import tensorflow_hub as hub\n",
    "mobile_net_layers = tf.keras.applications.mobilenet_v2.MobileNetV2(input_shape=(224,224,3), include_top=False, weights='imagenet')"
   ]
  },
  {
   "cell_type": "code",
   "execution_count": 18,
   "id": "c307a351",
   "metadata": {
    "execution": {
     "iopub.execute_input": "2022-09-02T04:39:51.043004Z",
     "iopub.status.busy": "2022-09-02T04:39:51.042703Z",
     "iopub.status.idle": "2022-09-02T04:39:51.069811Z",
     "shell.execute_reply": "2022-09-02T04:39:51.068209Z"
    },
    "papermill": {
     "duration": 0.038556,
     "end_time": "2022-09-02T04:39:51.071916",
     "exception": false,
     "start_time": "2022-09-02T04:39:51.033360",
     "status": "completed"
    },
    "tags": []
   },
   "outputs": [
    {
     "name": "stdout",
     "output_type": "stream",
     "text": [
      "Model: \"mobilenetv2_1.00_224\"\n",
      "__________________________________________________________________________________________________\n",
      "Layer (type)                    Output Shape         Param #     Connected to                     \n",
      "==================================================================================================\n",
      "input_1 (InputLayer)            [(None, 224, 224, 3) 0                                            \n",
      "__________________________________________________________________________________________________\n",
      "Conv1 (Conv2D)                  (None, 112, 112, 32) 864         input_1[0][0]                    \n",
      "__________________________________________________________________________________________________\n",
      "bn_Conv1 (BatchNormalization)   (None, 112, 112, 32) 128         Conv1[0][0]                      \n",
      "__________________________________________________________________________________________________\n",
      "Conv1_relu (ReLU)               (None, 112, 112, 32) 0           bn_Conv1[0][0]                   \n",
      "__________________________________________________________________________________________________\n",
      "expanded_conv_depthwise (Depthw (None, 112, 112, 32) 288         Conv1_relu[0][0]                 \n",
      "__________________________________________________________________________________________________\n",
      "expanded_conv_depthwise_BN (Bat (None, 112, 112, 32) 128         expanded_conv_depthwise[0][0]    \n",
      "__________________________________________________________________________________________________\n",
      "expanded_conv_depthwise_relu (R (None, 112, 112, 32) 0           expanded_conv_depthwise_BN[0][0] \n",
      "__________________________________________________________________________________________________\n",
      "expanded_conv_project (Conv2D)  (None, 112, 112, 16) 512         expanded_conv_depthwise_relu[0][0\n",
      "__________________________________________________________________________________________________\n",
      "expanded_conv_project_BN (Batch (None, 112, 112, 16) 64          expanded_conv_project[0][0]      \n",
      "__________________________________________________________________________________________________\n",
      "block_1_expand (Conv2D)         (None, 112, 112, 96) 1536        expanded_conv_project_BN[0][0]   \n",
      "__________________________________________________________________________________________________\n",
      "block_1_expand_BN (BatchNormali (None, 112, 112, 96) 384         block_1_expand[0][0]             \n",
      "__________________________________________________________________________________________________\n",
      "block_1_expand_relu (ReLU)      (None, 112, 112, 96) 0           block_1_expand_BN[0][0]          \n",
      "__________________________________________________________________________________________________\n",
      "block_1_pad (ZeroPadding2D)     (None, 113, 113, 96) 0           block_1_expand_relu[0][0]        \n",
      "__________________________________________________________________________________________________\n",
      "block_1_depthwise (DepthwiseCon (None, 56, 56, 96)   864         block_1_pad[0][0]                \n",
      "__________________________________________________________________________________________________\n",
      "block_1_depthwise_BN (BatchNorm (None, 56, 56, 96)   384         block_1_depthwise[0][0]          \n",
      "__________________________________________________________________________________________________\n",
      "block_1_depthwise_relu (ReLU)   (None, 56, 56, 96)   0           block_1_depthwise_BN[0][0]       \n",
      "__________________________________________________________________________________________________\n",
      "block_1_project (Conv2D)        (None, 56, 56, 24)   2304        block_1_depthwise_relu[0][0]     \n",
      "__________________________________________________________________________________________________\n",
      "block_1_project_BN (BatchNormal (None, 56, 56, 24)   96          block_1_project[0][0]            \n",
      "__________________________________________________________________________________________________\n",
      "block_2_expand (Conv2D)         (None, 56, 56, 144)  3456        block_1_project_BN[0][0]         \n",
      "__________________________________________________________________________________________________\n",
      "block_2_expand_BN (BatchNormali (None, 56, 56, 144)  576         block_2_expand[0][0]             \n",
      "__________________________________________________________________________________________________\n",
      "block_2_expand_relu (ReLU)      (None, 56, 56, 144)  0           block_2_expand_BN[0][0]          \n",
      "__________________________________________________________________________________________________\n",
      "block_2_depthwise (DepthwiseCon (None, 56, 56, 144)  1296        block_2_expand_relu[0][0]        \n",
      "__________________________________________________________________________________________________\n",
      "block_2_depthwise_BN (BatchNorm (None, 56, 56, 144)  576         block_2_depthwise[0][0]          \n",
      "__________________________________________________________________________________________________\n",
      "block_2_depthwise_relu (ReLU)   (None, 56, 56, 144)  0           block_2_depthwise_BN[0][0]       \n",
      "__________________________________________________________________________________________________\n",
      "block_2_project (Conv2D)        (None, 56, 56, 24)   3456        block_2_depthwise_relu[0][0]     \n",
      "__________________________________________________________________________________________________\n",
      "block_2_project_BN (BatchNormal (None, 56, 56, 24)   96          block_2_project[0][0]            \n",
      "__________________________________________________________________________________________________\n",
      "block_2_add (Add)               (None, 56, 56, 24)   0           block_1_project_BN[0][0]         \n",
      "                                                                 block_2_project_BN[0][0]         \n",
      "__________________________________________________________________________________________________\n",
      "block_3_expand (Conv2D)         (None, 56, 56, 144)  3456        block_2_add[0][0]                \n",
      "__________________________________________________________________________________________________\n",
      "block_3_expand_BN (BatchNormali (None, 56, 56, 144)  576         block_3_expand[0][0]             \n",
      "__________________________________________________________________________________________________\n",
      "block_3_expand_relu (ReLU)      (None, 56, 56, 144)  0           block_3_expand_BN[0][0]          \n",
      "__________________________________________________________________________________________________\n",
      "block_3_pad (ZeroPadding2D)     (None, 57, 57, 144)  0           block_3_expand_relu[0][0]        \n",
      "__________________________________________________________________________________________________\n",
      "block_3_depthwise (DepthwiseCon (None, 28, 28, 144)  1296        block_3_pad[0][0]                \n",
      "__________________________________________________________________________________________________\n",
      "block_3_depthwise_BN (BatchNorm (None, 28, 28, 144)  576         block_3_depthwise[0][0]          \n",
      "__________________________________________________________________________________________________\n",
      "block_3_depthwise_relu (ReLU)   (None, 28, 28, 144)  0           block_3_depthwise_BN[0][0]       \n",
      "__________________________________________________________________________________________________\n",
      "block_3_project (Conv2D)        (None, 28, 28, 32)   4608        block_3_depthwise_relu[0][0]     \n",
      "__________________________________________________________________________________________________\n",
      "block_3_project_BN (BatchNormal (None, 28, 28, 32)   128         block_3_project[0][0]            \n",
      "__________________________________________________________________________________________________\n",
      "block_4_expand (Conv2D)         (None, 28, 28, 192)  6144        block_3_project_BN[0][0]         \n",
      "__________________________________________________________________________________________________\n",
      "block_4_expand_BN (BatchNormali (None, 28, 28, 192)  768         block_4_expand[0][0]             \n",
      "__________________________________________________________________________________________________\n",
      "block_4_expand_relu (ReLU)      (None, 28, 28, 192)  0           block_4_expand_BN[0][0]          \n",
      "__________________________________________________________________________________________________\n",
      "block_4_depthwise (DepthwiseCon (None, 28, 28, 192)  1728        block_4_expand_relu[0][0]        \n",
      "__________________________________________________________________________________________________\n",
      "block_4_depthwise_BN (BatchNorm (None, 28, 28, 192)  768         block_4_depthwise[0][0]          \n",
      "__________________________________________________________________________________________________\n",
      "block_4_depthwise_relu (ReLU)   (None, 28, 28, 192)  0           block_4_depthwise_BN[0][0]       \n",
      "__________________________________________________________________________________________________\n",
      "block_4_project (Conv2D)        (None, 28, 28, 32)   6144        block_4_depthwise_relu[0][0]     \n",
      "__________________________________________________________________________________________________\n",
      "block_4_project_BN (BatchNormal (None, 28, 28, 32)   128         block_4_project[0][0]            \n",
      "__________________________________________________________________________________________________\n",
      "block_4_add (Add)               (None, 28, 28, 32)   0           block_3_project_BN[0][0]         \n",
      "                                                                 block_4_project_BN[0][0]         \n",
      "__________________________________________________________________________________________________\n",
      "block_5_expand (Conv2D)         (None, 28, 28, 192)  6144        block_4_add[0][0]                \n",
      "__________________________________________________________________________________________________\n",
      "block_5_expand_BN (BatchNormali (None, 28, 28, 192)  768         block_5_expand[0][0]             \n",
      "__________________________________________________________________________________________________\n",
      "block_5_expand_relu (ReLU)      (None, 28, 28, 192)  0           block_5_expand_BN[0][0]          \n",
      "__________________________________________________________________________________________________\n",
      "block_5_depthwise (DepthwiseCon (None, 28, 28, 192)  1728        block_5_expand_relu[0][0]        \n",
      "__________________________________________________________________________________________________\n",
      "block_5_depthwise_BN (BatchNorm (None, 28, 28, 192)  768         block_5_depthwise[0][0]          \n",
      "__________________________________________________________________________________________________\n",
      "block_5_depthwise_relu (ReLU)   (None, 28, 28, 192)  0           block_5_depthwise_BN[0][0]       \n",
      "__________________________________________________________________________________________________\n",
      "block_5_project (Conv2D)        (None, 28, 28, 32)   6144        block_5_depthwise_relu[0][0]     \n",
      "__________________________________________________________________________________________________\n",
      "block_5_project_BN (BatchNormal (None, 28, 28, 32)   128         block_5_project[0][0]            \n",
      "__________________________________________________________________________________________________\n",
      "block_5_add (Add)               (None, 28, 28, 32)   0           block_4_add[0][0]                \n",
      "                                                                 block_5_project_BN[0][0]         \n",
      "__________________________________________________________________________________________________\n",
      "block_6_expand (Conv2D)         (None, 28, 28, 192)  6144        block_5_add[0][0]                \n",
      "__________________________________________________________________________________________________\n",
      "block_6_expand_BN (BatchNormali (None, 28, 28, 192)  768         block_6_expand[0][0]             \n",
      "__________________________________________________________________________________________________\n",
      "block_6_expand_relu (ReLU)      (None, 28, 28, 192)  0           block_6_expand_BN[0][0]          \n",
      "__________________________________________________________________________________________________\n",
      "block_6_pad (ZeroPadding2D)     (None, 29, 29, 192)  0           block_6_expand_relu[0][0]        \n",
      "__________________________________________________________________________________________________\n",
      "block_6_depthwise (DepthwiseCon (None, 14, 14, 192)  1728        block_6_pad[0][0]                \n",
      "__________________________________________________________________________________________________\n",
      "block_6_depthwise_BN (BatchNorm (None, 14, 14, 192)  768         block_6_depthwise[0][0]          \n",
      "__________________________________________________________________________________________________\n",
      "block_6_depthwise_relu (ReLU)   (None, 14, 14, 192)  0           block_6_depthwise_BN[0][0]       \n",
      "__________________________________________________________________________________________________\n",
      "block_6_project (Conv2D)        (None, 14, 14, 64)   12288       block_6_depthwise_relu[0][0]     \n",
      "__________________________________________________________________________________________________\n",
      "block_6_project_BN (BatchNormal (None, 14, 14, 64)   256         block_6_project[0][0]            \n",
      "__________________________________________________________________________________________________\n",
      "block_7_expand (Conv2D)         (None, 14, 14, 384)  24576       block_6_project_BN[0][0]         \n",
      "__________________________________________________________________________________________________\n",
      "block_7_expand_BN (BatchNormali (None, 14, 14, 384)  1536        block_7_expand[0][0]             \n",
      "__________________________________________________________________________________________________\n",
      "block_7_expand_relu (ReLU)      (None, 14, 14, 384)  0           block_7_expand_BN[0][0]          \n",
      "__________________________________________________________________________________________________\n",
      "block_7_depthwise (DepthwiseCon (None, 14, 14, 384)  3456        block_7_expand_relu[0][0]        \n",
      "__________________________________________________________________________________________________\n",
      "block_7_depthwise_BN (BatchNorm (None, 14, 14, 384)  1536        block_7_depthwise[0][0]          \n",
      "__________________________________________________________________________________________________\n",
      "block_7_depthwise_relu (ReLU)   (None, 14, 14, 384)  0           block_7_depthwise_BN[0][0]       \n",
      "__________________________________________________________________________________________________\n",
      "block_7_project (Conv2D)        (None, 14, 14, 64)   24576       block_7_depthwise_relu[0][0]     \n",
      "__________________________________________________________________________________________________\n",
      "block_7_project_BN (BatchNormal (None, 14, 14, 64)   256         block_7_project[0][0]            \n",
      "__________________________________________________________________________________________________\n",
      "block_7_add (Add)               (None, 14, 14, 64)   0           block_6_project_BN[0][0]         \n",
      "                                                                 block_7_project_BN[0][0]         \n",
      "__________________________________________________________________________________________________\n",
      "block_8_expand (Conv2D)         (None, 14, 14, 384)  24576       block_7_add[0][0]                \n",
      "__________________________________________________________________________________________________\n",
      "block_8_expand_BN (BatchNormali (None, 14, 14, 384)  1536        block_8_expand[0][0]             \n",
      "__________________________________________________________________________________________________\n",
      "block_8_expand_relu (ReLU)      (None, 14, 14, 384)  0           block_8_expand_BN[0][0]          \n",
      "__________________________________________________________________________________________________\n",
      "block_8_depthwise (DepthwiseCon (None, 14, 14, 384)  3456        block_8_expand_relu[0][0]        \n",
      "__________________________________________________________________________________________________\n",
      "block_8_depthwise_BN (BatchNorm (None, 14, 14, 384)  1536        block_8_depthwise[0][0]          \n",
      "__________________________________________________________________________________________________\n",
      "block_8_depthwise_relu (ReLU)   (None, 14, 14, 384)  0           block_8_depthwise_BN[0][0]       \n",
      "__________________________________________________________________________________________________\n",
      "block_8_project (Conv2D)        (None, 14, 14, 64)   24576       block_8_depthwise_relu[0][0]     \n",
      "__________________________________________________________________________________________________\n",
      "block_8_project_BN (BatchNormal (None, 14, 14, 64)   256         block_8_project[0][0]            \n",
      "__________________________________________________________________________________________________\n",
      "block_8_add (Add)               (None, 14, 14, 64)   0           block_7_add[0][0]                \n",
      "                                                                 block_8_project_BN[0][0]         \n",
      "__________________________________________________________________________________________________\n",
      "block_9_expand (Conv2D)         (None, 14, 14, 384)  24576       block_8_add[0][0]                \n",
      "__________________________________________________________________________________________________\n",
      "block_9_expand_BN (BatchNormali (None, 14, 14, 384)  1536        block_9_expand[0][0]             \n",
      "__________________________________________________________________________________________________\n",
      "block_9_expand_relu (ReLU)      (None, 14, 14, 384)  0           block_9_expand_BN[0][0]          \n",
      "__________________________________________________________________________________________________\n",
      "block_9_depthwise (DepthwiseCon (None, 14, 14, 384)  3456        block_9_expand_relu[0][0]        \n",
      "__________________________________________________________________________________________________\n",
      "block_9_depthwise_BN (BatchNorm (None, 14, 14, 384)  1536        block_9_depthwise[0][0]          \n",
      "__________________________________________________________________________________________________\n",
      "block_9_depthwise_relu (ReLU)   (None, 14, 14, 384)  0           block_9_depthwise_BN[0][0]       \n",
      "__________________________________________________________________________________________________\n",
      "block_9_project (Conv2D)        (None, 14, 14, 64)   24576       block_9_depthwise_relu[0][0]     \n",
      "__________________________________________________________________________________________________\n",
      "block_9_project_BN (BatchNormal (None, 14, 14, 64)   256         block_9_project[0][0]            \n",
      "__________________________________________________________________________________________________\n",
      "block_9_add (Add)               (None, 14, 14, 64)   0           block_8_add[0][0]                \n",
      "                                                                 block_9_project_BN[0][0]         \n",
      "__________________________________________________________________________________________________\n",
      "block_10_expand (Conv2D)        (None, 14, 14, 384)  24576       block_9_add[0][0]                \n",
      "__________________________________________________________________________________________________\n",
      "block_10_expand_BN (BatchNormal (None, 14, 14, 384)  1536        block_10_expand[0][0]            \n",
      "__________________________________________________________________________________________________\n",
      "block_10_expand_relu (ReLU)     (None, 14, 14, 384)  0           block_10_expand_BN[0][0]         \n",
      "__________________________________________________________________________________________________\n",
      "block_10_depthwise (DepthwiseCo (None, 14, 14, 384)  3456        block_10_expand_relu[0][0]       \n",
      "__________________________________________________________________________________________________\n",
      "block_10_depthwise_BN (BatchNor (None, 14, 14, 384)  1536        block_10_depthwise[0][0]         \n",
      "__________________________________________________________________________________________________\n",
      "block_10_depthwise_relu (ReLU)  (None, 14, 14, 384)  0           block_10_depthwise_BN[0][0]      \n",
      "__________________________________________________________________________________________________\n",
      "block_10_project (Conv2D)       (None, 14, 14, 96)   36864       block_10_depthwise_relu[0][0]    \n",
      "__________________________________________________________________________________________________\n",
      "block_10_project_BN (BatchNorma (None, 14, 14, 96)   384         block_10_project[0][0]           \n",
      "__________________________________________________________________________________________________\n",
      "block_11_expand (Conv2D)        (None, 14, 14, 576)  55296       block_10_project_BN[0][0]        \n",
      "__________________________________________________________________________________________________\n",
      "block_11_expand_BN (BatchNormal (None, 14, 14, 576)  2304        block_11_expand[0][0]            \n",
      "__________________________________________________________________________________________________\n",
      "block_11_expand_relu (ReLU)     (None, 14, 14, 576)  0           block_11_expand_BN[0][0]         \n",
      "__________________________________________________________________________________________________\n",
      "block_11_depthwise (DepthwiseCo (None, 14, 14, 576)  5184        block_11_expand_relu[0][0]       \n",
      "__________________________________________________________________________________________________\n",
      "block_11_depthwise_BN (BatchNor (None, 14, 14, 576)  2304        block_11_depthwise[0][0]         \n",
      "__________________________________________________________________________________________________\n",
      "block_11_depthwise_relu (ReLU)  (None, 14, 14, 576)  0           block_11_depthwise_BN[0][0]      \n",
      "__________________________________________________________________________________________________\n",
      "block_11_project (Conv2D)       (None, 14, 14, 96)   55296       block_11_depthwise_relu[0][0]    \n",
      "__________________________________________________________________________________________________\n",
      "block_11_project_BN (BatchNorma (None, 14, 14, 96)   384         block_11_project[0][0]           \n",
      "__________________________________________________________________________________________________\n",
      "block_11_add (Add)              (None, 14, 14, 96)   0           block_10_project_BN[0][0]        \n",
      "                                                                 block_11_project_BN[0][0]        \n",
      "__________________________________________________________________________________________________\n",
      "block_12_expand (Conv2D)        (None, 14, 14, 576)  55296       block_11_add[0][0]               \n",
      "__________________________________________________________________________________________________\n",
      "block_12_expand_BN (BatchNormal (None, 14, 14, 576)  2304        block_12_expand[0][0]            \n",
      "__________________________________________________________________________________________________\n",
      "block_12_expand_relu (ReLU)     (None, 14, 14, 576)  0           block_12_expand_BN[0][0]         \n",
      "__________________________________________________________________________________________________\n",
      "block_12_depthwise (DepthwiseCo (None, 14, 14, 576)  5184        block_12_expand_relu[0][0]       \n",
      "__________________________________________________________________________________________________\n",
      "block_12_depthwise_BN (BatchNor (None, 14, 14, 576)  2304        block_12_depthwise[0][0]         \n",
      "__________________________________________________________________________________________________\n",
      "block_12_depthwise_relu (ReLU)  (None, 14, 14, 576)  0           block_12_depthwise_BN[0][0]      \n",
      "__________________________________________________________________________________________________\n",
      "block_12_project (Conv2D)       (None, 14, 14, 96)   55296       block_12_depthwise_relu[0][0]    \n",
      "__________________________________________________________________________________________________\n",
      "block_12_project_BN (BatchNorma (None, 14, 14, 96)   384         block_12_project[0][0]           \n",
      "__________________________________________________________________________________________________\n",
      "block_12_add (Add)              (None, 14, 14, 96)   0           block_11_add[0][0]               \n",
      "                                                                 block_12_project_BN[0][0]        \n",
      "__________________________________________________________________________________________________\n",
      "block_13_expand (Conv2D)        (None, 14, 14, 576)  55296       block_12_add[0][0]               \n",
      "__________________________________________________________________________________________________\n",
      "block_13_expand_BN (BatchNormal (None, 14, 14, 576)  2304        block_13_expand[0][0]            \n",
      "__________________________________________________________________________________________________\n",
      "block_13_expand_relu (ReLU)     (None, 14, 14, 576)  0           block_13_expand_BN[0][0]         \n",
      "__________________________________________________________________________________________________\n",
      "block_13_pad (ZeroPadding2D)    (None, 15, 15, 576)  0           block_13_expand_relu[0][0]       \n",
      "__________________________________________________________________________________________________\n",
      "block_13_depthwise (DepthwiseCo (None, 7, 7, 576)    5184        block_13_pad[0][0]               \n",
      "__________________________________________________________________________________________________\n",
      "block_13_depthwise_BN (BatchNor (None, 7, 7, 576)    2304        block_13_depthwise[0][0]         \n",
      "__________________________________________________________________________________________________\n",
      "block_13_depthwise_relu (ReLU)  (None, 7, 7, 576)    0           block_13_depthwise_BN[0][0]      \n",
      "__________________________________________________________________________________________________\n",
      "block_13_project (Conv2D)       (None, 7, 7, 160)    92160       block_13_depthwise_relu[0][0]    \n",
      "__________________________________________________________________________________________________\n",
      "block_13_project_BN (BatchNorma (None, 7, 7, 160)    640         block_13_project[0][0]           \n",
      "__________________________________________________________________________________________________\n",
      "block_14_expand (Conv2D)        (None, 7, 7, 960)    153600      block_13_project_BN[0][0]        \n",
      "__________________________________________________________________________________________________\n",
      "block_14_expand_BN (BatchNormal (None, 7, 7, 960)    3840        block_14_expand[0][0]            \n",
      "__________________________________________________________________________________________________\n",
      "block_14_expand_relu (ReLU)     (None, 7, 7, 960)    0           block_14_expand_BN[0][0]         \n",
      "__________________________________________________________________________________________________\n",
      "block_14_depthwise (DepthwiseCo (None, 7, 7, 960)    8640        block_14_expand_relu[0][0]       \n",
      "__________________________________________________________________________________________________\n",
      "block_14_depthwise_BN (BatchNor (None, 7, 7, 960)    3840        block_14_depthwise[0][0]         \n",
      "__________________________________________________________________________________________________\n",
      "block_14_depthwise_relu (ReLU)  (None, 7, 7, 960)    0           block_14_depthwise_BN[0][0]      \n",
      "__________________________________________________________________________________________________\n",
      "block_14_project (Conv2D)       (None, 7, 7, 160)    153600      block_14_depthwise_relu[0][0]    \n",
      "__________________________________________________________________________________________________\n",
      "block_14_project_BN (BatchNorma (None, 7, 7, 160)    640         block_14_project[0][0]           \n",
      "__________________________________________________________________________________________________\n",
      "block_14_add (Add)              (None, 7, 7, 160)    0           block_13_project_BN[0][0]        \n",
      "                                                                 block_14_project_BN[0][0]        \n",
      "__________________________________________________________________________________________________\n",
      "block_15_expand (Conv2D)        (None, 7, 7, 960)    153600      block_14_add[0][0]               \n",
      "__________________________________________________________________________________________________\n",
      "block_15_expand_BN (BatchNormal (None, 7, 7, 960)    3840        block_15_expand[0][0]            \n",
      "__________________________________________________________________________________________________\n",
      "block_15_expand_relu (ReLU)     (None, 7, 7, 960)    0           block_15_expand_BN[0][0]         \n",
      "__________________________________________________________________________________________________\n",
      "block_15_depthwise (DepthwiseCo (None, 7, 7, 960)    8640        block_15_expand_relu[0][0]       \n",
      "__________________________________________________________________________________________________\n",
      "block_15_depthwise_BN (BatchNor (None, 7, 7, 960)    3840        block_15_depthwise[0][0]         \n",
      "__________________________________________________________________________________________________\n",
      "block_15_depthwise_relu (ReLU)  (None, 7, 7, 960)    0           block_15_depthwise_BN[0][0]      \n",
      "__________________________________________________________________________________________________\n",
      "block_15_project (Conv2D)       (None, 7, 7, 160)    153600      block_15_depthwise_relu[0][0]    \n",
      "__________________________________________________________________________________________________\n",
      "block_15_project_BN (BatchNorma (None, 7, 7, 160)    640         block_15_project[0][0]           \n",
      "__________________________________________________________________________________________________\n",
      "block_15_add (Add)              (None, 7, 7, 160)    0           block_14_add[0][0]               \n",
      "                                                                 block_15_project_BN[0][0]        \n",
      "__________________________________________________________________________________________________\n",
      "block_16_expand (Conv2D)        (None, 7, 7, 960)    153600      block_15_add[0][0]               \n",
      "__________________________________________________________________________________________________\n",
      "block_16_expand_BN (BatchNormal (None, 7, 7, 960)    3840        block_16_expand[0][0]            \n",
      "__________________________________________________________________________________________________\n",
      "block_16_expand_relu (ReLU)     (None, 7, 7, 960)    0           block_16_expand_BN[0][0]         \n",
      "__________________________________________________________________________________________________\n",
      "block_16_depthwise (DepthwiseCo (None, 7, 7, 960)    8640        block_16_expand_relu[0][0]       \n",
      "__________________________________________________________________________________________________\n",
      "block_16_depthwise_BN (BatchNor (None, 7, 7, 960)    3840        block_16_depthwise[0][0]         \n",
      "__________________________________________________________________________________________________\n",
      "block_16_depthwise_relu (ReLU)  (None, 7, 7, 960)    0           block_16_depthwise_BN[0][0]      \n",
      "__________________________________________________________________________________________________\n",
      "block_16_project (Conv2D)       (None, 7, 7, 320)    307200      block_16_depthwise_relu[0][0]    \n",
      "__________________________________________________________________________________________________\n",
      "block_16_project_BN (BatchNorma (None, 7, 7, 320)    1280        block_16_project[0][0]           \n",
      "__________________________________________________________________________________________________\n",
      "Conv_1 (Conv2D)                 (None, 7, 7, 1280)   409600      block_16_project_BN[0][0]        \n",
      "__________________________________________________________________________________________________\n",
      "Conv_1_bn (BatchNormalization)  (None, 7, 7, 1280)   5120        Conv_1[0][0]                     \n",
      "__________________________________________________________________________________________________\n",
      "out_relu (ReLU)                 (None, 7, 7, 1280)   0           Conv_1_bn[0][0]                  \n",
      "==================================================================================================\n",
      "Total params: 2,257,984\n",
      "Trainable params: 2,223,872\n",
      "Non-trainable params: 34,112\n",
      "__________________________________________________________________________________________________\n"
     ]
    }
   ],
   "source": [
    "mobile_net_layers.summary()"
   ]
  },
  {
   "cell_type": "code",
   "execution_count": 19,
   "id": "332e70de",
   "metadata": {
    "execution": {
     "iopub.execute_input": "2022-09-02T04:39:51.090632Z",
     "iopub.status.busy": "2022-09-02T04:39:51.090359Z",
     "iopub.status.idle": "2022-09-02T04:39:51.095639Z",
     "shell.execute_reply": "2022-09-02T04:39:51.094607Z"
    },
    "papermill": {
     "duration": 0.018084,
     "end_time": "2022-09-02T04:39:51.098955",
     "exception": false,
     "start_time": "2022-09-02T04:39:51.080871",
     "status": "completed"
    },
    "tags": []
   },
   "outputs": [
    {
     "name": "stdout",
     "output_type": "stream",
     "text": [
      "Number of layers in the base model:  154\n"
     ]
    }
   ],
   "source": [
    "print(\"Number of layers in the base model: \", len(mobile_net_layers.layers))"
   ]
  },
  {
   "cell_type": "code",
   "execution_count": 20,
   "id": "094a7529",
   "metadata": {
    "execution": {
     "iopub.execute_input": "2022-09-02T04:39:51.117252Z",
     "iopub.status.busy": "2022-09-02T04:39:51.116980Z",
     "iopub.status.idle": "2022-09-02T04:39:51.122908Z",
     "shell.execute_reply": "2022-09-02T04:39:51.121939Z"
    },
    "papermill": {
     "duration": 0.017796,
     "end_time": "2022-09-02T04:39:51.125296",
     "exception": false,
     "start_time": "2022-09-02T04:39:51.107500",
     "status": "completed"
    },
    "tags": []
   },
   "outputs": [
    {
     "name": "stdout",
     "output_type": "stream",
     "text": [
      "[132, 128, 151, 93, 142, 39, 43, 64, 70, 141, 139, 34, 101, 122, 98, 85, 123, 82, 0, 112, 90, 129, 99, 57, 10, 31, 149, 88, 126, 54, 71, 117, 114, 119, 16, 83, 35, 95, 29, 41, 24, 44, 73, 111, 18, 115, 3, 19, 84, 94, 135, 81, 49, 153, 91, 97, 79, 48, 124, 25, 14, 65, 103, 127, 38, 113, 36, 59, 102, 20, 147, 6, 67, 108, 7, 121, 63]\n"
     ]
    }
   ],
   "source": [
    "import random\n",
    "\n",
    "randomlist = random.sample(range(0, 154), 77)\n",
    "print(randomlist)"
   ]
  },
  {
   "cell_type": "code",
   "execution_count": 21,
   "id": "fbb25983",
   "metadata": {
    "execution": {
     "iopub.execute_input": "2022-09-02T04:39:51.144878Z",
     "iopub.status.busy": "2022-09-02T04:39:51.144357Z",
     "iopub.status.idle": "2022-09-02T04:39:51.152122Z",
     "shell.execute_reply": "2022-09-02T04:39:51.151300Z"
    },
    "papermill": {
     "duration": 0.019438,
     "end_time": "2022-09-02T04:39:51.154156",
     "exception": false,
     "start_time": "2022-09-02T04:39:51.134718",
     "status": "completed"
    },
    "tags": []
   },
   "outputs": [],
   "source": [
    "for i,layer in enumerate(mobile_net_layers.layers):\n",
    "    if i in randomlist:\n",
    "        layer.trainable =  False"
   ]
  },
  {
   "cell_type": "code",
   "execution_count": 22,
   "id": "f363e89d",
   "metadata": {
    "execution": {
     "iopub.execute_input": "2022-09-02T04:39:51.172782Z",
     "iopub.status.busy": "2022-09-02T04:39:51.172003Z",
     "iopub.status.idle": "2022-09-02T04:39:51.177210Z",
     "shell.execute_reply": "2022-09-02T04:39:51.176326Z"
    },
    "papermill": {
     "duration": 0.016499,
     "end_time": "2022-09-02T04:39:51.179138",
     "exception": false,
     "start_time": "2022-09-02T04:39:51.162639",
     "status": "completed"
    },
    "tags": []
   },
   "outputs": [],
   "source": [
    "for i,layer in enumerate(mobile_net_layers.layers):\n",
    "    if i not in randomlist and not layer.trainable:\n",
    "        print(i, layer.trainable)"
   ]
  },
  {
   "cell_type": "code",
   "execution_count": 23,
   "id": "ee5744b0",
   "metadata": {
    "execution": {
     "iopub.execute_input": "2022-09-02T04:39:51.197622Z",
     "iopub.status.busy": "2022-09-02T04:39:51.197368Z",
     "iopub.status.idle": "2022-09-02T04:39:51.531136Z",
     "shell.execute_reply": "2022-09-02T04:39:51.530223Z"
    },
    "papermill": {
     "duration": 0.345753,
     "end_time": "2022-09-02T04:39:51.533434",
     "exception": false,
     "start_time": "2022-09-02T04:39:51.187681",
     "status": "completed"
    },
    "tags": []
   },
   "outputs": [],
   "source": [
    "model1 = tf.keras.Sequential([\n",
    "  mobile_net_layers,\n",
    "  tf.keras.layers.GlobalMaxPool2D(),\n",
    "  tf.keras.layers.Flatten(),\n",
    "  tf.keras.layers.Dense(4,activation='softmax')  \n",
    "])"
   ]
  },
  {
   "cell_type": "code",
   "execution_count": 24,
   "id": "d89c61de",
   "metadata": {
    "execution": {
     "iopub.execute_input": "2022-09-02T04:39:51.552256Z",
     "iopub.status.busy": "2022-09-02T04:39:51.551937Z",
     "iopub.status.idle": "2022-09-02T04:39:51.566054Z",
     "shell.execute_reply": "2022-09-02T04:39:51.564990Z"
    },
    "papermill": {
     "duration": 0.026471,
     "end_time": "2022-09-02T04:39:51.568656",
     "exception": false,
     "start_time": "2022-09-02T04:39:51.542185",
     "status": "completed"
    },
    "tags": []
   },
   "outputs": [
    {
     "name": "stdout",
     "output_type": "stream",
     "text": [
      "Model: \"sequential\"\n",
      "_________________________________________________________________\n",
      "Layer (type)                 Output Shape              Param #   \n",
      "=================================================================\n",
      "mobilenetv2_1.00_224 (Functi (None, 7, 7, 1280)        2257984   \n",
      "_________________________________________________________________\n",
      "global_max_pooling2d (Global (None, 1280)              0         \n",
      "_________________________________________________________________\n",
      "flatten (Flatten)            (None, 1280)              0         \n",
      "_________________________________________________________________\n",
      "dense (Dense)                (None, 4)                 5124      \n",
      "=================================================================\n",
      "Total params: 2,263,108\n",
      "Trainable params: 1,160,292\n",
      "Non-trainable params: 1,102,816\n",
      "_________________________________________________________________\n"
     ]
    }
   ],
   "source": [
    "model1.summary()"
   ]
  },
  {
   "cell_type": "code",
   "execution_count": 25,
   "id": "e8642506",
   "metadata": {
    "execution": {
     "iopub.execute_input": "2022-09-02T04:39:51.588620Z",
     "iopub.status.busy": "2022-09-02T04:39:51.588258Z",
     "iopub.status.idle": "2022-09-02T04:39:51.594450Z",
     "shell.execute_reply": "2022-09-02T04:39:51.593451Z"
    },
    "papermill": {
     "duration": 0.018282,
     "end_time": "2022-09-02T04:39:51.596493",
     "exception": false,
     "start_time": "2022-09-02T04:39:51.578211",
     "status": "completed"
    },
    "tags": []
   },
   "outputs": [],
   "source": [
    "from keras import backend as K\n",
    "def f1SCORE(y_true, y_pred): #taken from old keras source code\n",
    "    true_positives = K.sum(K.round(K.clip(y_true * y_pred, 0, 1)))\n",
    "    possible_positives = K.sum(K.round(K.clip(y_true, 0, 1)))\n",
    "    predicted_positives = K.sum(K.round(K.clip(y_pred, 0, 1)))\n",
    "    precision = true_positives / (predicted_positives + K.epsilon())\n",
    "    recall = true_positives / (possible_positives + K.epsilon())\n",
    "    f1_val = 2*(precision*recall)/(precision+recall+K.epsilon())\n",
    "    return f1_val"
   ]
  },
  {
   "cell_type": "code",
   "execution_count": 26,
   "id": "7bfa86b6",
   "metadata": {
    "execution": {
     "iopub.execute_input": "2022-09-02T04:39:51.614966Z",
     "iopub.status.busy": "2022-09-02T04:39:51.614676Z",
     "iopub.status.idle": "2022-09-02T04:39:51.638059Z",
     "shell.execute_reply": "2022-09-02T04:39:51.637056Z"
    },
    "papermill": {
     "duration": 0.034984,
     "end_time": "2022-09-02T04:39:51.640023",
     "exception": false,
     "start_time": "2022-09-02T04:39:51.605039",
     "status": "completed"
    },
    "tags": []
   },
   "outputs": [],
   "source": [
    "base_learning_rate = 0.0001\n",
    "model1.compile(optimizer=tf.keras.optimizers.Adam(learning_rate=base_learning_rate),\n",
    "              loss=tf.keras.losses.CategoricalCrossentropy(),\n",
    "              metrics=['accuracy', keras.metrics.Precision(), keras.metrics.Recall(), keras.metrics.AUC(),f1SCORE])"
   ]
  },
  {
   "cell_type": "code",
   "execution_count": 27,
   "id": "db661136",
   "metadata": {
    "execution": {
     "iopub.execute_input": "2022-09-02T04:39:51.658980Z",
     "iopub.status.busy": "2022-09-02T04:39:51.658095Z",
     "iopub.status.idle": "2022-09-02T04:39:51.663050Z",
     "shell.execute_reply": "2022-09-02T04:39:51.662164Z"
    },
    "papermill": {
     "duration": 0.01649,
     "end_time": "2022-09-02T04:39:51.665214",
     "exception": false,
     "start_time": "2022-09-02T04:39:51.648724",
     "status": "completed"
    },
    "tags": []
   },
   "outputs": [],
   "source": [
    "early_stopping = tf.keras.callbacks.EarlyStopping(monitor='val_loss', patience=5, restore_best_weights=True)"
   ]
  },
  {
   "cell_type": "code",
   "execution_count": 28,
   "id": "3e82f8b1",
   "metadata": {
    "execution": {
     "iopub.execute_input": "2022-09-02T04:39:51.684177Z",
     "iopub.status.busy": "2022-09-02T04:39:51.683922Z",
     "iopub.status.idle": "2022-09-02T05:11:01.463398Z",
     "shell.execute_reply": "2022-09-02T05:11:01.462399Z"
    },
    "papermill": {
     "duration": 1869.791792,
     "end_time": "2022-09-02T05:11:01.465853",
     "exception": false,
     "start_time": "2022-09-02T04:39:51.674061",
     "status": "completed"
    },
    "tags": []
   },
   "outputs": [
    {
     "name": "stderr",
     "output_type": "stream",
     "text": [
      "2022-09-02 04:39:51.789487: I tensorflow/compiler/mlir/mlir_graph_optimization_pass.cc:185] None of the MLIR Optimization Passes are enabled (registered 2)\n"
     ]
    },
    {
     "name": "stdout",
     "output_type": "stream",
     "text": [
      "Epoch 1/10000\n"
     ]
    },
    {
     "name": "stderr",
     "output_type": "stream",
     "text": [
      "2022-09-02 04:39:56.534784: I tensorflow/stream_executor/cuda/cuda_dnn.cc:369] Loaded cuDNN version 8005\n"
     ]
    },
    {
     "name": "stdout",
     "output_type": "stream",
     "text": [
      "2040/2040 [==============================] - 134s 61ms/step - loss: 0.6952 - accuracy: 0.7953 - precision: 0.8014 - recall: 0.7880 - auc: 0.9434 - f1SCORE: 0.7938 - val_loss: 0.5779 - val_accuracy: 0.8181 - val_precision: 0.8263 - val_recall: 0.8131 - val_auc: 0.9518 - val_f1SCORE: 0.8188\n",
      "Epoch 2/10000\n",
      "2040/2040 [==============================] - 123s 60ms/step - loss: 0.4003 - accuracy: 0.8778 - precision: 0.8810 - recall: 0.8744 - auc: 0.9740 - f1SCORE: 0.8773 - val_loss: 0.9795 - val_accuracy: 0.7128 - val_precision: 0.7264 - val_recall: 0.6968 - val_auc: 0.9027 - val_f1SCORE: 0.7083\n",
      "Epoch 3/10000\n",
      "2040/2040 [==============================] - 125s 61ms/step - loss: 0.3508 - accuracy: 0.8903 - precision: 0.8935 - recall: 0.8880 - auc: 0.9785 - f1SCORE: 0.8905 - val_loss: 0.3987 - val_accuracy: 0.8655 - val_precision: 0.8775 - val_recall: 0.8567 - val_auc: 0.9732 - val_f1SCORE: 0.8660\n",
      "Epoch 4/10000\n",
      "2040/2040 [==============================] - 123s 60ms/step - loss: 0.2958 - accuracy: 0.9066 - precision: 0.9089 - recall: 0.9054 - auc: 0.9833 - f1SCORE: 0.9071 - val_loss: 0.4600 - val_accuracy: 0.8638 - val_precision: 0.8668 - val_recall: 0.8611 - val_auc: 0.9673 - val_f1SCORE: 0.8638\n",
      "Epoch 5/10000\n",
      "2040/2040 [==============================] - 124s 61ms/step - loss: 0.2542 - accuracy: 0.9203 - precision: 0.9219 - recall: 0.9189 - auc: 0.9867 - f1SCORE: 0.9203 - val_loss: 0.3746 - val_accuracy: 0.8886 - val_precision: 0.8925 - val_recall: 0.8875 - val_auc: 0.9756 - val_f1SCORE: 0.8891\n",
      "Epoch 6/10000\n",
      "2040/2040 [==============================] - 125s 61ms/step - loss: 0.2336 - accuracy: 0.9255 - precision: 0.9263 - recall: 0.9247 - auc: 0.9885 - f1SCORE: 0.9254 - val_loss: 0.5210 - val_accuracy: 0.8528 - val_precision: 0.8589 - val_recall: 0.8523 - val_auc: 0.9648 - val_f1SCORE: 0.8536\n",
      "Epoch 7/10000\n",
      "2040/2040 [==============================] - 125s 61ms/step - loss: 0.1917 - accuracy: 0.9384 - precision: 0.9395 - recall: 0.9377 - auc: 0.9913 - f1SCORE: 0.9386 - val_loss: 1.1580 - val_accuracy: 0.6510 - val_precision: 0.6593 - val_recall: 0.6433 - val_auc: 0.8908 - val_f1SCORE: 0.6470\n",
      "Epoch 8/10000\n",
      "2040/2040 [==============================] - 126s 62ms/step - loss: 0.1809 - accuracy: 0.9405 - precision: 0.9414 - recall: 0.9397 - auc: 0.9921 - f1SCORE: 0.9405 - val_loss: 0.2900 - val_accuracy: 0.9146 - val_precision: 0.9169 - val_recall: 0.9123 - val_auc: 0.9837 - val_f1SCORE: 0.9145\n",
      "Epoch 9/10000\n",
      "2040/2040 [==============================] - 124s 61ms/step - loss: 0.1640 - accuracy: 0.9455 - precision: 0.9465 - recall: 0.9450 - auc: 0.9933 - f1SCORE: 0.9457 - val_loss: 0.3025 - val_accuracy: 0.9201 - val_precision: 0.9205 - val_recall: 0.9190 - val_auc: 0.9822 - val_f1SCORE: 0.9198\n",
      "Epoch 10/10000\n",
      "2040/2040 [==============================] - 123s 60ms/step - loss: 0.1369 - accuracy: 0.9549 - precision: 0.9555 - recall: 0.9545 - auc: 0.9951 - f1SCORE: 0.9550 - val_loss: 0.2734 - val_accuracy: 0.9206 - val_precision: 0.9241 - val_recall: 0.9201 - val_auc: 0.9850 - val_f1SCORE: 0.9219\n",
      "Epoch 11/10000\n",
      "2040/2040 [==============================] - 123s 60ms/step - loss: 0.1207 - accuracy: 0.9598 - precision: 0.9602 - recall: 0.9594 - auc: 0.9957 - f1SCORE: 0.9598 - val_loss: 0.3553 - val_accuracy: 0.8897 - val_precision: 0.8924 - val_recall: 0.8870 - val_auc: 0.9785 - val_f1SCORE: 0.8891\n",
      "Epoch 12/10000\n",
      "2040/2040 [==============================] - 123s 60ms/step - loss: 0.1078 - accuracy: 0.9644 - precision: 0.9648 - recall: 0.9641 - auc: 0.9962 - f1SCORE: 0.9644 - val_loss: 0.2838 - val_accuracy: 0.8975 - val_precision: 0.9003 - val_recall: 0.8958 - val_auc: 0.9842 - val_f1SCORE: 0.8979\n",
      "Epoch 13/10000\n",
      "2040/2040 [==============================] - 123s 60ms/step - loss: 0.0965 - accuracy: 0.9685 - precision: 0.9687 - recall: 0.9683 - auc: 0.9971 - f1SCORE: 0.9685 - val_loss: 0.3027 - val_accuracy: 0.9267 - val_precision: 0.9287 - val_recall: 0.9267 - val_auc: 0.9833 - val_f1SCORE: 0.9275\n",
      "Epoch 14/10000\n",
      "2040/2040 [==============================] - 124s 61ms/step - loss: 0.0936 - accuracy: 0.9693 - precision: 0.9695 - recall: 0.9689 - auc: 0.9970 - f1SCORE: 0.9692 - val_loss: 0.2775 - val_accuracy: 0.9311 - val_precision: 0.9321 - val_recall: 0.9311 - val_auc: 0.9845 - val_f1SCORE: 0.9316\n",
      "Epoch 15/10000\n",
      "2040/2040 [==============================] - 125s 61ms/step - loss: 0.0674 - accuracy: 0.9777 - precision: 0.9777 - recall: 0.9775 - auc: 0.9980 - f1SCORE: 0.9776 - val_loss: 0.5110 - val_accuracy: 0.8782 - val_precision: 0.8796 - val_recall: 0.8776 - val_auc: 0.9673 - val_f1SCORE: 0.8786\n"
     ]
    }
   ],
   "source": [
    "initial_epochs = 10000\n",
    "history = model1.fit(train_generator, epochs=initial_epochs, \n",
    "                     validation_data = validation_generator, callbacks=[early_stopping])"
   ]
  },
  {
   "cell_type": "code",
   "execution_count": 29,
   "id": "2e3118a1",
   "metadata": {
    "execution": {
     "iopub.execute_input": "2022-09-02T05:11:05.019074Z",
     "iopub.status.busy": "2022-09-02T05:11:05.018515Z",
     "iopub.status.idle": "2022-09-02T05:11:06.224217Z",
     "shell.execute_reply": "2022-09-02T05:11:06.222526Z"
    },
    "papermill": {
     "duration": 2.98553,
     "end_time": "2022-09-02T05:11:06.227606",
     "exception": false,
     "start_time": "2022-09-02T05:11:03.242076",
     "status": "completed"
    },
    "tags": []
   },
   "outputs": [
    {
     "data": {
      "image/png": "[encoded data removed]",
      "text/plain": [
       "<Figure size 1440x1152 with 6 Axes>"
      ]
     },
     "metadata": {},
     "output_type": "display_data"
    }
   ],
   "source": [
    "import seaborn as sns\n",
    "def data(history):\n",
    "  return pd.DataFrame(data=list(zip(history.history[\"accuracy\"], history.history[\"val_accuracy\"], history.history[\"loss\"], history.history[\"val_loss\"], history.history[\"recall\"], history.history[\"val_recall\"], history.history[\"precision\"], history.history[\"val_precision\"], history.history[\"auc\"], history.history[\"val_auc\"],history.history[\"f1SCORE\"],history.history[\"val_f1SCORE\"] )) , columns=[\"Accuracy\", \"Validation Accuracy\", \"Loss\", \"Validation Loss\", \"Recall\", \"Validation Recall\", \"Precision\", \"Validation Precision\", \"AUC\", \"Validation AUC\", \"f1SCORE\", \"Validation f1SCORE\"])\n",
    "def history_visualization(history):\n",
    "  df = data(history)\n",
    "  sns.set_style('darkgrid')\n",
    "  nrow = 3\n",
    "  ncol = 2\n",
    "  df_columns = df.columns\n",
    "  df_list = [df[col] for col in df]\n",
    "  titles=[\"Accuracy Visualization\", \"Loss Visualization\", \"Recall Visualization\", \"Precision Visualization\", \"AUC Visualization\", \"F1 Score Visualization\"]\n",
    "  fig, axes = plt.subplots(nrow, ncol, figsize=(20, 16))\n",
    "  count = 0\n",
    "  i = 0\n",
    "  for r in range(nrow):\n",
    "    for c in range(ncol):\n",
    "        df_list[count].plot(ax=axes[r,c], x=\"Number of Epochs\", legend=\"brief\", label=df_columns[count], marker=\"o\").set_title(titles[i])\n",
    "        df_list[count+1].plot(ax=axes[r, c], x=\"Number of Epochs\", legend=\"brief\" ,label=df_columns[count+1], marker=\"o\").set_title(titles[i])\n",
    "        i+=1\n",
    "        count+=2\n",
    "history_visualization(history)"
   ]
  },
  {
   "cell_type": "code",
   "execution_count": 30,
   "id": "5ea570a9",
   "metadata": {
    "execution": {
     "iopub.execute_input": "2022-09-02T05:11:09.907365Z",
     "iopub.status.busy": "2022-09-02T05:11:09.906982Z",
     "iopub.status.idle": "2022-09-02T05:11:20.203212Z",
     "shell.execute_reply": "2022-09-02T05:11:20.202289Z"
    },
    "papermill": {
     "duration": 12.056086,
     "end_time": "2022-09-02T05:11:20.205587",
     "exception": false,
     "start_time": "2022-09-02T05:11:08.149501",
     "status": "completed"
    },
    "tags": []
   },
   "outputs": [
    {
     "name": "stdout",
     "output_type": "stream",
     "text": [
      "265/265 [==============================] - 6s 24ms/step - loss: 0.2330 - accuracy: 0.9268 - precision: 0.9272 - recall: 0.9263 - auc: 0.9881 - f1SCORE: 0.9265\n"
     ]
    },
    {
     "data": {
      "text/plain": [
       "[0.23299351334571838,\n",
       " 0.9267832040786743,\n",
       " 0.9271867871284485,\n",
       " 0.9263108372688293,\n",
       " 0.9881457090377808,\n",
       " 0.926509439945221]"
      ]
     },
     "execution_count": 30,
     "metadata": {},
     "output_type": "execute_result"
    }
   ],
   "source": [
    "model1.evaluate(test_generator)\n",
    "# loss and accuracy"
   ]
  },
  {
   "cell_type": "code",
   "execution_count": 31,
   "id": "7da43ec7",
   "metadata": {
    "execution": {
     "iopub.execute_input": "2022-09-02T05:11:23.751769Z",
     "iopub.status.busy": "2022-09-02T05:11:23.751206Z",
     "iopub.status.idle": "2022-09-02T05:11:30.047200Z",
     "shell.execute_reply": "2022-09-02T05:11:30.045314Z"
    },
    "papermill": {
     "duration": 8.070791,
     "end_time": "2022-09-02T05:11:30.050125",
     "exception": false,
     "start_time": "2022-09-02T05:11:21.979334",
     "status": "completed"
    },
    "tags": []
   },
   "outputs": [
    {
     "name": "stdout",
     "output_type": "stream",
     "text": [
      "                 precision    recall  f1-score   support\n",
      "\n",
      "          Covid       1.00      0.85      0.92       362\n",
      "   Lung opacity       0.91      0.90      0.90       601\n",
      "         Normal       0.92      0.97      0.94      1019\n",
      "Viral Pneumonia       0.94      0.96      0.95       135\n",
      "\n",
      "       accuracy                           0.93      2117\n",
      "      macro avg       0.94      0.92      0.93      2117\n",
      "   weighted avg       0.93      0.93      0.93      2117\n",
      "\n"
     ]
    }
   ],
   "source": [
    "from sklearn.metrics import confusion_matrix, classification_report\n",
    "import seaborn as sns\n",
    "val_predict = model1.predict(test_generator)\n",
    "predict_class = np.argmax(val_predict, axis=1)\n",
    "predict_class = predict_class.tolist()\n",
    "labels = ['Covid','Lung opacity' ,'Normal', 'Viral Pneumonia']\n",
    "report = classification_report(test_generator.classes, predict_class, target_names=labels)\n",
    "print(report)"
   ]
  },
  {
   "cell_type": "code",
   "execution_count": 32,
   "id": "1df9390f",
   "metadata": {
    "execution": {
     "iopub.execute_input": "2022-09-02T05:11:34.044837Z",
     "iopub.status.busy": "2022-09-02T05:11:34.044287Z",
     "iopub.status.idle": "2022-09-02T05:11:34.053004Z",
     "shell.execute_reply": "2022-09-02T05:11:34.052130Z"
    },
    "papermill": {
     "duration": 1.848746,
     "end_time": "2022-09-02T05:11:34.055146",
     "exception": false,
     "start_time": "2022-09-02T05:11:32.206400",
     "status": "completed"
    },
    "tags": []
   },
   "outputs": [],
   "source": [
    "cm = confusion_matrix(test_generator.classes, predict_class)\n",
    "cm_df = pd.DataFrame(cm,\n",
    "                     index = ['COVID','LUNG OPACITY' ,'NORMAL','VIRAL PNEUMONIA'], \n",
    "                     columns = ['COVID','LUNG OPACITY' ,'NORMAL','VIRAL PNEUMONIA'])"
   ]
  },
  {
   "cell_type": "code",
   "execution_count": 33,
   "id": "fd2c22fd",
   "metadata": {
    "execution": {
     "iopub.execute_input": "2022-09-02T05:11:37.629911Z",
     "iopub.status.busy": "2022-09-02T05:11:37.629221Z",
     "iopub.status.idle": "2022-09-02T05:11:37.918622Z",
     "shell.execute_reply": "2022-09-02T05:11:37.917678Z"
    },
    "papermill": {
     "duration": 2.099562,
     "end_time": "2022-09-02T05:11:37.920994",
     "exception": false,
     "start_time": "2022-09-02T05:11:35.821432",
     "status": "completed"
    },
    "tags": []
   },
   "outputs": [
    {
     "data": {
      "image/png": "[encoded data removed]",
      "text/plain": [
       "<Figure size 720x576 with 2 Axes>"
      ]
     },
     "metadata": {},
     "output_type": "display_data"
    }
   ],
   "source": [
    "plt.figure(figsize=(10,8))\n",
    "sns.heatmap(cm_df, annot=True, fmt='d')\n",
    "plt.title(\"Confusion Matrixx\")\n",
    "plt.xlabel(\"Predicted\")\n",
    "plt.ylabel(\"Actual\")\n",
    "plt.show()"
   ]
  },
  {
   "cell_type": "code",
   "execution_count": 34,
   "id": "cb686074",
   "metadata": {
    "execution": {
     "iopub.execute_input": "2022-09-02T05:11:41.703643Z",
     "iopub.status.busy": "2022-09-02T05:11:41.703059Z",
     "iopub.status.idle": "2022-09-02T05:11:42.029274Z",
     "shell.execute_reply": "2022-09-02T05:11:42.028221Z"
    },
    "papermill": {
     "duration": 2.093259,
     "end_time": "2022-09-02T05:11:42.031637",
     "exception": false,
     "start_time": "2022-09-02T05:11:39.938378",
     "status": "completed"
    },
    "tags": []
   },
   "outputs": [
    {
     "name": "stderr",
     "output_type": "stream",
     "text": [
      "/opt/conda/lib/python3.7/site-packages/keras/utils/generic_utils.py:497: CustomMaskWarning: Custom mask layers require a config and must override get_config. When loading, the custom mask layer must be passed to the custom_objects argument.\n",
      "  category=CustomMaskWarning)\n"
     ]
    }
   ],
   "source": [
    "keras.models.save_model(model1,\"./base_dir/mobilenetfold1.h5\")"
   ]
  }
 ],
 "metadata": {
  "kernelspec": {
   "display_name": "Python 3",
   "language": "python",
   "name": "python3"
  },
  "language_info": {
   "codemirror_mode": {
    "name": "ipython",
    "version": 3
   },
   "file_extension": ".py",
   "mimetype": "text/x-python",
   "name": "python",
   "nbconvert_exporter": "python",
   "pygments_lexer": "ipython3",
   "version": "3.7.12"
  },
  "papermill": {
   "default_parameters": {},
   "duration": 2140.750923,
   "end_time": "2022-09-02T05:11:47.424145",
   "environment_variables": {},
   "exception": null,
   "input_path": "__notebook__.ipynb",
   "output_path": "__notebook__.ipynb",
   "parameters": {},
   "start_time": "2022-09-02T04:36:06.673222",
   "version": "2.3.4"
  }
 },
 "nbformat": 4,
 "nbformat_minor": 5
}
