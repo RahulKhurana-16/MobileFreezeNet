{
 "cells": [
  {
   "cell_type": "code",
   "execution_count": 1,
   "id": "27b1e80b",
   "metadata": {
    "_cell_guid": "b1076dfc-b9ad-4769-8c92-a6c4dae69d19",
    "_uuid": "8f2839f25d086af736a60e9eeb907d3b93b6e0e5",
    "execution": {
     "iopub.execute_input": "2022-09-21T11:23:19.339062Z",
     "iopub.status.busy": "2022-09-21T11:23:19.337628Z",
     "iopub.status.idle": "2022-09-21T11:23:32.950894Z",
     "shell.execute_reply": "2022-09-21T11:23:32.949438Z"
    },
    "papermill": {
     "duration": 13.628102,
     "end_time": "2022-09-21T11:23:32.954159",
     "exception": false,
     "start_time": "2022-09-21T11:23:19.326057",
     "status": "completed"
    },
    "tags": []
   },
   "outputs": [
    {
     "name": "stdout",
     "output_type": "stream",
     "text": [
      "Collecting openpyxl\r\n",
      "  Downloading openpyxl-3.0.10-py2.py3-none-any.whl (242 kB)\r\n",
      "\u001b[2K     \u001b[90m━━━━━━━━━━━━━━━━━━━━━━━━━━━━━━━━━━━━━━━\u001b[0m \u001b[32m242.1/242.1 kB\u001b[0m \u001b[31m1.3 MB/s\u001b[0m eta \u001b[36m0:00:00\u001b[0m\r\n",
      "\u001b[?25hCollecting et-xmlfile\r\n",
      "  Downloading et_xmlfile-1.1.0-py3-none-any.whl (4.7 kB)\r\n",
      "Installing collected packages: et-xmlfile, openpyxl\r\n",
      "Successfully installed et-xmlfile-1.1.0 openpyxl-3.0.10\r\n",
      "\u001b[33mWARNING: Running pip as the 'root' user can result in broken permissions and conflicting behaviour with the system package manager. It is recommended to use a virtual environment instead: https://pip.pypa.io/warnings/venv\u001b[0m\u001b[33m\r\n",
      "\u001b[0m"
     ]
    }
   ],
   "source": [
    "!pip install openpyxl"
   ]
  },
  {
   "cell_type": "code",
   "execution_count": 2,
   "id": "2c59fd3f",
   "metadata": {
    "execution": {
     "iopub.execute_input": "2022-09-21T11:23:32.974677Z",
     "iopub.status.busy": "2022-09-21T11:23:32.974206Z",
     "iopub.status.idle": "2022-09-21T11:23:40.750898Z",
     "shell.execute_reply": "2022-09-21T11:23:40.749626Z"
    },
    "papermill": {
     "duration": 7.790454,
     "end_time": "2022-09-21T11:23:40.754011",
     "exception": false,
     "start_time": "2022-09-21T11:23:32.963557",
     "status": "completed"
    },
    "tags": []
   },
   "outputs": [],
   "source": [
    "import numpy as np # linear algebra\n",
    "import pandas as pd \n",
    "import os\n",
    "import cv2\n",
    "import seaborn as sns\n",
    "\n",
    "# libraries for files preparation\n",
    "from sklearn.utils import shuffle\n",
    "from sklearn.model_selection import train_test_split\n",
    "import shutil\n",
    "from sklearn.metrics import matthews_corrcoef\n",
    "\n",
    "# libraries for CNN models and plotting\n",
    "import tensorflow as tf\n",
    "import tensorflow.keras.layers as tfl\n",
    "import tensorflow.keras as keras\n",
    "\n",
    "from tensorflow.keras.preprocessing.image import ImageDataGenerator\n",
    "from tensorflow.keras.layers import Conv2D, MaxPooling2D, Dense, Flatten, Dropout\n",
    "from tensorflow.keras import Sequential\n",
    "from tensorflow.keras.callbacks import EarlyStopping\n",
    "\n",
    "import matplotlib.pyplot as plt\n",
    "%matplotlib inline"
   ]
  },
  {
   "cell_type": "code",
   "execution_count": 3,
   "id": "2754712c",
   "metadata": {
    "execution": {
     "iopub.execute_input": "2022-09-21T11:23:40.782532Z",
     "iopub.status.busy": "2022-09-21T11:23:40.781856Z",
     "iopub.status.idle": "2022-09-21T11:23:40.902085Z",
     "shell.execute_reply": "2022-09-21T11:23:40.900980Z"
    },
    "papermill": {
     "duration": 0.138384,
     "end_time": "2022-09-21T11:23:40.905785",
     "exception": false,
     "start_time": "2022-09-21T11:23:40.767401",
     "status": "completed"
    },
    "tags": []
   },
   "outputs": [],
   "source": [
    "path = '../input/mobilenetv2-kfolds/MobileNetFOLDS/'\n",
    "fold1 = pd.read_csv(path+'Fold1.csv')\n",
    "fold2 = pd.read_csv(path+'Fold2.csv')\n",
    "fold3 = pd.read_csv(path+'Fold3.csv')\n",
    "fold4 = pd.read_csv(path+'Fold4.csv')\n",
    "fold5 = pd.read_csv(path+'Fold5.csv')\n",
    "fold6 = pd.read_csv(path+'Fold6.csv')\n",
    "fold7 = pd.read_csv(path+'Fold7.csv')\n",
    "fold8 = pd.read_csv(path+'Fold8.csv')\n",
    "fold9 = pd.read_csv(path+'Fold9.csv')\n",
    "fold10 = pd.read_csv(path+'Fold10.csv')"
   ]
  },
  {
   "cell_type": "code",
   "execution_count": 4,
   "id": "81aaa635",
   "metadata": {
    "execution": {
     "iopub.execute_input": "2022-09-21T11:23:40.937319Z",
     "iopub.status.busy": "2022-09-21T11:23:40.935876Z",
     "iopub.status.idle": "2022-09-21T11:23:40.970094Z",
     "shell.execute_reply": "2022-09-21T11:23:40.969030Z"
    },
    "papermill": {
     "duration": 0.053121,
     "end_time": "2022-09-21T11:23:40.973434",
     "exception": false,
     "start_time": "2022-09-21T11:23:40.920313",
     "status": "completed"
    },
    "tags": []
   },
   "outputs": [
    {
     "data": {
      "text/plain": [
       "1    9275\n",
       "3    6012\n",
       "0    3616\n",
       "2    1345\n",
       "Name: label, dtype: int64"
      ]
     },
     "execution_count": 4,
     "metadata": {},
     "output_type": "execute_result"
    }
   ],
   "source": [
    "data = pd.concat([fold1,fold2,fold3,fold4,fold5,fold6,fold7,fold8,fold9,fold10], axis=0).reset_index(drop=True)\n",
    "data['label'].value_counts()"
   ]
  },
  {
   "cell_type": "code",
   "execution_count": 5,
   "id": "e9f88922",
   "metadata": {
    "execution": {
     "iopub.execute_input": "2022-09-21T11:23:41.004400Z",
     "iopub.status.busy": "2022-09-21T11:23:41.003908Z",
     "iopub.status.idle": "2022-09-21T11:23:41.017711Z",
     "shell.execute_reply": "2022-09-21T11:23:41.016571Z"
    },
    "papermill": {
     "duration": 0.032513,
     "end_time": "2022-09-21T11:23:41.020860",
     "exception": false,
     "start_time": "2022-09-21T11:23:40.988347",
     "status": "completed"
    },
    "tags": []
   },
   "outputs": [],
   "source": [
    "data = shuffle(data)"
   ]
  },
  {
   "cell_type": "code",
   "execution_count": 6,
   "id": "59f69205",
   "metadata": {
    "execution": {
     "iopub.execute_input": "2022-09-21T11:23:41.063597Z",
     "iopub.status.busy": "2022-09-21T11:23:41.062165Z",
     "iopub.status.idle": "2022-09-21T11:23:41.112142Z",
     "shell.execute_reply": "2022-09-21T11:23:41.110729Z"
    },
    "papermill": {
     "duration": 0.079394,
     "end_time": "2022-09-21T11:23:41.115389",
     "exception": false,
     "start_time": "2022-09-21T11:23:41.035995",
     "status": "completed"
    },
    "tags": []
   },
   "outputs": [
    {
     "name": "stdout",
     "output_type": "stream",
     "text": [
      "(18233, 2)\n",
      "(2015, 2)\n"
     ]
    }
   ],
   "source": [
    "df_test = fold6.copy()\n",
    "train = pd.concat([fold10,fold2,fold3,fold4,fold5,fold1,fold7,fold8,fold9], axis=0).reset_index(drop=True)\n",
    "train = shuffle(train)\n",
    "\n",
    "df_test.to_csv(\"testexp6.csv\",index=False)\n",
    "train.to_csv(\"trainexp6.csv\",index=False)\n",
    "\n",
    "print(train.shape)\n",
    "print(df_test.shape)"
   ]
  },
  {
   "cell_type": "code",
   "execution_count": 7,
   "id": "40738faf",
   "metadata": {
    "execution": {
     "iopub.execute_input": "2022-09-21T11:23:41.136033Z",
     "iopub.status.busy": "2022-09-21T11:23:41.135256Z",
     "iopub.status.idle": "2022-09-21T11:23:41.153894Z",
     "shell.execute_reply": "2022-09-21T11:23:41.152545Z"
    },
    "papermill": {
     "duration": 0.03199,
     "end_time": "2022-09-21T11:23:41.157122",
     "exception": false,
     "start_time": "2022-09-21T11:23:41.125132",
     "status": "completed"
    },
    "tags": []
   },
   "outputs": [
    {
     "name": "stdout",
     "output_type": "stream",
     "text": [
      "(16409, 2)\n",
      "(1824, 2)\n"
     ]
    }
   ],
   "source": [
    "df_train, df_val = train_test_split(train, test_size=0.10, random_state=42, stratify=train['label'])\n",
    "print(df_train.shape)\n",
    "print(df_val.shape)"
   ]
  },
  {
   "cell_type": "code",
   "execution_count": 8,
   "id": "a2ea3c9d",
   "metadata": {
    "execution": {
     "iopub.execute_input": "2022-09-21T11:23:41.177960Z",
     "iopub.status.busy": "2022-09-21T11:23:41.177558Z",
     "iopub.status.idle": "2022-09-21T11:23:41.187311Z",
     "shell.execute_reply": "2022-09-21T11:23:41.186049Z"
    },
    "papermill": {
     "duration": 0.022468,
     "end_time": "2022-09-21T11:23:41.189664",
     "exception": false,
     "start_time": "2022-09-21T11:23:41.167196",
     "status": "completed"
    },
    "tags": []
   },
   "outputs": [
    {
     "data": {
      "text/plain": [
       "1    7522\n",
       "3    4869\n",
       "0    2929\n",
       "2    1089\n",
       "Name: label, dtype: int64"
      ]
     },
     "execution_count": 8,
     "metadata": {},
     "output_type": "execute_result"
    }
   ],
   "source": [
    "df_train['label'].value_counts()"
   ]
  },
  {
   "cell_type": "code",
   "execution_count": 9,
   "id": "f0c62723",
   "metadata": {
    "execution": {
     "iopub.execute_input": "2022-09-21T11:23:41.211234Z",
     "iopub.status.busy": "2022-09-21T11:23:41.209189Z",
     "iopub.status.idle": "2022-09-21T11:23:41.223630Z",
     "shell.execute_reply": "2022-09-21T11:23:41.222522Z"
    },
    "papermill": {
     "duration": 0.027686,
     "end_time": "2022-09-21T11:23:41.226568",
     "exception": false,
     "start_time": "2022-09-21T11:23:41.198882",
     "status": "completed"
    },
    "tags": []
   },
   "outputs": [],
   "source": [
    "import os\n",
    "# Create a new directory\n",
    "base_dir = 'base_dir'\n",
    "os.mkdir(base_dir)\n",
    "\n",
    "train_dir = os.path.join(base_dir, 'train_dir')\n",
    "os.mkdir(train_dir)\n",
    "\n",
    "val_dir = os.path.join(base_dir, 'val_dir')\n",
    "os.mkdir(val_dir)\n",
    "\n",
    "test_dir = os.path.join(base_dir, 'test_dir')\n",
    "os.mkdir(test_dir)\n",
    "\n",
    "# create new folders inside train_dir\n",
    "train_covid = os.path.join(train_dir, 'covid')\n",
    "os.mkdir(train_covid)\n",
    "train_normal = os.path.join(train_dir, 'normal')\n",
    "os.mkdir(train_normal)\n",
    "train_viral_pneumonia = os.path.join(train_dir, 'viral pneumonia')\n",
    "os.mkdir(train_viral_pneumonia)\n",
    "train_lung_opacity = os.path.join(train_dir, 'lung opacity')\n",
    "os.mkdir(train_lung_opacity)\n",
    "\n",
    "# create new folders inside val_dir\n",
    "val_covid = os.path.join(val_dir, 'covid')\n",
    "os.mkdir(val_covid)\n",
    "val_normal = os.path.join(val_dir, 'normal')\n",
    "os.mkdir(val_normal)\n",
    "val_viral_pneumonia = os.path.join(val_dir, 'viral pneumonia')\n",
    "os.mkdir(val_viral_pneumonia)\n",
    "val_lung_opacity = os.path.join(val_dir, 'lung opacity')\n",
    "os.mkdir(val_lung_opacity)\n",
    "\n",
    "\n",
    "# create new folders inside test_dir\n",
    "test_covid = os.path.join(test_dir, 'covid')\n",
    "os.mkdir(test_covid)\n",
    "test_normal = os.path.join(test_dir, 'normal')\n",
    "os.mkdir(test_normal)\n",
    "test_viral_pneumonia = os.path.join(test_dir, 'viral pneumonia')\n",
    "os.mkdir(test_viral_pneumonia)\n",
    "test_lung_opacity = os.path.join(test_dir, 'lung opacity')\n",
    "os.mkdir(test_lung_opacity)"
   ]
  },
  {
   "cell_type": "code",
   "execution_count": 10,
   "id": "eb4b0506",
   "metadata": {
    "execution": {
     "iopub.execute_input": "2022-09-21T11:23:41.246902Z",
     "iopub.status.busy": "2022-09-21T11:23:41.246449Z",
     "iopub.status.idle": "2022-09-21T11:23:41.256904Z",
     "shell.execute_reply": "2022-09-21T11:23:41.255588Z"
    },
    "papermill": {
     "duration": 0.023446,
     "end_time": "2022-09-21T11:23:41.259275",
     "exception": false,
     "start_time": "2022-09-21T11:23:41.235829",
     "status": "completed"
    },
    "tags": []
   },
   "outputs": [],
   "source": [
    "train_list = list(df_train['FILE NAME'])\n",
    "val_list = list(df_val['FILE NAME'])\n",
    "test_list = list(df_test['FILE NAME'])"
   ]
  },
  {
   "cell_type": "code",
   "execution_count": 11,
   "id": "1716bb2f",
   "metadata": {
    "execution": {
     "iopub.execute_input": "2022-09-21T11:23:41.280378Z",
     "iopub.status.busy": "2022-09-21T11:23:41.279964Z",
     "iopub.status.idle": "2022-09-21T11:27:31.733077Z",
     "shell.execute_reply": "2022-09-21T11:27:31.729478Z"
    },
    "papermill": {
     "duration": 230.474014,
     "end_time": "2022-09-21T11:27:31.742885",
     "exception": false,
     "start_time": "2022-09-21T11:23:41.268871",
     "status": "completed"
    },
    "tags": []
   },
   "outputs": [],
   "source": [
    "for image in train_list:\n",
    "    \n",
    "    # add .png extension \n",
    "    filename = image + '.png'\n",
    "    # get the label for a certain image\n",
    "    target = int(data.loc[data['FILE NAME'] == image, ['label']].values)\n",
    "    \n",
    "    # match the target with the folder's name and source path of the image\n",
    "    if target == 0:\n",
    "        label = 'covid'\n",
    "        src = os.path.join('../input/covid19-radiography-database/COVID-19_Radiography_Dataset/COVID/images', filename)\n",
    "        \n",
    "    if target == 1:\n",
    "        label = 'normal'\n",
    "        # As 'FILE NAME's in .xlsx file begins with 'NORMAL' but real file names begin with 'Normal'\n",
    "        filename = filename.capitalize()\n",
    "        src = os.path.join('../input/covid19-radiography-database/COVID-19_Radiography_Dataset/Normal/images', filename)\n",
    "        \n",
    "    if target == 2:\n",
    "        label = 'viral pneumonia'\n",
    "        src = os.path.join('../input/covid19-radiography-database/COVID-19_Radiography_Dataset/Viral Pneumonia/images', filename)\n",
    "    \n",
    "    if target == 3:\n",
    "        label = 'lung opacity'\n",
    "        src = os.path.join('../input/covid19-radiography-database/COVID-19_Radiography_Dataset/Lung_Opacity/images', filename)\n",
    "  \n",
    "    # destination path to image\n",
    "    dst = os.path.join(train_dir, label, filename)\n",
    "    \n",
    "    # copy the image from the source to the destination\n",
    "    shutil.copyfile(src, dst)\n",
    "\n",
    "# Copy images to val_dir folder\n",
    "for image in val_list:\n",
    "    \n",
    "    # add .png extension \n",
    "    filename = image + '.png'\n",
    "    # get the label for a certain image\n",
    "    target = int(data.loc[data['FILE NAME'] == image, ['label']].values)\n",
    "    \n",
    "    # match the target with the folder's name and source path of the image\n",
    "    if target == 0:\n",
    "        label = 'covid'\n",
    "        src = os.path.join('../input/covid19-radiography-database/COVID-19_Radiography_Dataset/COVID/images', filename)\n",
    "        \n",
    "    if target == 1:\n",
    "        label = 'normal'\n",
    "        filename = filename.capitalize()\n",
    "        src = os.path.join('../input/covid19-radiography-database/COVID-19_Radiography_Dataset/Normal/images', filename)\n",
    "        \n",
    "    if target == 2:\n",
    "        label = 'viral pneumonia'\n",
    "        src = os.path.join('../input/covid19-radiography-database/COVID-19_Radiography_Dataset/Viral Pneumonia/images', filename)\n",
    "    \n",
    "    if target == 3:\n",
    "        label = 'lung opacity'\n",
    "        src = os.path.join('../input/covid19-radiography-database/COVID-19_Radiography_Dataset/Lung_Opacity/images', filename)\n",
    "\n",
    "  \n",
    "    # destination path to image\n",
    "    dst = os.path.join(val_dir, label, filename)\n",
    "    \n",
    "    # copy the image from the source to the destination\n",
    "    shutil.copyfile(src, dst)\n",
    "    \n",
    "    \n",
    "\n",
    "    \n",
    "# Copy images to test_dir folder\n",
    "for image in test_list:\n",
    "    \n",
    "    # add .png extension \n",
    "    filename = image + '.png'\n",
    "    # get the label for a certain image\n",
    "    target = int(data.loc[data['FILE NAME'] == image, ['label']].values)\n",
    "    \n",
    "    # match the target with the folder's name and source path of the image\n",
    "    if target == 0:\n",
    "        label = 'covid'\n",
    "        src = os.path.join('../input/covid19-radiography-database/COVID-19_Radiography_Dataset/COVID/images', filename)\n",
    "        \n",
    "    if target == 1:\n",
    "        label = 'normal'\n",
    "        filename = filename.capitalize()\n",
    "        src = os.path.join('../input/covid19-radiography-database/COVID-19_Radiography_Dataset/Normal/images', filename)\n",
    "        \n",
    "    if target == 2:\n",
    "        label = 'viral pneumonia'\n",
    "        src = os.path.join('../input/covid19-radiography-database/COVID-19_Radiography_Dataset/Viral Pneumonia/images', filename)\n",
    "    \n",
    "    if target == 3:\n",
    "        label = 'lung opacity'\n",
    "        src = os.path.join('../input/covid19-radiography-database/COVID-19_Radiography_Dataset/Lung_Opacity/images', filename)\n",
    "\n",
    "  \n",
    "    # destination path to image\n",
    "    dst = os.path.join(test_dir, label, filename)\n",
    "    \n",
    "    # copy the image from the source to the destination\n",
    "    shutil.copyfile(src, dst)"
   ]
  },
  {
   "cell_type": "code",
   "execution_count": 12,
   "id": "c4614ee1",
   "metadata": {
    "execution": {
     "iopub.execute_input": "2022-09-21T11:27:31.786503Z",
     "iopub.status.busy": "2022-09-21T11:27:31.785892Z",
     "iopub.status.idle": "2022-09-21T11:27:31.813428Z",
     "shell.execute_reply": "2022-09-21T11:27:31.812229Z"
    },
    "papermill": {
     "duration": 0.0456,
     "end_time": "2022-09-21T11:27:31.816557",
     "exception": false,
     "start_time": "2022-09-21T11:27:31.770957",
     "status": "completed"
    },
    "tags": []
   },
   "outputs": [
    {
     "name": "stdout",
     "output_type": "stream",
     "text": [
      "2929\n",
      "7522\n",
      "1089\n",
      "4869\n"
     ]
    }
   ],
   "source": [
    "print(len(os.listdir('base_dir/train_dir/covid')))\n",
    "print(len(os.listdir('base_dir/train_dir/normal')))\n",
    "print(len(os.listdir('base_dir/train_dir/viral pneumonia')))\n",
    "print(len(os.listdir('base_dir/train_dir/lung opacity')))"
   ]
  },
  {
   "cell_type": "code",
   "execution_count": 13,
   "id": "e3e06e86",
   "metadata": {
    "execution": {
     "iopub.execute_input": "2022-09-21T11:27:31.845765Z",
     "iopub.status.busy": "2022-09-21T11:27:31.845152Z",
     "iopub.status.idle": "2022-09-21T11:27:31.857870Z",
     "shell.execute_reply": "2022-09-21T11:27:31.856238Z"
    },
    "papermill": {
     "duration": 0.030771,
     "end_time": "2022-09-21T11:27:31.860996",
     "exception": false,
     "start_time": "2022-09-21T11:27:31.830225",
     "status": "completed"
    },
    "tags": []
   },
   "outputs": [
    {
     "name": "stdout",
     "output_type": "stream",
     "text": [
      "1824\n"
     ]
    }
   ],
   "source": [
    "print(len(os.listdir('base_dir/val_dir/covid')) + len(os.listdir('base_dir/val_dir/normal')) + len(os.listdir('base_dir/val_dir/viral pneumonia')) + len(os.listdir('base_dir/val_dir/lung opacity')))"
   ]
  },
  {
   "cell_type": "code",
   "execution_count": 14,
   "id": "72eeff4a",
   "metadata": {
    "execution": {
     "iopub.execute_input": "2022-09-21T11:27:31.889996Z",
     "iopub.status.busy": "2022-09-21T11:27:31.889006Z",
     "iopub.status.idle": "2022-09-21T11:27:31.901436Z",
     "shell.execute_reply": "2022-09-21T11:27:31.900413Z"
    },
    "papermill": {
     "duration": 0.031814,
     "end_time": "2022-09-21T11:27:31.905982",
     "exception": false,
     "start_time": "2022-09-21T11:27:31.874168",
     "status": "completed"
    },
    "tags": []
   },
   "outputs": [
    {
     "name": "stdout",
     "output_type": "stream",
     "text": [
      "2015\n"
     ]
    }
   ],
   "source": [
    "print(len(os.listdir('base_dir/test_dir/covid')) + len(os.listdir('base_dir/test_dir/normal')) + len(os.listdir('base_dir/test_dir/viral pneumonia')) + len(os.listdir('base_dir/test_dir/lung opacity')))"
   ]
  },
  {
   "cell_type": "code",
   "execution_count": 15,
   "id": "213b4cf9",
   "metadata": {
    "execution": {
     "iopub.execute_input": "2022-09-21T11:27:31.935288Z",
     "iopub.status.busy": "2022-09-21T11:27:31.934673Z",
     "iopub.status.idle": "2022-09-21T11:27:31.940731Z",
     "shell.execute_reply": "2022-09-21T11:27:31.939700Z"
    },
    "papermill": {
     "duration": 0.026036,
     "end_time": "2022-09-21T11:27:31.945685",
     "exception": false,
     "start_time": "2022-09-21T11:27:31.919649",
     "status": "completed"
    },
    "tags": []
   },
   "outputs": [],
   "source": [
    "IMG_SIZE = (224 , 224)\n",
    "train_directory = \"base_dir/train_dir\"\n",
    "val_directory = \"base_dir/val_dir\"\n",
    "test_directory = \"base_dir/test_dir\""
   ]
  },
  {
   "cell_type": "code",
   "execution_count": 16,
   "id": "bddfea4b",
   "metadata": {
    "execution": {
     "iopub.execute_input": "2022-09-21T11:27:31.975307Z",
     "iopub.status.busy": "2022-09-21T11:27:31.974663Z",
     "iopub.status.idle": "2022-09-21T11:27:33.038040Z",
     "shell.execute_reply": "2022-09-21T11:27:33.036812Z"
    },
    "papermill": {
     "duration": 1.082661,
     "end_time": "2022-09-21T11:27:33.041624",
     "exception": false,
     "start_time": "2022-09-21T11:27:31.958963",
     "status": "completed"
    },
    "tags": []
   },
   "outputs": [
    {
     "name": "stdout",
     "output_type": "stream",
     "text": [
      "Found 16409 images belonging to 4 classes.\n",
      "Found 1824 images belonging to 4 classes.\n",
      "Found 2015 images belonging to 4 classes.\n"
     ]
    }
   ],
   "source": [
    "train_datagen = ImageDataGenerator(rescale=1./255)\n",
    "test_datagen = ImageDataGenerator(rescale=1./255)\n",
    "train_generator = train_datagen.flow_from_directory(\n",
    "        train_directory,\n",
    "        target_size=IMG_SIZE,\n",
    "        batch_size=8,\n",
    "        class_mode='categorical')\n",
    "validation_generator = test_datagen.flow_from_directory(\n",
    "        val_directory,\n",
    "        target_size=IMG_SIZE,\n",
    "        batch_size=8,\n",
    "        shuffle=False,\n",
    "        class_mode='categorical')\n",
    "test_generator = test_datagen.flow_from_directory(\n",
    "        test_directory,\n",
    "        target_size=IMG_SIZE,\n",
    "        batch_size=8,\n",
    "        shuffle=False,\n",
    "        class_mode='categorical')"
   ]
  },
  {
   "cell_type": "code",
   "execution_count": 17,
   "id": "03c2f1e9",
   "metadata": {
    "execution": {
     "iopub.execute_input": "2022-09-21T11:27:33.064197Z",
     "iopub.status.busy": "2022-09-21T11:27:33.062938Z",
     "iopub.status.idle": "2022-09-21T11:27:38.015191Z",
     "shell.execute_reply": "2022-09-21T11:27:38.013996Z"
    },
    "papermill": {
     "duration": 4.966313,
     "end_time": "2022-09-21T11:27:38.018124",
     "exception": false,
     "start_time": "2022-09-21T11:27:33.051811",
     "status": "completed"
    },
    "tags": []
   },
   "outputs": [
    {
     "name": "stderr",
     "output_type": "stream",
     "text": [
      "2022-09-21 11:27:33.586683: I tensorflow/stream_executor/cuda/cuda_gpu_executor.cc:937] successful NUMA node read from SysFS had negative value (-1), but there must be at least one NUMA node, so returning NUMA node zero\n",
      "2022-09-21 11:27:33.714016: I tensorflow/stream_executor/cuda/cuda_gpu_executor.cc:937] successful NUMA node read from SysFS had negative value (-1), but there must be at least one NUMA node, so returning NUMA node zero\n",
      "2022-09-21 11:27:33.715060: I tensorflow/stream_executor/cuda/cuda_gpu_executor.cc:937] successful NUMA node read from SysFS had negative value (-1), but there must be at least one NUMA node, so returning NUMA node zero\n",
      "2022-09-21 11:27:33.717886: I tensorflow/core/platform/cpu_feature_guard.cc:142] This TensorFlow binary is optimized with oneAPI Deep Neural Network Library (oneDNN) to use the following CPU instructions in performance-critical operations:  AVX2 AVX512F FMA\n",
      "To enable them in other operations, rebuild TensorFlow with the appropriate compiler flags.\n",
      "2022-09-21 11:27:33.718317: I tensorflow/stream_executor/cuda/cuda_gpu_executor.cc:937] successful NUMA node read from SysFS had negative value (-1), but there must be at least one NUMA node, so returning NUMA node zero\n",
      "2022-09-21 11:27:33.719588: I tensorflow/stream_executor/cuda/cuda_gpu_executor.cc:937] successful NUMA node read from SysFS had negative value (-1), but there must be at least one NUMA node, so returning NUMA node zero\n",
      "2022-09-21 11:27:33.720672: I tensorflow/stream_executor/cuda/cuda_gpu_executor.cc:937] successful NUMA node read from SysFS had negative value (-1), but there must be at least one NUMA node, so returning NUMA node zero\n",
      "2022-09-21 11:27:36.269958: I tensorflow/stream_executor/cuda/cuda_gpu_executor.cc:937] successful NUMA node read from SysFS had negative value (-1), but there must be at least one NUMA node, so returning NUMA node zero\n",
      "2022-09-21 11:27:36.270905: I tensorflow/stream_executor/cuda/cuda_gpu_executor.cc:937] successful NUMA node read from SysFS had negative value (-1), but there must be at least one NUMA node, so returning NUMA node zero\n",
      "2022-09-21 11:27:36.271745: I tensorflow/stream_executor/cuda/cuda_gpu_executor.cc:937] successful NUMA node read from SysFS had negative value (-1), but there must be at least one NUMA node, so returning NUMA node zero\n",
      "2022-09-21 11:27:36.272548: I tensorflow/core/common_runtime/gpu/gpu_device.cc:1510] Created device /job:localhost/replica:0/task:0/device:GPU:0 with 15403 MB memory:  -> device: 0, name: Tesla P100-PCIE-16GB, pci bus id: 0000:00:04.0, compute capability: 6.0\n"
     ]
    },
    {
     "name": "stdout",
     "output_type": "stream",
     "text": [
      "Downloading data from https://storage.googleapis.com/tensorflow/keras-applications/mobilenet_v2/mobilenet_v2_weights_tf_dim_ordering_tf_kernels_1.0_224_no_top.h5\n",
      "9412608/9406464 [==============================] - 0s 0us/step\n",
      "9420800/9406464 [==============================] - 0s 0us/step\n"
     ]
    }
   ],
   "source": [
    "import tensorflow_hub as hub\n",
    "mobile_net_layers = tf.keras.applications.mobilenet_v2.MobileNetV2(input_shape=(224,224,3), include_top=False, weights='imagenet')"
   ]
  },
  {
   "cell_type": "code",
   "execution_count": 18,
   "id": "635a9d2d",
   "metadata": {
    "execution": {
     "iopub.execute_input": "2022-09-21T11:27:38.040465Z",
     "iopub.status.busy": "2022-09-21T11:27:38.039352Z",
     "iopub.status.idle": "2022-09-21T11:27:38.067004Z",
     "shell.execute_reply": "2022-09-21T11:27:38.065819Z"
    },
    "papermill": {
     "duration": 0.043671,
     "end_time": "2022-09-21T11:27:38.071705",
     "exception": false,
     "start_time": "2022-09-21T11:27:38.028034",
     "status": "completed"
    },
    "tags": []
   },
   "outputs": [
    {
     "name": "stdout",
     "output_type": "stream",
     "text": [
      "Model: \"mobilenetv2_1.00_224\"\n",
      "__________________________________________________________________________________________________\n",
      "Layer (type)                    Output Shape         Param #     Connected to                     \n",
      "==================================================================================================\n",
      "input_1 (InputLayer)            [(None, 224, 224, 3) 0                                            \n",
      "__________________________________________________________________________________________________\n",
      "Conv1 (Conv2D)                  (None, 112, 112, 32) 864         input_1[0][0]                    \n",
      "__________________________________________________________________________________________________\n",
      "bn_Conv1 (BatchNormalization)   (None, 112, 112, 32) 128         Conv1[0][0]                      \n",
      "__________________________________________________________________________________________________\n",
      "Conv1_relu (ReLU)               (None, 112, 112, 32) 0           bn_Conv1[0][0]                   \n",
      "__________________________________________________________________________________________________\n",
      "expanded_conv_depthwise (Depthw (None, 112, 112, 32) 288         Conv1_relu[0][0]                 \n",
      "__________________________________________________________________________________________________\n",
      "expanded_conv_depthwise_BN (Bat (None, 112, 112, 32) 128         expanded_conv_depthwise[0][0]    \n",
      "__________________________________________________________________________________________________\n",
      "expanded_conv_depthwise_relu (R (None, 112, 112, 32) 0           expanded_conv_depthwise_BN[0][0] \n",
      "__________________________________________________________________________________________________\n",
      "expanded_conv_project (Conv2D)  (None, 112, 112, 16) 512         expanded_conv_depthwise_relu[0][0\n",
      "__________________________________________________________________________________________________\n",
      "expanded_conv_project_BN (Batch (None, 112, 112, 16) 64          expanded_conv_project[0][0]      \n",
      "__________________________________________________________________________________________________\n",
      "block_1_expand (Conv2D)         (None, 112, 112, 96) 1536        expanded_conv_project_BN[0][0]   \n",
      "__________________________________________________________________________________________________\n",
      "block_1_expand_BN (BatchNormali (None, 112, 112, 96) 384         block_1_expand[0][0]             \n",
      "__________________________________________________________________________________________________\n",
      "block_1_expand_relu (ReLU)      (None, 112, 112, 96) 0           block_1_expand_BN[0][0]          \n",
      "__________________________________________________________________________________________________\n",
      "block_1_pad (ZeroPadding2D)     (None, 113, 113, 96) 0           block_1_expand_relu[0][0]        \n",
      "__________________________________________________________________________________________________\n",
      "block_1_depthwise (DepthwiseCon (None, 56, 56, 96)   864         block_1_pad[0][0]                \n",
      "__________________________________________________________________________________________________\n",
      "block_1_depthwise_BN (BatchNorm (None, 56, 56, 96)   384         block_1_depthwise[0][0]          \n",
      "__________________________________________________________________________________________________\n",
      "block_1_depthwise_relu (ReLU)   (None, 56, 56, 96)   0           block_1_depthwise_BN[0][0]       \n",
      "__________________________________________________________________________________________________\n",
      "block_1_project (Conv2D)        (None, 56, 56, 24)   2304        block_1_depthwise_relu[0][0]     \n",
      "__________________________________________________________________________________________________\n",
      "block_1_project_BN (BatchNormal (None, 56, 56, 24)   96          block_1_project[0][0]            \n",
      "__________________________________________________________________________________________________\n",
      "block_2_expand (Conv2D)         (None, 56, 56, 144)  3456        block_1_project_BN[0][0]         \n",
      "__________________________________________________________________________________________________\n",
      "block_2_expand_BN (BatchNormali (None, 56, 56, 144)  576         block_2_expand[0][0]             \n",
      "__________________________________________________________________________________________________\n",
      "block_2_expand_relu (ReLU)      (None, 56, 56, 144)  0           block_2_expand_BN[0][0]          \n",
      "__________________________________________________________________________________________________\n",
      "block_2_depthwise (DepthwiseCon (None, 56, 56, 144)  1296        block_2_expand_relu[0][0]        \n",
      "__________________________________________________________________________________________________\n",
      "block_2_depthwise_BN (BatchNorm (None, 56, 56, 144)  576         block_2_depthwise[0][0]          \n",
      "__________________________________________________________________________________________________\n",
      "block_2_depthwise_relu (ReLU)   (None, 56, 56, 144)  0           block_2_depthwise_BN[0][0]       \n",
      "__________________________________________________________________________________________________\n",
      "block_2_project (Conv2D)        (None, 56, 56, 24)   3456        block_2_depthwise_relu[0][0]     \n",
      "__________________________________________________________________________________________________\n",
      "block_2_project_BN (BatchNormal (None, 56, 56, 24)   96          block_2_project[0][0]            \n",
      "__________________________________________________________________________________________________\n",
      "block_2_add (Add)               (None, 56, 56, 24)   0           block_1_project_BN[0][0]         \n",
      "                                                                 block_2_project_BN[0][0]         \n",
      "__________________________________________________________________________________________________\n",
      "block_3_expand (Conv2D)         (None, 56, 56, 144)  3456        block_2_add[0][0]                \n",
      "__________________________________________________________________________________________________\n",
      "block_3_expand_BN (BatchNormali (None, 56, 56, 144)  576         block_3_expand[0][0]             \n",
      "__________________________________________________________________________________________________\n",
      "block_3_expand_relu (ReLU)      (None, 56, 56, 144)  0           block_3_expand_BN[0][0]          \n",
      "__________________________________________________________________________________________________\n",
      "block_3_pad (ZeroPadding2D)     (None, 57, 57, 144)  0           block_3_expand_relu[0][0]        \n",
      "__________________________________________________________________________________________________\n",
      "block_3_depthwise (DepthwiseCon (None, 28, 28, 144)  1296        block_3_pad[0][0]                \n",
      "__________________________________________________________________________________________________\n",
      "block_3_depthwise_BN (BatchNorm (None, 28, 28, 144)  576         block_3_depthwise[0][0]          \n",
      "__________________________________________________________________________________________________\n",
      "block_3_depthwise_relu (ReLU)   (None, 28, 28, 144)  0           block_3_depthwise_BN[0][0]       \n",
      "__________________________________________________________________________________________________\n",
      "block_3_project (Conv2D)        (None, 28, 28, 32)   4608        block_3_depthwise_relu[0][0]     \n",
      "__________________________________________________________________________________________________\n",
      "block_3_project_BN (BatchNormal (None, 28, 28, 32)   128         block_3_project[0][0]            \n",
      "__________________________________________________________________________________________________\n",
      "block_4_expand (Conv2D)         (None, 28, 28, 192)  6144        block_3_project_BN[0][0]         \n",
      "__________________________________________________________________________________________________\n",
      "block_4_expand_BN (BatchNormali (None, 28, 28, 192)  768         block_4_expand[0][0]             \n",
      "__________________________________________________________________________________________________\n",
      "block_4_expand_relu (ReLU)      (None, 28, 28, 192)  0           block_4_expand_BN[0][0]          \n",
      "__________________________________________________________________________________________________\n",
      "block_4_depthwise (DepthwiseCon (None, 28, 28, 192)  1728        block_4_expand_relu[0][0]        \n",
      "__________________________________________________________________________________________________\n",
      "block_4_depthwise_BN (BatchNorm (None, 28, 28, 192)  768         block_4_depthwise[0][0]          \n",
      "__________________________________________________________________________________________________\n",
      "block_4_depthwise_relu (ReLU)   (None, 28, 28, 192)  0           block_4_depthwise_BN[0][0]       \n",
      "__________________________________________________________________________________________________\n",
      "block_4_project (Conv2D)        (None, 28, 28, 32)   6144        block_4_depthwise_relu[0][0]     \n",
      "__________________________________________________________________________________________________\n",
      "block_4_project_BN (BatchNormal (None, 28, 28, 32)   128         block_4_project[0][0]            \n",
      "__________________________________________________________________________________________________\n",
      "block_4_add (Add)               (None, 28, 28, 32)   0           block_3_project_BN[0][0]         \n",
      "                                                                 block_4_project_BN[0][0]         \n",
      "__________________________________________________________________________________________________\n",
      "block_5_expand (Conv2D)         (None, 28, 28, 192)  6144        block_4_add[0][0]                \n",
      "__________________________________________________________________________________________________\n",
      "block_5_expand_BN (BatchNormali (None, 28, 28, 192)  768         block_5_expand[0][0]             \n",
      "__________________________________________________________________________________________________\n",
      "block_5_expand_relu (ReLU)      (None, 28, 28, 192)  0           block_5_expand_BN[0][0]          \n",
      "__________________________________________________________________________________________________\n",
      "block_5_depthwise (DepthwiseCon (None, 28, 28, 192)  1728        block_5_expand_relu[0][0]        \n",
      "__________________________________________________________________________________________________\n",
      "block_5_depthwise_BN (BatchNorm (None, 28, 28, 192)  768         block_5_depthwise[0][0]          \n",
      "__________________________________________________________________________________________________\n",
      "block_5_depthwise_relu (ReLU)   (None, 28, 28, 192)  0           block_5_depthwise_BN[0][0]       \n",
      "__________________________________________________________________________________________________\n",
      "block_5_project (Conv2D)        (None, 28, 28, 32)   6144        block_5_depthwise_relu[0][0]     \n",
      "__________________________________________________________________________________________________\n",
      "block_5_project_BN (BatchNormal (None, 28, 28, 32)   128         block_5_project[0][0]            \n",
      "__________________________________________________________________________________________________\n",
      "block_5_add (Add)               (None, 28, 28, 32)   0           block_4_add[0][0]                \n",
      "                                                                 block_5_project_BN[0][0]         \n",
      "__________________________________________________________________________________________________\n",
      "block_6_expand (Conv2D)         (None, 28, 28, 192)  6144        block_5_add[0][0]                \n",
      "__________________________________________________________________________________________________\n",
      "block_6_expand_BN (BatchNormali (None, 28, 28, 192)  768         block_6_expand[0][0]             \n",
      "__________________________________________________________________________________________________\n",
      "block_6_expand_relu (ReLU)      (None, 28, 28, 192)  0           block_6_expand_BN[0][0]          \n",
      "__________________________________________________________________________________________________\n",
      "block_6_pad (ZeroPadding2D)     (None, 29, 29, 192)  0           block_6_expand_relu[0][0]        \n",
      "__________________________________________________________________________________________________\n",
      "block_6_depthwise (DepthwiseCon (None, 14, 14, 192)  1728        block_6_pad[0][0]                \n",
      "__________________________________________________________________________________________________\n",
      "block_6_depthwise_BN (BatchNorm (None, 14, 14, 192)  768         block_6_depthwise[0][0]          \n",
      "__________________________________________________________________________________________________\n",
      "block_6_depthwise_relu (ReLU)   (None, 14, 14, 192)  0           block_6_depthwise_BN[0][0]       \n",
      "__________________________________________________________________________________________________\n",
      "block_6_project (Conv2D)        (None, 14, 14, 64)   12288       block_6_depthwise_relu[0][0]     \n",
      "__________________________________________________________________________________________________\n",
      "block_6_project_BN (BatchNormal (None, 14, 14, 64)   256         block_6_project[0][0]            \n",
      "__________________________________________________________________________________________________\n",
      "block_7_expand (Conv2D)         (None, 14, 14, 384)  24576       block_6_project_BN[0][0]         \n",
      "__________________________________________________________________________________________________\n",
      "block_7_expand_BN (BatchNormali (None, 14, 14, 384)  1536        block_7_expand[0][0]             \n",
      "__________________________________________________________________________________________________\n",
      "block_7_expand_relu (ReLU)      (None, 14, 14, 384)  0           block_7_expand_BN[0][0]          \n",
      "__________________________________________________________________________________________________\n",
      "block_7_depthwise (DepthwiseCon (None, 14, 14, 384)  3456        block_7_expand_relu[0][0]        \n",
      "__________________________________________________________________________________________________\n",
      "block_7_depthwise_BN (BatchNorm (None, 14, 14, 384)  1536        block_7_depthwise[0][0]          \n",
      "__________________________________________________________________________________________________\n",
      "block_7_depthwise_relu (ReLU)   (None, 14, 14, 384)  0           block_7_depthwise_BN[0][0]       \n",
      "__________________________________________________________________________________________________\n",
      "block_7_project (Conv2D)        (None, 14, 14, 64)   24576       block_7_depthwise_relu[0][0]     \n",
      "__________________________________________________________________________________________________\n",
      "block_7_project_BN (BatchNormal (None, 14, 14, 64)   256         block_7_project[0][0]            \n",
      "__________________________________________________________________________________________________\n",
      "block_7_add (Add)               (None, 14, 14, 64)   0           block_6_project_BN[0][0]         \n",
      "                                                                 block_7_project_BN[0][0]         \n",
      "__________________________________________________________________________________________________\n",
      "block_8_expand (Conv2D)         (None, 14, 14, 384)  24576       block_7_add[0][0]                \n",
      "__________________________________________________________________________________________________\n",
      "block_8_expand_BN (BatchNormali (None, 14, 14, 384)  1536        block_8_expand[0][0]             \n",
      "__________________________________________________________________________________________________\n",
      "block_8_expand_relu (ReLU)      (None, 14, 14, 384)  0           block_8_expand_BN[0][0]          \n",
      "__________________________________________________________________________________________________\n",
      "block_8_depthwise (DepthwiseCon (None, 14, 14, 384)  3456        block_8_expand_relu[0][0]        \n",
      "__________________________________________________________________________________________________\n",
      "block_8_depthwise_BN (BatchNorm (None, 14, 14, 384)  1536        block_8_depthwise[0][0]          \n",
      "__________________________________________________________________________________________________\n",
      "block_8_depthwise_relu (ReLU)   (None, 14, 14, 384)  0           block_8_depthwise_BN[0][0]       \n",
      "__________________________________________________________________________________________________\n",
      "block_8_project (Conv2D)        (None, 14, 14, 64)   24576       block_8_depthwise_relu[0][0]     \n",
      "__________________________________________________________________________________________________\n",
      "block_8_project_BN (BatchNormal (None, 14, 14, 64)   256         block_8_project[0][0]            \n",
      "__________________________________________________________________________________________________\n",
      "block_8_add (Add)               (None, 14, 14, 64)   0           block_7_add[0][0]                \n",
      "                                                                 block_8_project_BN[0][0]         \n",
      "__________________________________________________________________________________________________\n",
      "block_9_expand (Conv2D)         (None, 14, 14, 384)  24576       block_8_add[0][0]                \n",
      "__________________________________________________________________________________________________\n",
      "block_9_expand_BN (BatchNormali (None, 14, 14, 384)  1536        block_9_expand[0][0]             \n",
      "__________________________________________________________________________________________________\n",
      "block_9_expand_relu (ReLU)      (None, 14, 14, 384)  0           block_9_expand_BN[0][0]          \n",
      "__________________________________________________________________________________________________\n",
      "block_9_depthwise (DepthwiseCon (None, 14, 14, 384)  3456        block_9_expand_relu[0][0]        \n",
      "__________________________________________________________________________________________________\n",
      "block_9_depthwise_BN (BatchNorm (None, 14, 14, 384)  1536        block_9_depthwise[0][0]          \n",
      "__________________________________________________________________________________________________\n",
      "block_9_depthwise_relu (ReLU)   (None, 14, 14, 384)  0           block_9_depthwise_BN[0][0]       \n",
      "__________________________________________________________________________________________________\n",
      "block_9_project (Conv2D)        (None, 14, 14, 64)   24576       block_9_depthwise_relu[0][0]     \n",
      "__________________________________________________________________________________________________\n",
      "block_9_project_BN (BatchNormal (None, 14, 14, 64)   256         block_9_project[0][0]            \n",
      "__________________________________________________________________________________________________\n",
      "block_9_add (Add)               (None, 14, 14, 64)   0           block_8_add[0][0]                \n",
      "                                                                 block_9_project_BN[0][0]         \n",
      "__________________________________________________________________________________________________\n",
      "block_10_expand (Conv2D)        (None, 14, 14, 384)  24576       block_9_add[0][0]                \n",
      "__________________________________________________________________________________________________\n",
      "block_10_expand_BN (BatchNormal (None, 14, 14, 384)  1536        block_10_expand[0][0]            \n",
      "__________________________________________________________________________________________________\n",
      "block_10_expand_relu (ReLU)     (None, 14, 14, 384)  0           block_10_expand_BN[0][0]         \n",
      "__________________________________________________________________________________________________\n",
      "block_10_depthwise (DepthwiseCo (None, 14, 14, 384)  3456        block_10_expand_relu[0][0]       \n",
      "__________________________________________________________________________________________________\n",
      "block_10_depthwise_BN (BatchNor (None, 14, 14, 384)  1536        block_10_depthwise[0][0]         \n",
      "__________________________________________________________________________________________________\n",
      "block_10_depthwise_relu (ReLU)  (None, 14, 14, 384)  0           block_10_depthwise_BN[0][0]      \n",
      "__________________________________________________________________________________________________\n",
      "block_10_project (Conv2D)       (None, 14, 14, 96)   36864       block_10_depthwise_relu[0][0]    \n",
      "__________________________________________________________________________________________________\n",
      "block_10_project_BN (BatchNorma (None, 14, 14, 96)   384         block_10_project[0][0]           \n",
      "__________________________________________________________________________________________________\n",
      "block_11_expand (Conv2D)        (None, 14, 14, 576)  55296       block_10_project_BN[0][0]        \n",
      "__________________________________________________________________________________________________\n",
      "block_11_expand_BN (BatchNormal (None, 14, 14, 576)  2304        block_11_expand[0][0]            \n",
      "__________________________________________________________________________________________________\n",
      "block_11_expand_relu (ReLU)     (None, 14, 14, 576)  0           block_11_expand_BN[0][0]         \n",
      "__________________________________________________________________________________________________\n",
      "block_11_depthwise (DepthwiseCo (None, 14, 14, 576)  5184        block_11_expand_relu[0][0]       \n",
      "__________________________________________________________________________________________________\n",
      "block_11_depthwise_BN (BatchNor (None, 14, 14, 576)  2304        block_11_depthwise[0][0]         \n",
      "__________________________________________________________________________________________________\n",
      "block_11_depthwise_relu (ReLU)  (None, 14, 14, 576)  0           block_11_depthwise_BN[0][0]      \n",
      "__________________________________________________________________________________________________\n",
      "block_11_project (Conv2D)       (None, 14, 14, 96)   55296       block_11_depthwise_relu[0][0]    \n",
      "__________________________________________________________________________________________________\n",
      "block_11_project_BN (BatchNorma (None, 14, 14, 96)   384         block_11_project[0][0]           \n",
      "__________________________________________________________________________________________________\n",
      "block_11_add (Add)              (None, 14, 14, 96)   0           block_10_project_BN[0][0]        \n",
      "                                                                 block_11_project_BN[0][0]        \n",
      "__________________________________________________________________________________________________\n",
      "block_12_expand (Conv2D)        (None, 14, 14, 576)  55296       block_11_add[0][0]               \n",
      "__________________________________________________________________________________________________\n",
      "block_12_expand_BN (BatchNormal (None, 14, 14, 576)  2304        block_12_expand[0][0]            \n",
      "__________________________________________________________________________________________________\n",
      "block_12_expand_relu (ReLU)     (None, 14, 14, 576)  0           block_12_expand_BN[0][0]         \n",
      "__________________________________________________________________________________________________\n",
      "block_12_depthwise (DepthwiseCo (None, 14, 14, 576)  5184        block_12_expand_relu[0][0]       \n",
      "__________________________________________________________________________________________________\n",
      "block_12_depthwise_BN (BatchNor (None, 14, 14, 576)  2304        block_12_depthwise[0][0]         \n",
      "__________________________________________________________________________________________________\n",
      "block_12_depthwise_relu (ReLU)  (None, 14, 14, 576)  0           block_12_depthwise_BN[0][0]      \n",
      "__________________________________________________________________________________________________\n",
      "block_12_project (Conv2D)       (None, 14, 14, 96)   55296       block_12_depthwise_relu[0][0]    \n",
      "__________________________________________________________________________________________________\n",
      "block_12_project_BN (BatchNorma (None, 14, 14, 96)   384         block_12_project[0][0]           \n",
      "__________________________________________________________________________________________________\n",
      "block_12_add (Add)              (None, 14, 14, 96)   0           block_11_add[0][0]               \n",
      "                                                                 block_12_project_BN[0][0]        \n",
      "__________________________________________________________________________________________________\n",
      "block_13_expand (Conv2D)        (None, 14, 14, 576)  55296       block_12_add[0][0]               \n",
      "__________________________________________________________________________________________________\n",
      "block_13_expand_BN (BatchNormal (None, 14, 14, 576)  2304        block_13_expand[0][0]            \n",
      "__________________________________________________________________________________________________\n",
      "block_13_expand_relu (ReLU)     (None, 14, 14, 576)  0           block_13_expand_BN[0][0]         \n",
      "__________________________________________________________________________________________________\n",
      "block_13_pad (ZeroPadding2D)    (None, 15, 15, 576)  0           block_13_expand_relu[0][0]       \n",
      "__________________________________________________________________________________________________\n",
      "block_13_depthwise (DepthwiseCo (None, 7, 7, 576)    5184        block_13_pad[0][0]               \n",
      "__________________________________________________________________________________________________\n",
      "block_13_depthwise_BN (BatchNor (None, 7, 7, 576)    2304        block_13_depthwise[0][0]         \n",
      "__________________________________________________________________________________________________\n",
      "block_13_depthwise_relu (ReLU)  (None, 7, 7, 576)    0           block_13_depthwise_BN[0][0]      \n",
      "__________________________________________________________________________________________________\n",
      "block_13_project (Conv2D)       (None, 7, 7, 160)    92160       block_13_depthwise_relu[0][0]    \n",
      "__________________________________________________________________________________________________\n",
      "block_13_project_BN (BatchNorma (None, 7, 7, 160)    640         block_13_project[0][0]           \n",
      "__________________________________________________________________________________________________\n",
      "block_14_expand (Conv2D)        (None, 7, 7, 960)    153600      block_13_project_BN[0][0]        \n",
      "__________________________________________________________________________________________________\n",
      "block_14_expand_BN (BatchNormal (None, 7, 7, 960)    3840        block_14_expand[0][0]            \n",
      "__________________________________________________________________________________________________\n",
      "block_14_expand_relu (ReLU)     (None, 7, 7, 960)    0           block_14_expand_BN[0][0]         \n",
      "__________________________________________________________________________________________________\n",
      "block_14_depthwise (DepthwiseCo (None, 7, 7, 960)    8640        block_14_expand_relu[0][0]       \n",
      "__________________________________________________________________________________________________\n",
      "block_14_depthwise_BN (BatchNor (None, 7, 7, 960)    3840        block_14_depthwise[0][0]         \n",
      "__________________________________________________________________________________________________\n",
      "block_14_depthwise_relu (ReLU)  (None, 7, 7, 960)    0           block_14_depthwise_BN[0][0]      \n",
      "__________________________________________________________________________________________________\n",
      "block_14_project (Conv2D)       (None, 7, 7, 160)    153600      block_14_depthwise_relu[0][0]    \n",
      "__________________________________________________________________________________________________\n",
      "block_14_project_BN (BatchNorma (None, 7, 7, 160)    640         block_14_project[0][0]           \n",
      "__________________________________________________________________________________________________\n",
      "block_14_add (Add)              (None, 7, 7, 160)    0           block_13_project_BN[0][0]        \n",
      "                                                                 block_14_project_BN[0][0]        \n",
      "__________________________________________________________________________________________________\n",
      "block_15_expand (Conv2D)        (None, 7, 7, 960)    153600      block_14_add[0][0]               \n",
      "__________________________________________________________________________________________________\n",
      "block_15_expand_BN (BatchNormal (None, 7, 7, 960)    3840        block_15_expand[0][0]            \n",
      "__________________________________________________________________________________________________\n",
      "block_15_expand_relu (ReLU)     (None, 7, 7, 960)    0           block_15_expand_BN[0][0]         \n",
      "__________________________________________________________________________________________________\n",
      "block_15_depthwise (DepthwiseCo (None, 7, 7, 960)    8640        block_15_expand_relu[0][0]       \n",
      "__________________________________________________________________________________________________\n",
      "block_15_depthwise_BN (BatchNor (None, 7, 7, 960)    3840        block_15_depthwise[0][0]         \n",
      "__________________________________________________________________________________________________\n",
      "block_15_depthwise_relu (ReLU)  (None, 7, 7, 960)    0           block_15_depthwise_BN[0][0]      \n",
      "__________________________________________________________________________________________________\n",
      "block_15_project (Conv2D)       (None, 7, 7, 160)    153600      block_15_depthwise_relu[0][0]    \n",
      "__________________________________________________________________________________________________\n",
      "block_15_project_BN (BatchNorma (None, 7, 7, 160)    640         block_15_project[0][0]           \n",
      "__________________________________________________________________________________________________\n",
      "block_15_add (Add)              (None, 7, 7, 160)    0           block_14_add[0][0]               \n",
      "                                                                 block_15_project_BN[0][0]        \n",
      "__________________________________________________________________________________________________\n",
      "block_16_expand (Conv2D)        (None, 7, 7, 960)    153600      block_15_add[0][0]               \n",
      "__________________________________________________________________________________________________\n",
      "block_16_expand_BN (BatchNormal (None, 7, 7, 960)    3840        block_16_expand[0][0]            \n",
      "__________________________________________________________________________________________________\n",
      "block_16_expand_relu (ReLU)     (None, 7, 7, 960)    0           block_16_expand_BN[0][0]         \n",
      "__________________________________________________________________________________________________\n",
      "block_16_depthwise (DepthwiseCo (None, 7, 7, 960)    8640        block_16_expand_relu[0][0]       \n",
      "__________________________________________________________________________________________________\n",
      "block_16_depthwise_BN (BatchNor (None, 7, 7, 960)    3840        block_16_depthwise[0][0]         \n",
      "__________________________________________________________________________________________________\n",
      "block_16_depthwise_relu (ReLU)  (None, 7, 7, 960)    0           block_16_depthwise_BN[0][0]      \n",
      "__________________________________________________________________________________________________\n",
      "block_16_project (Conv2D)       (None, 7, 7, 320)    307200      block_16_depthwise_relu[0][0]    \n",
      "__________________________________________________________________________________________________\n",
      "block_16_project_BN (BatchNorma (None, 7, 7, 320)    1280        block_16_project[0][0]           \n",
      "__________________________________________________________________________________________________\n",
      "Conv_1 (Conv2D)                 (None, 7, 7, 1280)   409600      block_16_project_BN[0][0]        \n",
      "__________________________________________________________________________________________________\n",
      "Conv_1_bn (BatchNormalization)  (None, 7, 7, 1280)   5120        Conv_1[0][0]                     \n",
      "__________________________________________________________________________________________________\n",
      "out_relu (ReLU)                 (None, 7, 7, 1280)   0           Conv_1_bn[0][0]                  \n",
      "==================================================================================================\n",
      "Total params: 2,257,984\n",
      "Trainable params: 2,223,872\n",
      "Non-trainable params: 34,112\n",
      "__________________________________________________________________________________________________\n"
     ]
    }
   ],
   "source": [
    "mobile_net_layers.summary()"
   ]
  },
  {
   "cell_type": "code",
   "execution_count": 19,
   "id": "610ab51b",
   "metadata": {
    "execution": {
     "iopub.execute_input": "2022-09-21T11:27:38.098359Z",
     "iopub.status.busy": "2022-09-21T11:27:38.097547Z",
     "iopub.status.idle": "2022-09-21T11:27:38.104275Z",
     "shell.execute_reply": "2022-09-21T11:27:38.103043Z"
    },
    "papermill": {
     "duration": 0.021705,
     "end_time": "2022-09-21T11:27:38.107336",
     "exception": false,
     "start_time": "2022-09-21T11:27:38.085631",
     "status": "completed"
    },
    "tags": []
   },
   "outputs": [
    {
     "name": "stdout",
     "output_type": "stream",
     "text": [
      "Number of layers in the base model:  154\n"
     ]
    }
   ],
   "source": [
    "print(\"Number of layers in the base model: \", len(mobile_net_layers.layers))"
   ]
  },
  {
   "cell_type": "code",
   "execution_count": 20,
   "id": "b0ceec71",
   "metadata": {
    "execution": {
     "iopub.execute_input": "2022-09-21T11:27:38.131308Z",
     "iopub.status.busy": "2022-09-21T11:27:38.130224Z",
     "iopub.status.idle": "2022-09-21T11:27:38.137281Z",
     "shell.execute_reply": "2022-09-21T11:27:38.135988Z"
    },
    "papermill": {
     "duration": 0.022985,
     "end_time": "2022-09-21T11:27:38.141344",
     "exception": false,
     "start_time": "2022-09-21T11:27:38.118359",
     "status": "completed"
    },
    "tags": []
   },
   "outputs": [
    {
     "name": "stdout",
     "output_type": "stream",
     "text": [
      "[142, 64, 23, 39, 7, 69, 80, 98, 54, 93, 91, 37, 5, 20, 40, 36, 61, 16, 143, 1, 104, 34, 107, 122, 0, 78, 139, 77, 72, 105, 44, 149, 113, 35, 59, 68, 121, 147, 30, 153, 92, 67, 151, 118, 86, 81, 140, 43, 114, 49, 111, 66, 11, 60, 50, 83, 89, 42, 131, 38, 130, 55, 33, 27, 25, 9, 8, 75, 150, 31, 48, 47, 145, 76, 94, 135, 84]\n"
     ]
    }
   ],
   "source": [
    "import random\n",
    "\n",
    "randomlist = random.sample(range(0, 154), 77)\n",
    "print(randomlist)"
   ]
  },
  {
   "cell_type": "code",
   "execution_count": 21,
   "id": "c7b338f0",
   "metadata": {
    "execution": {
     "iopub.execute_input": "2022-09-21T11:27:38.164743Z",
     "iopub.status.busy": "2022-09-21T11:27:38.164221Z",
     "iopub.status.idle": "2022-09-21T11:27:38.172613Z",
     "shell.execute_reply": "2022-09-21T11:27:38.171374Z"
    },
    "papermill": {
     "duration": 0.022797,
     "end_time": "2022-09-21T11:27:38.175007",
     "exception": false,
     "start_time": "2022-09-21T11:27:38.152210",
     "status": "completed"
    },
    "tags": []
   },
   "outputs": [],
   "source": [
    "for i,layer in enumerate(mobile_net_layers.layers):\n",
    "    if i in randomlist:\n",
    "        layer.trainable =  False"
   ]
  },
  {
   "cell_type": "code",
   "execution_count": 22,
   "id": "dbd35ee0",
   "metadata": {
    "execution": {
     "iopub.execute_input": "2022-09-21T11:27:38.198802Z",
     "iopub.status.busy": "2022-09-21T11:27:38.197961Z",
     "iopub.status.idle": "2022-09-21T11:27:38.204461Z",
     "shell.execute_reply": "2022-09-21T11:27:38.203139Z"
    },
    "papermill": {
     "duration": 0.020986,
     "end_time": "2022-09-21T11:27:38.206765",
     "exception": false,
     "start_time": "2022-09-21T11:27:38.185779",
     "status": "completed"
    },
    "tags": []
   },
   "outputs": [],
   "source": [
    "for i,layer in enumerate(mobile_net_layers.layers):\n",
    "    if i not in randomlist and not layer.trainable:\n",
    "        print(i, layer.trainable)"
   ]
  },
  {
   "cell_type": "code",
   "execution_count": 23,
   "id": "e6c91d80",
   "metadata": {
    "execution": {
     "iopub.execute_input": "2022-09-21T11:27:38.230400Z",
     "iopub.status.busy": "2022-09-21T11:27:38.229251Z",
     "iopub.status.idle": "2022-09-21T11:27:38.618936Z",
     "shell.execute_reply": "2022-09-21T11:27:38.617810Z"
    },
    "papermill": {
     "duration": 0.40431,
     "end_time": "2022-09-21T11:27:38.621744",
     "exception": false,
     "start_time": "2022-09-21T11:27:38.217434",
     "status": "completed"
    },
    "tags": []
   },
   "outputs": [],
   "source": [
    "model1 = tf.keras.Sequential([\n",
    "  mobile_net_layers,\n",
    "  tf.keras.layers.GlobalMaxPool2D(),\n",
    "  tf.keras.layers.Flatten(),\n",
    "  tf.keras.layers.Dense(4,activation='softmax')  \n",
    "])"
   ]
  },
  {
   "cell_type": "code",
   "execution_count": 24,
   "id": "a32e10b6",
   "metadata": {
    "execution": {
     "iopub.execute_input": "2022-09-21T11:27:38.645590Z",
     "iopub.status.busy": "2022-09-21T11:27:38.644703Z",
     "iopub.status.idle": "2022-09-21T11:27:38.662525Z",
     "shell.execute_reply": "2022-09-21T11:27:38.660932Z"
    },
    "papermill": {
     "duration": 0.032515,
     "end_time": "2022-09-21T11:27:38.664959",
     "exception": false,
     "start_time": "2022-09-21T11:27:38.632444",
     "status": "completed"
    },
    "tags": []
   },
   "outputs": [
    {
     "name": "stdout",
     "output_type": "stream",
     "text": [
      "Model: \"sequential\"\n",
      "_________________________________________________________________\n",
      "Layer (type)                 Output Shape              Param #   \n",
      "=================================================================\n",
      "mobilenetv2_1.00_224 (Functi (None, 7, 7, 1280)        2257984   \n",
      "_________________________________________________________________\n",
      "global_max_pooling2d (Global (None, 1280)              0         \n",
      "_________________________________________________________________\n",
      "flatten (Flatten)            (None, 1280)              0         \n",
      "_________________________________________________________________\n",
      "dense (Dense)                (None, 4)                 5124      \n",
      "=================================================================\n",
      "Total params: 2,263,108\n",
      "Trainable params: 656,132\n",
      "Non-trainable params: 1,606,976\n",
      "_________________________________________________________________\n"
     ]
    }
   ],
   "source": [
    "model1.summary()"
   ]
  },
  {
   "cell_type": "code",
   "execution_count": 25,
   "id": "23ff5218",
   "metadata": {
    "execution": {
     "iopub.execute_input": "2022-09-21T11:27:38.688761Z",
     "iopub.status.busy": "2022-09-21T11:27:38.688011Z",
     "iopub.status.idle": "2022-09-21T11:27:38.695823Z",
     "shell.execute_reply": "2022-09-21T11:27:38.694651Z"
    },
    "papermill": {
     "duration": 0.022296,
     "end_time": "2022-09-21T11:27:38.698289",
     "exception": false,
     "start_time": "2022-09-21T11:27:38.675993",
     "status": "completed"
    },
    "tags": []
   },
   "outputs": [],
   "source": [
    "from keras import backend as K\n",
    "def f1SCORE(y_true, y_pred): #taken from old keras source code\n",
    "    true_positives = K.sum(K.round(K.clip(y_true * y_pred, 0, 1)))\n",
    "    possible_positives = K.sum(K.round(K.clip(y_true, 0, 1)))\n",
    "    predicted_positives = K.sum(K.round(K.clip(y_pred, 0, 1)))\n",
    "    precision = true_positives / (predicted_positives + K.epsilon())\n",
    "    recall = true_positives / (possible_positives + K.epsilon())\n",
    "    f1_val = 2*(precision*recall)/(precision+recall+K.epsilon())\n",
    "    return f1_val"
   ]
  },
  {
   "cell_type": "code",
   "execution_count": 26,
   "id": "17972695",
   "metadata": {
    "execution": {
     "iopub.execute_input": "2022-09-21T11:27:38.721401Z",
     "iopub.status.busy": "2022-09-21T11:27:38.720993Z",
     "iopub.status.idle": "2022-09-21T11:27:38.751849Z",
     "shell.execute_reply": "2022-09-21T11:27:38.750673Z"
    },
    "papermill": {
     "duration": 0.045685,
     "end_time": "2022-09-21T11:27:38.754727",
     "exception": false,
     "start_time": "2022-09-21T11:27:38.709042",
     "status": "completed"
    },
    "tags": []
   },
   "outputs": [],
   "source": [
    "base_learning_rate = 0.0001\n",
    "model1.compile(optimizer=tf.keras.optimizers.Adam(learning_rate=base_learning_rate),\n",
    "              loss=tf.keras.losses.CategoricalCrossentropy(),\n",
    "              metrics=['accuracy', keras.metrics.Precision(), keras.metrics.Recall(), keras.metrics.AUC(),f1SCORE])"
   ]
  },
  {
   "cell_type": "code",
   "execution_count": 27,
   "id": "5eb2f634",
   "metadata": {
    "execution": {
     "iopub.execute_input": "2022-09-21T11:27:38.778243Z",
     "iopub.status.busy": "2022-09-21T11:27:38.777832Z",
     "iopub.status.idle": "2022-09-21T11:27:38.783611Z",
     "shell.execute_reply": "2022-09-21T11:27:38.782346Z"
    },
    "papermill": {
     "duration": 0.020331,
     "end_time": "2022-09-21T11:27:38.785975",
     "exception": false,
     "start_time": "2022-09-21T11:27:38.765644",
     "status": "completed"
    },
    "tags": []
   },
   "outputs": [],
   "source": [
    "early_stopping = tf.keras.callbacks.EarlyStopping(monitor='val_loss', patience=5, restore_best_weights=True)"
   ]
  },
  {
   "cell_type": "code",
   "execution_count": 28,
   "id": "b2f90093",
   "metadata": {
    "execution": {
     "iopub.execute_input": "2022-09-21T11:27:38.809281Z",
     "iopub.status.busy": "2022-09-21T11:27:38.808855Z",
     "iopub.status.idle": "2022-09-21T11:56:12.015697Z",
     "shell.execute_reply": "2022-09-21T11:56:12.014458Z"
    },
    "papermill": {
     "duration": 1715.101411,
     "end_time": "2022-09-21T11:56:13.898143",
     "exception": false,
     "start_time": "2022-09-21T11:27:38.796732",
     "status": "completed"
    },
    "tags": []
   },
   "outputs": [
    {
     "name": "stderr",
     "output_type": "stream",
     "text": [
      "2022-09-21 11:27:38.941817: I tensorflow/compiler/mlir/mlir_graph_optimization_pass.cc:185] None of the MLIR Optimization Passes are enabled (registered 2)\n"
     ]
    },
    {
     "name": "stdout",
     "output_type": "stream",
     "text": [
      "Epoch 1/10000\n"
     ]
    },
    {
     "name": "stderr",
     "output_type": "stream",
     "text": [
      "2022-09-21 11:27:45.350769: I tensorflow/stream_executor/cuda/cuda_dnn.cc:369] Loaded cuDNN version 8005\n"
     ]
    },
    {
     "name": "stdout",
     "output_type": "stream",
     "text": [
      "2052/2052 [==============================] - 155s 69ms/step - loss: 0.8852 - accuracy: 0.7490 - precision: 0.7585 - recall: 0.7394 - auc: 0.9180 - f1SCORE: 0.7472 - val_loss: 1.2254 - val_accuracy: 0.6360 - val_precision: 0.6459 - val_recall: 0.6250 - val_auc: 0.8617 - val_f1SCORE: 0.6325\n",
      "Epoch 2/10000\n",
      "2052/2052 [==============================] - 140s 68ms/step - loss: 0.3941 - accuracy: 0.8715 - precision: 0.8755 - recall: 0.8664 - auc: 0.9739 - f1SCORE: 0.8702 - val_loss: 0.7394 - val_accuracy: 0.7889 - val_precision: 0.7970 - val_recall: 0.7769 - val_auc: 0.9292 - val_f1SCORE: 0.7859\n",
      "Epoch 3/10000\n",
      "2052/2052 [==============================] - 140s 68ms/step - loss: 0.2794 - accuracy: 0.9044 - precision: 0.9077 - recall: 0.9011 - auc: 0.9848 - f1SCORE: 0.9042 - val_loss: 0.4830 - val_accuracy: 0.8322 - val_precision: 0.8385 - val_recall: 0.8284 - val_auc: 0.9639 - val_f1SCORE: 0.8326\n",
      "Epoch 4/10000\n",
      "2052/2052 [==============================] - 145s 71ms/step - loss: 0.2226 - accuracy: 0.9241 - precision: 0.9263 - recall: 0.9221 - auc: 0.9895 - f1SCORE: 0.9241 - val_loss: 0.3286 - val_accuracy: 0.8783 - val_precision: 0.8816 - val_recall: 0.8739 - val_auc: 0.9804 - val_f1SCORE: 0.8774\n",
      "Epoch 5/10000\n",
      "2052/2052 [==============================] - 141s 69ms/step - loss: 0.1936 - accuracy: 0.9328 - precision: 0.9351 - recall: 0.9308 - auc: 0.9916 - f1SCORE: 0.9324 - val_loss: 0.3407 - val_accuracy: 0.8887 - val_precision: 0.8899 - val_recall: 0.8865 - val_auc: 0.9794 - val_f1SCORE: 0.8882\n",
      "Epoch 6/10000\n",
      "2052/2052 [==============================] - 141s 69ms/step - loss: 0.1335 - accuracy: 0.9517 - precision: 0.9529 - recall: 0.9506 - auc: 0.9957 - f1SCORE: 0.9517 - val_loss: 0.3694 - val_accuracy: 0.8750 - val_precision: 0.8764 - val_recall: 0.8745 - val_auc: 0.9765 - val_f1SCORE: 0.8754\n",
      "Epoch 7/10000\n",
      "2052/2052 [==============================] - 140s 68ms/step - loss: 0.1265 - accuracy: 0.9548 - precision: 0.9563 - recall: 0.9539 - auc: 0.9957 - f1SCORE: 0.9546 - val_loss: 0.2440 - val_accuracy: 0.9150 - val_precision: 0.9169 - val_recall: 0.9128 - val_auc: 0.9877 - val_f1SCORE: 0.9146\n",
      "Epoch 8/10000\n",
      "2052/2052 [==============================] - 142s 69ms/step - loss: 0.0933 - accuracy: 0.9651 - precision: 0.9657 - recall: 0.9640 - auc: 0.9978 - f1SCORE: 0.9648 - val_loss: 0.2868 - val_accuracy: 0.9073 - val_precision: 0.9098 - val_recall: 0.9068 - val_auc: 0.9830 - val_f1SCORE: 0.9080\n",
      "Epoch 9/10000\n",
      "2052/2052 [==============================] - 141s 69ms/step - loss: 0.0888 - accuracy: 0.9681 - precision: 0.9686 - recall: 0.9674 - auc: 0.9978 - f1SCORE: 0.9680 - val_loss: 0.2669 - val_accuracy: 0.9172 - val_precision: 0.9175 - val_recall: 0.9145 - val_auc: 0.9852 - val_f1SCORE: 0.9159\n",
      "Epoch 10/10000\n",
      "2052/2052 [==============================] - 142s 69ms/step - loss: 0.0745 - accuracy: 0.9731 - precision: 0.9736 - recall: 0.9728 - auc: 0.9984 - f1SCORE: 0.9732 - val_loss: 0.4305 - val_accuracy: 0.8366 - val_precision: 0.8385 - val_recall: 0.8366 - val_auc: 0.9703 - val_f1SCORE: 0.8375\n",
      "Epoch 11/10000\n",
      "2052/2052 [==============================] - 141s 69ms/step - loss: 0.0653 - accuracy: 0.9775 - precision: 0.9779 - recall: 0.9774 - auc: 0.9985 - f1SCORE: 0.9772 - val_loss: 0.2557 - val_accuracy: 0.9243 - val_precision: 0.9253 - val_recall: 0.9238 - val_auc: 0.9860 - val_f1SCORE: 0.9245\n",
      "Epoch 12/10000\n",
      "2052/2052 [==============================] - 142s 69ms/step - loss: 0.0526 - accuracy: 0.9808 - precision: 0.9809 - recall: 0.9806 - auc: 0.9992 - f1SCORE: 0.9807 - val_loss: 0.4371 - val_accuracy: 0.8964 - val_precision: 0.8972 - val_recall: 0.8947 - val_auc: 0.9735 - val_f1SCORE: 0.8958\n"
     ]
    }
   ],
   "source": [
    "initial_epochs = 10000\n",
    "history = model1.fit(train_generator, epochs=initial_epochs, \n",
    "                     validation_data = validation_generator, callbacks=[early_stopping])"
   ]
  },
  {
   "cell_type": "code",
   "execution_count": 29,
   "id": "f176db4d",
   "metadata": {
    "execution": {
     "iopub.execute_input": "2022-09-21T11:56:17.569872Z",
     "iopub.status.busy": "2022-09-21T11:56:17.568352Z",
     "iopub.status.idle": "2022-09-21T11:56:18.973540Z",
     "shell.execute_reply": "2022-09-21T11:56:18.972547Z"
    },
    "papermill": {
     "duration": 3.097068,
     "end_time": "2022-09-21T11:56:18.976686",
     "exception": false,
     "start_time": "2022-09-21T11:56:15.879618",
     "status": "completed"
    },
    "tags": []
   },
   "outputs": [
    {
     "data": {
      "image/png": "[encoded data removed]",
      "text/plain": [
       "<Figure size 1440x1152 with 6 Axes>"
      ]
     },
     "metadata": {},
     "output_type": "display_data"
    }
   ],
   "source": [
    "import seaborn as sns\n",
    "def data(history):\n",
    "  return pd.DataFrame(data=list(zip(history.history[\"accuracy\"], history.history[\"val_accuracy\"], history.history[\"loss\"], history.history[\"val_loss\"], history.history[\"recall\"], history.history[\"val_recall\"], history.history[\"precision\"], history.history[\"val_precision\"], history.history[\"auc\"], history.history[\"val_auc\"],history.history[\"f1SCORE\"],history.history[\"val_f1SCORE\"] )) , columns=[\"Accuracy\", \"Validation Accuracy\", \"Loss\", \"Validation Loss\", \"Recall\", \"Validation Recall\", \"Precision\", \"Validation Precision\", \"AUC\", \"Validation AUC\", \"f1SCORE\", \"Validation f1SCORE\"])\n",
    "def history_visualization(history):\n",
    "  df = data(history)\n",
    "  sns.set_style('darkgrid')\n",
    "  nrow = 3\n",
    "  ncol = 2\n",
    "  df_columns = df.columns\n",
    "  df_list = [df[col] for col in df]\n",
    "  titles=[\"Accuracy Visualization\", \"Loss Visualization\", \"Recall Visualization\", \"Precision Visualization\", \"AUC Visualization\", \"F1 Score Visualization\"]\n",
    "  fig, axes = plt.subplots(nrow, ncol, figsize=(20, 16))\n",
    "  count = 0\n",
    "  i = 0\n",
    "  for r in range(nrow):\n",
    "    for c in range(ncol):\n",
    "        df_list[count].plot(ax=axes[r,c], x=\"Number of Epochs\", legend=\"brief\", label=df_columns[count], marker=\"o\").set_title(titles[i])\n",
    "        df_list[count+1].plot(ax=axes[r, c], x=\"Number of Epochs\", legend=\"brief\" ,label=df_columns[count+1], marker=\"o\").set_title(titles[i])\n",
    "        i+=1\n",
    "        count+=2\n",
    "history_visualization(history)"
   ]
  },
  {
   "cell_type": "code",
   "execution_count": 30,
   "id": "c0ed2371",
   "metadata": {
    "execution": {
     "iopub.execute_input": "2022-09-21T11:56:22.375199Z",
     "iopub.status.busy": "2022-09-21T11:56:22.374061Z",
     "iopub.status.idle": "2022-09-21T11:56:30.794700Z",
     "shell.execute_reply": "2022-09-21T11:56:30.793579Z"
    },
    "papermill": {
     "duration": 10.143896,
     "end_time": "2022-09-21T11:56:30.796976",
     "exception": false,
     "start_time": "2022-09-21T11:56:20.653080",
     "status": "completed"
    },
    "tags": []
   },
   "outputs": [
    {
     "name": "stdout",
     "output_type": "stream",
     "text": [
      "252/252 [==============================] - 8s 33ms/step - loss: 0.1786 - accuracy: 0.9360 - precision: 0.9378 - recall: 0.9350 - auc: 0.9923 - f1SCORE: 0.9362\n"
     ]
    },
    {
     "data": {
      "text/plain": [
       "[0.178630992770195,\n",
       " 0.9359801411628723,\n",
       " 0.93777996301651,\n",
       " 0.9349876046180725,\n",
       " 0.9922937750816345,\n",
       " 0.9362103939056396]"
      ]
     },
     "execution_count": 30,
     "metadata": {},
     "output_type": "execute_result"
    }
   ],
   "source": [
    "model1.evaluate(test_generator)\n",
    "# loss and accuracy"
   ]
  },
  {
   "cell_type": "code",
   "execution_count": 31,
   "id": "ae4d6c3b",
   "metadata": {
    "execution": {
     "iopub.execute_input": "2022-09-21T11:56:34.073923Z",
     "iopub.status.busy": "2022-09-21T11:56:34.073478Z",
     "iopub.status.idle": "2022-09-21T11:56:41.809569Z",
     "shell.execute_reply": "2022-09-21T11:56:41.807114Z"
    },
    "papermill": {
     "duration": 9.388837,
     "end_time": "2022-09-21T11:56:41.812598",
     "exception": false,
     "start_time": "2022-09-21T11:56:32.423761",
     "status": "completed"
    },
    "tags": []
   },
   "outputs": [
    {
     "name": "stdout",
     "output_type": "stream",
     "text": [
      "                 precision    recall  f1-score   support\n",
      "\n",
      "          Covid       0.99      0.95      0.97       361\n",
      "   Lung opacity       0.91      0.93      0.92       602\n",
      "         Normal       0.94      0.93      0.93       917\n",
      "Viral Pneumonia       0.93      0.96      0.95       135\n",
      "\n",
      "       accuracy                           0.94      2015\n",
      "      macro avg       0.94      0.94      0.94      2015\n",
      "   weighted avg       0.94      0.94      0.94      2015\n",
      "\n"
     ]
    }
   ],
   "source": [
    "from sklearn.metrics import confusion_matrix, classification_report\n",
    "import seaborn as sns\n",
    "val_predict = model1.predict(test_generator)\n",
    "predict_class = np.argmax(val_predict, axis=1)\n",
    "predict_class = predict_class.tolist()\n",
    "labels = ['Covid','Lung opacity' ,'Normal', 'Viral Pneumonia']\n",
    "report = classification_report(test_generator.classes, predict_class, target_names=labels)\n",
    "print(report)"
   ]
  },
  {
   "cell_type": "code",
   "execution_count": 32,
   "id": "406cfdd4",
   "metadata": {
    "execution": {
     "iopub.execute_input": "2022-09-21T11:56:45.807605Z",
     "iopub.status.busy": "2022-09-21T11:56:45.806425Z",
     "iopub.status.idle": "2022-09-21T11:56:45.816027Z",
     "shell.execute_reply": "2022-09-21T11:56:45.814961Z"
    },
    "papermill": {
     "duration": 1.850906,
     "end_time": "2022-09-21T11:56:45.818594",
     "exception": false,
     "start_time": "2022-09-21T11:56:43.967688",
     "status": "completed"
    },
    "tags": []
   },
   "outputs": [],
   "source": [
    "cm = confusion_matrix(test_generator.classes, predict_class)\n",
    "cm_df = pd.DataFrame(cm,\n",
    "                     index = ['COVID','LUNG OPACITY' ,'NORMAL','VIRAL PNEUMONIA'], \n",
    "                     columns = ['COVID','LUNG OPACITY' ,'NORMAL','VIRAL PNEUMONIA'])"
   ]
  },
  {
   "cell_type": "code",
   "execution_count": 33,
   "id": "6d000ef6",
   "metadata": {
    "execution": {
     "iopub.execute_input": "2022-09-21T11:56:49.500351Z",
     "iopub.status.busy": "2022-09-21T11:56:49.499543Z",
     "iopub.status.idle": "2022-09-21T11:56:49.862641Z",
     "shell.execute_reply": "2022-09-21T11:56:49.861474Z"
    },
    "papermill": {
     "duration": 2.330494,
     "end_time": "2022-09-21T11:56:49.865177",
     "exception": false,
     "start_time": "2022-09-21T11:56:47.534683",
     "status": "completed"
    },
    "tags": []
   },
   "outputs": [
    {
     "data": {
      "image/png": "[encoded data removed]",
      "text/plain": [
       "<Figure size 720x576 with 2 Axes>"
      ]
     },
     "metadata": {},
     "output_type": "display_data"
    }
   ],
   "source": [
    "plt.figure(figsize=(10,8))\n",
    "sns.heatmap(cm_df, annot=True, fmt='d')\n",
    "plt.title(\"Confusion Matrixx\")\n",
    "plt.xlabel(\"Predicted\")\n",
    "plt.ylabel(\"Actual\")\n",
    "plt.show()"
   ]
  },
  {
   "cell_type": "code",
   "execution_count": 34,
   "id": "7e1e1565",
   "metadata": {
    "execution": {
     "iopub.execute_input": "2022-09-21T11:56:53.177509Z",
     "iopub.status.busy": "2022-09-21T11:56:53.177082Z",
     "iopub.status.idle": "2022-09-21T11:56:53.558837Z",
     "shell.execute_reply": "2022-09-21T11:56:53.557676Z"
    },
    "papermill": {
     "duration": 2.038758,
     "end_time": "2022-09-21T11:56:53.562169",
     "exception": false,
     "start_time": "2022-09-21T11:56:51.523411",
     "status": "completed"
    },
    "tags": []
   },
   "outputs": [
    {
     "name": "stderr",
     "output_type": "stream",
     "text": [
      "/opt/conda/lib/python3.7/site-packages/keras/utils/generic_utils.py:497: CustomMaskWarning: Custom mask layers require a config and must override get_config. When loading, the custom mask layer must be passed to the custom_objects argument.\n",
      "  category=CustomMaskWarning)\n"
     ]
    }
   ],
   "source": [
    "keras.models.save_model(model1,\"./base_dir/mobilenetfold6.h5\")"
   ]
  }
 ],
 "metadata": {
  "kernelspec": {
   "display_name": "Python 3",
   "language": "python",
   "name": "python3"
  },
  "language_info": {
   "codemirror_mode": {
    "name": "ipython",
    "version": 3
   },
   "file_extension": ".py",
   "mimetype": "text/x-python",
   "name": "python",
   "nbconvert_exporter": "python",
   "pygments_lexer": "ipython3",
   "version": "3.7.12"
  },
  "papermill": {
   "default_parameters": {},
   "duration": 2029.302581,
   "end_time": "2022-09-21T11:56:58.680749",
   "environment_variables": {},
   "exception": null,
   "input_path": "__notebook__.ipynb",
   "output_path": "__notebook__.ipynb",
   "parameters": {},
   "start_time": "2022-09-21T11:23:09.378168",
   "version": "2.3.4"
  }
 },
 "nbformat": 4,
 "nbformat_minor": 5
}
