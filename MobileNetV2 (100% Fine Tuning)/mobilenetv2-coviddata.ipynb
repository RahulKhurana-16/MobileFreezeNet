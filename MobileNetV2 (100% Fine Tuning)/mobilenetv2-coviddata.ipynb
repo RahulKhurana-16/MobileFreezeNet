{
 "cells": [
  {
   "cell_type": "code",
   "execution_count": 1,
   "id": "e82c8e40",
   "metadata": {
    "_cell_guid": "b1076dfc-b9ad-4769-8c92-a6c4dae69d19",
    "_uuid": "8f2839f25d086af736a60e9eeb907d3b93b6e0e5",
    "execution": {
     "iopub.execute_input": "2022-09-02T18:11:52.513229Z",
     "iopub.status.busy": "2022-09-02T18:11:52.512671Z",
     "iopub.status.idle": "2022-09-02T18:12:05.993163Z",
     "shell.execute_reply": "2022-09-02T18:12:05.991997Z"
    },
    "papermill": {
     "duration": 13.492447,
     "end_time": "2022-09-02T18:12:05.996127",
     "exception": false,
     "start_time": "2022-09-02T18:11:52.503680",
     "status": "completed"
    },
    "tags": []
   },
   "outputs": [
    {
     "name": "stdout",
     "output_type": "stream",
     "text": [
      "Collecting openpyxl\r\n",
      "  Downloading openpyxl-3.0.10-py2.py3-none-any.whl (242 kB)\r\n",
      "\u001b[2K     \u001b[90m━━━━━━━━━━━━━━━━━━━━━━━━━━━━━━━━━━━━━\u001b[0m \u001b[32m242.1/242.1 kB\u001b[0m \u001b[31m519.8 kB/s\u001b[0m eta \u001b[36m0:00:00\u001b[0m\r\n",
      "\u001b[?25hCollecting et-xmlfile\r\n",
      "  Downloading et_xmlfile-1.1.0-py3-none-any.whl (4.7 kB)\r\n",
      "Installing collected packages: et-xmlfile, openpyxl\r\n",
      "Successfully installed et-xmlfile-1.1.0 openpyxl-3.0.10\r\n",
      "\u001b[33mWARNING: Running pip as the 'root' user can result in broken permissions and conflicting behaviour with the system package manager. It is recommended to use a virtual environment instead: https://pip.pypa.io/warnings/venv\u001b[0m\u001b[33m\r\n",
      "\u001b[0m"
     ]
    }
   ],
   "source": [
    "!pip install openpyxl"
   ]
  },
  {
   "cell_type": "code",
   "execution_count": 2,
   "id": "f9eaa9ba",
   "metadata": {
    "execution": {
     "iopub.execute_input": "2022-09-02T18:12:06.014709Z",
     "iopub.status.busy": "2022-09-02T18:12:06.014372Z",
     "iopub.status.idle": "2022-09-02T18:12:12.429423Z",
     "shell.execute_reply": "2022-09-02T18:12:12.428436Z"
    },
    "papermill": {
     "duration": 6.4267,
     "end_time": "2022-09-02T18:12:12.431797",
     "exception": false,
     "start_time": "2022-09-02T18:12:06.005097",
     "status": "completed"
    },
    "tags": []
   },
   "outputs": [],
   "source": [
    "import numpy as np # linear algebra\n",
    "import pandas as pd \n",
    "import os\n",
    "import cv2\n",
    "import seaborn as sns\n",
    "\n",
    "# libraries for files preparation\n",
    "from sklearn.utils import shuffle\n",
    "from sklearn.model_selection import train_test_split\n",
    "import shutil\n",
    "from sklearn.metrics import matthews_corrcoef\n",
    "\n",
    "# libraries for CNN models and plotting\n",
    "import tensorflow as tf\n",
    "import tensorflow.keras.layers as tfl\n",
    "import tensorflow.keras as keras\n",
    "\n",
    "from tensorflow.keras.preprocessing.image import ImageDataGenerator\n",
    "from tensorflow.keras.layers import Conv2D, MaxPooling2D, Dense, Flatten, Dropout\n",
    "from tensorflow.keras import Sequential\n",
    "from tensorflow.keras.callbacks import EarlyStopping\n",
    "\n",
    "import matplotlib.pyplot as plt\n",
    "%matplotlib inline"
   ]
  },
  {
   "cell_type": "code",
   "execution_count": 3,
   "id": "fc24b6a4",
   "metadata": {
    "execution": {
     "iopub.execute_input": "2022-09-02T18:12:12.447865Z",
     "iopub.status.busy": "2022-09-02T18:12:12.447310Z",
     "iopub.status.idle": "2022-09-02T18:12:12.551528Z",
     "shell.execute_reply": "2022-09-02T18:12:12.550617Z"
    },
    "papermill": {
     "duration": 0.115083,
     "end_time": "2022-09-02T18:12:12.554170",
     "exception": false,
     "start_time": "2022-09-02T18:12:12.439087",
     "status": "completed"
    },
    "tags": []
   },
   "outputs": [],
   "source": [
    "path = '../input/mobilenetv2-kfolds/MobileNetFOLDS/'\n",
    "fold1 = pd.read_csv(path+'Fold1.csv')\n",
    "fold2 = pd.read_csv(path+'Fold2.csv')\n",
    "fold3 = pd.read_csv(path+'Fold3.csv')\n",
    "fold4 = pd.read_csv(path+'Fold4.csv')\n",
    "fold5 = pd.read_csv(path+'Fold5.csv')\n",
    "fold6 = pd.read_csv(path+'Fold6.csv')\n",
    "fold7 = pd.read_csv(path+'Fold7.csv')\n",
    "fold8 = pd.read_csv(path+'Fold8.csv')\n",
    "fold9 = pd.read_csv(path+'Fold9.csv')\n",
    "fold10 = pd.read_csv(path+'Fold10.csv')"
   ]
  },
  {
   "cell_type": "code",
   "execution_count": 4,
   "id": "d810445c",
   "metadata": {
    "execution": {
     "iopub.execute_input": "2022-09-02T18:12:12.569951Z",
     "iopub.status.busy": "2022-09-02T18:12:12.569584Z",
     "iopub.status.idle": "2022-09-02T18:12:12.589407Z",
     "shell.execute_reply": "2022-09-02T18:12:12.588470Z"
    },
    "papermill": {
     "duration": 0.030086,
     "end_time": "2022-09-02T18:12:12.591472",
     "exception": false,
     "start_time": "2022-09-02T18:12:12.561386",
     "status": "completed"
    },
    "tags": []
   },
   "outputs": [
    {
     "data": {
      "text/plain": [
       "1    9275\n",
       "3    6012\n",
       "0    3616\n",
       "2    1345\n",
       "Name: label, dtype: int64"
      ]
     },
     "execution_count": 4,
     "metadata": {},
     "output_type": "execute_result"
    }
   ],
   "source": [
    "data = pd.concat([fold1,fold2,fold3,fold4,fold5,fold6,fold7,fold8,fold9,fold10], axis=0).reset_index(drop=True)\n",
    "data['label'].value_counts()"
   ]
  },
  {
   "cell_type": "code",
   "execution_count": 5,
   "id": "3ed8b206",
   "metadata": {
    "execution": {
     "iopub.execute_input": "2022-09-02T18:12:12.608019Z",
     "iopub.status.busy": "2022-09-02T18:12:12.606401Z",
     "iopub.status.idle": "2022-09-02T18:12:12.616027Z",
     "shell.execute_reply": "2022-09-02T18:12:12.615172Z"
    },
    "papermill": {
     "duration": 0.019902,
     "end_time": "2022-09-02T18:12:12.618432",
     "exception": false,
     "start_time": "2022-09-02T18:12:12.598530",
     "status": "completed"
    },
    "tags": []
   },
   "outputs": [],
   "source": [
    "data = shuffle(data)"
   ]
  },
  {
   "cell_type": "code",
   "execution_count": 6,
   "id": "b79155be",
   "metadata": {
    "execution": {
     "iopub.execute_input": "2022-09-02T18:12:12.633786Z",
     "iopub.status.busy": "2022-09-02T18:12:12.633132Z",
     "iopub.status.idle": "2022-09-02T18:12:12.666918Z",
     "shell.execute_reply": "2022-09-02T18:12:12.665869Z"
    },
    "papermill": {
     "duration": 0.044148,
     "end_time": "2022-09-02T18:12:12.669596",
     "exception": false,
     "start_time": "2022-09-02T18:12:12.625448",
     "status": "completed"
    },
    "tags": []
   },
   "outputs": [
    {
     "name": "stdout",
     "output_type": "stream",
     "text": [
      "(18234, 2)\n",
      "(2014, 2)\n"
     ]
    }
   ],
   "source": [
    "df_test = fold10.copy()\n",
    "train = pd.concat([fold1,fold2,fold3,fold4,fold5,fold6,fold7,fold8,fold9], axis=0).reset_index(drop=True)\n",
    "train = shuffle(train)\n",
    "\n",
    "df_test.to_csv(\"testexp1.csv\",index=False)\n",
    "train.to_csv(\"trainexp1.csv\",index=False)\n",
    "\n",
    "print(train.shape)\n",
    "print(df_test.shape)"
   ]
  },
  {
   "cell_type": "code",
   "execution_count": 7,
   "id": "bc203b00",
   "metadata": {
    "execution": {
     "iopub.execute_input": "2022-09-02T18:12:12.685113Z",
     "iopub.status.busy": "2022-09-02T18:12:12.684830Z",
     "iopub.status.idle": "2022-09-02T18:12:12.700865Z",
     "shell.execute_reply": "2022-09-02T18:12:12.699722Z"
    },
    "papermill": {
     "duration": 0.026123,
     "end_time": "2022-09-02T18:12:12.703343",
     "exception": false,
     "start_time": "2022-09-02T18:12:12.677220",
     "status": "completed"
    },
    "tags": []
   },
   "outputs": [
    {
     "name": "stdout",
     "output_type": "stream",
     "text": [
      "(16410, 2)\n",
      "(1824, 2)\n"
     ]
    }
   ],
   "source": [
    "df_train, df_val = train_test_split(train, test_size=0.10, random_state=42, stratify=train['label'])\n",
    "print(df_train.shape)\n",
    "print(df_val.shape)"
   ]
  },
  {
   "cell_type": "code",
   "execution_count": 8,
   "id": "7f9361b1",
   "metadata": {
    "execution": {
     "iopub.execute_input": "2022-09-02T18:12:12.720808Z",
     "iopub.status.busy": "2022-09-02T18:12:12.720485Z",
     "iopub.status.idle": "2022-09-02T18:12:12.728515Z",
     "shell.execute_reply": "2022-09-02T18:12:12.727384Z"
    },
    "papermill": {
     "duration": 0.020131,
     "end_time": "2022-09-02T18:12:12.731828",
     "exception": false,
     "start_time": "2022-09-02T18:12:12.711697",
     "status": "completed"
    },
    "tags": []
   },
   "outputs": [
    {
     "data": {
      "text/plain": [
       "1    7522\n",
       "3    4870\n",
       "0    2928\n",
       "2    1090\n",
       "Name: label, dtype: int64"
      ]
     },
     "execution_count": 8,
     "metadata": {},
     "output_type": "execute_result"
    }
   ],
   "source": [
    "df_train['label'].value_counts()"
   ]
  },
  {
   "cell_type": "code",
   "execution_count": 9,
   "id": "456d42b5",
   "metadata": {
    "execution": {
     "iopub.execute_input": "2022-09-02T18:12:12.747378Z",
     "iopub.status.busy": "2022-09-02T18:12:12.747064Z",
     "iopub.status.idle": "2022-09-02T18:12:12.758393Z",
     "shell.execute_reply": "2022-09-02T18:12:12.757526Z"
    },
    "papermill": {
     "duration": 0.021301,
     "end_time": "2022-09-02T18:12:12.760351",
     "exception": false,
     "start_time": "2022-09-02T18:12:12.739050",
     "status": "completed"
    },
    "tags": []
   },
   "outputs": [],
   "source": [
    "import os\n",
    "# Create a new directory\n",
    "base_dir = 'base_dir'\n",
    "os.mkdir(base_dir)\n",
    "\n",
    "train_dir = os.path.join(base_dir, 'train_dir')\n",
    "os.mkdir(train_dir)\n",
    "\n",
    "val_dir = os.path.join(base_dir, 'val_dir')\n",
    "os.mkdir(val_dir)\n",
    "\n",
    "test_dir = os.path.join(base_dir, 'test_dir')\n",
    "os.mkdir(test_dir)\n",
    "\n",
    "# create new folders inside train_dir\n",
    "train_covid = os.path.join(train_dir, 'covid')\n",
    "os.mkdir(train_covid)\n",
    "train_normal = os.path.join(train_dir, 'normal')\n",
    "os.mkdir(train_normal)\n",
    "train_viral_pneumonia = os.path.join(train_dir, 'viral pneumonia')\n",
    "os.mkdir(train_viral_pneumonia)\n",
    "train_lung_opacity = os.path.join(train_dir, 'lung opacity')\n",
    "os.mkdir(train_lung_opacity)\n",
    "\n",
    "# create new folders inside val_dir\n",
    "val_covid = os.path.join(val_dir, 'covid')\n",
    "os.mkdir(val_covid)\n",
    "val_normal = os.path.join(val_dir, 'normal')\n",
    "os.mkdir(val_normal)\n",
    "val_viral_pneumonia = os.path.join(val_dir, 'viral pneumonia')\n",
    "os.mkdir(val_viral_pneumonia)\n",
    "val_lung_opacity = os.path.join(val_dir, 'lung opacity')\n",
    "os.mkdir(val_lung_opacity)\n",
    "\n",
    "\n",
    "# create new folders inside test_dir\n",
    "test_covid = os.path.join(test_dir, 'covid')\n",
    "os.mkdir(test_covid)\n",
    "test_normal = os.path.join(test_dir, 'normal')\n",
    "os.mkdir(test_normal)\n",
    "test_viral_pneumonia = os.path.join(test_dir, 'viral pneumonia')\n",
    "os.mkdir(test_viral_pneumonia)\n",
    "test_lung_opacity = os.path.join(test_dir, 'lung opacity')\n",
    "os.mkdir(test_lung_opacity)"
   ]
  },
  {
   "cell_type": "code",
   "execution_count": 10,
   "id": "b1d8965e",
   "metadata": {
    "execution": {
     "iopub.execute_input": "2022-09-02T18:12:12.776771Z",
     "iopub.status.busy": "2022-09-02T18:12:12.775155Z",
     "iopub.status.idle": "2022-09-02T18:12:12.784269Z",
     "shell.execute_reply": "2022-09-02T18:12:12.783404Z"
    },
    "papermill": {
     "duration": 0.018834,
     "end_time": "2022-09-02T18:12:12.786155",
     "exception": false,
     "start_time": "2022-09-02T18:12:12.767321",
     "status": "completed"
    },
    "tags": []
   },
   "outputs": [],
   "source": [
    "train_list = list(df_train['FILE NAME'])\n",
    "val_list = list(df_val['FILE NAME'])\n",
    "test_list = list(df_test['FILE NAME'])"
   ]
  },
  {
   "cell_type": "code",
   "execution_count": 11,
   "id": "1ac9c684",
   "metadata": {
    "execution": {
     "iopub.execute_input": "2022-09-02T18:12:12.801432Z",
     "iopub.status.busy": "2022-09-02T18:12:12.801129Z",
     "iopub.status.idle": "2022-09-02T18:15:43.350227Z",
     "shell.execute_reply": "2022-09-02T18:15:43.348996Z"
    },
    "papermill": {
     "duration": 210.560109,
     "end_time": "2022-09-02T18:15:43.353142",
     "exception": false,
     "start_time": "2022-09-02T18:12:12.793033",
     "status": "completed"
    },
    "tags": []
   },
   "outputs": [],
   "source": [
    "for image in train_list:\n",
    "    \n",
    "    # add .png extension \n",
    "    filename = image + '.png'\n",
    "    # get the label for a certain image\n",
    "    target = int(data.loc[data['FILE NAME'] == image, ['label']].values)\n",
    "    \n",
    "    # match the target with the folder's name and source path of the image\n",
    "    if target == 0:\n",
    "        label = 'covid'\n",
    "        src = os.path.join('../input/covid19-radiography-database/COVID-19_Radiography_Dataset/COVID/images', filename)\n",
    "        \n",
    "    if target == 1:\n",
    "        label = 'normal'\n",
    "        # As 'FILE NAME's in .xlsx file begins with 'NORMAL' but real file names begin with 'Normal'\n",
    "        filename = filename.capitalize()\n",
    "        src = os.path.join('../input/covid19-radiography-database/COVID-19_Radiography_Dataset/Normal/images', filename)\n",
    "        \n",
    "    if target == 2:\n",
    "        label = 'viral pneumonia'\n",
    "        src = os.path.join('../input/covid19-radiography-database/COVID-19_Radiography_Dataset/Viral Pneumonia/images', filename)\n",
    "    \n",
    "    if target == 3:\n",
    "        label = 'lung opacity'\n",
    "        src = os.path.join('../input/covid19-radiography-database/COVID-19_Radiography_Dataset/Lung_Opacity/images', filename)\n",
    "  \n",
    "    # destination path to image\n",
    "    dst = os.path.join(train_dir, label, filename)\n",
    "    \n",
    "    # copy the image from the source to the destination\n",
    "    shutil.copyfile(src, dst)\n",
    "\n",
    "# Copy images to val_dir folder\n",
    "for image in val_list:\n",
    "    \n",
    "    # add .png extension \n",
    "    filename = image + '.png'\n",
    "    # get the label for a certain image\n",
    "    target = int(data.loc[data['FILE NAME'] == image, ['label']].values)\n",
    "    \n",
    "    # match the target with the folder's name and source path of the image\n",
    "    if target == 0:\n",
    "        label = 'covid'\n",
    "        src = os.path.join('../input/covid19-radiography-database/COVID-19_Radiography_Dataset/COVID/images', filename)\n",
    "        \n",
    "    if target == 1:\n",
    "        label = 'normal'\n",
    "        filename = filename.capitalize()\n",
    "        src = os.path.join('../input/covid19-radiography-database/COVID-19_Radiography_Dataset/Normal/images', filename)\n",
    "        \n",
    "    if target == 2:\n",
    "        label = 'viral pneumonia'\n",
    "        src = os.path.join('../input/covid19-radiography-database/COVID-19_Radiography_Dataset/Viral Pneumonia/images', filename)\n",
    "    \n",
    "    if target == 3:\n",
    "        label = 'lung opacity'\n",
    "        src = os.path.join('../input/covid19-radiography-database/COVID-19_Radiography_Dataset/Lung_Opacity/images', filename)\n",
    "\n",
    "  \n",
    "    # destination path to image\n",
    "    dst = os.path.join(val_dir, label, filename)\n",
    "    \n",
    "    # copy the image from the source to the destination\n",
    "    shutil.copyfile(src, dst)\n",
    "    \n",
    "    \n",
    "\n",
    "    \n",
    "# Copy images to test_dir folder\n",
    "for image in test_list:\n",
    "    \n",
    "    # add .png extension \n",
    "    filename = image + '.png'\n",
    "    # get the label for a certain image\n",
    "    target = int(data.loc[data['FILE NAME'] == image, ['label']].values)\n",
    "    \n",
    "    # match the target with the folder's name and source path of the image\n",
    "    if target == 0:\n",
    "        label = 'covid'\n",
    "        src = os.path.join('../input/covid19-radiography-database/COVID-19_Radiography_Dataset/COVID/images', filename)\n",
    "        \n",
    "    if target == 1:\n",
    "        label = 'normal'\n",
    "        filename = filename.capitalize()\n",
    "        src = os.path.join('../input/covid19-radiography-database/COVID-19_Radiography_Dataset/Normal/images', filename)\n",
    "        \n",
    "    if target == 2:\n",
    "        label = 'viral pneumonia'\n",
    "        src = os.path.join('../input/covid19-radiography-database/COVID-19_Radiography_Dataset/Viral Pneumonia/images', filename)\n",
    "    \n",
    "    if target == 3:\n",
    "        label = 'lung opacity'\n",
    "        src = os.path.join('../input/covid19-radiography-database/COVID-19_Radiography_Dataset/Lung_Opacity/images', filename)\n",
    "\n",
    "  \n",
    "    # destination path to image\n",
    "    dst = os.path.join(test_dir, label, filename)\n",
    "    \n",
    "    # copy the image from the source to the destination\n",
    "    shutil.copyfile(src, dst)"
   ]
  },
  {
   "cell_type": "code",
   "execution_count": 12,
   "id": "2e13c570",
   "metadata": {
    "execution": {
     "iopub.execute_input": "2022-09-02T18:15:43.370698Z",
     "iopub.status.busy": "2022-09-02T18:15:43.369774Z",
     "iopub.status.idle": "2022-09-02T18:15:43.384251Z",
     "shell.execute_reply": "2022-09-02T18:15:43.383209Z"
    },
    "papermill": {
     "duration": 0.025255,
     "end_time": "2022-09-02T18:15:43.386566",
     "exception": false,
     "start_time": "2022-09-02T18:15:43.361311",
     "status": "completed"
    },
    "tags": []
   },
   "outputs": [
    {
     "name": "stdout",
     "output_type": "stream",
     "text": [
      "2928\n",
      "7522\n",
      "1090\n",
      "4870\n"
     ]
    }
   ],
   "source": [
    "print(len(os.listdir('base_dir/train_dir/covid')))\n",
    "print(len(os.listdir('base_dir/train_dir/normal')))\n",
    "print(len(os.listdir('base_dir/train_dir/viral pneumonia')))\n",
    "print(len(os.listdir('base_dir/train_dir/lung opacity')))"
   ]
  },
  {
   "cell_type": "code",
   "execution_count": 13,
   "id": "11f2d2d6",
   "metadata": {
    "execution": {
     "iopub.execute_input": "2022-09-02T18:15:43.402539Z",
     "iopub.status.busy": "2022-09-02T18:15:43.402196Z",
     "iopub.status.idle": "2022-09-02T18:15:43.410951Z",
     "shell.execute_reply": "2022-09-02T18:15:43.409845Z"
    },
    "papermill": {
     "duration": 0.019716,
     "end_time": "2022-09-02T18:15:43.413541",
     "exception": false,
     "start_time": "2022-09-02T18:15:43.393825",
     "status": "completed"
    },
    "tags": []
   },
   "outputs": [
    {
     "name": "stdout",
     "output_type": "stream",
     "text": [
      "1824\n"
     ]
    }
   ],
   "source": [
    "print(len(os.listdir('base_dir/val_dir/covid')) + len(os.listdir('base_dir/val_dir/normal')) + len(os.listdir('base_dir/val_dir/viral pneumonia')) + len(os.listdir('base_dir/val_dir/lung opacity')))"
   ]
  },
  {
   "cell_type": "code",
   "execution_count": 14,
   "id": "51cc0280",
   "metadata": {
    "execution": {
     "iopub.execute_input": "2022-09-02T18:15:43.429561Z",
     "iopub.status.busy": "2022-09-02T18:15:43.429259Z",
     "iopub.status.idle": "2022-09-02T18:15:43.436557Z",
     "shell.execute_reply": "2022-09-02T18:15:43.435169Z"
    },
    "papermill": {
     "duration": 0.017621,
     "end_time": "2022-09-02T18:15:43.438683",
     "exception": false,
     "start_time": "2022-09-02T18:15:43.421062",
     "status": "completed"
    },
    "tags": []
   },
   "outputs": [
    {
     "name": "stdout",
     "output_type": "stream",
     "text": [
      "2014\n"
     ]
    }
   ],
   "source": [
    "print(len(os.listdir('base_dir/test_dir/covid')) + len(os.listdir('base_dir/test_dir/normal')) + len(os.listdir('base_dir/test_dir/viral pneumonia')) + len(os.listdir('base_dir/test_dir/lung opacity')))"
   ]
  },
  {
   "cell_type": "code",
   "execution_count": 15,
   "id": "2bf89245",
   "metadata": {
    "execution": {
     "iopub.execute_input": "2022-09-02T18:15:43.454142Z",
     "iopub.status.busy": "2022-09-02T18:15:43.453874Z",
     "iopub.status.idle": "2022-09-02T18:15:43.459430Z",
     "shell.execute_reply": "2022-09-02T18:15:43.458594Z"
    },
    "papermill": {
     "duration": 0.015654,
     "end_time": "2022-09-02T18:15:43.461438",
     "exception": false,
     "start_time": "2022-09-02T18:15:43.445784",
     "status": "completed"
    },
    "tags": []
   },
   "outputs": [],
   "source": [
    "IMG_SIZE = (224 , 224)\n",
    "train_directory = \"base_dir/train_dir\"\n",
    "val_directory = \"base_dir/val_dir\"\n",
    "test_directory = \"base_dir/test_dir\""
   ]
  },
  {
   "cell_type": "code",
   "execution_count": 16,
   "id": "42d44213",
   "metadata": {
    "execution": {
     "iopub.execute_input": "2022-09-02T18:15:43.477663Z",
     "iopub.status.busy": "2022-09-02T18:15:43.477037Z",
     "iopub.status.idle": "2022-09-02T18:15:44.374433Z",
     "shell.execute_reply": "2022-09-02T18:15:44.373199Z"
    },
    "papermill": {
     "duration": 0.908666,
     "end_time": "2022-09-02T18:15:44.377233",
     "exception": false,
     "start_time": "2022-09-02T18:15:43.468567",
     "status": "completed"
    },
    "tags": []
   },
   "outputs": [
    {
     "name": "stdout",
     "output_type": "stream",
     "text": [
      "Found 16410 images belonging to 4 classes.\n",
      "Found 1824 images belonging to 4 classes.\n",
      "Found 2014 images belonging to 4 classes.\n"
     ]
    }
   ],
   "source": [
    "train_datagen = ImageDataGenerator(rescale=1./255)\n",
    "test_datagen = ImageDataGenerator(rescale=1./255)\n",
    "train_generator = train_datagen.flow_from_directory(\n",
    "        train_directory,\n",
    "        target_size=IMG_SIZE,\n",
    "        batch_size=8,\n",
    "        class_mode='categorical')\n",
    "validation_generator = test_datagen.flow_from_directory(\n",
    "        val_directory,\n",
    "        target_size=IMG_SIZE,\n",
    "        batch_size=8,\n",
    "        shuffle=False,\n",
    "        class_mode='categorical')\n",
    "test_generator = test_datagen.flow_from_directory(\n",
    "        test_directory,\n",
    "        target_size=IMG_SIZE,\n",
    "        batch_size=8,\n",
    "        shuffle=False,\n",
    "        class_mode='categorical')"
   ]
  },
  {
   "cell_type": "code",
   "execution_count": 17,
   "id": "54192b8c",
   "metadata": {
    "execution": {
     "iopub.execute_input": "2022-09-02T18:15:44.394515Z",
     "iopub.status.busy": "2022-09-02T18:15:44.394211Z",
     "iopub.status.idle": "2022-09-02T18:15:49.081696Z",
     "shell.execute_reply": "2022-09-02T18:15:49.080689Z"
    },
    "papermill": {
     "duration": 4.698616,
     "end_time": "2022-09-02T18:15:49.084137",
     "exception": false,
     "start_time": "2022-09-02T18:15:44.385521",
     "status": "completed"
    },
    "tags": []
   },
   "outputs": [
    {
     "name": "stderr",
     "output_type": "stream",
     "text": [
      "2022-09-02 18:15:44.821818: I tensorflow/stream_executor/cuda/cuda_gpu_executor.cc:937] successful NUMA node read from SysFS had negative value (-1), but there must be at least one NUMA node, so returning NUMA node zero\n",
      "2022-09-02 18:15:44.950456: I tensorflow/stream_executor/cuda/cuda_gpu_executor.cc:937] successful NUMA node read from SysFS had negative value (-1), but there must be at least one NUMA node, so returning NUMA node zero\n",
      "2022-09-02 18:15:44.951351: I tensorflow/stream_executor/cuda/cuda_gpu_executor.cc:937] successful NUMA node read from SysFS had negative value (-1), but there must be at least one NUMA node, so returning NUMA node zero\n",
      "2022-09-02 18:15:44.953037: I tensorflow/core/platform/cpu_feature_guard.cc:142] This TensorFlow binary is optimized with oneAPI Deep Neural Network Library (oneDNN) to use the following CPU instructions in performance-critical operations:  AVX2 AVX512F FMA\n",
      "To enable them in other operations, rebuild TensorFlow with the appropriate compiler flags.\n",
      "2022-09-02 18:15:44.953418: I tensorflow/stream_executor/cuda/cuda_gpu_executor.cc:937] successful NUMA node read from SysFS had negative value (-1), but there must be at least one NUMA node, so returning NUMA node zero\n",
      "2022-09-02 18:15:44.954261: I tensorflow/stream_executor/cuda/cuda_gpu_executor.cc:937] successful NUMA node read from SysFS had negative value (-1), but there must be at least one NUMA node, so returning NUMA node zero\n",
      "2022-09-02 18:15:44.955036: I tensorflow/stream_executor/cuda/cuda_gpu_executor.cc:937] successful NUMA node read from SysFS had negative value (-1), but there must be at least one NUMA node, so returning NUMA node zero\n",
      "2022-09-02 18:15:47.293825: I tensorflow/stream_executor/cuda/cuda_gpu_executor.cc:937] successful NUMA node read from SysFS had negative value (-1), but there must be at least one NUMA node, so returning NUMA node zero\n",
      "2022-09-02 18:15:47.294746: I tensorflow/stream_executor/cuda/cuda_gpu_executor.cc:937] successful NUMA node read from SysFS had negative value (-1), but there must be at least one NUMA node, so returning NUMA node zero\n",
      "2022-09-02 18:15:47.295453: I tensorflow/stream_executor/cuda/cuda_gpu_executor.cc:937] successful NUMA node read from SysFS had negative value (-1), but there must be at least one NUMA node, so returning NUMA node zero\n",
      "2022-09-02 18:15:47.296073: I tensorflow/core/common_runtime/gpu/gpu_device.cc:1510] Created device /job:localhost/replica:0/task:0/device:GPU:0 with 15403 MB memory:  -> device: 0, name: Tesla P100-PCIE-16GB, pci bus id: 0000:00:04.0, compute capability: 6.0\n"
     ]
    },
    {
     "name": "stdout",
     "output_type": "stream",
     "text": [
      "Downloading data from https://storage.googleapis.com/tensorflow/keras-applications/mobilenet_v2/mobilenet_v2_weights_tf_dim_ordering_tf_kernels_1.0_224_no_top.h5\n",
      "9412608/9406464 [==============================] - 0s 0us/step\n",
      "9420800/9406464 [==============================] - 0s 0us/step\n"
     ]
    }
   ],
   "source": [
    "import tensorflow_hub as hub\n",
    "mobile_net_layers = tf.keras.applications.mobilenet_v2.MobileNetV2(input_shape=(224,224,3), include_top=False)"
   ]
  },
  {
   "cell_type": "code",
   "execution_count": 18,
   "id": "d1a107ed",
   "metadata": {
    "execution": {
     "iopub.execute_input": "2022-09-02T18:15:49.102031Z",
     "iopub.status.busy": "2022-09-02T18:15:49.101562Z",
     "iopub.status.idle": "2022-09-02T18:15:49.429139Z",
     "shell.execute_reply": "2022-09-02T18:15:49.428186Z"
    },
    "papermill": {
     "duration": 0.33895,
     "end_time": "2022-09-02T18:15:49.431467",
     "exception": false,
     "start_time": "2022-09-02T18:15:49.092517",
     "status": "completed"
    },
    "tags": []
   },
   "outputs": [],
   "source": [
    "model1 = tf.keras.Sequential([\n",
    "  mobile_net_layers,\n",
    "  tf.keras.layers.GlobalMaxPool2D(),\n",
    "  tf.keras.layers.Flatten(),\n",
    "  tf.keras.layers.Dense(4,activation='softmax')  \n",
    "])"
   ]
  },
  {
   "cell_type": "code",
   "execution_count": 19,
   "id": "41f46d3d",
   "metadata": {
    "execution": {
     "iopub.execute_input": "2022-09-02T18:15:49.449285Z",
     "iopub.status.busy": "2022-09-02T18:15:49.448983Z",
     "iopub.status.idle": "2022-09-02T18:15:49.462452Z",
     "shell.execute_reply": "2022-09-02T18:15:49.461407Z"
    },
    "papermill": {
     "duration": 0.025405,
     "end_time": "2022-09-02T18:15:49.465264",
     "exception": false,
     "start_time": "2022-09-02T18:15:49.439859",
     "status": "completed"
    },
    "tags": []
   },
   "outputs": [
    {
     "name": "stdout",
     "output_type": "stream",
     "text": [
      "Model: \"sequential\"\n",
      "_________________________________________________________________\n",
      "Layer (type)                 Output Shape              Param #   \n",
      "=================================================================\n",
      "mobilenetv2_1.00_224 (Functi (None, 7, 7, 1280)        2257984   \n",
      "_________________________________________________________________\n",
      "global_max_pooling2d (Global (None, 1280)              0         \n",
      "_________________________________________________________________\n",
      "flatten (Flatten)            (None, 1280)              0         \n",
      "_________________________________________________________________\n",
      "dense (Dense)                (None, 4)                 5124      \n",
      "=================================================================\n",
      "Total params: 2,263,108\n",
      "Trainable params: 2,228,996\n",
      "Non-trainable params: 34,112\n",
      "_________________________________________________________________\n"
     ]
    }
   ],
   "source": [
    "model1.summary()"
   ]
  },
  {
   "cell_type": "code",
   "execution_count": 20,
   "id": "4b356079",
   "metadata": {
    "execution": {
     "iopub.execute_input": "2022-09-02T18:15:49.483160Z",
     "iopub.status.busy": "2022-09-02T18:15:49.482700Z",
     "iopub.status.idle": "2022-09-02T18:15:49.488973Z",
     "shell.execute_reply": "2022-09-02T18:15:49.487974Z"
    },
    "papermill": {
     "duration": 0.017116,
     "end_time": "2022-09-02T18:15:49.491041",
     "exception": false,
     "start_time": "2022-09-02T18:15:49.473925",
     "status": "completed"
    },
    "tags": []
   },
   "outputs": [],
   "source": [
    "from keras import backend as K\n",
    "def f1SCORE(y_true, y_pred): #taken from old keras source code\n",
    "    true_positives = K.sum(K.round(K.clip(y_true * y_pred, 0, 1)))\n",
    "    possible_positives = K.sum(K.round(K.clip(y_true, 0, 1)))\n",
    "    predicted_positives = K.sum(K.round(K.clip(y_pred, 0, 1)))\n",
    "    precision = true_positives / (predicted_positives + K.epsilon())\n",
    "    recall = true_positives / (possible_positives + K.epsilon())\n",
    "    f1_val = 2*(precision*recall)/(precision+recall+K.epsilon())\n",
    "    return f1_val"
   ]
  },
  {
   "cell_type": "code",
   "execution_count": 21,
   "id": "cb61b7bb",
   "metadata": {
    "execution": {
     "iopub.execute_input": "2022-09-02T18:15:49.508368Z",
     "iopub.status.busy": "2022-09-02T18:15:49.508046Z",
     "iopub.status.idle": "2022-09-02T18:15:49.531586Z",
     "shell.execute_reply": "2022-09-02T18:15:49.530702Z"
    },
    "papermill": {
     "duration": 0.034558,
     "end_time": "2022-09-02T18:15:49.533609",
     "exception": false,
     "start_time": "2022-09-02T18:15:49.499051",
     "status": "completed"
    },
    "tags": []
   },
   "outputs": [],
   "source": [
    "base_learning_rate = 0.00001\n",
    "model1.compile(optimizer=tf.keras.optimizers.Adam(learning_rate=base_learning_rate),\n",
    "              loss=tf.keras.losses.CategoricalCrossentropy(),\n",
    "              metrics=['accuracy', keras.metrics.Precision(), keras.metrics.Recall(), keras.metrics.AUC(),f1SCORE])"
   ]
  },
  {
   "cell_type": "code",
   "execution_count": 22,
   "id": "8f17bedf",
   "metadata": {
    "execution": {
     "iopub.execute_input": "2022-09-02T18:15:49.551941Z",
     "iopub.status.busy": "2022-09-02T18:15:49.550405Z",
     "iopub.status.idle": "2022-09-02T18:15:49.555688Z",
     "shell.execute_reply": "2022-09-02T18:15:49.554794Z"
    },
    "papermill": {
     "duration": 0.016049,
     "end_time": "2022-09-02T18:15:49.557671",
     "exception": false,
     "start_time": "2022-09-02T18:15:49.541622",
     "status": "completed"
    },
    "tags": []
   },
   "outputs": [],
   "source": [
    "early_stopping = tf.keras.callbacks.EarlyStopping(monitor='val_loss', patience=5, restore_best_weights=True)"
   ]
  },
  {
   "cell_type": "code",
   "execution_count": 23,
   "id": "2954a7e1",
   "metadata": {
    "execution": {
     "iopub.execute_input": "2022-09-02T18:15:49.575099Z",
     "iopub.status.busy": "2022-09-02T18:15:49.574234Z",
     "iopub.status.idle": "2022-09-02T18:49:59.923524Z",
     "shell.execute_reply": "2022-09-02T18:49:59.922336Z"
    },
    "papermill": {
     "duration": 2052.093475,
     "end_time": "2022-09-02T18:50:01.658779",
     "exception": false,
     "start_time": "2022-09-02T18:15:49.565304",
     "status": "completed"
    },
    "tags": []
   },
   "outputs": [
    {
     "name": "stderr",
     "output_type": "stream",
     "text": [
      "2022-09-02 18:15:49.676557: I tensorflow/compiler/mlir/mlir_graph_optimization_pass.cc:185] None of the MLIR Optimization Passes are enabled (registered 2)\n"
     ]
    },
    {
     "name": "stdout",
     "output_type": "stream",
     "text": [
      "Epoch 1/10000\n"
     ]
    },
    {
     "name": "stderr",
     "output_type": "stream",
     "text": [
      "2022-09-02 18:15:55.188048: I tensorflow/stream_executor/cuda/cuda_dnn.cc:369] Loaded cuDNN version 8005\n"
     ]
    },
    {
     "name": "stdout",
     "output_type": "stream",
     "text": [
      "2052/2052 [==============================] - 147s 66ms/step - loss: 1.1975 - accuracy: 0.6734 - precision: 0.6846 - recall: 0.6615 - auc: 0.8748 - f1SCORE: 0.6717 - val_loss: 2.6351 - val_accuracy: 0.3876 - val_precision: 0.3921 - val_recall: 0.3805 - val_auc: 0.6870 - val_f1SCORE: 0.3841\n",
      "Epoch 2/10000\n",
      "2052/2052 [==============================] - 136s 66ms/step - loss: 0.6426 - accuracy: 0.8060 - precision: 0.8125 - recall: 0.7977 - auc: 0.9479 - f1SCORE: 0.8045 - val_loss: 1.5280 - val_accuracy: 0.5828 - val_precision: 0.5900 - val_recall: 0.5641 - val_auc: 0.8207 - val_f1SCORE: 0.5738\n",
      "Epoch 3/10000\n",
      "2052/2052 [==============================] - 135s 66ms/step - loss: 0.5094 - accuracy: 0.8419 - precision: 0.8476 - recall: 0.8374 - auc: 0.9631 - f1SCORE: 0.8422 - val_loss: 0.5921 - val_accuracy: 0.8202 - val_precision: 0.8301 - val_recall: 0.8169 - val_auc: 0.9554 - val_f1SCORE: 0.8228\n",
      "Epoch 4/10000\n",
      "2052/2052 [==============================] - 135s 66ms/step - loss: 0.3957 - accuracy: 0.8732 - precision: 0.8771 - recall: 0.8695 - auc: 0.9746 - f1SCORE: 0.8729 - val_loss: 0.3845 - val_accuracy: 0.8772 - val_precision: 0.8809 - val_recall: 0.8761 - val_auc: 0.9746 - val_f1SCORE: 0.8784\n",
      "Epoch 5/10000\n",
      "2052/2052 [==============================] - 135s 66ms/step - loss: 0.3161 - accuracy: 0.8952 - precision: 0.8987 - recall: 0.8918 - auc: 0.9816 - f1SCORE: 0.8951 - val_loss: 0.3476 - val_accuracy: 0.8953 - val_precision: 0.8996 - val_recall: 0.8936 - val_auc: 0.9793 - val_f1SCORE: 0.8964\n",
      "Epoch 6/10000\n",
      "2052/2052 [==============================] - 135s 66ms/step - loss: 0.2598 - accuracy: 0.9100 - precision: 0.9129 - recall: 0.9078 - auc: 0.9872 - f1SCORE: 0.9099 - val_loss: 0.3288 - val_accuracy: 0.8947 - val_precision: 0.8976 - val_recall: 0.8936 - val_auc: 0.9805 - val_f1SCORE: 0.8955\n",
      "Epoch 7/10000\n",
      "2052/2052 [==============================] - 135s 66ms/step - loss: 0.2174 - accuracy: 0.9221 - precision: 0.9240 - recall: 0.9199 - auc: 0.9902 - f1SCORE: 0.9218 - val_loss: 0.3121 - val_accuracy: 0.8964 - val_precision: 0.9001 - val_recall: 0.8936 - val_auc: 0.9823 - val_f1SCORE: 0.8967\n",
      "Epoch 8/10000\n",
      "2052/2052 [==============================] - 135s 66ms/step - loss: 0.1947 - accuracy: 0.9294 - precision: 0.9315 - recall: 0.9278 - auc: 0.9917 - f1SCORE: 0.9296 - val_loss: 0.3129 - val_accuracy: 0.9030 - val_precision: 0.9063 - val_recall: 0.9019 - val_auc: 0.9823 - val_f1SCORE: 0.9040\n",
      "Epoch 9/10000\n",
      "2052/2052 [==============================] - 135s 66ms/step - loss: 0.1510 - accuracy: 0.9441 - precision: 0.9460 - recall: 0.9424 - auc: 0.9948 - f1SCORE: 0.9441 - val_loss: 0.2740 - val_accuracy: 0.9112 - val_precision: 0.9126 - val_recall: 0.9101 - val_auc: 0.9858 - val_f1SCORE: 0.9112\n",
      "Epoch 10/10000\n",
      "2052/2052 [==============================] - 136s 66ms/step - loss: 0.1371 - accuracy: 0.9493 - precision: 0.9504 - recall: 0.9483 - auc: 0.9956 - f1SCORE: 0.9493 - val_loss: 0.2551 - val_accuracy: 0.9117 - val_precision: 0.9131 - val_recall: 0.9101 - val_auc: 0.9877 - val_f1SCORE: 0.9116\n",
      "Epoch 11/10000\n",
      "2052/2052 [==============================] - 136s 66ms/step - loss: 0.1212 - accuracy: 0.9561 - precision: 0.9570 - recall: 0.9551 - auc: 0.9965 - f1SCORE: 0.9560 - val_loss: 0.2863 - val_accuracy: 0.9084 - val_precision: 0.9108 - val_recall: 0.9073 - val_auc: 0.9853 - val_f1SCORE: 0.9090\n",
      "Epoch 12/10000\n",
      "2052/2052 [==============================] - 135s 66ms/step - loss: 0.1011 - accuracy: 0.9626 - precision: 0.9636 - recall: 0.9617 - auc: 0.9975 - f1SCORE: 0.9626 - val_loss: 0.2870 - val_accuracy: 0.9145 - val_precision: 0.9154 - val_recall: 0.9139 - val_auc: 0.9841 - val_f1SCORE: 0.9147\n",
      "Epoch 13/10000\n",
      "2052/2052 [==============================] - 136s 66ms/step - loss: 0.0899 - accuracy: 0.9653 - precision: 0.9663 - recall: 0.9642 - auc: 0.9981 - f1SCORE: 0.9652 - val_loss: 0.2720 - val_accuracy: 0.9254 - val_precision: 0.9252 - val_recall: 0.9221 - val_auc: 0.9849 - val_f1SCORE: 0.9236\n",
      "Epoch 14/10000\n",
      "2052/2052 [==============================] - 137s 67ms/step - loss: 0.0763 - accuracy: 0.9710 - precision: 0.9714 - recall: 0.9700 - auc: 0.9985 - f1SCORE: 0.9705 - val_loss: 0.2567 - val_accuracy: 0.9216 - val_precision: 0.9235 - val_recall: 0.9205 - val_auc: 0.9852 - val_f1SCORE: 0.9219\n",
      "Epoch 15/10000\n",
      "2052/2052 [==============================] - 135s 66ms/step - loss: 0.0694 - accuracy: 0.9753 - precision: 0.9762 - recall: 0.9746 - auc: 0.9988 - f1SCORE: 0.9753 - val_loss: 0.2762 - val_accuracy: 0.9134 - val_precision: 0.9143 - val_recall: 0.9123 - val_auc: 0.9846 - val_f1SCORE: 0.9131\n"
     ]
    }
   ],
   "source": [
    "initial_epochs = 10000\n",
    "history = model1.fit(train_generator, epochs=initial_epochs, \n",
    "                     validation_data = validation_generator, callbacks=[early_stopping])"
   ]
  },
  {
   "cell_type": "code",
   "execution_count": 24,
   "id": "1eab1b27",
   "metadata": {
    "execution": {
     "iopub.execute_input": "2022-09-02T18:50:05.510572Z",
     "iopub.status.busy": "2022-09-02T18:50:05.510020Z",
     "iopub.status.idle": "2022-09-02T18:50:07.546309Z",
     "shell.execute_reply": "2022-09-02T18:50:07.544462Z"
    },
    "papermill": {
     "duration": 3.841901,
     "end_time": "2022-09-02T18:50:07.549056",
     "exception": false,
     "start_time": "2022-09-02T18:50:03.707155",
     "status": "completed"
    },
    "tags": []
   },
   "outputs": [
    {
     "data": {
      "image/png": "[encoded data removed]",
      "text/plain": [
       "<Figure size 1440x1152 with 6 Axes>"
      ]
     },
     "metadata": {},
     "output_type": "display_data"
    }
   ],
   "source": [
    "import seaborn as sns\n",
    "def data(history):\n",
    "  return pd.DataFrame(data=list(zip(history.history[\"accuracy\"], history.history[\"val_accuracy\"], history.history[\"loss\"], history.history[\"val_loss\"], history.history[\"recall\"], history.history[\"val_recall\"], history.history[\"precision\"], history.history[\"val_precision\"], history.history[\"auc\"], history.history[\"val_auc\"],history.history[\"f1SCORE\"],history.history[\"val_f1SCORE\"] )) , columns=[\"Accuracy\", \"Validation Accuracy\", \"Loss\", \"Validation Loss\", \"Recall\", \"Validation Recall\", \"Precision\", \"Validation Precision\", \"AUC\", \"Validation AUC\", \"f1SCORE\", \"Validation f1SCORE\"])\n",
    "def history_visualization(history):\n",
    "  df = data(history)\n",
    "  sns.set_style('darkgrid')\n",
    "  nrow = 3\n",
    "  ncol = 2\n",
    "  df_columns = df.columns\n",
    "  df_list = [df[col] for col in df]\n",
    "  titles=[\"Accuracy Visualization\", \"Loss Visualization\", \"Recall Visualization\", \"Precision Visualization\", \"AUC Visualization\", \"F1 Score Visualization\"]\n",
    "  fig, axes = plt.subplots(nrow, ncol, figsize=(20, 16))\n",
    "  count = 0\n",
    "  i = 0\n",
    "  for r in range(nrow):\n",
    "    for c in range(ncol):\n",
    "        df_list[count].plot(ax=axes[r,c], x=\"Number of Epochs\", legend=\"brief\", label=df_columns[count], marker=\"o\").set_title(titles[i])\n",
    "        df_list[count+1].plot(ax=axes[r, c], x=\"Number of Epochs\", legend=\"brief\" ,label=df_columns[count+1], marker=\"o\").set_title(titles[i])\n",
    "        i+=1\n",
    "        count+=2\n",
    "history_visualization(history)"
   ]
  },
  {
   "cell_type": "code",
   "execution_count": 25,
   "id": "54f2c685",
   "metadata": {
    "execution": {
     "iopub.execute_input": "2022-09-02T18:50:11.098068Z",
     "iopub.status.busy": "2022-09-02T18:50:11.097487Z",
     "iopub.status.idle": "2022-09-02T18:50:21.394692Z",
     "shell.execute_reply": "2022-09-02T18:50:21.393748Z"
    },
    "papermill": {
     "duration": 12.075839,
     "end_time": "2022-09-02T18:50:21.396962",
     "exception": false,
     "start_time": "2022-09-02T18:50:09.321123",
     "status": "completed"
    },
    "tags": []
   },
   "outputs": [
    {
     "name": "stdout",
     "output_type": "stream",
     "text": [
      "252/252 [==============================] - 7s 29ms/step - loss: 0.3373 - accuracy: 0.8928 - precision: 0.8945 - recall: 0.8928 - auc: 0.9805 - f1SCORE: 0.8937\n"
     ]
    },
    {
     "data": {
      "text/plain": [
       "[0.3372649550437927,\n",
       " 0.8927507400512695,\n",
       " 0.8945273756980896,\n",
       " 0.8927507400512695,\n",
       " 0.9804589152336121,\n",
       " 0.8936507701873779]"
      ]
     },
     "execution_count": 25,
     "metadata": {},
     "output_type": "execute_result"
    }
   ],
   "source": [
    "model1.evaluate(test_generator)\n",
    "# loss and accuracy"
   ]
  },
  {
   "cell_type": "code",
   "execution_count": 26,
   "id": "20d96a3a",
   "metadata": {
    "execution": {
     "iopub.execute_input": "2022-09-02T18:50:25.695545Z",
     "iopub.status.busy": "2022-09-02T18:50:25.695175Z",
     "iopub.status.idle": "2022-09-02T18:50:31.688888Z",
     "shell.execute_reply": "2022-09-02T18:50:31.686904Z"
    },
    "papermill": {
     "duration": 8.023208,
     "end_time": "2022-09-02T18:50:31.691693",
     "exception": false,
     "start_time": "2022-09-02T18:50:23.668485",
     "status": "completed"
    },
    "tags": []
   },
   "outputs": [
    {
     "name": "stdout",
     "output_type": "stream",
     "text": [
      "                 precision    recall  f1-score   support\n",
      "\n",
      "          Covid       0.94      0.97      0.95       362\n",
      "   Lung opacity       0.85      0.85      0.85       601\n",
      "         Normal       0.90      0.89      0.89       917\n",
      "Viral Pneumonia       0.95      0.93      0.94       134\n",
      "\n",
      "       accuracy                           0.89      2014\n",
      "      macro avg       0.91      0.91      0.91      2014\n",
      "   weighted avg       0.89      0.89      0.89      2014\n",
      "\n"
     ]
    }
   ],
   "source": [
    "from sklearn.metrics import confusion_matrix, classification_report\n",
    "import seaborn as sns\n",
    "val_predict = model1.predict(test_generator)\n",
    "predict_class = np.argmax(val_predict, axis=1)\n",
    "predict_class = predict_class.tolist()\n",
    "labels = ['Covid','Lung opacity' ,'Normal', 'Viral Pneumonia']\n",
    "report = classification_report(test_generator.classes, predict_class, target_names=labels)\n",
    "print(report)"
   ]
  },
  {
   "cell_type": "code",
   "execution_count": 27,
   "id": "e694cb7d",
   "metadata": {
    "execution": {
     "iopub.execute_input": "2022-09-02T18:50:35.273610Z",
     "iopub.status.busy": "2022-09-02T18:50:35.273163Z",
     "iopub.status.idle": "2022-09-02T18:50:35.281126Z",
     "shell.execute_reply": "2022-09-02T18:50:35.280202Z"
    },
    "papermill": {
     "duration": 1.793606,
     "end_time": "2022-09-02T18:50:35.283259",
     "exception": false,
     "start_time": "2022-09-02T18:50:33.489653",
     "status": "completed"
    },
    "tags": []
   },
   "outputs": [],
   "source": [
    "cm = confusion_matrix(test_generator.classes, predict_class)\n",
    "cm_df = pd.DataFrame(cm,\n",
    "                     index = ['COVID','LUNG OPACITY' ,'NORMAL','VIRAL PNEUMONIA'], \n",
    "                     columns = ['COVID','LUNG OPACITY' ,'NORMAL','VIRAL PNEUMONIA'])"
   ]
  },
  {
   "cell_type": "code",
   "execution_count": 28,
   "id": "0eee213e",
   "metadata": {
    "execution": {
     "iopub.execute_input": "2022-09-02T18:50:39.141006Z",
     "iopub.status.busy": "2022-09-02T18:50:39.140524Z",
     "iopub.status.idle": "2022-09-02T18:50:39.442768Z",
     "shell.execute_reply": "2022-09-02T18:50:39.441676Z"
    },
    "papermill": {
     "duration": 2.120612,
     "end_time": "2022-09-02T18:50:39.444887",
     "exception": false,
     "start_time": "2022-09-02T18:50:37.324275",
     "status": "completed"
    },
    "tags": []
   },
   "outputs": [
    {
     "data": {
      "image/png": "[encoded data removed]",
      "text/plain": [
       "<Figure size 720x576 with 2 Axes>"
      ]
     },
     "metadata": {},
     "output_type": "display_data"
    }
   ],
   "source": [
    "plt.figure(figsize=(10,8))\n",
    "sns.heatmap(cm_df, annot=True, fmt='d')\n",
    "plt.title(\"Confusion Matrixx\")\n",
    "plt.xlabel(\"Predicted\")\n",
    "plt.ylabel(\"Actual\")\n",
    "plt.show()"
   ]
  },
  {
   "cell_type": "code",
   "execution_count": 29,
   "id": "cbbed05d",
   "metadata": {
    "execution": {
     "iopub.execute_input": "2022-09-02T18:50:43.000912Z",
     "iopub.status.busy": "2022-09-02T18:50:43.000520Z",
     "iopub.status.idle": "2022-09-02T18:50:43.484086Z",
     "shell.execute_reply": "2022-09-02T18:50:43.483113Z"
    },
    "papermill": {
     "duration": 2.27519,
     "end_time": "2022-09-02T18:50:43.486665",
     "exception": false,
     "start_time": "2022-09-02T18:50:41.211475",
     "status": "completed"
    },
    "tags": []
   },
   "outputs": [
    {
     "name": "stderr",
     "output_type": "stream",
     "text": [
      "/opt/conda/lib/python3.7/site-packages/keras/utils/generic_utils.py:497: CustomMaskWarning: Custom mask layers require a config and must override get_config. When loading, the custom mask layer must be passed to the custom_objects argument.\n",
      "  category=CustomMaskWarning)\n"
     ]
    }
   ],
   "source": [
    "keras.models.save_model(model1,\"./base_dir/mobilenet.h5\")"
   ]
  }
 ],
 "metadata": {
  "kernelspec": {
   "display_name": "Python 3",
   "language": "python",
   "name": "python3"
  },
  "language_info": {
   "codemirror_mode": {
    "name": "ipython",
    "version": 3
   },
   "file_extension": ".py",
   "mimetype": "text/x-python",
   "name": "python",
   "nbconvert_exporter": "python",
   "pygments_lexer": "ipython3",
   "version": "3.7.12"
  },
  "papermill": {
   "default_parameters": {},
   "duration": 2343.282904,
   "end_time": "2022-09-02T18:50:48.027849",
   "environment_variables": {},
   "exception": null,
   "input_path": "__notebook__.ipynb",
   "output_path": "__notebook__.ipynb",
   "parameters": {},
   "start_time": "2022-09-02T18:11:44.744945",
   "version": "2.3.4"
  }
 },
 "nbformat": 4,
 "nbformat_minor": 5
}
