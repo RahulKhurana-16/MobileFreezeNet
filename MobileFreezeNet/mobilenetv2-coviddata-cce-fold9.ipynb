{
 "cells": [
  {
   "cell_type": "code",
   "execution_count": 1,
   "id": "8ae386a3",
   "metadata": {
    "_cell_guid": "b1076dfc-b9ad-4769-8c92-a6c4dae69d19",
    "_uuid": "8f2839f25d086af736a60e9eeb907d3b93b6e0e5",
    "execution": {
     "iopub.execute_input": "2022-08-23T05:49:02.463335Z",
     "iopub.status.busy": "2022-08-23T05:49:02.462595Z",
     "iopub.status.idle": "2022-08-23T05:49:17.922767Z",
     "shell.execute_reply": "2022-08-23T05:49:17.921100Z"
    },
    "papermill": {
     "duration": 15.475724,
     "end_time": "2022-08-23T05:49:17.926451",
     "exception": false,
     "start_time": "2022-08-23T05:49:02.450727",
     "status": "completed"
    },
    "tags": []
   },
   "outputs": [
    {
     "name": "stdout",
     "output_type": "stream",
     "text": [
      "Collecting openpyxl\r\n",
      "  Downloading openpyxl-3.0.10-py2.py3-none-any.whl (242 kB)\r\n",
      "\u001b[2K     \u001b[90m━━━━━━━━━━━━━━━━━━━━━━━━━━━━━━━━━━━━━━━\u001b[0m \u001b[32m242.1/242.1 kB\u001b[0m \u001b[31m1.1 MB/s\u001b[0m eta \u001b[36m0:00:00\u001b[0m\r\n",
      "\u001b[?25hCollecting et-xmlfile\r\n",
      "  Downloading et_xmlfile-1.1.0-py3-none-any.whl (4.7 kB)\r\n",
      "Installing collected packages: et-xmlfile, openpyxl\r\n",
      "Successfully installed et-xmlfile-1.1.0 openpyxl-3.0.10\r\n",
      "\u001b[33mWARNING: Running pip as the 'root' user can result in broken permissions and conflicting behaviour with the system package manager. It is recommended to use a virtual environment instead: https://pip.pypa.io/warnings/venv\u001b[0m\u001b[33m\r\n",
      "\u001b[0m"
     ]
    }
   ],
   "source": [
    "!pip install openpyxl"
   ]
  },
  {
   "cell_type": "code",
   "execution_count": 2,
   "id": "e1490562",
   "metadata": {
    "execution": {
     "iopub.execute_input": "2022-08-23T05:49:17.946546Z",
     "iopub.status.busy": "2022-08-23T05:49:17.946170Z",
     "iopub.status.idle": "2022-08-23T05:49:26.862565Z",
     "shell.execute_reply": "2022-08-23T05:49:26.861213Z"
    },
    "papermill": {
     "duration": 8.929892,
     "end_time": "2022-08-23T05:49:26.866097",
     "exception": false,
     "start_time": "2022-08-23T05:49:17.936205",
     "status": "completed"
    },
    "tags": []
   },
   "outputs": [],
   "source": [
    "import numpy as np # linear algebra\n",
    "import pandas as pd \n",
    "import os\n",
    "import cv2\n",
    "import seaborn as sns\n",
    "\n",
    "# libraries for files preparation\n",
    "from sklearn.utils import shuffle\n",
    "from sklearn.model_selection import train_test_split\n",
    "import shutil\n",
    "from sklearn.metrics import matthews_corrcoef\n",
    "\n",
    "# libraries for CNN models and plotting\n",
    "import tensorflow as tf\n",
    "import tensorflow.keras.layers as tfl\n",
    "import tensorflow.keras as keras\n",
    "\n",
    "from tensorflow.keras.preprocessing.image import ImageDataGenerator\n",
    "from tensorflow.keras.layers import Conv2D, MaxPooling2D, Dense, Flatten, Dropout\n",
    "from tensorflow.keras import Sequential\n",
    "from tensorflow.keras.callbacks import EarlyStopping\n",
    "\n",
    "import matplotlib.pyplot as plt\n",
    "%matplotlib inline"
   ]
  },
  {
   "cell_type": "code",
   "execution_count": 3,
   "id": "964702d2",
   "metadata": {
    "execution": {
     "iopub.execute_input": "2022-08-23T05:49:26.885286Z",
     "iopub.status.busy": "2022-08-23T05:49:26.884591Z",
     "iopub.status.idle": "2022-08-23T05:49:26.986632Z",
     "shell.execute_reply": "2022-08-23T05:49:26.985282Z"
    },
    "papermill": {
     "duration": 0.114697,
     "end_time": "2022-08-23T05:49:26.989693",
     "exception": false,
     "start_time": "2022-08-23T05:49:26.874996",
     "status": "completed"
    },
    "tags": []
   },
   "outputs": [],
   "source": [
    "path = '../input/mobilenetv2-kfolds/MobileNetFOLDS/'\n",
    "fold1 = pd.read_csv(path+'Fold1.csv')\n",
    "fold2 = pd.read_csv(path+'Fold2.csv')\n",
    "fold3 = pd.read_csv(path+'Fold3.csv')\n",
    "fold4 = pd.read_csv(path+'Fold4.csv')\n",
    "fold5 = pd.read_csv(path+'Fold5.csv')\n",
    "fold6 = pd.read_csv(path+'Fold6.csv')\n",
    "fold7 = pd.read_csv(path+'Fold7.csv')\n",
    "fold8 = pd.read_csv(path+'Fold8.csv')\n",
    "fold9 = pd.read_csv(path+'Fold9.csv')\n",
    "fold10 = pd.read_csv(path+'Fold10.csv')"
   ]
  },
  {
   "cell_type": "code",
   "execution_count": 4,
   "id": "b63bfbd4",
   "metadata": {
    "execution": {
     "iopub.execute_input": "2022-08-23T05:49:27.008678Z",
     "iopub.status.busy": "2022-08-23T05:49:27.008286Z",
     "iopub.status.idle": "2022-08-23T05:49:27.034746Z",
     "shell.execute_reply": "2022-08-23T05:49:27.033321Z"
    },
    "papermill": {
     "duration": 0.03908,
     "end_time": "2022-08-23T05:49:27.037777",
     "exception": false,
     "start_time": "2022-08-23T05:49:26.998697",
     "status": "completed"
    },
    "tags": []
   },
   "outputs": [
    {
     "data": {
      "text/plain": [
       "1    9275\n",
       "3    6012\n",
       "0    3616\n",
       "2    1345\n",
       "Name: label, dtype: int64"
      ]
     },
     "execution_count": 4,
     "metadata": {},
     "output_type": "execute_result"
    }
   ],
   "source": [
    "data = pd.concat([fold1,fold2,fold3,fold4,fold5,fold6,fold7,fold8,fold9,fold10], axis=0).reset_index(drop=True)\n",
    "data['label'].value_counts()"
   ]
  },
  {
   "cell_type": "code",
   "execution_count": 5,
   "id": "64f23907",
   "metadata": {
    "execution": {
     "iopub.execute_input": "2022-08-23T05:49:27.056583Z",
     "iopub.status.busy": "2022-08-23T05:49:27.056151Z",
     "iopub.status.idle": "2022-08-23T05:49:27.069517Z",
     "shell.execute_reply": "2022-08-23T05:49:27.068044Z"
    },
    "papermill": {
     "duration": 0.025712,
     "end_time": "2022-08-23T05:49:27.072077",
     "exception": false,
     "start_time": "2022-08-23T05:49:27.046365",
     "status": "completed"
    },
    "tags": []
   },
   "outputs": [],
   "source": [
    "data = shuffle(data)"
   ]
  },
  {
   "cell_type": "code",
   "execution_count": 6,
   "id": "7f6f786f",
   "metadata": {
    "execution": {
     "iopub.execute_input": "2022-08-23T05:49:27.091031Z",
     "iopub.status.busy": "2022-08-23T05:49:27.089254Z",
     "iopub.status.idle": "2022-08-23T05:49:27.131544Z",
     "shell.execute_reply": "2022-08-23T05:49:27.129992Z"
    },
    "papermill": {
     "duration": 0.055788,
     "end_time": "2022-08-23T05:49:27.136129",
     "exception": false,
     "start_time": "2022-08-23T05:49:27.080341",
     "status": "completed"
    },
    "tags": []
   },
   "outputs": [
    {
     "name": "stdout",
     "output_type": "stream",
     "text": [
      "(18234, 2)\n",
      "(2014, 2)\n"
     ]
    }
   ],
   "source": [
    "df_test = fold9.copy()\n",
    "train = pd.concat([fold10,fold1,fold2,fold3,fold4,fold5,fold6,fold7,fold8], axis=0).reset_index(drop=True)\n",
    "train = shuffle(train)\n",
    "\n",
    "df_test.to_csv(\"testexp9.csv\",index=False)\n",
    "train.to_csv(\"trainexp9.csv\",index=False)\n",
    "\n",
    "print(train.shape)\n",
    "print(df_test.shape)"
   ]
  },
  {
   "cell_type": "code",
   "execution_count": 7,
   "id": "70bebd2b",
   "metadata": {
    "execution": {
     "iopub.execute_input": "2022-08-23T05:49:27.155989Z",
     "iopub.status.busy": "2022-08-23T05:49:27.155594Z",
     "iopub.status.idle": "2022-08-23T05:49:27.174878Z",
     "shell.execute_reply": "2022-08-23T05:49:27.173289Z"
    },
    "papermill": {
     "duration": 0.032588,
     "end_time": "2022-08-23T05:49:27.178719",
     "exception": false,
     "start_time": "2022-08-23T05:49:27.146131",
     "status": "completed"
    },
    "tags": []
   },
   "outputs": [
    {
     "name": "stdout",
     "output_type": "stream",
     "text": [
      "(16410, 2)\n",
      "(1824, 2)\n"
     ]
    }
   ],
   "source": [
    "df_train, df_val = train_test_split(train, test_size=0.10, random_state=42, stratify=train['label'])\n",
    "print(df_train.shape)\n",
    "print(df_val.shape)"
   ]
  },
  {
   "cell_type": "code",
   "execution_count": 8,
   "id": "f81783be",
   "metadata": {
    "execution": {
     "iopub.execute_input": "2022-08-23T05:49:27.198122Z",
     "iopub.status.busy": "2022-08-23T05:49:27.197765Z",
     "iopub.status.idle": "2022-08-23T05:49:27.208758Z",
     "shell.execute_reply": "2022-08-23T05:49:27.207344Z"
    },
    "papermill": {
     "duration": 0.023066,
     "end_time": "2022-08-23T05:49:27.211676",
     "exception": false,
     "start_time": "2022-08-23T05:49:27.188610",
     "status": "completed"
    },
    "tags": []
   },
   "outputs": [
    {
     "data": {
      "text/plain": [
       "1    7522\n",
       "3    4870\n",
       "0    2928\n",
       "2    1090\n",
       "Name: label, dtype: int64"
      ]
     },
     "execution_count": 8,
     "metadata": {},
     "output_type": "execute_result"
    }
   ],
   "source": [
    "df_train['label'].value_counts()"
   ]
  },
  {
   "cell_type": "code",
   "execution_count": 9,
   "id": "a1ce1886",
   "metadata": {
    "execution": {
     "iopub.execute_input": "2022-08-23T05:49:27.230556Z",
     "iopub.status.busy": "2022-08-23T05:49:27.230130Z",
     "iopub.status.idle": "2022-08-23T05:49:27.245278Z",
     "shell.execute_reply": "2022-08-23T05:49:27.243941Z"
    },
    "papermill": {
     "duration": 0.028475,
     "end_time": "2022-08-23T05:49:27.248585",
     "exception": false,
     "start_time": "2022-08-23T05:49:27.220110",
     "status": "completed"
    },
    "tags": []
   },
   "outputs": [],
   "source": [
    "import os\n",
    "# Create a new directory\n",
    "base_dir = 'base_dir'\n",
    "os.mkdir(base_dir)\n",
    "\n",
    "train_dir = os.path.join(base_dir, 'train_dir')\n",
    "os.mkdir(train_dir)\n",
    "\n",
    "val_dir = os.path.join(base_dir, 'val_dir')\n",
    "os.mkdir(val_dir)\n",
    "\n",
    "test_dir = os.path.join(base_dir, 'test_dir')\n",
    "os.mkdir(test_dir)\n",
    "\n",
    "# create new folders inside train_dir\n",
    "train_covid = os.path.join(train_dir, 'covid')\n",
    "os.mkdir(train_covid)\n",
    "train_normal = os.path.join(train_dir, 'normal')\n",
    "os.mkdir(train_normal)\n",
    "train_viral_pneumonia = os.path.join(train_dir, 'viral pneumonia')\n",
    "os.mkdir(train_viral_pneumonia)\n",
    "train_lung_opacity = os.path.join(train_dir, 'lung opacity')\n",
    "os.mkdir(train_lung_opacity)\n",
    "\n",
    "# create new folders inside val_dir\n",
    "val_covid = os.path.join(val_dir, 'covid')\n",
    "os.mkdir(val_covid)\n",
    "val_normal = os.path.join(val_dir, 'normal')\n",
    "os.mkdir(val_normal)\n",
    "val_viral_pneumonia = os.path.join(val_dir, 'viral pneumonia')\n",
    "os.mkdir(val_viral_pneumonia)\n",
    "val_lung_opacity = os.path.join(val_dir, 'lung opacity')\n",
    "os.mkdir(val_lung_opacity)\n",
    "\n",
    "\n",
    "# create new folders inside test_dir\n",
    "test_covid = os.path.join(test_dir, 'covid')\n",
    "os.mkdir(test_covid)\n",
    "test_normal = os.path.join(test_dir, 'normal')\n",
    "os.mkdir(test_normal)\n",
    "test_viral_pneumonia = os.path.join(test_dir, 'viral pneumonia')\n",
    "os.mkdir(test_viral_pneumonia)\n",
    "test_lung_opacity = os.path.join(test_dir, 'lung opacity')\n",
    "os.mkdir(test_lung_opacity)"
   ]
  },
  {
   "cell_type": "code",
   "execution_count": 10,
   "id": "3ff43a90",
   "metadata": {
    "execution": {
     "iopub.execute_input": "2022-08-23T05:49:27.266724Z",
     "iopub.status.busy": "2022-08-23T05:49:27.266360Z",
     "iopub.status.idle": "2022-08-23T05:49:27.278737Z",
     "shell.execute_reply": "2022-08-23T05:49:27.277342Z"
    },
    "papermill": {
     "duration": 0.024664,
     "end_time": "2022-08-23T05:49:27.281612",
     "exception": false,
     "start_time": "2022-08-23T05:49:27.256948",
     "status": "completed"
    },
    "tags": []
   },
   "outputs": [],
   "source": [
    "train_list = list(df_train['FILE NAME'])\n",
    "val_list = list(df_val['FILE NAME'])\n",
    "test_list = list(df_test['FILE NAME'])"
   ]
  },
  {
   "cell_type": "code",
   "execution_count": 11,
   "id": "8b1f78e6",
   "metadata": {
    "execution": {
     "iopub.execute_input": "2022-08-23T05:49:27.300484Z",
     "iopub.status.busy": "2022-08-23T05:49:27.300112Z",
     "iopub.status.idle": "2022-08-23T05:52:59.956635Z",
     "shell.execute_reply": "2022-08-23T05:52:59.955151Z"
    },
    "papermill": {
     "duration": 212.670181,
     "end_time": "2022-08-23T05:52:59.960194",
     "exception": false,
     "start_time": "2022-08-23T05:49:27.290013",
     "status": "completed"
    },
    "tags": []
   },
   "outputs": [],
   "source": [
    "for image in train_list:\n",
    "    \n",
    "    # add .png extension \n",
    "    filename = image + '.png'\n",
    "    # get the label for a certain image\n",
    "    target = int(data.loc[data['FILE NAME'] == image, ['label']].values)\n",
    "    \n",
    "    # match the target with the folder's name and source path of the image\n",
    "    if target == 0:\n",
    "        label = 'covid'\n",
    "        src = os.path.join('../input/covid19-radiography-database/COVID-19_Radiography_Dataset/COVID/images', filename)\n",
    "        \n",
    "    if target == 1:\n",
    "        label = 'normal'\n",
    "        # As 'FILE NAME's in .xlsx file begins with 'NORMAL' but real file names begin with 'Normal'\n",
    "        filename = filename.capitalize()\n",
    "        src = os.path.join('../input/covid19-radiography-database/COVID-19_Radiography_Dataset/Normal/images', filename)\n",
    "        \n",
    "    if target == 2:\n",
    "        label = 'viral pneumonia'\n",
    "        src = os.path.join('../input/covid19-radiography-database/COVID-19_Radiography_Dataset/Viral Pneumonia/images', filename)\n",
    "    \n",
    "    if target == 3:\n",
    "        label = 'lung opacity'\n",
    "        src = os.path.join('../input/covid19-radiography-database/COVID-19_Radiography_Dataset/Lung_Opacity/images', filename)\n",
    "  \n",
    "    # destination path to image\n",
    "    dst = os.path.join(train_dir, label, filename)\n",
    "    \n",
    "    # copy the image from the source to the destination\n",
    "    shutil.copyfile(src, dst)\n",
    "\n",
    "# Copy images to val_dir folder\n",
    "for image in val_list:\n",
    "    \n",
    "    # add .png extension \n",
    "    filename = image + '.png'\n",
    "    # get the label for a certain image\n",
    "    target = int(data.loc[data['FILE NAME'] == image, ['label']].values)\n",
    "    \n",
    "    # match the target with the folder's name and source path of the image\n",
    "    if target == 0:\n",
    "        label = 'covid'\n",
    "        src = os.path.join('../input/covid19-radiography-database/COVID-19_Radiography_Dataset/COVID/images', filename)\n",
    "        \n",
    "    if target == 1:\n",
    "        label = 'normal'\n",
    "        filename = filename.capitalize()\n",
    "        src = os.path.join('../input/covid19-radiography-database/COVID-19_Radiography_Dataset/Normal/images', filename)\n",
    "        \n",
    "    if target == 2:\n",
    "        label = 'viral pneumonia'\n",
    "        src = os.path.join('../input/covid19-radiography-database/COVID-19_Radiography_Dataset/Viral Pneumonia/images', filename)\n",
    "    \n",
    "    if target == 3:\n",
    "        label = 'lung opacity'\n",
    "        src = os.path.join('../input/covid19-radiography-database/COVID-19_Radiography_Dataset/Lung_Opacity/images', filename)\n",
    "\n",
    "  \n",
    "    # destination path to image\n",
    "    dst = os.path.join(val_dir, label, filename)\n",
    "    \n",
    "    # copy the image from the source to the destination\n",
    "    shutil.copyfile(src, dst)\n",
    "    \n",
    "    \n",
    "\n",
    "    \n",
    "# Copy images to test_dir folder\n",
    "for image in test_list:\n",
    "    \n",
    "    # add .png extension \n",
    "    filename = image + '.png'\n",
    "    # get the label for a certain image\n",
    "    target = int(data.loc[data['FILE NAME'] == image, ['label']].values)\n",
    "    \n",
    "    # match the target with the folder's name and source path of the image\n",
    "    if target == 0:\n",
    "        label = 'covid'\n",
    "        src = os.path.join('../input/covid19-radiography-database/COVID-19_Radiography_Dataset/COVID/images', filename)\n",
    "        \n",
    "    if target == 1:\n",
    "        label = 'normal'\n",
    "        filename = filename.capitalize()\n",
    "        src = os.path.join('../input/covid19-radiography-database/COVID-19_Radiography_Dataset/Normal/images', filename)\n",
    "        \n",
    "    if target == 2:\n",
    "        label = 'viral pneumonia'\n",
    "        src = os.path.join('../input/covid19-radiography-database/COVID-19_Radiography_Dataset/Viral Pneumonia/images', filename)\n",
    "    \n",
    "    if target == 3:\n",
    "        label = 'lung opacity'\n",
    "        src = os.path.join('../input/covid19-radiography-database/COVID-19_Radiography_Dataset/Lung_Opacity/images', filename)\n",
    "\n",
    "  \n",
    "    # destination path to image\n",
    "    dst = os.path.join(test_dir, label, filename)\n",
    "    \n",
    "    # copy the image from the source to the destination\n",
    "    shutil.copyfile(src, dst)"
   ]
  },
  {
   "cell_type": "code",
   "execution_count": 12,
   "id": "833773dc",
   "metadata": {
    "execution": {
     "iopub.execute_input": "2022-08-23T05:52:59.980966Z",
     "iopub.status.busy": "2022-08-23T05:52:59.979717Z",
     "iopub.status.idle": "2022-08-23T05:53:00.008997Z",
     "shell.execute_reply": "2022-08-23T05:53:00.006651Z"
    },
    "papermill": {
     "duration": 0.042962,
     "end_time": "2022-08-23T05:53:00.012793",
     "exception": false,
     "start_time": "2022-08-23T05:52:59.969831",
     "status": "completed"
    },
    "tags": []
   },
   "outputs": [
    {
     "name": "stdout",
     "output_type": "stream",
     "text": [
      "2928\n",
      "7522\n",
      "1090\n",
      "4870\n"
     ]
    }
   ],
   "source": [
    "print(len(os.listdir('base_dir/train_dir/covid')))\n",
    "print(len(os.listdir('base_dir/train_dir/normal')))\n",
    "print(len(os.listdir('base_dir/train_dir/viral pneumonia')))\n",
    "print(len(os.listdir('base_dir/train_dir/lung opacity')))"
   ]
  },
  {
   "cell_type": "code",
   "execution_count": 13,
   "id": "b17d469a",
   "metadata": {
    "execution": {
     "iopub.execute_input": "2022-08-23T05:53:00.034388Z",
     "iopub.status.busy": "2022-08-23T05:53:00.032337Z",
     "iopub.status.idle": "2022-08-23T05:53:00.043668Z",
     "shell.execute_reply": "2022-08-23T05:53:00.041817Z"
    },
    "papermill": {
     "duration": 0.0252,
     "end_time": "2022-08-23T05:53:00.047680",
     "exception": false,
     "start_time": "2022-08-23T05:53:00.022480",
     "status": "completed"
    },
    "tags": []
   },
   "outputs": [
    {
     "name": "stdout",
     "output_type": "stream",
     "text": [
      "1824\n"
     ]
    }
   ],
   "source": [
    "print(len(os.listdir('base_dir/val_dir/covid')) + len(os.listdir('base_dir/val_dir/normal')) + len(os.listdir('base_dir/val_dir/viral pneumonia')) + len(os.listdir('base_dir/val_dir/lung opacity')))"
   ]
  },
  {
   "cell_type": "code",
   "execution_count": 14,
   "id": "7f0f303c",
   "metadata": {
    "execution": {
     "iopub.execute_input": "2022-08-23T05:53:00.066905Z",
     "iopub.status.busy": "2022-08-23T05:53:00.066552Z",
     "iopub.status.idle": "2022-08-23T05:53:00.078303Z",
     "shell.execute_reply": "2022-08-23T05:53:00.076273Z"
    },
    "papermill": {
     "duration": 0.025607,
     "end_time": "2022-08-23T05:53:00.082266",
     "exception": false,
     "start_time": "2022-08-23T05:53:00.056659",
     "status": "completed"
    },
    "tags": []
   },
   "outputs": [
    {
     "name": "stdout",
     "output_type": "stream",
     "text": [
      "2014\n"
     ]
    }
   ],
   "source": [
    "print(len(os.listdir('base_dir/test_dir/covid')) + len(os.listdir('base_dir/test_dir/normal')) + len(os.listdir('base_dir/test_dir/viral pneumonia')) + len(os.listdir('base_dir/test_dir/lung opacity')))"
   ]
  },
  {
   "cell_type": "code",
   "execution_count": 15,
   "id": "8fa460a7",
   "metadata": {
    "execution": {
     "iopub.execute_input": "2022-08-23T05:53:00.102446Z",
     "iopub.status.busy": "2022-08-23T05:53:00.100794Z",
     "iopub.status.idle": "2022-08-23T05:53:00.107888Z",
     "shell.execute_reply": "2022-08-23T05:53:00.106550Z"
    },
    "papermill": {
     "duration": 0.020115,
     "end_time": "2022-08-23T05:53:00.111005",
     "exception": false,
     "start_time": "2022-08-23T05:53:00.090890",
     "status": "completed"
    },
    "tags": []
   },
   "outputs": [],
   "source": [
    "IMG_SIZE = (224 , 224)\n",
    "train_directory = \"base_dir/train_dir\"\n",
    "val_directory = \"base_dir/val_dir\"\n",
    "test_directory = \"base_dir/test_dir\""
   ]
  },
  {
   "cell_type": "code",
   "execution_count": 16,
   "id": "a476b5d5",
   "metadata": {
    "execution": {
     "iopub.execute_input": "2022-08-23T05:53:00.129812Z",
     "iopub.status.busy": "2022-08-23T05:53:00.129483Z",
     "iopub.status.idle": "2022-08-23T05:53:01.611111Z",
     "shell.execute_reply": "2022-08-23T05:53:01.609446Z"
    },
    "papermill": {
     "duration": 1.494402,
     "end_time": "2022-08-23T05:53:01.614123",
     "exception": false,
     "start_time": "2022-08-23T05:53:00.119721",
     "status": "completed"
    },
    "tags": []
   },
   "outputs": [
    {
     "name": "stdout",
     "output_type": "stream",
     "text": [
      "Found 16410 images belonging to 4 classes.\n",
      "Found 1824 images belonging to 4 classes.\n",
      "Found 2014 images belonging to 4 classes.\n"
     ]
    }
   ],
   "source": [
    "train_datagen = ImageDataGenerator(rescale=1./255)\n",
    "test_datagen = ImageDataGenerator(rescale=1./255)\n",
    "train_generator = train_datagen.flow_from_directory(\n",
    "        train_directory,\n",
    "        target_size=IMG_SIZE,\n",
    "        batch_size=8,\n",
    "        class_mode='categorical')\n",
    "validation_generator = test_datagen.flow_from_directory(\n",
    "        val_directory,\n",
    "        target_size=IMG_SIZE,\n",
    "        batch_size=8,\n",
    "        shuffle=False,\n",
    "        class_mode='categorical')\n",
    "test_generator = test_datagen.flow_from_directory(\n",
    "        test_directory,\n",
    "        target_size=IMG_SIZE,\n",
    "        batch_size=8,\n",
    "        shuffle=False,\n",
    "        class_mode='categorical')"
   ]
  },
  {
   "cell_type": "code",
   "execution_count": 17,
   "id": "8d22b0ab",
   "metadata": {
    "execution": {
     "iopub.execute_input": "2022-08-23T05:53:01.634950Z",
     "iopub.status.busy": "2022-08-23T05:53:01.633734Z",
     "iopub.status.idle": "2022-08-23T05:53:08.462289Z",
     "shell.execute_reply": "2022-08-23T05:53:08.460897Z"
    },
    "papermill": {
     "duration": 6.84222,
     "end_time": "2022-08-23T05:53:08.465782",
     "exception": false,
     "start_time": "2022-08-23T05:53:01.623562",
     "status": "completed"
    },
    "tags": []
   },
   "outputs": [
    {
     "name": "stderr",
     "output_type": "stream",
     "text": [
      "2022-08-23 05:53:02.268289: I tensorflow/stream_executor/cuda/cuda_gpu_executor.cc:937] successful NUMA node read from SysFS had negative value (-1), but there must be at least one NUMA node, so returning NUMA node zero\n",
      "2022-08-23 05:53:02.495701: I tensorflow/stream_executor/cuda/cuda_gpu_executor.cc:937] successful NUMA node read from SysFS had negative value (-1), but there must be at least one NUMA node, so returning NUMA node zero\n",
      "2022-08-23 05:53:02.499974: I tensorflow/stream_executor/cuda/cuda_gpu_executor.cc:937] successful NUMA node read from SysFS had negative value (-1), but there must be at least one NUMA node, so returning NUMA node zero\n",
      "2022-08-23 05:53:02.506220: I tensorflow/core/platform/cpu_feature_guard.cc:142] This TensorFlow binary is optimized with oneAPI Deep Neural Network Library (oneDNN) to use the following CPU instructions in performance-critical operations:  AVX2 FMA\n",
      "To enable them in other operations, rebuild TensorFlow with the appropriate compiler flags.\n",
      "2022-08-23 05:53:02.506618: I tensorflow/stream_executor/cuda/cuda_gpu_executor.cc:937] successful NUMA node read from SysFS had negative value (-1), but there must be at least one NUMA node, so returning NUMA node zero\n",
      "2022-08-23 05:53:02.510955: I tensorflow/stream_executor/cuda/cuda_gpu_executor.cc:937] successful NUMA node read from SysFS had negative value (-1), but there must be at least one NUMA node, so returning NUMA node zero\n",
      "2022-08-23 05:53:02.515104: I tensorflow/stream_executor/cuda/cuda_gpu_executor.cc:937] successful NUMA node read from SysFS had negative value (-1), but there must be at least one NUMA node, so returning NUMA node zero\n",
      "2022-08-23 05:53:06.191503: I tensorflow/stream_executor/cuda/cuda_gpu_executor.cc:937] successful NUMA node read from SysFS had negative value (-1), but there must be at least one NUMA node, so returning NUMA node zero\n",
      "2022-08-23 05:53:06.195872: I tensorflow/stream_executor/cuda/cuda_gpu_executor.cc:937] successful NUMA node read from SysFS had negative value (-1), but there must be at least one NUMA node, so returning NUMA node zero\n",
      "2022-08-23 05:53:06.200006: I tensorflow/stream_executor/cuda/cuda_gpu_executor.cc:937] successful NUMA node read from SysFS had negative value (-1), but there must be at least one NUMA node, so returning NUMA node zero\n",
      "2022-08-23 05:53:06.204181: I tensorflow/core/common_runtime/gpu/gpu_device.cc:1510] Created device /job:localhost/replica:0/task:0/device:GPU:0 with 15403 MB memory:  -> device: 0, name: Tesla P100-PCIE-16GB, pci bus id: 0000:00:04.0, compute capability: 6.0\n"
     ]
    },
    {
     "name": "stdout",
     "output_type": "stream",
     "text": [
      "Downloading data from https://storage.googleapis.com/tensorflow/keras-applications/mobilenet_v2/mobilenet_v2_weights_tf_dim_ordering_tf_kernels_1.0_224_no_top.h5\n",
      "9412608/9406464 [==============================] - 0s 0us/step\n",
      "9420800/9406464 [==============================] - 0s 0us/step\n"
     ]
    }
   ],
   "source": [
    "import tensorflow_hub as hub\n",
    "mobile_net_layers = tf.keras.applications.mobilenet_v2.MobileNetV2(input_shape=(224,224,3), include_top=False, weights='imagenet')"
   ]
  },
  {
   "cell_type": "code",
   "execution_count": 18,
   "id": "a82aa22b",
   "metadata": {
    "execution": {
     "iopub.execute_input": "2022-08-23T05:53:08.487314Z",
     "iopub.status.busy": "2022-08-23T05:53:08.486090Z",
     "iopub.status.idle": "2022-08-23T05:53:08.518062Z",
     "shell.execute_reply": "2022-08-23T05:53:08.516470Z"
    },
    "papermill": {
     "duration": 0.051357,
     "end_time": "2022-08-23T05:53:08.526879",
     "exception": false,
     "start_time": "2022-08-23T05:53:08.475522",
     "status": "completed"
    },
    "tags": []
   },
   "outputs": [
    {
     "name": "stdout",
     "output_type": "stream",
     "text": [
      "Model: \"mobilenetv2_1.00_224\"\n",
      "__________________________________________________________________________________________________\n",
      "Layer (type)                    Output Shape         Param #     Connected to                     \n",
      "==================================================================================================\n",
      "input_1 (InputLayer)            [(None, 224, 224, 3) 0                                            \n",
      "__________________________________________________________________________________________________\n",
      "Conv1 (Conv2D)                  (None, 112, 112, 32) 864         input_1[0][0]                    \n",
      "__________________________________________________________________________________________________\n",
      "bn_Conv1 (BatchNormalization)   (None, 112, 112, 32) 128         Conv1[0][0]                      \n",
      "__________________________________________________________________________________________________\n",
      "Conv1_relu (ReLU)               (None, 112, 112, 32) 0           bn_Conv1[0][0]                   \n",
      "__________________________________________________________________________________________________\n",
      "expanded_conv_depthwise (Depthw (None, 112, 112, 32) 288         Conv1_relu[0][0]                 \n",
      "__________________________________________________________________________________________________\n",
      "expanded_conv_depthwise_BN (Bat (None, 112, 112, 32) 128         expanded_conv_depthwise[0][0]    \n",
      "__________________________________________________________________________________________________\n",
      "expanded_conv_depthwise_relu (R (None, 112, 112, 32) 0           expanded_conv_depthwise_BN[0][0] \n",
      "__________________________________________________________________________________________________\n",
      "expanded_conv_project (Conv2D)  (None, 112, 112, 16) 512         expanded_conv_depthwise_relu[0][0\n",
      "__________________________________________________________________________________________________\n",
      "expanded_conv_project_BN (Batch (None, 112, 112, 16) 64          expanded_conv_project[0][0]      \n",
      "__________________________________________________________________________________________________\n",
      "block_1_expand (Conv2D)         (None, 112, 112, 96) 1536        expanded_conv_project_BN[0][0]   \n",
      "__________________________________________________________________________________________________\n",
      "block_1_expand_BN (BatchNormali (None, 112, 112, 96) 384         block_1_expand[0][0]             \n",
      "__________________________________________________________________________________________________\n",
      "block_1_expand_relu (ReLU)      (None, 112, 112, 96) 0           block_1_expand_BN[0][0]          \n",
      "__________________________________________________________________________________________________\n",
      "block_1_pad (ZeroPadding2D)     (None, 113, 113, 96) 0           block_1_expand_relu[0][0]        \n",
      "__________________________________________________________________________________________________\n",
      "block_1_depthwise (DepthwiseCon (None, 56, 56, 96)   864         block_1_pad[0][0]                \n",
      "__________________________________________________________________________________________________\n",
      "block_1_depthwise_BN (BatchNorm (None, 56, 56, 96)   384         block_1_depthwise[0][0]          \n",
      "__________________________________________________________________________________________________\n",
      "block_1_depthwise_relu (ReLU)   (None, 56, 56, 96)   0           block_1_depthwise_BN[0][0]       \n",
      "__________________________________________________________________________________________________\n",
      "block_1_project (Conv2D)        (None, 56, 56, 24)   2304        block_1_depthwise_relu[0][0]     \n",
      "__________________________________________________________________________________________________\n",
      "block_1_project_BN (BatchNormal (None, 56, 56, 24)   96          block_1_project[0][0]            \n",
      "__________________________________________________________________________________________________\n",
      "block_2_expand (Conv2D)         (None, 56, 56, 144)  3456        block_1_project_BN[0][0]         \n",
      "__________________________________________________________________________________________________\n",
      "block_2_expand_BN (BatchNormali (None, 56, 56, 144)  576         block_2_expand[0][0]             \n",
      "__________________________________________________________________________________________________\n",
      "block_2_expand_relu (ReLU)      (None, 56, 56, 144)  0           block_2_expand_BN[0][0]          \n",
      "__________________________________________________________________________________________________\n",
      "block_2_depthwise (DepthwiseCon (None, 56, 56, 144)  1296        block_2_expand_relu[0][0]        \n",
      "__________________________________________________________________________________________________\n",
      "block_2_depthwise_BN (BatchNorm (None, 56, 56, 144)  576         block_2_depthwise[0][0]          \n",
      "__________________________________________________________________________________________________\n",
      "block_2_depthwise_relu (ReLU)   (None, 56, 56, 144)  0           block_2_depthwise_BN[0][0]       \n",
      "__________________________________________________________________________________________________\n",
      "block_2_project (Conv2D)        (None, 56, 56, 24)   3456        block_2_depthwise_relu[0][0]     \n",
      "__________________________________________________________________________________________________\n",
      "block_2_project_BN (BatchNormal (None, 56, 56, 24)   96          block_2_project[0][0]            \n",
      "__________________________________________________________________________________________________\n",
      "block_2_add (Add)               (None, 56, 56, 24)   0           block_1_project_BN[0][0]         \n",
      "                                                                 block_2_project_BN[0][0]         \n",
      "__________________________________________________________________________________________________\n",
      "block_3_expand (Conv2D)         (None, 56, 56, 144)  3456        block_2_add[0][0]                \n",
      "__________________________________________________________________________________________________\n",
      "block_3_expand_BN (BatchNormali (None, 56, 56, 144)  576         block_3_expand[0][0]             \n",
      "__________________________________________________________________________________________________\n",
      "block_3_expand_relu (ReLU)      (None, 56, 56, 144)  0           block_3_expand_BN[0][0]          \n",
      "__________________________________________________________________________________________________\n",
      "block_3_pad (ZeroPadding2D)     (None, 57, 57, 144)  0           block_3_expand_relu[0][0]        \n",
      "__________________________________________________________________________________________________\n",
      "block_3_depthwise (DepthwiseCon (None, 28, 28, 144)  1296        block_3_pad[0][0]                \n",
      "__________________________________________________________________________________________________\n",
      "block_3_depthwise_BN (BatchNorm (None, 28, 28, 144)  576         block_3_depthwise[0][0]          \n",
      "__________________________________________________________________________________________________\n",
      "block_3_depthwise_relu (ReLU)   (None, 28, 28, 144)  0           block_3_depthwise_BN[0][0]       \n",
      "__________________________________________________________________________________________________\n",
      "block_3_project (Conv2D)        (None, 28, 28, 32)   4608        block_3_depthwise_relu[0][0]     \n",
      "__________________________________________________________________________________________________\n",
      "block_3_project_BN (BatchNormal (None, 28, 28, 32)   128         block_3_project[0][0]            \n",
      "__________________________________________________________________________________________________\n",
      "block_4_expand (Conv2D)         (None, 28, 28, 192)  6144        block_3_project_BN[0][0]         \n",
      "__________________________________________________________________________________________________\n",
      "block_4_expand_BN (BatchNormali (None, 28, 28, 192)  768         block_4_expand[0][0]             \n",
      "__________________________________________________________________________________________________\n",
      "block_4_expand_relu (ReLU)      (None, 28, 28, 192)  0           block_4_expand_BN[0][0]          \n",
      "__________________________________________________________________________________________________\n",
      "block_4_depthwise (DepthwiseCon (None, 28, 28, 192)  1728        block_4_expand_relu[0][0]        \n",
      "__________________________________________________________________________________________________\n",
      "block_4_depthwise_BN (BatchNorm (None, 28, 28, 192)  768         block_4_depthwise[0][0]          \n",
      "__________________________________________________________________________________________________\n",
      "block_4_depthwise_relu (ReLU)   (None, 28, 28, 192)  0           block_4_depthwise_BN[0][0]       \n",
      "__________________________________________________________________________________________________\n",
      "block_4_project (Conv2D)        (None, 28, 28, 32)   6144        block_4_depthwise_relu[0][0]     \n",
      "__________________________________________________________________________________________________\n",
      "block_4_project_BN (BatchNormal (None, 28, 28, 32)   128         block_4_project[0][0]            \n",
      "__________________________________________________________________________________________________\n",
      "block_4_add (Add)               (None, 28, 28, 32)   0           block_3_project_BN[0][0]         \n",
      "                                                                 block_4_project_BN[0][0]         \n",
      "__________________________________________________________________________________________________\n",
      "block_5_expand (Conv2D)         (None, 28, 28, 192)  6144        block_4_add[0][0]                \n",
      "__________________________________________________________________________________________________\n",
      "block_5_expand_BN (BatchNormali (None, 28, 28, 192)  768         block_5_expand[0][0]             \n",
      "__________________________________________________________________________________________________\n",
      "block_5_expand_relu (ReLU)      (None, 28, 28, 192)  0           block_5_expand_BN[0][0]          \n",
      "__________________________________________________________________________________________________\n",
      "block_5_depthwise (DepthwiseCon (None, 28, 28, 192)  1728        block_5_expand_relu[0][0]        \n",
      "__________________________________________________________________________________________________\n",
      "block_5_depthwise_BN (BatchNorm (None, 28, 28, 192)  768         block_5_depthwise[0][0]          \n",
      "__________________________________________________________________________________________________\n",
      "block_5_depthwise_relu (ReLU)   (None, 28, 28, 192)  0           block_5_depthwise_BN[0][0]       \n",
      "__________________________________________________________________________________________________\n",
      "block_5_project (Conv2D)        (None, 28, 28, 32)   6144        block_5_depthwise_relu[0][0]     \n",
      "__________________________________________________________________________________________________\n",
      "block_5_project_BN (BatchNormal (None, 28, 28, 32)   128         block_5_project[0][0]            \n",
      "__________________________________________________________________________________________________\n",
      "block_5_add (Add)               (None, 28, 28, 32)   0           block_4_add[0][0]                \n",
      "                                                                 block_5_project_BN[0][0]         \n",
      "__________________________________________________________________________________________________\n",
      "block_6_expand (Conv2D)         (None, 28, 28, 192)  6144        block_5_add[0][0]                \n",
      "__________________________________________________________________________________________________\n",
      "block_6_expand_BN (BatchNormali (None, 28, 28, 192)  768         block_6_expand[0][0]             \n",
      "__________________________________________________________________________________________________\n",
      "block_6_expand_relu (ReLU)      (None, 28, 28, 192)  0           block_6_expand_BN[0][0]          \n",
      "__________________________________________________________________________________________________\n",
      "block_6_pad (ZeroPadding2D)     (None, 29, 29, 192)  0           block_6_expand_relu[0][0]        \n",
      "__________________________________________________________________________________________________\n",
      "block_6_depthwise (DepthwiseCon (None, 14, 14, 192)  1728        block_6_pad[0][0]                \n",
      "__________________________________________________________________________________________________\n",
      "block_6_depthwise_BN (BatchNorm (None, 14, 14, 192)  768         block_6_depthwise[0][0]          \n",
      "__________________________________________________________________________________________________\n",
      "block_6_depthwise_relu (ReLU)   (None, 14, 14, 192)  0           block_6_depthwise_BN[0][0]       \n",
      "__________________________________________________________________________________________________\n",
      "block_6_project (Conv2D)        (None, 14, 14, 64)   12288       block_6_depthwise_relu[0][0]     \n",
      "__________________________________________________________________________________________________\n",
      "block_6_project_BN (BatchNormal (None, 14, 14, 64)   256         block_6_project[0][0]            \n",
      "__________________________________________________________________________________________________\n",
      "block_7_expand (Conv2D)         (None, 14, 14, 384)  24576       block_6_project_BN[0][0]         \n",
      "__________________________________________________________________________________________________\n",
      "block_7_expand_BN (BatchNormali (None, 14, 14, 384)  1536        block_7_expand[0][0]             \n",
      "__________________________________________________________________________________________________\n",
      "block_7_expand_relu (ReLU)      (None, 14, 14, 384)  0           block_7_expand_BN[0][0]          \n",
      "__________________________________________________________________________________________________\n",
      "block_7_depthwise (DepthwiseCon (None, 14, 14, 384)  3456        block_7_expand_relu[0][0]        \n",
      "__________________________________________________________________________________________________\n",
      "block_7_depthwise_BN (BatchNorm (None, 14, 14, 384)  1536        block_7_depthwise[0][0]          \n",
      "__________________________________________________________________________________________________\n",
      "block_7_depthwise_relu (ReLU)   (None, 14, 14, 384)  0           block_7_depthwise_BN[0][0]       \n",
      "__________________________________________________________________________________________________\n",
      "block_7_project (Conv2D)        (None, 14, 14, 64)   24576       block_7_depthwise_relu[0][0]     \n",
      "__________________________________________________________________________________________________\n",
      "block_7_project_BN (BatchNormal (None, 14, 14, 64)   256         block_7_project[0][0]            \n",
      "__________________________________________________________________________________________________\n",
      "block_7_add (Add)               (None, 14, 14, 64)   0           block_6_project_BN[0][0]         \n",
      "                                                                 block_7_project_BN[0][0]         \n",
      "__________________________________________________________________________________________________\n",
      "block_8_expand (Conv2D)         (None, 14, 14, 384)  24576       block_7_add[0][0]                \n",
      "__________________________________________________________________________________________________\n",
      "block_8_expand_BN (BatchNormali (None, 14, 14, 384)  1536        block_8_expand[0][0]             \n",
      "__________________________________________________________________________________________________\n",
      "block_8_expand_relu (ReLU)      (None, 14, 14, 384)  0           block_8_expand_BN[0][0]          \n",
      "__________________________________________________________________________________________________\n",
      "block_8_depthwise (DepthwiseCon (None, 14, 14, 384)  3456        block_8_expand_relu[0][0]        \n",
      "__________________________________________________________________________________________________\n",
      "block_8_depthwise_BN (BatchNorm (None, 14, 14, 384)  1536        block_8_depthwise[0][0]          \n",
      "__________________________________________________________________________________________________\n",
      "block_8_depthwise_relu (ReLU)   (None, 14, 14, 384)  0           block_8_depthwise_BN[0][0]       \n",
      "__________________________________________________________________________________________________\n",
      "block_8_project (Conv2D)        (None, 14, 14, 64)   24576       block_8_depthwise_relu[0][0]     \n",
      "__________________________________________________________________________________________________\n",
      "block_8_project_BN (BatchNormal (None, 14, 14, 64)   256         block_8_project[0][0]            \n",
      "__________________________________________________________________________________________________\n",
      "block_8_add (Add)               (None, 14, 14, 64)   0           block_7_add[0][0]                \n",
      "                                                                 block_8_project_BN[0][0]         \n",
      "__________________________________________________________________________________________________\n",
      "block_9_expand (Conv2D)         (None, 14, 14, 384)  24576       block_8_add[0][0]                \n",
      "__________________________________________________________________________________________________\n",
      "block_9_expand_BN (BatchNormali (None, 14, 14, 384)  1536        block_9_expand[0][0]             \n",
      "__________________________________________________________________________________________________\n",
      "block_9_expand_relu (ReLU)      (None, 14, 14, 384)  0           block_9_expand_BN[0][0]          \n",
      "__________________________________________________________________________________________________\n",
      "block_9_depthwise (DepthwiseCon (None, 14, 14, 384)  3456        block_9_expand_relu[0][0]        \n",
      "__________________________________________________________________________________________________\n",
      "block_9_depthwise_BN (BatchNorm (None, 14, 14, 384)  1536        block_9_depthwise[0][0]          \n",
      "__________________________________________________________________________________________________\n",
      "block_9_depthwise_relu (ReLU)   (None, 14, 14, 384)  0           block_9_depthwise_BN[0][0]       \n",
      "__________________________________________________________________________________________________\n",
      "block_9_project (Conv2D)        (None, 14, 14, 64)   24576       block_9_depthwise_relu[0][0]     \n",
      "__________________________________________________________________________________________________\n",
      "block_9_project_BN (BatchNormal (None, 14, 14, 64)   256         block_9_project[0][0]            \n",
      "__________________________________________________________________________________________________\n",
      "block_9_add (Add)               (None, 14, 14, 64)   0           block_8_add[0][0]                \n",
      "                                                                 block_9_project_BN[0][0]         \n",
      "__________________________________________________________________________________________________\n",
      "block_10_expand (Conv2D)        (None, 14, 14, 384)  24576       block_9_add[0][0]                \n",
      "__________________________________________________________________________________________________\n",
      "block_10_expand_BN (BatchNormal (None, 14, 14, 384)  1536        block_10_expand[0][0]            \n",
      "__________________________________________________________________________________________________\n",
      "block_10_expand_relu (ReLU)     (None, 14, 14, 384)  0           block_10_expand_BN[0][0]         \n",
      "__________________________________________________________________________________________________\n",
      "block_10_depthwise (DepthwiseCo (None, 14, 14, 384)  3456        block_10_expand_relu[0][0]       \n",
      "__________________________________________________________________________________________________\n",
      "block_10_depthwise_BN (BatchNor (None, 14, 14, 384)  1536        block_10_depthwise[0][0]         \n",
      "__________________________________________________________________________________________________\n",
      "block_10_depthwise_relu (ReLU)  (None, 14, 14, 384)  0           block_10_depthwise_BN[0][0]      \n",
      "__________________________________________________________________________________________________\n",
      "block_10_project (Conv2D)       (None, 14, 14, 96)   36864       block_10_depthwise_relu[0][0]    \n",
      "__________________________________________________________________________________________________\n",
      "block_10_project_BN (BatchNorma (None, 14, 14, 96)   384         block_10_project[0][0]           \n",
      "__________________________________________________________________________________________________\n",
      "block_11_expand (Conv2D)        (None, 14, 14, 576)  55296       block_10_project_BN[0][0]        \n",
      "__________________________________________________________________________________________________\n",
      "block_11_expand_BN (BatchNormal (None, 14, 14, 576)  2304        block_11_expand[0][0]            \n",
      "__________________________________________________________________________________________________\n",
      "block_11_expand_relu (ReLU)     (None, 14, 14, 576)  0           block_11_expand_BN[0][0]         \n",
      "__________________________________________________________________________________________________\n",
      "block_11_depthwise (DepthwiseCo (None, 14, 14, 576)  5184        block_11_expand_relu[0][0]       \n",
      "__________________________________________________________________________________________________\n",
      "block_11_depthwise_BN (BatchNor (None, 14, 14, 576)  2304        block_11_depthwise[0][0]         \n",
      "__________________________________________________________________________________________________\n",
      "block_11_depthwise_relu (ReLU)  (None, 14, 14, 576)  0           block_11_depthwise_BN[0][0]      \n",
      "__________________________________________________________________________________________________\n",
      "block_11_project (Conv2D)       (None, 14, 14, 96)   55296       block_11_depthwise_relu[0][0]    \n",
      "__________________________________________________________________________________________________\n",
      "block_11_project_BN (BatchNorma (None, 14, 14, 96)   384         block_11_project[0][0]           \n",
      "__________________________________________________________________________________________________\n",
      "block_11_add (Add)              (None, 14, 14, 96)   0           block_10_project_BN[0][0]        \n",
      "                                                                 block_11_project_BN[0][0]        \n",
      "__________________________________________________________________________________________________\n",
      "block_12_expand (Conv2D)        (None, 14, 14, 576)  55296       block_11_add[0][0]               \n",
      "__________________________________________________________________________________________________\n",
      "block_12_expand_BN (BatchNormal (None, 14, 14, 576)  2304        block_12_expand[0][0]            \n",
      "__________________________________________________________________________________________________\n",
      "block_12_expand_relu (ReLU)     (None, 14, 14, 576)  0           block_12_expand_BN[0][0]         \n",
      "__________________________________________________________________________________________________\n",
      "block_12_depthwise (DepthwiseCo (None, 14, 14, 576)  5184        block_12_expand_relu[0][0]       \n",
      "__________________________________________________________________________________________________\n",
      "block_12_depthwise_BN (BatchNor (None, 14, 14, 576)  2304        block_12_depthwise[0][0]         \n",
      "__________________________________________________________________________________________________\n",
      "block_12_depthwise_relu (ReLU)  (None, 14, 14, 576)  0           block_12_depthwise_BN[0][0]      \n",
      "__________________________________________________________________________________________________\n",
      "block_12_project (Conv2D)       (None, 14, 14, 96)   55296       block_12_depthwise_relu[0][0]    \n",
      "__________________________________________________________________________________________________\n",
      "block_12_project_BN (BatchNorma (None, 14, 14, 96)   384         block_12_project[0][0]           \n",
      "__________________________________________________________________________________________________\n",
      "block_12_add (Add)              (None, 14, 14, 96)   0           block_11_add[0][0]               \n",
      "                                                                 block_12_project_BN[0][0]        \n",
      "__________________________________________________________________________________________________\n",
      "block_13_expand (Conv2D)        (None, 14, 14, 576)  55296       block_12_add[0][0]               \n",
      "__________________________________________________________________________________________________\n",
      "block_13_expand_BN (BatchNormal (None, 14, 14, 576)  2304        block_13_expand[0][0]            \n",
      "__________________________________________________________________________________________________\n",
      "block_13_expand_relu (ReLU)     (None, 14, 14, 576)  0           block_13_expand_BN[0][0]         \n",
      "__________________________________________________________________________________________________\n",
      "block_13_pad (ZeroPadding2D)    (None, 15, 15, 576)  0           block_13_expand_relu[0][0]       \n",
      "__________________________________________________________________________________________________\n",
      "block_13_depthwise (DepthwiseCo (None, 7, 7, 576)    5184        block_13_pad[0][0]               \n",
      "__________________________________________________________________________________________________\n",
      "block_13_depthwise_BN (BatchNor (None, 7, 7, 576)    2304        block_13_depthwise[0][0]         \n",
      "__________________________________________________________________________________________________\n",
      "block_13_depthwise_relu (ReLU)  (None, 7, 7, 576)    0           block_13_depthwise_BN[0][0]      \n",
      "__________________________________________________________________________________________________\n",
      "block_13_project (Conv2D)       (None, 7, 7, 160)    92160       block_13_depthwise_relu[0][0]    \n",
      "__________________________________________________________________________________________________\n",
      "block_13_project_BN (BatchNorma (None, 7, 7, 160)    640         block_13_project[0][0]           \n",
      "__________________________________________________________________________________________________\n",
      "block_14_expand (Conv2D)        (None, 7, 7, 960)    153600      block_13_project_BN[0][0]        \n",
      "__________________________________________________________________________________________________\n",
      "block_14_expand_BN (BatchNormal (None, 7, 7, 960)    3840        block_14_expand[0][0]            \n",
      "__________________________________________________________________________________________________\n",
      "block_14_expand_relu (ReLU)     (None, 7, 7, 960)    0           block_14_expand_BN[0][0]         \n",
      "__________________________________________________________________________________________________\n",
      "block_14_depthwise (DepthwiseCo (None, 7, 7, 960)    8640        block_14_expand_relu[0][0]       \n",
      "__________________________________________________________________________________________________\n",
      "block_14_depthwise_BN (BatchNor (None, 7, 7, 960)    3840        block_14_depthwise[0][0]         \n",
      "__________________________________________________________________________________________________\n",
      "block_14_depthwise_relu (ReLU)  (None, 7, 7, 960)    0           block_14_depthwise_BN[0][0]      \n",
      "__________________________________________________________________________________________________\n",
      "block_14_project (Conv2D)       (None, 7, 7, 160)    153600      block_14_depthwise_relu[0][0]    \n",
      "__________________________________________________________________________________________________\n",
      "block_14_project_BN (BatchNorma (None, 7, 7, 160)    640         block_14_project[0][0]           \n",
      "__________________________________________________________________________________________________\n",
      "block_14_add (Add)              (None, 7, 7, 160)    0           block_13_project_BN[0][0]        \n",
      "                                                                 block_14_project_BN[0][0]        \n",
      "__________________________________________________________________________________________________\n",
      "block_15_expand (Conv2D)        (None, 7, 7, 960)    153600      block_14_add[0][0]               \n",
      "__________________________________________________________________________________________________\n",
      "block_15_expand_BN (BatchNormal (None, 7, 7, 960)    3840        block_15_expand[0][0]            \n",
      "__________________________________________________________________________________________________\n",
      "block_15_expand_relu (ReLU)     (None, 7, 7, 960)    0           block_15_expand_BN[0][0]         \n",
      "__________________________________________________________________________________________________\n",
      "block_15_depthwise (DepthwiseCo (None, 7, 7, 960)    8640        block_15_expand_relu[0][0]       \n",
      "__________________________________________________________________________________________________\n",
      "block_15_depthwise_BN (BatchNor (None, 7, 7, 960)    3840        block_15_depthwise[0][0]         \n",
      "__________________________________________________________________________________________________\n",
      "block_15_depthwise_relu (ReLU)  (None, 7, 7, 960)    0           block_15_depthwise_BN[0][0]      \n",
      "__________________________________________________________________________________________________\n",
      "block_15_project (Conv2D)       (None, 7, 7, 160)    153600      block_15_depthwise_relu[0][0]    \n",
      "__________________________________________________________________________________________________\n",
      "block_15_project_BN (BatchNorma (None, 7, 7, 160)    640         block_15_project[0][0]           \n",
      "__________________________________________________________________________________________________\n",
      "block_15_add (Add)              (None, 7, 7, 160)    0           block_14_add[0][0]               \n",
      "                                                                 block_15_project_BN[0][0]        \n",
      "__________________________________________________________________________________________________\n",
      "block_16_expand (Conv2D)        (None, 7, 7, 960)    153600      block_15_add[0][0]               \n",
      "__________________________________________________________________________________________________\n",
      "block_16_expand_BN (BatchNormal (None, 7, 7, 960)    3840        block_16_expand[0][0]            \n",
      "__________________________________________________________________________________________________\n",
      "block_16_expand_relu (ReLU)     (None, 7, 7, 960)    0           block_16_expand_BN[0][0]         \n",
      "__________________________________________________________________________________________________\n",
      "block_16_depthwise (DepthwiseCo (None, 7, 7, 960)    8640        block_16_expand_relu[0][0]       \n",
      "__________________________________________________________________________________________________\n",
      "block_16_depthwise_BN (BatchNor (None, 7, 7, 960)    3840        block_16_depthwise[0][0]         \n",
      "__________________________________________________________________________________________________\n",
      "block_16_depthwise_relu (ReLU)  (None, 7, 7, 960)    0           block_16_depthwise_BN[0][0]      \n",
      "__________________________________________________________________________________________________\n",
      "block_16_project (Conv2D)       (None, 7, 7, 320)    307200      block_16_depthwise_relu[0][0]    \n",
      "__________________________________________________________________________________________________\n",
      "block_16_project_BN (BatchNorma (None, 7, 7, 320)    1280        block_16_project[0][0]           \n",
      "__________________________________________________________________________________________________\n",
      "Conv_1 (Conv2D)                 (None, 7, 7, 1280)   409600      block_16_project_BN[0][0]        \n",
      "__________________________________________________________________________________________________\n",
      "Conv_1_bn (BatchNormalization)  (None, 7, 7, 1280)   5120        Conv_1[0][0]                     \n",
      "__________________________________________________________________________________________________\n",
      "out_relu (ReLU)                 (None, 7, 7, 1280)   0           Conv_1_bn[0][0]                  \n",
      "==================================================================================================\n",
      "Total params: 2,257,984\n",
      "Trainable params: 2,223,872\n",
      "Non-trainable params: 34,112\n",
      "__________________________________________________________________________________________________\n"
     ]
    }
   ],
   "source": [
    "mobile_net_layers.summary()"
   ]
  },
  {
   "cell_type": "code",
   "execution_count": 19,
   "id": "96f8c8f0",
   "metadata": {
    "execution": {
     "iopub.execute_input": "2022-08-23T05:53:08.557310Z",
     "iopub.status.busy": "2022-08-23T05:53:08.556814Z",
     "iopub.status.idle": "2022-08-23T05:53:08.564890Z",
     "shell.execute_reply": "2022-08-23T05:53:08.563225Z"
    },
    "papermill": {
     "duration": 0.025819,
     "end_time": "2022-08-23T05:53:08.570819",
     "exception": false,
     "start_time": "2022-08-23T05:53:08.545000",
     "status": "completed"
    },
    "tags": []
   },
   "outputs": [
    {
     "name": "stdout",
     "output_type": "stream",
     "text": [
      "Number of layers in the base model:  154\n"
     ]
    }
   ],
   "source": [
    "print(\"Number of layers in the base model: \", len(mobile_net_layers.layers))"
   ]
  },
  {
   "cell_type": "code",
   "execution_count": 20,
   "id": "91112fa2",
   "metadata": {
    "execution": {
     "iopub.execute_input": "2022-08-23T05:53:08.593901Z",
     "iopub.status.busy": "2022-08-23T05:53:08.593566Z",
     "iopub.status.idle": "2022-08-23T05:53:08.601826Z",
     "shell.execute_reply": "2022-08-23T05:53:08.600305Z"
    },
    "papermill": {
     "duration": 0.022285,
     "end_time": "2022-08-23T05:53:08.604746",
     "exception": false,
     "start_time": "2022-08-23T05:53:08.582461",
     "status": "completed"
    },
    "tags": []
   },
   "outputs": [],
   "source": [
    "fine_tune_at = 77\n",
    "\n",
    "for layer in mobile_net_layers.layers[:fine_tune_at]:\n",
    "    layer.trainable =  False"
   ]
  },
  {
   "cell_type": "code",
   "execution_count": 21,
   "id": "d6ae84af",
   "metadata": {
    "execution": {
     "iopub.execute_input": "2022-08-23T05:53:08.625897Z",
     "iopub.status.busy": "2022-08-23T05:53:08.625459Z",
     "iopub.status.idle": "2022-08-23T05:53:09.104989Z",
     "shell.execute_reply": "2022-08-23T05:53:09.103577Z"
    },
    "papermill": {
     "duration": 0.49386,
     "end_time": "2022-08-23T05:53:09.108284",
     "exception": false,
     "start_time": "2022-08-23T05:53:08.614424",
     "status": "completed"
    },
    "tags": []
   },
   "outputs": [],
   "source": [
    "model1 = tf.keras.Sequential([\n",
    "  mobile_net_layers,\n",
    "  tf.keras.layers.GlobalMaxPool2D(),\n",
    "  tf.keras.layers.Flatten(),\n",
    "  tf.keras.layers.Dense(4,activation='softmax')  \n",
    "])"
   ]
  },
  {
   "cell_type": "code",
   "execution_count": 22,
   "id": "542badfd",
   "metadata": {
    "execution": {
     "iopub.execute_input": "2022-08-23T05:53:09.130662Z",
     "iopub.status.busy": "2022-08-23T05:53:09.130267Z",
     "iopub.status.idle": "2022-08-23T05:53:09.148885Z",
     "shell.execute_reply": "2022-08-23T05:53:09.147269Z"
    },
    "papermill": {
     "duration": 0.034298,
     "end_time": "2022-08-23T05:53:09.152967",
     "exception": false,
     "start_time": "2022-08-23T05:53:09.118669",
     "status": "completed"
    },
    "tags": []
   },
   "outputs": [
    {
     "name": "stdout",
     "output_type": "stream",
     "text": [
      "Model: \"sequential\"\n",
      "_________________________________________________________________\n",
      "Layer (type)                 Output Shape              Param #   \n",
      "=================================================================\n",
      "mobilenetv2_1.00_224 (Functi (None, 7, 7, 1280)        2257984   \n",
      "_________________________________________________________________\n",
      "global_max_pooling2d (Global (None, 1280)              0         \n",
      "_________________________________________________________________\n",
      "flatten (Flatten)            (None, 1280)              0         \n",
      "_________________________________________________________________\n",
      "dense (Dense)                (None, 4)                 5124      \n",
      "=================================================================\n",
      "Total params: 2,263,108\n",
      "Trainable params: 2,068,612\n",
      "Non-trainable params: 194,496\n",
      "_________________________________________________________________\n"
     ]
    }
   ],
   "source": [
    "model1.summary()"
   ]
  },
  {
   "cell_type": "code",
   "execution_count": 23,
   "id": "f4f03395",
   "metadata": {
    "execution": {
     "iopub.execute_input": "2022-08-23T05:53:09.175457Z",
     "iopub.status.busy": "2022-08-23T05:53:09.174664Z",
     "iopub.status.idle": "2022-08-23T05:53:09.184134Z",
     "shell.execute_reply": "2022-08-23T05:53:09.182812Z"
    },
    "papermill": {
     "duration": 0.023378,
     "end_time": "2022-08-23T05:53:09.186657",
     "exception": false,
     "start_time": "2022-08-23T05:53:09.163279",
     "status": "completed"
    },
    "tags": []
   },
   "outputs": [],
   "source": [
    "from keras import backend as K\n",
    "def f1SCORE(y_true, y_pred): #taken from old keras source code\n",
    "    true_positives = K.sum(K.round(K.clip(y_true * y_pred, 0, 1)))\n",
    "    possible_positives = K.sum(K.round(K.clip(y_true, 0, 1)))\n",
    "    predicted_positives = K.sum(K.round(K.clip(y_pred, 0, 1)))\n",
    "    precision = true_positives / (predicted_positives + K.epsilon())\n",
    "    recall = true_positives / (possible_positives + K.epsilon())\n",
    "    f1_val = 2*(precision*recall)/(precision+recall+K.epsilon())\n",
    "    return f1_val"
   ]
  },
  {
   "cell_type": "code",
   "execution_count": 24,
   "id": "a5830587",
   "metadata": {
    "execution": {
     "iopub.execute_input": "2022-08-23T05:53:09.209696Z",
     "iopub.status.busy": "2022-08-23T05:53:09.208835Z",
     "iopub.status.idle": "2022-08-23T05:53:09.240815Z",
     "shell.execute_reply": "2022-08-23T05:53:09.239420Z"
    },
    "papermill": {
     "duration": 0.046076,
     "end_time": "2022-08-23T05:53:09.243412",
     "exception": false,
     "start_time": "2022-08-23T05:53:09.197336",
     "status": "completed"
    },
    "tags": []
   },
   "outputs": [],
   "source": [
    "base_learning_rate = 0.0001\n",
    "model1.compile(optimizer=tf.keras.optimizers.Adam(learning_rate=base_learning_rate),\n",
    "              loss=tf.keras.losses.CategoricalCrossentropy(),\n",
    "              metrics=['accuracy', keras.metrics.Precision(), keras.metrics.Recall(), keras.metrics.AUC(),f1SCORE])"
   ]
  },
  {
   "cell_type": "code",
   "execution_count": 25,
   "id": "e2c6865e",
   "metadata": {
    "execution": {
     "iopub.execute_input": "2022-08-23T05:53:09.266509Z",
     "iopub.status.busy": "2022-08-23T05:53:09.265250Z",
     "iopub.status.idle": "2022-08-23T05:53:09.272558Z",
     "shell.execute_reply": "2022-08-23T05:53:09.271232Z"
    },
    "papermill": {
     "duration": 0.021647,
     "end_time": "2022-08-23T05:53:09.275397",
     "exception": false,
     "start_time": "2022-08-23T05:53:09.253750",
     "status": "completed"
    },
    "tags": []
   },
   "outputs": [],
   "source": [
    "early_stopping = tf.keras.callbacks.EarlyStopping(monitor='val_loss', patience=5, restore_best_weights=True)"
   ]
  },
  {
   "cell_type": "code",
   "execution_count": 26,
   "id": "cbedce56",
   "metadata": {
    "execution": {
     "iopub.execute_input": "2022-08-23T05:53:09.297205Z",
     "iopub.status.busy": "2022-08-23T05:53:09.296852Z",
     "iopub.status.idle": "2022-08-23T06:10:15.979134Z",
     "shell.execute_reply": "2022-08-23T06:10:15.977601Z"
    },
    "papermill": {
     "duration": 1026.696935,
     "end_time": "2022-08-23T06:10:15.982471",
     "exception": false,
     "start_time": "2022-08-23T05:53:09.285536",
     "status": "completed"
    },
    "tags": []
   },
   "outputs": [
    {
     "name": "stderr",
     "output_type": "stream",
     "text": [
      "2022-08-23 05:53:09.431298: I tensorflow/compiler/mlir/mlir_graph_optimization_pass.cc:185] None of the MLIR Optimization Passes are enabled (registered 2)\n"
     ]
    },
    {
     "name": "stdout",
     "output_type": "stream",
     "text": [
      "Epoch 1/10000\n"
     ]
    },
    {
     "name": "stderr",
     "output_type": "stream",
     "text": [
      "2022-08-23 05:53:16.488358: I tensorflow/stream_executor/cuda/cuda_dnn.cc:369] Loaded cuDNN version 8005\n"
     ]
    },
    {
     "name": "stdout",
     "output_type": "stream",
     "text": [
      "2052/2052 [==============================] - 107s 45ms/step - loss: 0.7539 - accuracy: 0.8102 - precision: 0.8146 - recall: 0.8074 - auc: 0.9427 - f1SCORE: 0.8105 - val_loss: 0.8259 - val_accuracy: 0.8202 - val_precision: 0.8226 - val_recall: 0.8185 - val_auc: 0.9419 - val_f1SCORE: 0.8197\n",
      "Epoch 2/10000\n",
      "2052/2052 [==============================] - 89s 43ms/step - loss: 0.3930 - accuracy: 0.8870 - precision: 0.8891 - recall: 0.8856 - auc: 0.9760 - f1SCORE: 0.8872 - val_loss: 0.3138 - val_accuracy: 0.9062 - val_precision: 0.9071 - val_recall: 0.9052 - val_auc: 0.9828 - val_f1SCORE: 0.9061\n",
      "Epoch 3/10000\n",
      "2052/2052 [==============================] - 90s 44ms/step - loss: 0.3124 - accuracy: 0.9092 - precision: 0.9100 - recall: 0.9080 - auc: 0.9824 - f1SCORE: 0.9088 - val_loss: 0.2895 - val_accuracy: 0.9211 - val_precision: 0.9215 - val_recall: 0.9205 - val_auc: 0.9842 - val_f1SCORE: 0.9209\n",
      "Epoch 4/10000\n",
      "2052/2052 [==============================] - 90s 44ms/step - loss: 0.2473 - accuracy: 0.9247 - precision: 0.9258 - recall: 0.9236 - auc: 0.9870 - f1SCORE: 0.9247 - val_loss: 0.5498 - val_accuracy: 0.8706 - val_precision: 0.8719 - val_recall: 0.8695 - val_auc: 0.9651 - val_f1SCORE: 0.8703\n",
      "Epoch 5/10000\n",
      "2052/2052 [==============================] - 90s 44ms/step - loss: 0.2185 - accuracy: 0.9344 - precision: 0.9352 - recall: 0.9337 - auc: 0.9894 - f1SCORE: 0.9344 - val_loss: 0.2219 - val_accuracy: 0.9342 - val_precision: 0.9346 - val_recall: 0.9326 - val_auc: 0.9891 - val_f1SCORE: 0.9334\n",
      "Epoch 6/10000\n",
      "2052/2052 [==============================] - 93s 45ms/step - loss: 0.1576 - accuracy: 0.9488 - precision: 0.9495 - recall: 0.9483 - auc: 0.9936 - f1SCORE: 0.9489 - val_loss: 0.3056 - val_accuracy: 0.9271 - val_precision: 0.9270 - val_recall: 0.9265 - val_auc: 0.9830 - val_f1SCORE: 0.9268\n",
      "Epoch 7/10000\n",
      "2052/2052 [==============================] - 91s 44ms/step - loss: 0.1630 - accuracy: 0.9503 - precision: 0.9509 - recall: 0.9498 - auc: 0.9929 - f1SCORE: 0.9503 - val_loss: 0.2732 - val_accuracy: 0.9205 - val_precision: 0.9210 - val_recall: 0.9205 - val_auc: 0.9857 - val_f1SCORE: 0.9208\n",
      "Epoch 8/10000\n",
      "2052/2052 [==============================] - 93s 45ms/step - loss: 0.1282 - accuracy: 0.9598 - precision: 0.9602 - recall: 0.9595 - auc: 0.9951 - f1SCORE: 0.9599 - val_loss: 0.2621 - val_accuracy: 0.9309 - val_precision: 0.9335 - val_recall: 0.9309 - val_auc: 0.9854 - val_f1SCORE: 0.9322\n",
      "Epoch 9/10000\n",
      "2052/2052 [==============================] - 90s 44ms/step - loss: 0.1232 - accuracy: 0.9628 - precision: 0.9633 - recall: 0.9624 - auc: 0.9953 - f1SCORE: 0.9626 - val_loss: 0.3574 - val_accuracy: 0.9178 - val_precision: 0.9187 - val_recall: 0.9167 - val_auc: 0.9799 - val_f1SCORE: 0.9176\n",
      "Epoch 10/10000\n",
      "2052/2052 [==============================] - 89s 44ms/step - loss: 0.1026 - accuracy: 0.9676 - precision: 0.9682 - recall: 0.9671 - auc: 0.9961 - f1SCORE: 0.9674 - val_loss: 0.3236 - val_accuracy: 0.9315 - val_precision: 0.9315 - val_recall: 0.9315 - val_auc: 0.9819 - val_f1SCORE: 0.9315\n"
     ]
    }
   ],
   "source": [
    "initial_epochs = 10000\n",
    "history = model1.fit(train_generator, epochs=initial_epochs, \n",
    "                     validation_data = validation_generator, callbacks=[early_stopping])"
   ]
  },
  {
   "cell_type": "code",
   "execution_count": 27,
   "id": "6411383b",
   "metadata": {
    "execution": {
     "iopub.execute_input": "2022-08-23T06:10:18.029140Z",
     "iopub.status.busy": "2022-08-23T06:10:18.028353Z",
     "iopub.status.idle": "2022-08-23T06:10:19.607316Z",
     "shell.execute_reply": "2022-08-23T06:10:19.605914Z"
    },
    "papermill": {
     "duration": 2.853966,
     "end_time": "2022-08-23T06:10:19.612054",
     "exception": false,
     "start_time": "2022-08-23T06:10:16.758088",
     "status": "completed"
    },
    "tags": []
   },
   "outputs": [
    {
     "data": {
      "image/png": "[encoded data removed]",
      "text/plain": [
       "<Figure size 1440x1152 with 6 Axes>"
      ]
     },
     "metadata": {},
     "output_type": "display_data"
    }
   ],
   "source": [
    "import seaborn as sns\n",
    "def data(history):\n",
    "  return pd.DataFrame(data=list(zip(history.history[\"accuracy\"], history.history[\"val_accuracy\"], history.history[\"loss\"], history.history[\"val_loss\"], history.history[\"recall\"], history.history[\"val_recall\"], history.history[\"precision\"], history.history[\"val_precision\"], history.history[\"auc\"], history.history[\"val_auc\"],history.history[\"f1SCORE\"],history.history[\"val_f1SCORE\"] )) , columns=[\"Accuracy\", \"Validation Accuracy\", \"Loss\", \"Validation Loss\", \"Recall\", \"Validation Recall\", \"Precision\", \"Validation Precision\", \"AUC\", \"Validation AUC\", \"f1SCORE\", \"Validation f1SCORE\"])\n",
    "def history_visualization(history):\n",
    "  df = data(history)\n",
    "  sns.set_style('darkgrid')\n",
    "  nrow = 3\n",
    "  ncol = 2\n",
    "  df_columns = df.columns\n",
    "  df_list = [df[col] for col in df]\n",
    "  titles=[\"Accuracy Visualization\", \"Loss Visualization\", \"Recall Visualization\", \"Precision Visualization\", \"AUC Visualization\", \"F1 Score Visualization\"]\n",
    "  fig, axes = plt.subplots(nrow, ncol, figsize=(20, 16))\n",
    "  count = 0\n",
    "  i = 0\n",
    "  for r in range(nrow):\n",
    "    for c in range(ncol):\n",
    "        df_list[count].plot(ax=axes[r,c], x=\"Number of Epochs\", legend=\"brief\", label=df_columns[count], marker=\"o\").set_title(titles[i])\n",
    "        df_list[count+1].plot(ax=axes[r, c], x=\"Number of Epochs\", legend=\"brief\" ,label=df_columns[count+1], marker=\"o\").set_title(titles[i])\n",
    "        i+=1\n",
    "        count+=2\n",
    "history_visualization(history)"
   ]
  },
  {
   "cell_type": "code",
   "execution_count": 28,
   "id": "d3cd51d3",
   "metadata": {
    "execution": {
     "iopub.execute_input": "2022-08-23T06:10:21.217654Z",
     "iopub.status.busy": "2022-08-23T06:10:21.216853Z",
     "iopub.status.idle": "2022-08-23T06:10:31.540287Z",
     "shell.execute_reply": "2022-08-23T06:10:31.538341Z"
    },
    "papermill": {
     "duration": 11.157522,
     "end_time": "2022-08-23T06:10:31.543946",
     "exception": false,
     "start_time": "2022-08-23T06:10:20.386424",
     "status": "completed"
    },
    "tags": []
   },
   "outputs": [
    {
     "name": "stdout",
     "output_type": "stream",
     "text": [
      "252/252 [==============================] - 9s 37ms/step - loss: 0.2648 - accuracy: 0.9280 - precision: 0.9279 - recall: 0.9270 - auc: 0.9858 - f1SCORE: 0.9275\n"
     ]
    },
    {
     "data": {
      "text/plain": [
       "[0.26483380794525146,\n",
       " 0.9280039668083191,\n",
       " 0.9279323816299438,\n",
       " 0.9270108938217163,\n",
       " 0.9858084917068481,\n",
       " 0.927480161190033]"
      ]
     },
     "execution_count": 28,
     "metadata": {},
     "output_type": "execute_result"
    }
   ],
   "source": [
    "model1.evaluate(test_generator)\n",
    "# loss and accuracy"
   ]
  },
  {
   "cell_type": "code",
   "execution_count": 29,
   "id": "aea7b791",
   "metadata": {
    "execution": {
     "iopub.execute_input": "2022-08-23T06:10:33.143084Z",
     "iopub.status.busy": "2022-08-23T06:10:33.141244Z",
     "iopub.status.idle": "2022-08-23T06:10:40.888828Z",
     "shell.execute_reply": "2022-08-23T06:10:40.886897Z"
    },
    "papermill": {
     "duration": 8.577424,
     "end_time": "2022-08-23T06:10:40.892845",
     "exception": false,
     "start_time": "2022-08-23T06:10:32.315421",
     "status": "completed"
    },
    "tags": []
   },
   "outputs": [
    {
     "name": "stdout",
     "output_type": "stream",
     "text": [
      "                 precision    recall  f1-score   support\n",
      "\n",
      "          Covid       0.90      0.98      0.94       362\n",
      "   Lung opacity       0.94      0.88      0.91       601\n",
      "         Normal       0.93      0.93      0.93       917\n",
      "Viral Pneumonia       0.92      0.97      0.95       134\n",
      "\n",
      "       accuracy                           0.93      2014\n",
      "      macro avg       0.92      0.94      0.93      2014\n",
      "   weighted avg       0.93      0.93      0.93      2014\n",
      "\n"
     ]
    }
   ],
   "source": [
    "from sklearn.metrics import confusion_matrix, classification_report\n",
    "import seaborn as sns\n",
    "val_predict = model1.predict(test_generator)\n",
    "predict_class = np.argmax(val_predict, axis=1)\n",
    "predict_class = predict_class.tolist()\n",
    "labels = ['Covid','Lung opacity' ,'Normal', 'Viral Pneumonia']\n",
    "report = classification_report(test_generator.classes, predict_class, target_names=labels)\n",
    "print(report)"
   ]
  },
  {
   "cell_type": "code",
   "execution_count": 30,
   "id": "a89e1bfe",
   "metadata": {
    "execution": {
     "iopub.execute_input": "2022-08-23T06:10:42.458840Z",
     "iopub.status.busy": "2022-08-23T06:10:42.456857Z",
     "iopub.status.idle": "2022-08-23T06:10:42.468473Z",
     "shell.execute_reply": "2022-08-23T06:10:42.467140Z"
    },
    "papermill": {
     "duration": 0.808971,
     "end_time": "2022-08-23T06:10:42.471682",
     "exception": false,
     "start_time": "2022-08-23T06:10:41.662711",
     "status": "completed"
    },
    "tags": []
   },
   "outputs": [],
   "source": [
    "cm = confusion_matrix(test_generator.classes, predict_class)\n",
    "cm_df = pd.DataFrame(cm,\n",
    "                     index = ['COVID','LUNG OPACITY' ,'NORMAL','VIRAL PNEUMONIA'], \n",
    "                     columns = ['COVID','LUNG OPACITY' ,'NORMAL','VIRAL PNEUMONIA'])"
   ]
  },
  {
   "cell_type": "code",
   "execution_count": 31,
   "id": "509f1fb6",
   "metadata": {
    "execution": {
     "iopub.execute_input": "2022-08-23T06:10:44.068394Z",
     "iopub.status.busy": "2022-08-23T06:10:44.067574Z",
     "iopub.status.idle": "2022-08-23T06:10:44.453383Z",
     "shell.execute_reply": "2022-08-23T06:10:44.451960Z"
    },
    "papermill": {
     "duration": 1.156212,
     "end_time": "2022-08-23T06:10:44.456263",
     "exception": false,
     "start_time": "2022-08-23T06:10:43.300051",
     "status": "completed"
    },
    "tags": []
   },
   "outputs": [
    {
     "data": {
      "image/png": "[encoded data removed]",
      "text/plain": [
       "<Figure size 720x576 with 2 Axes>"
      ]
     },
     "metadata": {},
     "output_type": "display_data"
    }
   ],
   "source": [
    "plt.figure(figsize=(10,8))\n",
    "sns.heatmap(cm_df, annot=True, fmt='d')\n",
    "plt.title(\"Confusion Matrixx\")\n",
    "plt.xlabel(\"Predicted\")\n",
    "plt.ylabel(\"Actual\")\n",
    "plt.show()"
   ]
  },
  {
   "cell_type": "code",
   "execution_count": 32,
   "id": "95665b99",
   "metadata": {
    "execution": {
     "iopub.execute_input": "2022-08-23T06:10:46.044300Z",
     "iopub.status.busy": "2022-08-23T06:10:46.042516Z",
     "iopub.status.idle": "2022-08-23T06:10:46.550147Z",
     "shell.execute_reply": "2022-08-23T06:10:46.548705Z"
    },
    "papermill": {
     "duration": 1.278191,
     "end_time": "2022-08-23T06:10:46.553649",
     "exception": false,
     "start_time": "2022-08-23T06:10:45.275458",
     "status": "completed"
    },
    "tags": []
   },
   "outputs": [
    {
     "name": "stderr",
     "output_type": "stream",
     "text": [
      "/opt/conda/lib/python3.7/site-packages/keras/utils/generic_utils.py:497: CustomMaskWarning: Custom mask layers require a config and must override get_config. When loading, the custom mask layer must be passed to the custom_objects argument.\n",
      "  category=CustomMaskWarning)\n"
     ]
    }
   ],
   "source": [
    "keras.models.save_model(model1,\"./base_dir/mobilenetfold9.h5\")"
   ]
  }
 ],
 "metadata": {
  "kernelspec": {
   "display_name": "Python 3",
   "language": "python",
   "name": "python3"
  },
  "language_info": {
   "codemirror_mode": {
    "name": "ipython",
    "version": 3
   },
   "file_extension": ".py",
   "mimetype": "text/x-python",
   "name": "python",
   "nbconvert_exporter": "python",
   "pygments_lexer": "ipython3",
   "version": "3.7.12"
  },
  "papermill": {
   "default_parameters": {},
   "duration": 1319.258446,
   "end_time": "2022-08-23T06:10:51.103056",
   "environment_variables": {},
   "exception": null,
   "input_path": "__notebook__.ipynb",
   "output_path": "__notebook__.ipynb",
   "parameters": {},
   "start_time": "2022-08-23T05:48:51.844610",
   "version": "2.3.4"
  }
 },
 "nbformat": 4,
 "nbformat_minor": 5
}
