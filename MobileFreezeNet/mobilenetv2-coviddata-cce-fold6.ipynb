{
 "cells": [
  {
   "cell_type": "code",
   "execution_count": 1,
   "id": "4413c34d",
   "metadata": {
    "_cell_guid": "b1076dfc-b9ad-4769-8c92-a6c4dae69d19",
    "_uuid": "8f2839f25d086af736a60e9eeb907d3b93b6e0e5",
    "execution": {
     "iopub.execute_input": "2022-08-23T03:55:37.378517Z",
     "iopub.status.busy": "2022-08-23T03:55:37.377910Z",
     "iopub.status.idle": "2022-08-23T03:55:49.956686Z",
     "shell.execute_reply": "2022-08-23T03:55:49.955345Z"
    },
    "papermill": {
     "duration": 12.592213,
     "end_time": "2022-08-23T03:55:49.959598",
     "exception": false,
     "start_time": "2022-08-23T03:55:37.367385",
     "status": "completed"
    },
    "tags": []
   },
   "outputs": [
    {
     "name": "stdout",
     "output_type": "stream",
     "text": [
      "Collecting openpyxl\r\n",
      "  Downloading openpyxl-3.0.10-py2.py3-none-any.whl (242 kB)\r\n",
      "\u001b[2K     \u001b[90m━━━━━━━━━━━━━━━━━━━━━━━━━━━━━━━━━━━━━━━\u001b[0m \u001b[32m242.1/242.1 kB\u001b[0m \u001b[31m3.9 MB/s\u001b[0m eta \u001b[36m0:00:00\u001b[0m\r\n",
      "\u001b[?25hCollecting et-xmlfile\r\n",
      "  Downloading et_xmlfile-1.1.0-py3-none-any.whl (4.7 kB)\r\n",
      "Installing collected packages: et-xmlfile, openpyxl\r\n",
      "Successfully installed et-xmlfile-1.1.0 openpyxl-3.0.10\r\n",
      "\u001b[33mWARNING: Running pip as the 'root' user can result in broken permissions and conflicting behaviour with the system package manager. It is recommended to use a virtual environment instead: https://pip.pypa.io/warnings/venv\u001b[0m\u001b[33m\r\n",
      "\u001b[0m"
     ]
    }
   ],
   "source": [
    "!pip install openpyxl"
   ]
  },
  {
   "cell_type": "code",
   "execution_count": 2,
   "id": "770b27f4",
   "metadata": {
    "execution": {
     "iopub.execute_input": "2022-08-23T03:55:49.977429Z",
     "iopub.status.busy": "2022-08-23T03:55:49.976632Z",
     "iopub.status.idle": "2022-08-23T03:55:56.887407Z",
     "shell.execute_reply": "2022-08-23T03:55:56.886393Z"
    },
    "papermill": {
     "duration": 6.922346,
     "end_time": "2022-08-23T03:55:56.889906",
     "exception": false,
     "start_time": "2022-08-23T03:55:49.967560",
     "status": "completed"
    },
    "tags": []
   },
   "outputs": [],
   "source": [
    "import numpy as np # linear algebra\n",
    "import pandas as pd \n",
    "import os\n",
    "import cv2\n",
    "import seaborn as sns\n",
    "\n",
    "# libraries for files preparation\n",
    "from sklearn.utils import shuffle\n",
    "from sklearn.model_selection import train_test_split\n",
    "import shutil\n",
    "from sklearn.metrics import matthews_corrcoef\n",
    "\n",
    "# libraries for CNN models and plotting\n",
    "import tensorflow as tf\n",
    "import tensorflow.keras.layers as tfl\n",
    "import tensorflow.keras as keras\n",
    "\n",
    "from tensorflow.keras.preprocessing.image import ImageDataGenerator\n",
    "from tensorflow.keras.layers import Conv2D, MaxPooling2D, Dense, Flatten, Dropout\n",
    "from tensorflow.keras import Sequential\n",
    "from tensorflow.keras.callbacks import EarlyStopping\n",
    "\n",
    "import matplotlib.pyplot as plt\n",
    "%matplotlib inline"
   ]
  },
  {
   "cell_type": "code",
   "execution_count": 3,
   "id": "653ed114",
   "metadata": {
    "execution": {
     "iopub.execute_input": "2022-08-23T03:55:56.905682Z",
     "iopub.status.busy": "2022-08-23T03:55:56.905036Z",
     "iopub.status.idle": "2022-08-23T03:55:56.990346Z",
     "shell.execute_reply": "2022-08-23T03:55:56.989254Z"
    },
    "papermill": {
     "duration": 0.095975,
     "end_time": "2022-08-23T03:55:56.992948",
     "exception": false,
     "start_time": "2022-08-23T03:55:56.896973",
     "status": "completed"
    },
    "tags": []
   },
   "outputs": [],
   "source": [
    "path = '../input/mobilenetv2-kfolds/MobileNetFOLDS/'\n",
    "fold1 = pd.read_csv(path+'Fold1.csv')\n",
    "fold2 = pd.read_csv(path+'Fold2.csv')\n",
    "fold3 = pd.read_csv(path+'Fold3.csv')\n",
    "fold4 = pd.read_csv(path+'Fold4.csv')\n",
    "fold5 = pd.read_csv(path+'Fold5.csv')\n",
    "fold6 = pd.read_csv(path+'Fold6.csv')\n",
    "fold7 = pd.read_csv(path+'Fold7.csv')\n",
    "fold8 = pd.read_csv(path+'Fold8.csv')\n",
    "fold9 = pd.read_csv(path+'Fold9.csv')\n",
    "fold10 = pd.read_csv(path+'Fold10.csv')"
   ]
  },
  {
   "cell_type": "code",
   "execution_count": 4,
   "id": "13e0c16e",
   "metadata": {
    "execution": {
     "iopub.execute_input": "2022-08-23T03:55:57.009229Z",
     "iopub.status.busy": "2022-08-23T03:55:57.008379Z",
     "iopub.status.idle": "2022-08-23T03:55:57.031497Z",
     "shell.execute_reply": "2022-08-23T03:55:57.030410Z"
    },
    "papermill": {
     "duration": 0.033627,
     "end_time": "2022-08-23T03:55:57.033709",
     "exception": false,
     "start_time": "2022-08-23T03:55:57.000082",
     "status": "completed"
    },
    "tags": []
   },
   "outputs": [
    {
     "data": {
      "text/plain": [
       "1    9275\n",
       "3    6012\n",
       "0    3616\n",
       "2    1345\n",
       "Name: label, dtype: int64"
      ]
     },
     "execution_count": 4,
     "metadata": {},
     "output_type": "execute_result"
    }
   ],
   "source": [
    "data = pd.concat([fold1,fold2,fold3,fold4,fold5,fold6,fold7,fold8,fold9,fold10], axis=0).reset_index(drop=True)\n",
    "data['label'].value_counts()"
   ]
  },
  {
   "cell_type": "code",
   "execution_count": 5,
   "id": "be7c997c",
   "metadata": {
    "execution": {
     "iopub.execute_input": "2022-08-23T03:55:57.050182Z",
     "iopub.status.busy": "2022-08-23T03:55:57.049787Z",
     "iopub.status.idle": "2022-08-23T03:55:57.059090Z",
     "shell.execute_reply": "2022-08-23T03:55:57.058159Z"
    },
    "papermill": {
     "duration": 0.020303,
     "end_time": "2022-08-23T03:55:57.061321",
     "exception": false,
     "start_time": "2022-08-23T03:55:57.041018",
     "status": "completed"
    },
    "tags": []
   },
   "outputs": [],
   "source": [
    "data = shuffle(data)"
   ]
  },
  {
   "cell_type": "code",
   "execution_count": 6,
   "id": "51f4c4a2",
   "metadata": {
    "execution": {
     "iopub.execute_input": "2022-08-23T03:55:57.076306Z",
     "iopub.status.busy": "2022-08-23T03:55:57.076004Z",
     "iopub.status.idle": "2022-08-23T03:55:57.112596Z",
     "shell.execute_reply": "2022-08-23T03:55:57.111446Z"
    },
    "papermill": {
     "duration": 0.046244,
     "end_time": "2022-08-23T03:55:57.114776",
     "exception": false,
     "start_time": "2022-08-23T03:55:57.068532",
     "status": "completed"
    },
    "tags": []
   },
   "outputs": [
    {
     "name": "stdout",
     "output_type": "stream",
     "text": [
      "(18233, 2)\n",
      "(2015, 2)\n"
     ]
    }
   ],
   "source": [
    "df_test = fold6.copy()\n",
    "train = pd.concat([fold10,fold1,fold2,fold3,fold4,fold5,fold7,fold8,fold9], axis=0).reset_index(drop=True)\n",
    "train = shuffle(train)\n",
    "\n",
    "df_test.to_csv(\"testexp6.csv\",index=False)\n",
    "train.to_csv(\"trainexp6.csv\",index=False)\n",
    "\n",
    "print(train.shape)\n",
    "print(df_test.shape)"
   ]
  },
  {
   "cell_type": "code",
   "execution_count": 7,
   "id": "72523294",
   "metadata": {
    "execution": {
     "iopub.execute_input": "2022-08-23T03:55:57.131571Z",
     "iopub.status.busy": "2022-08-23T03:55:57.130077Z",
     "iopub.status.idle": "2022-08-23T03:55:57.148006Z",
     "shell.execute_reply": "2022-08-23T03:55:57.146395Z"
    },
    "papermill": {
     "duration": 0.029723,
     "end_time": "2022-08-23T03:55:57.151592",
     "exception": false,
     "start_time": "2022-08-23T03:55:57.121869",
     "status": "completed"
    },
    "tags": []
   },
   "outputs": [
    {
     "name": "stdout",
     "output_type": "stream",
     "text": [
      "(16409, 2)\n",
      "(1824, 2)\n"
     ]
    }
   ],
   "source": [
    "df_train, df_val = train_test_split(train, test_size=0.10, random_state=42, stratify=train['label'])\n",
    "print(df_train.shape)\n",
    "print(df_val.shape)"
   ]
  },
  {
   "cell_type": "code",
   "execution_count": 8,
   "id": "757f3618",
   "metadata": {
    "execution": {
     "iopub.execute_input": "2022-08-23T03:55:57.169489Z",
     "iopub.status.busy": "2022-08-23T03:55:57.168676Z",
     "iopub.status.idle": "2022-08-23T03:55:57.177604Z",
     "shell.execute_reply": "2022-08-23T03:55:57.176340Z"
    },
    "papermill": {
     "duration": 0.019696,
     "end_time": "2022-08-23T03:55:57.179703",
     "exception": false,
     "start_time": "2022-08-23T03:55:57.160007",
     "status": "completed"
    },
    "tags": []
   },
   "outputs": [
    {
     "data": {
      "text/plain": [
       "1    7522\n",
       "3    4869\n",
       "0    2929\n",
       "2    1089\n",
       "Name: label, dtype: int64"
      ]
     },
     "execution_count": 8,
     "metadata": {},
     "output_type": "execute_result"
    }
   ],
   "source": [
    "df_train['label'].value_counts()"
   ]
  },
  {
   "cell_type": "code",
   "execution_count": 9,
   "id": "46296867",
   "metadata": {
    "execution": {
     "iopub.execute_input": "2022-08-23T03:55:57.195781Z",
     "iopub.status.busy": "2022-08-23T03:55:57.194979Z",
     "iopub.status.idle": "2022-08-23T03:55:57.206378Z",
     "shell.execute_reply": "2022-08-23T03:55:57.205457Z"
    },
    "papermill": {
     "duration": 0.021765,
     "end_time": "2022-08-23T03:55:57.208520",
     "exception": false,
     "start_time": "2022-08-23T03:55:57.186755",
     "status": "completed"
    },
    "tags": []
   },
   "outputs": [],
   "source": [
    "import os\n",
    "# Create a new directory\n",
    "base_dir = 'base_dir'\n",
    "os.mkdir(base_dir)\n",
    "\n",
    "train_dir = os.path.join(base_dir, 'train_dir')\n",
    "os.mkdir(train_dir)\n",
    "\n",
    "val_dir = os.path.join(base_dir, 'val_dir')\n",
    "os.mkdir(val_dir)\n",
    "\n",
    "test_dir = os.path.join(base_dir, 'test_dir')\n",
    "os.mkdir(test_dir)\n",
    "\n",
    "# create new folders inside train_dir\n",
    "train_covid = os.path.join(train_dir, 'covid')\n",
    "os.mkdir(train_covid)\n",
    "train_normal = os.path.join(train_dir, 'normal')\n",
    "os.mkdir(train_normal)\n",
    "train_viral_pneumonia = os.path.join(train_dir, 'viral pneumonia')\n",
    "os.mkdir(train_viral_pneumonia)\n",
    "train_lung_opacity = os.path.join(train_dir, 'lung opacity')\n",
    "os.mkdir(train_lung_opacity)\n",
    "\n",
    "# create new folders inside val_dir\n",
    "val_covid = os.path.join(val_dir, 'covid')\n",
    "os.mkdir(val_covid)\n",
    "val_normal = os.path.join(val_dir, 'normal')\n",
    "os.mkdir(val_normal)\n",
    "val_viral_pneumonia = os.path.join(val_dir, 'viral pneumonia')\n",
    "os.mkdir(val_viral_pneumonia)\n",
    "val_lung_opacity = os.path.join(val_dir, 'lung opacity')\n",
    "os.mkdir(val_lung_opacity)\n",
    "\n",
    "\n",
    "# create new folders inside test_dir\n",
    "test_covid = os.path.join(test_dir, 'covid')\n",
    "os.mkdir(test_covid)\n",
    "test_normal = os.path.join(test_dir, 'normal')\n",
    "os.mkdir(test_normal)\n",
    "test_viral_pneumonia = os.path.join(test_dir, 'viral pneumonia')\n",
    "os.mkdir(test_viral_pneumonia)\n",
    "test_lung_opacity = os.path.join(test_dir, 'lung opacity')\n",
    "os.mkdir(test_lung_opacity)"
   ]
  },
  {
   "cell_type": "code",
   "execution_count": 10,
   "id": "ba060b01",
   "metadata": {
    "execution": {
     "iopub.execute_input": "2022-08-23T03:55:57.224145Z",
     "iopub.status.busy": "2022-08-23T03:55:57.223849Z",
     "iopub.status.idle": "2022-08-23T03:55:57.233193Z",
     "shell.execute_reply": "2022-08-23T03:55:57.232294Z"
    },
    "papermill": {
     "duration": 0.019653,
     "end_time": "2022-08-23T03:55:57.235268",
     "exception": false,
     "start_time": "2022-08-23T03:55:57.215615",
     "status": "completed"
    },
    "tags": []
   },
   "outputs": [],
   "source": [
    "train_list = list(df_train['FILE NAME'])\n",
    "val_list = list(df_val['FILE NAME'])\n",
    "test_list = list(df_test['FILE NAME'])"
   ]
  },
  {
   "cell_type": "code",
   "execution_count": 11,
   "id": "e757c894",
   "metadata": {
    "execution": {
     "iopub.execute_input": "2022-08-23T03:55:57.252272Z",
     "iopub.status.busy": "2022-08-23T03:55:57.251973Z",
     "iopub.status.idle": "2022-08-23T03:59:47.252730Z",
     "shell.execute_reply": "2022-08-23T03:59:47.251708Z"
    },
    "papermill": {
     "duration": 230.011822,
     "end_time": "2022-08-23T03:59:47.255289",
     "exception": false,
     "start_time": "2022-08-23T03:55:57.243467",
     "status": "completed"
    },
    "tags": []
   },
   "outputs": [],
   "source": [
    "for image in train_list:\n",
    "    \n",
    "    # add .png extension \n",
    "    filename = image + '.png'\n",
    "    # get the label for a certain image\n",
    "    target = int(data.loc[data['FILE NAME'] == image, ['label']].values)\n",
    "    \n",
    "    # match the target with the folder's name and source path of the image\n",
    "    if target == 0:\n",
    "        label = 'covid'\n",
    "        src = os.path.join('../input/covid19-radiography-database/COVID-19_Radiography_Dataset/COVID/images', filename)\n",
    "        \n",
    "    if target == 1:\n",
    "        label = 'normal'\n",
    "        # As 'FILE NAME's in .xlsx file begins with 'NORMAL' but real file names begin with 'Normal'\n",
    "        filename = filename.capitalize()\n",
    "        src = os.path.join('../input/covid19-radiography-database/COVID-19_Radiography_Dataset/Normal/images', filename)\n",
    "        \n",
    "    if target == 2:\n",
    "        label = 'viral pneumonia'\n",
    "        src = os.path.join('../input/covid19-radiography-database/COVID-19_Radiography_Dataset/Viral Pneumonia/images', filename)\n",
    "    \n",
    "    if target == 3:\n",
    "        label = 'lung opacity'\n",
    "        src = os.path.join('../input/covid19-radiography-database/COVID-19_Radiography_Dataset/Lung_Opacity/images', filename)\n",
    "  \n",
    "    # destination path to image\n",
    "    dst = os.path.join(train_dir, label, filename)\n",
    "    \n",
    "    # copy the image from the source to the destination\n",
    "    shutil.copyfile(src, dst)\n",
    "\n",
    "# Copy images to val_dir folder\n",
    "for image in val_list:\n",
    "    \n",
    "    # add .png extension \n",
    "    filename = image + '.png'\n",
    "    # get the label for a certain image\n",
    "    target = int(data.loc[data['FILE NAME'] == image, ['label']].values)\n",
    "    \n",
    "    # match the target with the folder's name and source path of the image\n",
    "    if target == 0:\n",
    "        label = 'covid'\n",
    "        src = os.path.join('../input/covid19-radiography-database/COVID-19_Radiography_Dataset/COVID/images', filename)\n",
    "        \n",
    "    if target == 1:\n",
    "        label = 'normal'\n",
    "        filename = filename.capitalize()\n",
    "        src = os.path.join('../input/covid19-radiography-database/COVID-19_Radiography_Dataset/Normal/images', filename)\n",
    "        \n",
    "    if target == 2:\n",
    "        label = 'viral pneumonia'\n",
    "        src = os.path.join('../input/covid19-radiography-database/COVID-19_Radiography_Dataset/Viral Pneumonia/images', filename)\n",
    "    \n",
    "    if target == 3:\n",
    "        label = 'lung opacity'\n",
    "        src = os.path.join('../input/covid19-radiography-database/COVID-19_Radiography_Dataset/Lung_Opacity/images', filename)\n",
    "\n",
    "  \n",
    "    # destination path to image\n",
    "    dst = os.path.join(val_dir, label, filename)\n",
    "    \n",
    "    # copy the image from the source to the destination\n",
    "    shutil.copyfile(src, dst)\n",
    "    \n",
    "    \n",
    "\n",
    "    \n",
    "# Copy images to test_dir folder\n",
    "for image in test_list:\n",
    "    \n",
    "    # add .png extension \n",
    "    filename = image + '.png'\n",
    "    # get the label for a certain image\n",
    "    target = int(data.loc[data['FILE NAME'] == image, ['label']].values)\n",
    "    \n",
    "    # match the target with the folder's name and source path of the image\n",
    "    if target == 0:\n",
    "        label = 'covid'\n",
    "        src = os.path.join('../input/covid19-radiography-database/COVID-19_Radiography_Dataset/COVID/images', filename)\n",
    "        \n",
    "    if target == 1:\n",
    "        label = 'normal'\n",
    "        filename = filename.capitalize()\n",
    "        src = os.path.join('../input/covid19-radiography-database/COVID-19_Radiography_Dataset/Normal/images', filename)\n",
    "        \n",
    "    if target == 2:\n",
    "        label = 'viral pneumonia'\n",
    "        src = os.path.join('../input/covid19-radiography-database/COVID-19_Radiography_Dataset/Viral Pneumonia/images', filename)\n",
    "    \n",
    "    if target == 3:\n",
    "        label = 'lung opacity'\n",
    "        src = os.path.join('../input/covid19-radiography-database/COVID-19_Radiography_Dataset/Lung_Opacity/images', filename)\n",
    "\n",
    "  \n",
    "    # destination path to image\n",
    "    dst = os.path.join(test_dir, label, filename)\n",
    "    \n",
    "    # copy the image from the source to the destination\n",
    "    shutil.copyfile(src, dst)"
   ]
  },
  {
   "cell_type": "code",
   "execution_count": 12,
   "id": "12d8c97e",
   "metadata": {
    "execution": {
     "iopub.execute_input": "2022-08-23T03:59:47.272125Z",
     "iopub.status.busy": "2022-08-23T03:59:47.271198Z",
     "iopub.status.idle": "2022-08-23T03:59:47.286559Z",
     "shell.execute_reply": "2022-08-23T03:59:47.285276Z"
    },
    "papermill": {
     "duration": 0.025992,
     "end_time": "2022-08-23T03:59:47.289066",
     "exception": false,
     "start_time": "2022-08-23T03:59:47.263074",
     "status": "completed"
    },
    "tags": []
   },
   "outputs": [
    {
     "name": "stdout",
     "output_type": "stream",
     "text": [
      "2929\n",
      "7522\n",
      "1089\n",
      "4869\n"
     ]
    }
   ],
   "source": [
    "print(len(os.listdir('base_dir/train_dir/covid')))\n",
    "print(len(os.listdir('base_dir/train_dir/normal')))\n",
    "print(len(os.listdir('base_dir/train_dir/viral pneumonia')))\n",
    "print(len(os.listdir('base_dir/train_dir/lung opacity')))"
   ]
  },
  {
   "cell_type": "code",
   "execution_count": 13,
   "id": "0c512a68",
   "metadata": {
    "execution": {
     "iopub.execute_input": "2022-08-23T03:59:47.305353Z",
     "iopub.status.busy": "2022-08-23T03:59:47.304461Z",
     "iopub.status.idle": "2022-08-23T03:59:47.312461Z",
     "shell.execute_reply": "2022-08-23T03:59:47.310913Z"
    },
    "papermill": {
     "duration": 0.018786,
     "end_time": "2022-08-23T03:59:47.315336",
     "exception": false,
     "start_time": "2022-08-23T03:59:47.296550",
     "status": "completed"
    },
    "tags": []
   },
   "outputs": [
    {
     "name": "stdout",
     "output_type": "stream",
     "text": [
      "1824\n"
     ]
    }
   ],
   "source": [
    "print(len(os.listdir('base_dir/val_dir/covid')) + len(os.listdir('base_dir/val_dir/normal')) + len(os.listdir('base_dir/val_dir/viral pneumonia')) + len(os.listdir('base_dir/val_dir/lung opacity')))"
   ]
  },
  {
   "cell_type": "code",
   "execution_count": 14,
   "id": "3ab670fe",
   "metadata": {
    "execution": {
     "iopub.execute_input": "2022-08-23T03:59:47.331380Z",
     "iopub.status.busy": "2022-08-23T03:59:47.331050Z",
     "iopub.status.idle": "2022-08-23T03:59:47.338755Z",
     "shell.execute_reply": "2022-08-23T03:59:47.337642Z"
    },
    "papermill": {
     "duration": 0.019148,
     "end_time": "2022-08-23T03:59:47.341998",
     "exception": false,
     "start_time": "2022-08-23T03:59:47.322850",
     "status": "completed"
    },
    "tags": []
   },
   "outputs": [
    {
     "name": "stdout",
     "output_type": "stream",
     "text": [
      "2015\n"
     ]
    }
   ],
   "source": [
    "print(len(os.listdir('base_dir/test_dir/covid')) + len(os.listdir('base_dir/test_dir/normal')) + len(os.listdir('base_dir/test_dir/viral pneumonia')) + len(os.listdir('base_dir/test_dir/lung opacity')))"
   ]
  },
  {
   "cell_type": "code",
   "execution_count": 15,
   "id": "4abf090d",
   "metadata": {
    "execution": {
     "iopub.execute_input": "2022-08-23T03:59:47.358750Z",
     "iopub.status.busy": "2022-08-23T03:59:47.358466Z",
     "iopub.status.idle": "2022-08-23T03:59:47.364316Z",
     "shell.execute_reply": "2022-08-23T03:59:47.363462Z"
    },
    "papermill": {
     "duration": 0.015821,
     "end_time": "2022-08-23T03:59:47.366302",
     "exception": false,
     "start_time": "2022-08-23T03:59:47.350481",
     "status": "completed"
    },
    "tags": []
   },
   "outputs": [],
   "source": [
    "IMG_SIZE = (224 , 224)\n",
    "train_directory = \"base_dir/train_dir\"\n",
    "val_directory = \"base_dir/val_dir\"\n",
    "test_directory = \"base_dir/test_dir\""
   ]
  },
  {
   "cell_type": "code",
   "execution_count": 16,
   "id": "f9c92588",
   "metadata": {
    "execution": {
     "iopub.execute_input": "2022-08-23T03:59:47.381875Z",
     "iopub.status.busy": "2022-08-23T03:59:47.381607Z",
     "iopub.status.idle": "2022-08-23T03:59:48.348556Z",
     "shell.execute_reply": "2022-08-23T03:59:48.347382Z"
    },
    "papermill": {
     "duration": 0.978011,
     "end_time": "2022-08-23T03:59:48.351684",
     "exception": false,
     "start_time": "2022-08-23T03:59:47.373673",
     "status": "completed"
    },
    "tags": []
   },
   "outputs": [
    {
     "name": "stdout",
     "output_type": "stream",
     "text": [
      "Found 16409 images belonging to 4 classes.\n",
      "Found 1824 images belonging to 4 classes.\n",
      "Found 2015 images belonging to 4 classes.\n"
     ]
    }
   ],
   "source": [
    "train_datagen = ImageDataGenerator(rescale=1./255)\n",
    "test_datagen = ImageDataGenerator(rescale=1./255)\n",
    "train_generator = train_datagen.flow_from_directory(\n",
    "        train_directory,\n",
    "        target_size=IMG_SIZE,\n",
    "        batch_size=8,\n",
    "        class_mode='categorical')\n",
    "validation_generator = test_datagen.flow_from_directory(\n",
    "        val_directory,\n",
    "        target_size=IMG_SIZE,\n",
    "        batch_size=8,\n",
    "        shuffle=False,\n",
    "        class_mode='categorical')\n",
    "test_generator = test_datagen.flow_from_directory(\n",
    "        test_directory,\n",
    "        target_size=IMG_SIZE,\n",
    "        batch_size=8,\n",
    "        shuffle=False,\n",
    "        class_mode='categorical')"
   ]
  },
  {
   "cell_type": "code",
   "execution_count": 17,
   "id": "dd01d4c4",
   "metadata": {
    "execution": {
     "iopub.execute_input": "2022-08-23T03:59:48.368444Z",
     "iopub.status.busy": "2022-08-23T03:59:48.367623Z",
     "iopub.status.idle": "2022-08-23T03:59:52.973722Z",
     "shell.execute_reply": "2022-08-23T03:59:52.972691Z"
    },
    "papermill": {
     "duration": 4.617001,
     "end_time": "2022-08-23T03:59:52.976558",
     "exception": false,
     "start_time": "2022-08-23T03:59:48.359557",
     "status": "completed"
    },
    "tags": []
   },
   "outputs": [
    {
     "name": "stderr",
     "output_type": "stream",
     "text": [
      "2022-08-23 03:59:48.805490: I tensorflow/stream_executor/cuda/cuda_gpu_executor.cc:937] successful NUMA node read from SysFS had negative value (-1), but there must be at least one NUMA node, so returning NUMA node zero\n",
      "2022-08-23 03:59:48.948843: I tensorflow/stream_executor/cuda/cuda_gpu_executor.cc:937] successful NUMA node read from SysFS had negative value (-1), but there must be at least one NUMA node, so returning NUMA node zero\n",
      "2022-08-23 03:59:48.949777: I tensorflow/stream_executor/cuda/cuda_gpu_executor.cc:937] successful NUMA node read from SysFS had negative value (-1), but there must be at least one NUMA node, so returning NUMA node zero\n",
      "2022-08-23 03:59:48.951996: I tensorflow/core/platform/cpu_feature_guard.cc:142] This TensorFlow binary is optimized with oneAPI Deep Neural Network Library (oneDNN) to use the following CPU instructions in performance-critical operations:  AVX2 AVX512F FMA\n",
      "To enable them in other operations, rebuild TensorFlow with the appropriate compiler flags.\n",
      "2022-08-23 03:59:48.952383: I tensorflow/stream_executor/cuda/cuda_gpu_executor.cc:937] successful NUMA node read from SysFS had negative value (-1), but there must be at least one NUMA node, so returning NUMA node zero\n",
      "2022-08-23 03:59:48.953544: I tensorflow/stream_executor/cuda/cuda_gpu_executor.cc:937] successful NUMA node read from SysFS had negative value (-1), but there must be at least one NUMA node, so returning NUMA node zero\n",
      "2022-08-23 03:59:48.954607: I tensorflow/stream_executor/cuda/cuda_gpu_executor.cc:937] successful NUMA node read from SysFS had negative value (-1), but there must be at least one NUMA node, so returning NUMA node zero\n",
      "2022-08-23 03:59:51.406826: I tensorflow/stream_executor/cuda/cuda_gpu_executor.cc:937] successful NUMA node read from SysFS had negative value (-1), but there must be at least one NUMA node, so returning NUMA node zero\n",
      "2022-08-23 03:59:51.408165: I tensorflow/stream_executor/cuda/cuda_gpu_executor.cc:937] successful NUMA node read from SysFS had negative value (-1), but there must be at least one NUMA node, so returning NUMA node zero\n",
      "2022-08-23 03:59:51.409291: I tensorflow/stream_executor/cuda/cuda_gpu_executor.cc:937] successful NUMA node read from SysFS had negative value (-1), but there must be at least one NUMA node, so returning NUMA node zero\n",
      "2022-08-23 03:59:51.410151: I tensorflow/core/common_runtime/gpu/gpu_device.cc:1510] Created device /job:localhost/replica:0/task:0/device:GPU:0 with 15403 MB memory:  -> device: 0, name: Tesla P100-PCIE-16GB, pci bus id: 0000:00:04.0, compute capability: 6.0\n"
     ]
    },
    {
     "name": "stdout",
     "output_type": "stream",
     "text": [
      "Downloading data from https://storage.googleapis.com/tensorflow/keras-applications/mobilenet_v2/mobilenet_v2_weights_tf_dim_ordering_tf_kernels_1.0_224_no_top.h5\n",
      "9412608/9406464 [==============================] - 0s 0us/step\n",
      "9420800/9406464 [==============================] - 0s 0us/step\n"
     ]
    }
   ],
   "source": [
    "import tensorflow_hub as hub\n",
    "mobile_net_layers = tf.keras.applications.mobilenet_v2.MobileNetV2(input_shape=(224,224,3), include_top=False, weights='imagenet')"
   ]
  },
  {
   "cell_type": "code",
   "execution_count": 18,
   "id": "2d6611e8",
   "metadata": {
    "execution": {
     "iopub.execute_input": "2022-08-23T03:59:52.993963Z",
     "iopub.status.busy": "2022-08-23T03:59:52.993650Z",
     "iopub.status.idle": "2022-08-23T03:59:53.015944Z",
     "shell.execute_reply": "2022-08-23T03:59:53.014940Z"
    },
    "papermill": {
     "duration": 0.03602,
     "end_time": "2022-08-23T03:59:53.020709",
     "exception": false,
     "start_time": "2022-08-23T03:59:52.984689",
     "status": "completed"
    },
    "tags": []
   },
   "outputs": [
    {
     "name": "stdout",
     "output_type": "stream",
     "text": [
      "Model: \"mobilenetv2_1.00_224\"\n",
      "__________________________________________________________________________________________________\n",
      "Layer (type)                    Output Shape         Param #     Connected to                     \n",
      "==================================================================================================\n",
      "input_1 (InputLayer)            [(None, 224, 224, 3) 0                                            \n",
      "__________________________________________________________________________________________________\n",
      "Conv1 (Conv2D)                  (None, 112, 112, 32) 864         input_1[0][0]                    \n",
      "__________________________________________________________________________________________________\n",
      "bn_Conv1 (BatchNormalization)   (None, 112, 112, 32) 128         Conv1[0][0]                      \n",
      "__________________________________________________________________________________________________\n",
      "Conv1_relu (ReLU)               (None, 112, 112, 32) 0           bn_Conv1[0][0]                   \n",
      "__________________________________________________________________________________________________\n",
      "expanded_conv_depthwise (Depthw (None, 112, 112, 32) 288         Conv1_relu[0][0]                 \n",
      "__________________________________________________________________________________________________\n",
      "expanded_conv_depthwise_BN (Bat (None, 112, 112, 32) 128         expanded_conv_depthwise[0][0]    \n",
      "__________________________________________________________________________________________________\n",
      "expanded_conv_depthwise_relu (R (None, 112, 112, 32) 0           expanded_conv_depthwise_BN[0][0] \n",
      "__________________________________________________________________________________________________\n",
      "expanded_conv_project (Conv2D)  (None, 112, 112, 16) 512         expanded_conv_depthwise_relu[0][0\n",
      "__________________________________________________________________________________________________\n",
      "expanded_conv_project_BN (Batch (None, 112, 112, 16) 64          expanded_conv_project[0][0]      \n",
      "__________________________________________________________________________________________________\n",
      "block_1_expand (Conv2D)         (None, 112, 112, 96) 1536        expanded_conv_project_BN[0][0]   \n",
      "__________________________________________________________________________________________________\n",
      "block_1_expand_BN (BatchNormali (None, 112, 112, 96) 384         block_1_expand[0][0]             \n",
      "__________________________________________________________________________________________________\n",
      "block_1_expand_relu (ReLU)      (None, 112, 112, 96) 0           block_1_expand_BN[0][0]          \n",
      "__________________________________________________________________________________________________\n",
      "block_1_pad (ZeroPadding2D)     (None, 113, 113, 96) 0           block_1_expand_relu[0][0]        \n",
      "__________________________________________________________________________________________________\n",
      "block_1_depthwise (DepthwiseCon (None, 56, 56, 96)   864         block_1_pad[0][0]                \n",
      "__________________________________________________________________________________________________\n",
      "block_1_depthwise_BN (BatchNorm (None, 56, 56, 96)   384         block_1_depthwise[0][0]          \n",
      "__________________________________________________________________________________________________\n",
      "block_1_depthwise_relu (ReLU)   (None, 56, 56, 96)   0           block_1_depthwise_BN[0][0]       \n",
      "__________________________________________________________________________________________________\n",
      "block_1_project (Conv2D)        (None, 56, 56, 24)   2304        block_1_depthwise_relu[0][0]     \n",
      "__________________________________________________________________________________________________\n",
      "block_1_project_BN (BatchNormal (None, 56, 56, 24)   96          block_1_project[0][0]            \n",
      "__________________________________________________________________________________________________\n",
      "block_2_expand (Conv2D)         (None, 56, 56, 144)  3456        block_1_project_BN[0][0]         \n",
      "__________________________________________________________________________________________________\n",
      "block_2_expand_BN (BatchNormali (None, 56, 56, 144)  576         block_2_expand[0][0]             \n",
      "__________________________________________________________________________________________________\n",
      "block_2_expand_relu (ReLU)      (None, 56, 56, 144)  0           block_2_expand_BN[0][0]          \n",
      "__________________________________________________________________________________________________\n",
      "block_2_depthwise (DepthwiseCon (None, 56, 56, 144)  1296        block_2_expand_relu[0][0]        \n",
      "__________________________________________________________________________________________________\n",
      "block_2_depthwise_BN (BatchNorm (None, 56, 56, 144)  576         block_2_depthwise[0][0]          \n",
      "__________________________________________________________________________________________________\n",
      "block_2_depthwise_relu (ReLU)   (None, 56, 56, 144)  0           block_2_depthwise_BN[0][0]       \n",
      "__________________________________________________________________________________________________\n",
      "block_2_project (Conv2D)        (None, 56, 56, 24)   3456        block_2_depthwise_relu[0][0]     \n",
      "__________________________________________________________________________________________________\n",
      "block_2_project_BN (BatchNormal (None, 56, 56, 24)   96          block_2_project[0][0]            \n",
      "__________________________________________________________________________________________________\n",
      "block_2_add (Add)               (None, 56, 56, 24)   0           block_1_project_BN[0][0]         \n",
      "                                                                 block_2_project_BN[0][0]         \n",
      "__________________________________________________________________________________________________\n",
      "block_3_expand (Conv2D)         (None, 56, 56, 144)  3456        block_2_add[0][0]                \n",
      "__________________________________________________________________________________________________\n",
      "block_3_expand_BN (BatchNormali (None, 56, 56, 144)  576         block_3_expand[0][0]             \n",
      "__________________________________________________________________________________________________\n",
      "block_3_expand_relu (ReLU)      (None, 56, 56, 144)  0           block_3_expand_BN[0][0]          \n",
      "__________________________________________________________________________________________________\n",
      "block_3_pad (ZeroPadding2D)     (None, 57, 57, 144)  0           block_3_expand_relu[0][0]        \n",
      "__________________________________________________________________________________________________\n",
      "block_3_depthwise (DepthwiseCon (None, 28, 28, 144)  1296        block_3_pad[0][0]                \n",
      "__________________________________________________________________________________________________\n",
      "block_3_depthwise_BN (BatchNorm (None, 28, 28, 144)  576         block_3_depthwise[0][0]          \n",
      "__________________________________________________________________________________________________\n",
      "block_3_depthwise_relu (ReLU)   (None, 28, 28, 144)  0           block_3_depthwise_BN[0][0]       \n",
      "__________________________________________________________________________________________________\n",
      "block_3_project (Conv2D)        (None, 28, 28, 32)   4608        block_3_depthwise_relu[0][0]     \n",
      "__________________________________________________________________________________________________\n",
      "block_3_project_BN (BatchNormal (None, 28, 28, 32)   128         block_3_project[0][0]            \n",
      "__________________________________________________________________________________________________\n",
      "block_4_expand (Conv2D)         (None, 28, 28, 192)  6144        block_3_project_BN[0][0]         \n",
      "__________________________________________________________________________________________________\n",
      "block_4_expand_BN (BatchNormali (None, 28, 28, 192)  768         block_4_expand[0][0]             \n",
      "__________________________________________________________________________________________________\n",
      "block_4_expand_relu (ReLU)      (None, 28, 28, 192)  0           block_4_expand_BN[0][0]          \n",
      "__________________________________________________________________________________________________\n",
      "block_4_depthwise (DepthwiseCon (None, 28, 28, 192)  1728        block_4_expand_relu[0][0]        \n",
      "__________________________________________________________________________________________________\n",
      "block_4_depthwise_BN (BatchNorm (None, 28, 28, 192)  768         block_4_depthwise[0][0]          \n",
      "__________________________________________________________________________________________________\n",
      "block_4_depthwise_relu (ReLU)   (None, 28, 28, 192)  0           block_4_depthwise_BN[0][0]       \n",
      "__________________________________________________________________________________________________\n",
      "block_4_project (Conv2D)        (None, 28, 28, 32)   6144        block_4_depthwise_relu[0][0]     \n",
      "__________________________________________________________________________________________________\n",
      "block_4_project_BN (BatchNormal (None, 28, 28, 32)   128         block_4_project[0][0]            \n",
      "__________________________________________________________________________________________________\n",
      "block_4_add (Add)               (None, 28, 28, 32)   0           block_3_project_BN[0][0]         \n",
      "                                                                 block_4_project_BN[0][0]         \n",
      "__________________________________________________________________________________________________\n",
      "block_5_expand (Conv2D)         (None, 28, 28, 192)  6144        block_4_add[0][0]                \n",
      "__________________________________________________________________________________________________\n",
      "block_5_expand_BN (BatchNormali (None, 28, 28, 192)  768         block_5_expand[0][0]             \n",
      "__________________________________________________________________________________________________\n",
      "block_5_expand_relu (ReLU)      (None, 28, 28, 192)  0           block_5_expand_BN[0][0]          \n",
      "__________________________________________________________________________________________________\n",
      "block_5_depthwise (DepthwiseCon (None, 28, 28, 192)  1728        block_5_expand_relu[0][0]        \n",
      "__________________________________________________________________________________________________\n",
      "block_5_depthwise_BN (BatchNorm (None, 28, 28, 192)  768         block_5_depthwise[0][0]          \n",
      "__________________________________________________________________________________________________\n",
      "block_5_depthwise_relu (ReLU)   (None, 28, 28, 192)  0           block_5_depthwise_BN[0][0]       \n",
      "__________________________________________________________________________________________________\n",
      "block_5_project (Conv2D)        (None, 28, 28, 32)   6144        block_5_depthwise_relu[0][0]     \n",
      "__________________________________________________________________________________________________\n",
      "block_5_project_BN (BatchNormal (None, 28, 28, 32)   128         block_5_project[0][0]            \n",
      "__________________________________________________________________________________________________\n",
      "block_5_add (Add)               (None, 28, 28, 32)   0           block_4_add[0][0]                \n",
      "                                                                 block_5_project_BN[0][0]         \n",
      "__________________________________________________________________________________________________\n",
      "block_6_expand (Conv2D)         (None, 28, 28, 192)  6144        block_5_add[0][0]                \n",
      "__________________________________________________________________________________________________\n",
      "block_6_expand_BN (BatchNormali (None, 28, 28, 192)  768         block_6_expand[0][0]             \n",
      "__________________________________________________________________________________________________\n",
      "block_6_expand_relu (ReLU)      (None, 28, 28, 192)  0           block_6_expand_BN[0][0]          \n",
      "__________________________________________________________________________________________________\n",
      "block_6_pad (ZeroPadding2D)     (None, 29, 29, 192)  0           block_6_expand_relu[0][0]        \n",
      "__________________________________________________________________________________________________\n",
      "block_6_depthwise (DepthwiseCon (None, 14, 14, 192)  1728        block_6_pad[0][0]                \n",
      "__________________________________________________________________________________________________\n",
      "block_6_depthwise_BN (BatchNorm (None, 14, 14, 192)  768         block_6_depthwise[0][0]          \n",
      "__________________________________________________________________________________________________\n",
      "block_6_depthwise_relu (ReLU)   (None, 14, 14, 192)  0           block_6_depthwise_BN[0][0]       \n",
      "__________________________________________________________________________________________________\n",
      "block_6_project (Conv2D)        (None, 14, 14, 64)   12288       block_6_depthwise_relu[0][0]     \n",
      "__________________________________________________________________________________________________\n",
      "block_6_project_BN (BatchNormal (None, 14, 14, 64)   256         block_6_project[0][0]            \n",
      "__________________________________________________________________________________________________\n",
      "block_7_expand (Conv2D)         (None, 14, 14, 384)  24576       block_6_project_BN[0][0]         \n",
      "__________________________________________________________________________________________________\n",
      "block_7_expand_BN (BatchNormali (None, 14, 14, 384)  1536        block_7_expand[0][0]             \n",
      "__________________________________________________________________________________________________\n",
      "block_7_expand_relu (ReLU)      (None, 14, 14, 384)  0           block_7_expand_BN[0][0]          \n",
      "__________________________________________________________________________________________________\n",
      "block_7_depthwise (DepthwiseCon (None, 14, 14, 384)  3456        block_7_expand_relu[0][0]        \n",
      "__________________________________________________________________________________________________\n",
      "block_7_depthwise_BN (BatchNorm (None, 14, 14, 384)  1536        block_7_depthwise[0][0]          \n",
      "__________________________________________________________________________________________________\n",
      "block_7_depthwise_relu (ReLU)   (None, 14, 14, 384)  0           block_7_depthwise_BN[0][0]       \n",
      "__________________________________________________________________________________________________\n",
      "block_7_project (Conv2D)        (None, 14, 14, 64)   24576       block_7_depthwise_relu[0][0]     \n",
      "__________________________________________________________________________________________________\n",
      "block_7_project_BN (BatchNormal (None, 14, 14, 64)   256         block_7_project[0][0]            \n",
      "__________________________________________________________________________________________________\n",
      "block_7_add (Add)               (None, 14, 14, 64)   0           block_6_project_BN[0][0]         \n",
      "                                                                 block_7_project_BN[0][0]         \n",
      "__________________________________________________________________________________________________\n",
      "block_8_expand (Conv2D)         (None, 14, 14, 384)  24576       block_7_add[0][0]                \n",
      "__________________________________________________________________________________________________\n",
      "block_8_expand_BN (BatchNormali (None, 14, 14, 384)  1536        block_8_expand[0][0]             \n",
      "__________________________________________________________________________________________________\n",
      "block_8_expand_relu (ReLU)      (None, 14, 14, 384)  0           block_8_expand_BN[0][0]          \n",
      "__________________________________________________________________________________________________\n",
      "block_8_depthwise (DepthwiseCon (None, 14, 14, 384)  3456        block_8_expand_relu[0][0]        \n",
      "__________________________________________________________________________________________________\n",
      "block_8_depthwise_BN (BatchNorm (None, 14, 14, 384)  1536        block_8_depthwise[0][0]          \n",
      "__________________________________________________________________________________________________\n",
      "block_8_depthwise_relu (ReLU)   (None, 14, 14, 384)  0           block_8_depthwise_BN[0][0]       \n",
      "__________________________________________________________________________________________________\n",
      "block_8_project (Conv2D)        (None, 14, 14, 64)   24576       block_8_depthwise_relu[0][0]     \n",
      "__________________________________________________________________________________________________\n",
      "block_8_project_BN (BatchNormal (None, 14, 14, 64)   256         block_8_project[0][0]            \n",
      "__________________________________________________________________________________________________\n",
      "block_8_add (Add)               (None, 14, 14, 64)   0           block_7_add[0][0]                \n",
      "                                                                 block_8_project_BN[0][0]         \n",
      "__________________________________________________________________________________________________\n",
      "block_9_expand (Conv2D)         (None, 14, 14, 384)  24576       block_8_add[0][0]                \n",
      "__________________________________________________________________________________________________\n",
      "block_9_expand_BN (BatchNormali (None, 14, 14, 384)  1536        block_9_expand[0][0]             \n",
      "__________________________________________________________________________________________________\n",
      "block_9_expand_relu (ReLU)      (None, 14, 14, 384)  0           block_9_expand_BN[0][0]          \n",
      "__________________________________________________________________________________________________\n",
      "block_9_depthwise (DepthwiseCon (None, 14, 14, 384)  3456        block_9_expand_relu[0][0]        \n",
      "__________________________________________________________________________________________________\n",
      "block_9_depthwise_BN (BatchNorm (None, 14, 14, 384)  1536        block_9_depthwise[0][0]          \n",
      "__________________________________________________________________________________________________\n",
      "block_9_depthwise_relu (ReLU)   (None, 14, 14, 384)  0           block_9_depthwise_BN[0][0]       \n",
      "__________________________________________________________________________________________________\n",
      "block_9_project (Conv2D)        (None, 14, 14, 64)   24576       block_9_depthwise_relu[0][0]     \n",
      "__________________________________________________________________________________________________\n",
      "block_9_project_BN (BatchNormal (None, 14, 14, 64)   256         block_9_project[0][0]            \n",
      "__________________________________________________________________________________________________\n",
      "block_9_add (Add)               (None, 14, 14, 64)   0           block_8_add[0][0]                \n",
      "                                                                 block_9_project_BN[0][0]         \n",
      "__________________________________________________________________________________________________\n",
      "block_10_expand (Conv2D)        (None, 14, 14, 384)  24576       block_9_add[0][0]                \n",
      "__________________________________________________________________________________________________\n",
      "block_10_expand_BN (BatchNormal (None, 14, 14, 384)  1536        block_10_expand[0][0]            \n",
      "__________________________________________________________________________________________________\n",
      "block_10_expand_relu (ReLU)     (None, 14, 14, 384)  0           block_10_expand_BN[0][0]         \n",
      "__________________________________________________________________________________________________\n",
      "block_10_depthwise (DepthwiseCo (None, 14, 14, 384)  3456        block_10_expand_relu[0][0]       \n",
      "__________________________________________________________________________________________________\n",
      "block_10_depthwise_BN (BatchNor (None, 14, 14, 384)  1536        block_10_depthwise[0][0]         \n",
      "__________________________________________________________________________________________________\n",
      "block_10_depthwise_relu (ReLU)  (None, 14, 14, 384)  0           block_10_depthwise_BN[0][0]      \n",
      "__________________________________________________________________________________________________\n",
      "block_10_project (Conv2D)       (None, 14, 14, 96)   36864       block_10_depthwise_relu[0][0]    \n",
      "__________________________________________________________________________________________________\n",
      "block_10_project_BN (BatchNorma (None, 14, 14, 96)   384         block_10_project[0][0]           \n",
      "__________________________________________________________________________________________________\n",
      "block_11_expand (Conv2D)        (None, 14, 14, 576)  55296       block_10_project_BN[0][0]        \n",
      "__________________________________________________________________________________________________\n",
      "block_11_expand_BN (BatchNormal (None, 14, 14, 576)  2304        block_11_expand[0][0]            \n",
      "__________________________________________________________________________________________________\n",
      "block_11_expand_relu (ReLU)     (None, 14, 14, 576)  0           block_11_expand_BN[0][0]         \n",
      "__________________________________________________________________________________________________\n",
      "block_11_depthwise (DepthwiseCo (None, 14, 14, 576)  5184        block_11_expand_relu[0][0]       \n",
      "__________________________________________________________________________________________________\n",
      "block_11_depthwise_BN (BatchNor (None, 14, 14, 576)  2304        block_11_depthwise[0][0]         \n",
      "__________________________________________________________________________________________________\n",
      "block_11_depthwise_relu (ReLU)  (None, 14, 14, 576)  0           block_11_depthwise_BN[0][0]      \n",
      "__________________________________________________________________________________________________\n",
      "block_11_project (Conv2D)       (None, 14, 14, 96)   55296       block_11_depthwise_relu[0][0]    \n",
      "__________________________________________________________________________________________________\n",
      "block_11_project_BN (BatchNorma (None, 14, 14, 96)   384         block_11_project[0][0]           \n",
      "__________________________________________________________________________________________________\n",
      "block_11_add (Add)              (None, 14, 14, 96)   0           block_10_project_BN[0][0]        \n",
      "                                                                 block_11_project_BN[0][0]        \n",
      "__________________________________________________________________________________________________\n",
      "block_12_expand (Conv2D)        (None, 14, 14, 576)  55296       block_11_add[0][0]               \n",
      "__________________________________________________________________________________________________\n",
      "block_12_expand_BN (BatchNormal (None, 14, 14, 576)  2304        block_12_expand[0][0]            \n",
      "__________________________________________________________________________________________________\n",
      "block_12_expand_relu (ReLU)     (None, 14, 14, 576)  0           block_12_expand_BN[0][0]         \n",
      "__________________________________________________________________________________________________\n",
      "block_12_depthwise (DepthwiseCo (None, 14, 14, 576)  5184        block_12_expand_relu[0][0]       \n",
      "__________________________________________________________________________________________________\n",
      "block_12_depthwise_BN (BatchNor (None, 14, 14, 576)  2304        block_12_depthwise[0][0]         \n",
      "__________________________________________________________________________________________________\n",
      "block_12_depthwise_relu (ReLU)  (None, 14, 14, 576)  0           block_12_depthwise_BN[0][0]      \n",
      "__________________________________________________________________________________________________\n",
      "block_12_project (Conv2D)       (None, 14, 14, 96)   55296       block_12_depthwise_relu[0][0]    \n",
      "__________________________________________________________________________________________________\n",
      "block_12_project_BN (BatchNorma (None, 14, 14, 96)   384         block_12_project[0][0]           \n",
      "__________________________________________________________________________________________________\n",
      "block_12_add (Add)              (None, 14, 14, 96)   0           block_11_add[0][0]               \n",
      "                                                                 block_12_project_BN[0][0]        \n",
      "__________________________________________________________________________________________________\n",
      "block_13_expand (Conv2D)        (None, 14, 14, 576)  55296       block_12_add[0][0]               \n",
      "__________________________________________________________________________________________________\n",
      "block_13_expand_BN (BatchNormal (None, 14, 14, 576)  2304        block_13_expand[0][0]            \n",
      "__________________________________________________________________________________________________\n",
      "block_13_expand_relu (ReLU)     (None, 14, 14, 576)  0           block_13_expand_BN[0][0]         \n",
      "__________________________________________________________________________________________________\n",
      "block_13_pad (ZeroPadding2D)    (None, 15, 15, 576)  0           block_13_expand_relu[0][0]       \n",
      "__________________________________________________________________________________________________\n",
      "block_13_depthwise (DepthwiseCo (None, 7, 7, 576)    5184        block_13_pad[0][0]               \n",
      "__________________________________________________________________________________________________\n",
      "block_13_depthwise_BN (BatchNor (None, 7, 7, 576)    2304        block_13_depthwise[0][0]         \n",
      "__________________________________________________________________________________________________\n",
      "block_13_depthwise_relu (ReLU)  (None, 7, 7, 576)    0           block_13_depthwise_BN[0][0]      \n",
      "__________________________________________________________________________________________________\n",
      "block_13_project (Conv2D)       (None, 7, 7, 160)    92160       block_13_depthwise_relu[0][0]    \n",
      "__________________________________________________________________________________________________\n",
      "block_13_project_BN (BatchNorma (None, 7, 7, 160)    640         block_13_project[0][0]           \n",
      "__________________________________________________________________________________________________\n",
      "block_14_expand (Conv2D)        (None, 7, 7, 960)    153600      block_13_project_BN[0][0]        \n",
      "__________________________________________________________________________________________________\n",
      "block_14_expand_BN (BatchNormal (None, 7, 7, 960)    3840        block_14_expand[0][0]            \n",
      "__________________________________________________________________________________________________\n",
      "block_14_expand_relu (ReLU)     (None, 7, 7, 960)    0           block_14_expand_BN[0][0]         \n",
      "__________________________________________________________________________________________________\n",
      "block_14_depthwise (DepthwiseCo (None, 7, 7, 960)    8640        block_14_expand_relu[0][0]       \n",
      "__________________________________________________________________________________________________\n",
      "block_14_depthwise_BN (BatchNor (None, 7, 7, 960)    3840        block_14_depthwise[0][0]         \n",
      "__________________________________________________________________________________________________\n",
      "block_14_depthwise_relu (ReLU)  (None, 7, 7, 960)    0           block_14_depthwise_BN[0][0]      \n",
      "__________________________________________________________________________________________________\n",
      "block_14_project (Conv2D)       (None, 7, 7, 160)    153600      block_14_depthwise_relu[0][0]    \n",
      "__________________________________________________________________________________________________\n",
      "block_14_project_BN (BatchNorma (None, 7, 7, 160)    640         block_14_project[0][0]           \n",
      "__________________________________________________________________________________________________\n",
      "block_14_add (Add)              (None, 7, 7, 160)    0           block_13_project_BN[0][0]        \n",
      "                                                                 block_14_project_BN[0][0]        \n",
      "__________________________________________________________________________________________________\n",
      "block_15_expand (Conv2D)        (None, 7, 7, 960)    153600      block_14_add[0][0]               \n",
      "__________________________________________________________________________________________________\n",
      "block_15_expand_BN (BatchNormal (None, 7, 7, 960)    3840        block_15_expand[0][0]            \n",
      "__________________________________________________________________________________________________\n",
      "block_15_expand_relu (ReLU)     (None, 7, 7, 960)    0           block_15_expand_BN[0][0]         \n",
      "__________________________________________________________________________________________________\n",
      "block_15_depthwise (DepthwiseCo (None, 7, 7, 960)    8640        block_15_expand_relu[0][0]       \n",
      "__________________________________________________________________________________________________\n",
      "block_15_depthwise_BN (BatchNor (None, 7, 7, 960)    3840        block_15_depthwise[0][0]         \n",
      "__________________________________________________________________________________________________\n",
      "block_15_depthwise_relu (ReLU)  (None, 7, 7, 960)    0           block_15_depthwise_BN[0][0]      \n",
      "__________________________________________________________________________________________________\n",
      "block_15_project (Conv2D)       (None, 7, 7, 160)    153600      block_15_depthwise_relu[0][0]    \n",
      "__________________________________________________________________________________________________\n",
      "block_15_project_BN (BatchNorma (None, 7, 7, 160)    640         block_15_project[0][0]           \n",
      "__________________________________________________________________________________________________\n",
      "block_15_add (Add)              (None, 7, 7, 160)    0           block_14_add[0][0]               \n",
      "                                                                 block_15_project_BN[0][0]        \n",
      "__________________________________________________________________________________________________\n",
      "block_16_expand (Conv2D)        (None, 7, 7, 960)    153600      block_15_add[0][0]               \n",
      "__________________________________________________________________________________________________\n",
      "block_16_expand_BN (BatchNormal (None, 7, 7, 960)    3840        block_16_expand[0][0]            \n",
      "__________________________________________________________________________________________________\n",
      "block_16_expand_relu (ReLU)     (None, 7, 7, 960)    0           block_16_expand_BN[0][0]         \n",
      "__________________________________________________________________________________________________\n",
      "block_16_depthwise (DepthwiseCo (None, 7, 7, 960)    8640        block_16_expand_relu[0][0]       \n",
      "__________________________________________________________________________________________________\n",
      "block_16_depthwise_BN (BatchNor (None, 7, 7, 960)    3840        block_16_depthwise[0][0]         \n",
      "__________________________________________________________________________________________________\n",
      "block_16_depthwise_relu (ReLU)  (None, 7, 7, 960)    0           block_16_depthwise_BN[0][0]      \n",
      "__________________________________________________________________________________________________\n",
      "block_16_project (Conv2D)       (None, 7, 7, 320)    307200      block_16_depthwise_relu[0][0]    \n",
      "__________________________________________________________________________________________________\n",
      "block_16_project_BN (BatchNorma (None, 7, 7, 320)    1280        block_16_project[0][0]           \n",
      "__________________________________________________________________________________________________\n",
      "Conv_1 (Conv2D)                 (None, 7, 7, 1280)   409600      block_16_project_BN[0][0]        \n",
      "__________________________________________________________________________________________________\n",
      "Conv_1_bn (BatchNormalization)  (None, 7, 7, 1280)   5120        Conv_1[0][0]                     \n",
      "__________________________________________________________________________________________________\n",
      "out_relu (ReLU)                 (None, 7, 7, 1280)   0           Conv_1_bn[0][0]                  \n",
      "==================================================================================================\n",
      "Total params: 2,257,984\n",
      "Trainable params: 2,223,872\n",
      "Non-trainable params: 34,112\n",
      "__________________________________________________________________________________________________\n"
     ]
    }
   ],
   "source": [
    "mobile_net_layers.summary()"
   ]
  },
  {
   "cell_type": "code",
   "execution_count": 19,
   "id": "d2baf48a",
   "metadata": {
    "execution": {
     "iopub.execute_input": "2022-08-23T03:59:53.043191Z",
     "iopub.status.busy": "2022-08-23T03:59:53.042174Z",
     "iopub.status.idle": "2022-08-23T03:59:53.048906Z",
     "shell.execute_reply": "2022-08-23T03:59:53.047677Z"
    },
    "papermill": {
     "duration": 0.02002,
     "end_time": "2022-08-23T03:59:53.052029",
     "exception": false,
     "start_time": "2022-08-23T03:59:53.032009",
     "status": "completed"
    },
    "tags": []
   },
   "outputs": [
    {
     "name": "stdout",
     "output_type": "stream",
     "text": [
      "Number of layers in the base model:  154\n"
     ]
    }
   ],
   "source": [
    "print(\"Number of layers in the base model: \", len(mobile_net_layers.layers))"
   ]
  },
  {
   "cell_type": "code",
   "execution_count": 20,
   "id": "2fae1886",
   "metadata": {
    "execution": {
     "iopub.execute_input": "2022-08-23T03:59:53.070053Z",
     "iopub.status.busy": "2022-08-23T03:59:53.069727Z",
     "iopub.status.idle": "2022-08-23T03:59:53.076866Z",
     "shell.execute_reply": "2022-08-23T03:59:53.075762Z"
    },
    "papermill": {
     "duration": 0.01929,
     "end_time": "2022-08-23T03:59:53.079338",
     "exception": false,
     "start_time": "2022-08-23T03:59:53.060048",
     "status": "completed"
    },
    "tags": []
   },
   "outputs": [],
   "source": [
    "fine_tune_at = 77\n",
    "\n",
    "for layer in mobile_net_layers.layers[:fine_tune_at]:\n",
    "    layer.trainable =  False"
   ]
  },
  {
   "cell_type": "code",
   "execution_count": 21,
   "id": "7ee257b8",
   "metadata": {
    "execution": {
     "iopub.execute_input": "2022-08-23T03:59:53.098610Z",
     "iopub.status.busy": "2022-08-23T03:59:53.098238Z",
     "iopub.status.idle": "2022-08-23T03:59:53.464194Z",
     "shell.execute_reply": "2022-08-23T03:59:53.462951Z"
    },
    "papermill": {
     "duration": 0.378503,
     "end_time": "2022-08-23T03:59:53.466800",
     "exception": false,
     "start_time": "2022-08-23T03:59:53.088297",
     "status": "completed"
    },
    "tags": []
   },
   "outputs": [],
   "source": [
    "model1 = tf.keras.Sequential([\n",
    "  mobile_net_layers,\n",
    "  tf.keras.layers.GlobalMaxPool2D(),\n",
    "  tf.keras.layers.Flatten(),\n",
    "  tf.keras.layers.Dense(4,activation='softmax')  \n",
    "])"
   ]
  },
  {
   "cell_type": "code",
   "execution_count": 22,
   "id": "8d82e5b0",
   "metadata": {
    "execution": {
     "iopub.execute_input": "2022-08-23T03:59:53.487316Z",
     "iopub.status.busy": "2022-08-23T03:59:53.486618Z",
     "iopub.status.idle": "2022-08-23T03:59:53.501873Z",
     "shell.execute_reply": "2022-08-23T03:59:53.500818Z"
    },
    "papermill": {
     "duration": 0.028028,
     "end_time": "2022-08-23T03:59:53.504438",
     "exception": false,
     "start_time": "2022-08-23T03:59:53.476410",
     "status": "completed"
    },
    "tags": []
   },
   "outputs": [
    {
     "name": "stdout",
     "output_type": "stream",
     "text": [
      "Model: \"sequential\"\n",
      "_________________________________________________________________\n",
      "Layer (type)                 Output Shape              Param #   \n",
      "=================================================================\n",
      "mobilenetv2_1.00_224 (Functi (None, 7, 7, 1280)        2257984   \n",
      "_________________________________________________________________\n",
      "global_max_pooling2d (Global (None, 1280)              0         \n",
      "_________________________________________________________________\n",
      "flatten (Flatten)            (None, 1280)              0         \n",
      "_________________________________________________________________\n",
      "dense (Dense)                (None, 4)                 5124      \n",
      "=================================================================\n",
      "Total params: 2,263,108\n",
      "Trainable params: 2,068,612\n",
      "Non-trainable params: 194,496\n",
      "_________________________________________________________________\n"
     ]
    }
   ],
   "source": [
    "model1.summary()"
   ]
  },
  {
   "cell_type": "code",
   "execution_count": 23,
   "id": "b5a04af9",
   "metadata": {
    "execution": {
     "iopub.execute_input": "2022-08-23T03:59:53.523729Z",
     "iopub.status.busy": "2022-08-23T03:59:53.523350Z",
     "iopub.status.idle": "2022-08-23T03:59:53.530307Z",
     "shell.execute_reply": "2022-08-23T03:59:53.529436Z"
    },
    "papermill": {
     "duration": 0.019105,
     "end_time": "2022-08-23T03:59:53.532593",
     "exception": false,
     "start_time": "2022-08-23T03:59:53.513488",
     "status": "completed"
    },
    "tags": []
   },
   "outputs": [],
   "source": [
    "from keras import backend as K\n",
    "def f1SCORE(y_true, y_pred): #taken from old keras source code\n",
    "    true_positives = K.sum(K.round(K.clip(y_true * y_pred, 0, 1)))\n",
    "    possible_positives = K.sum(K.round(K.clip(y_true, 0, 1)))\n",
    "    predicted_positives = K.sum(K.round(K.clip(y_pred, 0, 1)))\n",
    "    precision = true_positives / (predicted_positives + K.epsilon())\n",
    "    recall = true_positives / (possible_positives + K.epsilon())\n",
    "    f1_val = 2*(precision*recall)/(precision+recall+K.epsilon())\n",
    "    return f1_val"
   ]
  },
  {
   "cell_type": "code",
   "execution_count": 24,
   "id": "5da3742a",
   "metadata": {
    "execution": {
     "iopub.execute_input": "2022-08-23T03:59:53.550390Z",
     "iopub.status.busy": "2022-08-23T03:59:53.550118Z",
     "iopub.status.idle": "2022-08-23T03:59:53.575541Z",
     "shell.execute_reply": "2022-08-23T03:59:53.574584Z"
    },
    "papermill": {
     "duration": 0.03652,
     "end_time": "2022-08-23T03:59:53.577747",
     "exception": false,
     "start_time": "2022-08-23T03:59:53.541227",
     "status": "completed"
    },
    "tags": []
   },
   "outputs": [],
   "source": [
    "base_learning_rate = 0.0001\n",
    "model1.compile(optimizer=tf.keras.optimizers.Adam(learning_rate=base_learning_rate),\n",
    "              loss=tf.keras.losses.CategoricalCrossentropy(),\n",
    "              metrics=['accuracy', keras.metrics.Precision(), keras.metrics.Recall(), keras.metrics.AUC(),f1SCORE])"
   ]
  },
  {
   "cell_type": "code",
   "execution_count": 25,
   "id": "8d06492e",
   "metadata": {
    "execution": {
     "iopub.execute_input": "2022-08-23T03:59:53.604455Z",
     "iopub.status.busy": "2022-08-23T03:59:53.603956Z",
     "iopub.status.idle": "2022-08-23T03:59:53.616141Z",
     "shell.execute_reply": "2022-08-23T03:59:53.614971Z"
    },
    "papermill": {
     "duration": 0.031713,
     "end_time": "2022-08-23T03:59:53.618636",
     "exception": false,
     "start_time": "2022-08-23T03:59:53.586923",
     "status": "completed"
    },
    "tags": []
   },
   "outputs": [],
   "source": [
    "early_stopping = tf.keras.callbacks.EarlyStopping(monitor='val_loss', patience=5, restore_best_weights=True)"
   ]
  },
  {
   "cell_type": "code",
   "execution_count": 26,
   "id": "d0b47817",
   "metadata": {
    "execution": {
     "iopub.execute_input": "2022-08-23T03:59:53.636566Z",
     "iopub.status.busy": "2022-08-23T03:59:53.636239Z",
     "iopub.status.idle": "2022-08-23T04:11:37.703545Z",
     "shell.execute_reply": "2022-08-23T04:11:37.702369Z"
    },
    "papermill": {
     "duration": 704.078923,
     "end_time": "2022-08-23T04:11:37.706053",
     "exception": false,
     "start_time": "2022-08-23T03:59:53.627130",
     "status": "completed"
    },
    "tags": []
   },
   "outputs": [
    {
     "name": "stderr",
     "output_type": "stream",
     "text": [
      "2022-08-23 03:59:53.756848: I tensorflow/compiler/mlir/mlir_graph_optimization_pass.cc:185] None of the MLIR Optimization Passes are enabled (registered 2)\n"
     ]
    },
    {
     "name": "stdout",
     "output_type": "stream",
     "text": [
      "Epoch 1/10000\n"
     ]
    },
    {
     "name": "stderr",
     "output_type": "stream",
     "text": [
      "2022-08-23 03:59:58.891806: I tensorflow/stream_executor/cuda/cuda_dnn.cc:369] Loaded cuDNN version 8005\n"
     ]
    },
    {
     "name": "stdout",
     "output_type": "stream",
     "text": [
      "2052/2052 [==============================] - 89s 38ms/step - loss: 0.7184 - accuracy: 0.8127 - precision: 0.8169 - recall: 0.8077 - auc: 0.9459 - f1SCORE: 0.8118 - val_loss: 0.7269 - val_accuracy: 0.7955 - val_precision: 0.7992 - val_recall: 0.7922 - val_auc: 0.9420 - val_f1SCORE: 0.7954\n",
      "Epoch 2/10000\n",
      "2052/2052 [==============================] - 77s 37ms/step - loss: 0.4188 - accuracy: 0.8863 - precision: 0.8888 - recall: 0.8846 - auc: 0.9746 - f1SCORE: 0.8862 - val_loss: 0.3417 - val_accuracy: 0.8953 - val_precision: 0.8981 - val_recall: 0.8936 - val_auc: 0.9783 - val_f1SCORE: 0.8955\n",
      "Epoch 3/10000\n",
      "2052/2052 [==============================] - 75s 37ms/step - loss: 0.3271 - accuracy: 0.9072 - precision: 0.9083 - recall: 0.9060 - auc: 0.9812 - f1SCORE: 0.9071 - val_loss: 0.4784 - val_accuracy: 0.8421 - val_precision: 0.8428 - val_recall: 0.8405 - val_auc: 0.9660 - val_f1SCORE: 0.8415\n",
      "Epoch 4/10000\n",
      "2052/2052 [==============================] - 76s 37ms/step - loss: 0.2776 - accuracy: 0.9179 - precision: 0.9188 - recall: 0.9169 - auc: 0.9853 - f1SCORE: 0.9178 - val_loss: 0.2317 - val_accuracy: 0.9254 - val_precision: 0.9274 - val_recall: 0.9243 - val_auc: 0.9892 - val_f1SCORE: 0.9256\n",
      "Epoch 5/10000\n",
      "2052/2052 [==============================] - 78s 38ms/step - loss: 0.2382 - accuracy: 0.9285 - precision: 0.9296 - recall: 0.9281 - auc: 0.9884 - f1SCORE: 0.9284 - val_loss: 0.2633 - val_accuracy: 0.9123 - val_precision: 0.9132 - val_recall: 0.9112 - val_auc: 0.9853 - val_f1SCORE: 0.9121\n",
      "Epoch 6/10000\n",
      "2052/2052 [==============================] - 76s 37ms/step - loss: 0.2074 - accuracy: 0.9357 - precision: 0.9368 - recall: 0.9348 - auc: 0.9903 - f1SCORE: 0.9357 - val_loss: 0.3791 - val_accuracy: 0.8734 - val_precision: 0.8738 - val_recall: 0.8734 - val_auc: 0.9758 - val_f1SCORE: 0.8736\n",
      "Epoch 7/10000\n",
      "2052/2052 [==============================] - 77s 37ms/step - loss: 0.1769 - accuracy: 0.9439 - precision: 0.9446 - recall: 0.9434 - auc: 0.9922 - f1SCORE: 0.9440 - val_loss: 0.2824 - val_accuracy: 0.9139 - val_precision: 0.9159 - val_recall: 0.9134 - val_auc: 0.9838 - val_f1SCORE: 0.9145\n",
      "Epoch 8/10000\n",
      "2052/2052 [==============================] - 77s 38ms/step - loss: 0.1421 - accuracy: 0.9553 - precision: 0.9555 - recall: 0.9548 - auc: 0.9941 - f1SCORE: 0.9548 - val_loss: 0.3219 - val_accuracy: 0.9216 - val_precision: 0.9230 - val_recall: 0.9200 - val_auc: 0.9810 - val_f1SCORE: 0.9213\n",
      "Epoch 9/10000\n",
      "2052/2052 [==============================] - 78s 38ms/step - loss: 0.1250 - accuracy: 0.9609 - precision: 0.9613 - recall: 0.9608 - auc: 0.9951 - f1SCORE: 0.9606 - val_loss: 0.2502 - val_accuracy: 0.9326 - val_precision: 0.9336 - val_recall: 0.9326 - val_auc: 0.9863 - val_f1SCORE: 0.9330\n"
     ]
    }
   ],
   "source": [
    "initial_epochs = 10000\n",
    "history = model1.fit(train_generator, epochs=initial_epochs, \n",
    "                     validation_data = validation_generator, callbacks=[early_stopping])"
   ]
  },
  {
   "cell_type": "code",
   "execution_count": 27,
   "id": "fa34a464",
   "metadata": {
    "execution": {
     "iopub.execute_input": "2022-08-23T04:11:38.916240Z",
     "iopub.status.busy": "2022-08-23T04:11:38.915670Z",
     "iopub.status.idle": "2022-08-23T04:11:43.248551Z",
     "shell.execute_reply": "2022-08-23T04:11:43.247494Z"
    },
    "papermill": {
     "duration": 4.968827,
     "end_time": "2022-08-23T04:11:43.252331",
     "exception": false,
     "start_time": "2022-08-23T04:11:38.283504",
     "status": "completed"
    },
    "tags": []
   },
   "outputs": [
    {
     "data": {
      "image/png": "[encoded data removed]",
      "text/plain": [
       "<Figure size 1440x1152 with 6 Axes>"
      ]
     },
     "metadata": {},
     "output_type": "display_data"
    }
   ],
   "source": [
    "import seaborn as sns\n",
    "def data(history):\n",
    "  return pd.DataFrame(data=list(zip(history.history[\"accuracy\"], history.history[\"val_accuracy\"], history.history[\"loss\"], history.history[\"val_loss\"], history.history[\"recall\"], history.history[\"val_recall\"], history.history[\"precision\"], history.history[\"val_precision\"], history.history[\"auc\"], history.history[\"val_auc\"],history.history[\"f1SCORE\"],history.history[\"val_f1SCORE\"] )) , columns=[\"Accuracy\", \"Validation Accuracy\", \"Loss\", \"Validation Loss\", \"Recall\", \"Validation Recall\", \"Precision\", \"Validation Precision\", \"AUC\", \"Validation AUC\", \"f1SCORE\", \"Validation f1SCORE\"])\n",
    "def history_visualization(history):\n",
    "  df = data(history)\n",
    "  sns.set_style('darkgrid')\n",
    "  nrow = 3\n",
    "  ncol = 2\n",
    "  df_columns = df.columns\n",
    "  df_list = [df[col] for col in df]\n",
    "  titles=[\"Accuracy Visualization\", \"Loss Visualization\", \"Recall Visualization\", \"Precision Visualization\", \"AUC Visualization\", \"F1 Score Visualization\"]\n",
    "  fig, axes = plt.subplots(nrow, ncol, figsize=(20, 16))\n",
    "  count = 0\n",
    "  i = 0\n",
    "  for r in range(nrow):\n",
    "    for c in range(ncol):\n",
    "        df_list[count].plot(ax=axes[r,c], x=\"Number of Epochs\", legend=\"brief\", label=df_columns[count], marker=\"o\").set_title(titles[i])\n",
    "        df_list[count+1].plot(ax=axes[r, c], x=\"Number of Epochs\", legend=\"brief\" ,label=df_columns[count+1], marker=\"o\").set_title(titles[i])\n",
    "        i+=1\n",
    "        count+=2\n",
    "history_visualization(history)"
   ]
  },
  {
   "cell_type": "code",
   "execution_count": 28,
   "id": "0b202c60",
   "metadata": {
    "execution": {
     "iopub.execute_input": "2022-08-23T04:11:44.424507Z",
     "iopub.status.busy": "2022-08-23T04:11:44.424011Z",
     "iopub.status.idle": "2022-08-23T04:11:54.728459Z",
     "shell.execute_reply": "2022-08-23T04:11:54.727473Z"
    },
    "papermill": {
     "duration": 10.916281,
     "end_time": "2022-08-23T04:11:54.730789",
     "exception": false,
     "start_time": "2022-08-23T04:11:43.814508",
     "status": "completed"
    },
    "tags": []
   },
   "outputs": [
    {
     "name": "stdout",
     "output_type": "stream",
     "text": [
      "252/252 [==============================] - 8s 30ms/step - loss: 0.2588 - accuracy: 0.9256 - precision: 0.9276 - recall: 0.9221 - auc: 0.9859 - f1SCORE: 0.9246\n"
     ]
    },
    {
     "data": {
      "text/plain": [
       "[0.258835107088089,\n",
       " 0.92555832862854,\n",
       " 0.9276086091995239,\n",
       " 0.922084391117096,\n",
       " 0.985869288444519,\n",
       " 0.9245702624320984]"
      ]
     },
     "execution_count": 28,
     "metadata": {},
     "output_type": "execute_result"
    }
   ],
   "source": [
    "model1.evaluate(test_generator)\n",
    "# loss and accuracy"
   ]
  },
  {
   "cell_type": "code",
   "execution_count": 29,
   "id": "30fdeed2",
   "metadata": {
    "execution": {
     "iopub.execute_input": "2022-08-23T04:11:55.871473Z",
     "iopub.status.busy": "2022-08-23T04:11:55.870939Z",
     "iopub.status.idle": "2022-08-23T04:12:03.210734Z",
     "shell.execute_reply": "2022-08-23T04:12:03.209128Z"
    },
    "papermill": {
     "duration": 7.910826,
     "end_time": "2022-08-23T04:12:03.214135",
     "exception": false,
     "start_time": "2022-08-23T04:11:55.303309",
     "status": "completed"
    },
    "tags": []
   },
   "outputs": [
    {
     "name": "stdout",
     "output_type": "stream",
     "text": [
      "                 precision    recall  f1-score   support\n",
      "\n",
      "          Covid       0.94      0.98      0.96       361\n",
      "   Lung opacity       0.90      0.89      0.89       602\n",
      "         Normal       0.94      0.92      0.93       917\n",
      "Viral Pneumonia       0.94      0.99      0.96       135\n",
      "\n",
      "       accuracy                           0.93      2015\n",
      "      macro avg       0.93      0.94      0.94      2015\n",
      "   weighted avg       0.93      0.93      0.93      2015\n",
      "\n"
     ]
    }
   ],
   "source": [
    "from sklearn.metrics import confusion_matrix, classification_report\n",
    "import seaborn as sns\n",
    "val_predict = model1.predict(test_generator)\n",
    "predict_class = np.argmax(val_predict, axis=1)\n",
    "predict_class = predict_class.tolist()\n",
    "labels = ['Covid','Lung opacity' ,'Normal', 'Viral Pneumonia']\n",
    "report = classification_report(test_generator.classes, predict_class, target_names=labels)\n",
    "print(report)"
   ]
  },
  {
   "cell_type": "code",
   "execution_count": 30,
   "id": "ec10169f",
   "metadata": {
    "execution": {
     "iopub.execute_input": "2022-08-23T04:12:04.415605Z",
     "iopub.status.busy": "2022-08-23T04:12:04.414589Z",
     "iopub.status.idle": "2022-08-23T04:12:04.423360Z",
     "shell.execute_reply": "2022-08-23T04:12:04.422291Z"
    },
    "papermill": {
     "duration": 0.589433,
     "end_time": "2022-08-23T04:12:04.426016",
     "exception": false,
     "start_time": "2022-08-23T04:12:03.836583",
     "status": "completed"
    },
    "tags": []
   },
   "outputs": [],
   "source": [
    "cm = confusion_matrix(test_generator.classes, predict_class)\n",
    "cm_df = pd.DataFrame(cm,\n",
    "                     index = ['COVID','LUNG OPACITY' ,'NORMAL','VIRAL PNEUMONIA'], \n",
    "                     columns = ['COVID','LUNG OPACITY' ,'NORMAL','VIRAL PNEUMONIA'])"
   ]
  },
  {
   "cell_type": "code",
   "execution_count": 31,
   "id": "b42ac08c",
   "metadata": {
    "execution": {
     "iopub.execute_input": "2022-08-23T04:12:05.613688Z",
     "iopub.status.busy": "2022-08-23T04:12:05.613158Z",
     "iopub.status.idle": "2022-08-23T04:12:05.946780Z",
     "shell.execute_reply": "2022-08-23T04:12:05.945701Z"
    },
    "papermill": {
     "duration": 0.900929,
     "end_time": "2022-08-23T04:12:05.949103",
     "exception": false,
     "start_time": "2022-08-23T04:12:05.048174",
     "status": "completed"
    },
    "tags": []
   },
   "outputs": [
    {
     "data": {
      "image/png": "[encoded data removed]",
      "text/plain": [
       "<Figure size 720x576 with 2 Axes>"
      ]
     },
     "metadata": {},
     "output_type": "display_data"
    }
   ],
   "source": [
    "plt.figure(figsize=(10,8))\n",
    "sns.heatmap(cm_df, annot=True, fmt='d')\n",
    "plt.title(\"Confusion Matrixx\")\n",
    "plt.xlabel(\"Predicted\")\n",
    "plt.ylabel(\"Actual\")\n",
    "plt.show()"
   ]
  },
  {
   "cell_type": "code",
   "execution_count": 32,
   "id": "04c6bd69",
   "metadata": {
    "execution": {
     "iopub.execute_input": "2022-08-23T04:12:07.181026Z",
     "iopub.status.busy": "2022-08-23T04:12:07.180484Z",
     "iopub.status.idle": "2022-08-23T04:12:07.560818Z",
     "shell.execute_reply": "2022-08-23T04:12:07.559759Z"
    },
    "papermill": {
     "duration": 1.010308,
     "end_time": "2022-08-23T04:12:07.563460",
     "exception": false,
     "start_time": "2022-08-23T04:12:06.553152",
     "status": "completed"
    },
    "tags": []
   },
   "outputs": [
    {
     "name": "stderr",
     "output_type": "stream",
     "text": [
      "/opt/conda/lib/python3.7/site-packages/keras/utils/generic_utils.py:497: CustomMaskWarning: Custom mask layers require a config and must override get_config. When loading, the custom mask layer must be passed to the custom_objects argument.\n",
      "  category=CustomMaskWarning)\n"
     ]
    }
   ],
   "source": [
    "keras.models.save_model(model1,\"./base_dir/mobilenetfold6.h5\")"
   ]
  }
 ],
 "metadata": {
  "kernelspec": {
   "display_name": "Python 3",
   "language": "python",
   "name": "python3"
  },
  "language_info": {
   "codemirror_mode": {
    "name": "ipython",
    "version": 3
   },
   "file_extension": ".py",
   "mimetype": "text/x-python",
   "name": "python",
   "nbconvert_exporter": "python",
   "pygments_lexer": "ipython3",
   "version": "3.7.12"
  },
  "papermill": {
   "default_parameters": {},
   "duration": 1003.25587,
   "end_time": "2022-08-23T04:12:12.024951",
   "environment_variables": {},
   "exception": null,
   "input_path": "__notebook__.ipynb",
   "output_path": "__notebook__.ipynb",
   "parameters": {},
   "start_time": "2022-08-23T03:55:28.769081",
   "version": "2.3.4"
  }
 },
 "nbformat": 4,
 "nbformat_minor": 5
}
