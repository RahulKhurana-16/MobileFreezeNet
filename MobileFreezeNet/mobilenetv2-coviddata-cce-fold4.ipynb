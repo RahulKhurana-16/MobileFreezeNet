{
 "cells": [
  {
   "cell_type": "code",
   "execution_count": 1,
   "id": "cc2c1d59",
   "metadata": {
    "_cell_guid": "b1076dfc-b9ad-4769-8c92-a6c4dae69d19",
    "_uuid": "8f2839f25d086af736a60e9eeb907d3b93b6e0e5",
    "execution": {
     "iopub.execute_input": "2022-08-03T20:32:50.761850Z",
     "iopub.status.busy": "2022-08-03T20:32:50.761304Z",
     "iopub.status.idle": "2022-08-03T20:33:02.466341Z",
     "shell.execute_reply": "2022-08-03T20:33:02.465174Z"
    },
    "papermill": {
     "duration": 11.716971,
     "end_time": "2022-08-03T20:33:02.468855",
     "exception": false,
     "start_time": "2022-08-03T20:32:50.751884",
     "status": "completed"
    },
    "tags": []
   },
   "outputs": [
    {
     "name": "stdout",
     "output_type": "stream",
     "text": [
      "Collecting openpyxl\r\n",
      "  Downloading openpyxl-3.0.10-py2.py3-none-any.whl (242 kB)\r\n",
      "\u001b[2K     \u001b[90m━━━━━━━━━━━━━━━━━━━━━━━━━━━━━━━━━━━━━━━\u001b[0m \u001b[32m242.1/242.1 kB\u001b[0m \u001b[31m5.1 MB/s\u001b[0m eta \u001b[36m0:00:00\u001b[0m\r\n",
      "\u001b[?25hCollecting et-xmlfile\r\n",
      "  Downloading et_xmlfile-1.1.0-py3-none-any.whl (4.7 kB)\r\n",
      "Installing collected packages: et-xmlfile, openpyxl\r\n",
      "Successfully installed et-xmlfile-1.1.0 openpyxl-3.0.10\r\n",
      "\u001b[33mWARNING: Running pip as the 'root' user can result in broken permissions and conflicting behaviour with the system package manager. It is recommended to use a virtual environment instead: https://pip.pypa.io/warnings/venv\u001b[0m\u001b[33m\r\n",
      "\u001b[0m"
     ]
    }
   ],
   "source": [
    "!pip install openpyxl"
   ]
  },
  {
   "cell_type": "code",
   "execution_count": 2,
   "id": "41afcdd2",
   "metadata": {
    "execution": {
     "iopub.execute_input": "2022-08-03T20:33:02.485466Z",
     "iopub.status.busy": "2022-08-03T20:33:02.485107Z",
     "iopub.status.idle": "2022-08-03T20:33:09.624044Z",
     "shell.execute_reply": "2022-08-03T20:33:09.622974Z"
    },
    "papermill": {
     "duration": 7.150056,
     "end_time": "2022-08-03T20:33:09.626944",
     "exception": false,
     "start_time": "2022-08-03T20:33:02.476888",
     "status": "completed"
    },
    "tags": []
   },
   "outputs": [],
   "source": [
    "import numpy as np # linear algebra\n",
    "import pandas as pd \n",
    "import os\n",
    "import cv2\n",
    "import seaborn as sns\n",
    "\n",
    "# libraries for files preparation\n",
    "from sklearn.utils import shuffle\n",
    "from sklearn.model_selection import train_test_split\n",
    "import shutil\n",
    "from sklearn.metrics import matthews_corrcoef\n",
    "\n",
    "# libraries for CNN models and plotting\n",
    "import tensorflow as tf\n",
    "import tensorflow.keras.layers as tfl\n",
    "import tensorflow.keras as keras\n",
    "\n",
    "from tensorflow.keras.preprocessing.image import ImageDataGenerator\n",
    "from tensorflow.keras.layers import Conv2D, MaxPooling2D, Dense, Flatten, Dropout\n",
    "from tensorflow.keras import Sequential\n",
    "from tensorflow.keras.callbacks import EarlyStopping\n",
    "\n",
    "import matplotlib.pyplot as plt\n",
    "%matplotlib inline"
   ]
  },
  {
   "cell_type": "code",
   "execution_count": 3,
   "id": "6ca56e15",
   "metadata": {
    "execution": {
     "iopub.execute_input": "2022-08-03T20:33:09.642525Z",
     "iopub.status.busy": "2022-08-03T20:33:09.641970Z",
     "iopub.status.idle": "2022-08-03T20:33:09.719754Z",
     "shell.execute_reply": "2022-08-03T20:33:09.718768Z"
    },
    "papermill": {
     "duration": 0.087888,
     "end_time": "2022-08-03T20:33:09.722092",
     "exception": false,
     "start_time": "2022-08-03T20:33:09.634204",
     "status": "completed"
    },
    "tags": []
   },
   "outputs": [],
   "source": [
    "path = '../input/mobilenetv2-kfolds/MobileNetFOLDS/'\n",
    "fold1 = pd.read_csv(path+'Fold1.csv')\n",
    "fold2 = pd.read_csv(path+'Fold2.csv')\n",
    "fold3 = pd.read_csv(path+'Fold3.csv')\n",
    "fold4 = pd.read_csv(path+'Fold4.csv')\n",
    "fold5 = pd.read_csv(path+'Fold5.csv')\n",
    "fold6 = pd.read_csv(path+'Fold6.csv')\n",
    "fold7 = pd.read_csv(path+'Fold7.csv')\n",
    "fold8 = pd.read_csv(path+'Fold8.csv')\n",
    "fold9 = pd.read_csv(path+'Fold9.csv')\n",
    "fold10 = pd.read_csv(path+'Fold10.csv')"
   ]
  },
  {
   "cell_type": "code",
   "execution_count": 4,
   "id": "83d611f6",
   "metadata": {
    "execution": {
     "iopub.execute_input": "2022-08-03T20:33:09.738405Z",
     "iopub.status.busy": "2022-08-03T20:33:09.736895Z",
     "iopub.status.idle": "2022-08-03T20:33:09.759080Z",
     "shell.execute_reply": "2022-08-03T20:33:09.758098Z"
    },
    "papermill": {
     "duration": 0.031958,
     "end_time": "2022-08-03T20:33:09.761057",
     "exception": false,
     "start_time": "2022-08-03T20:33:09.729099",
     "status": "completed"
    },
    "tags": []
   },
   "outputs": [
    {
     "data": {
      "text/plain": [
       "1    9275\n",
       "3    6012\n",
       "0    3616\n",
       "2    1345\n",
       "Name: label, dtype: int64"
      ]
     },
     "execution_count": 4,
     "metadata": {},
     "output_type": "execute_result"
    }
   ],
   "source": [
    "data = pd.concat([fold1,fold2,fold3,fold4,fold5,fold6,fold7,fold8,fold9,fold10], axis=0).reset_index(drop=True)\n",
    "data['label'].value_counts()"
   ]
  },
  {
   "cell_type": "code",
   "execution_count": 5,
   "id": "b53fbdff",
   "metadata": {
    "execution": {
     "iopub.execute_input": "2022-08-03T20:33:09.776066Z",
     "iopub.status.busy": "2022-08-03T20:33:09.775352Z",
     "iopub.status.idle": "2022-08-03T20:33:09.784974Z",
     "shell.execute_reply": "2022-08-03T20:33:09.784156Z"
    },
    "papermill": {
     "duration": 0.018939,
     "end_time": "2022-08-03T20:33:09.786864",
     "exception": false,
     "start_time": "2022-08-03T20:33:09.767925",
     "status": "completed"
    },
    "tags": []
   },
   "outputs": [],
   "source": [
    "data = shuffle(data)"
   ]
  },
  {
   "cell_type": "code",
   "execution_count": 6,
   "id": "fbd4c821",
   "metadata": {
    "execution": {
     "iopub.execute_input": "2022-08-03T20:33:09.801727Z",
     "iopub.status.busy": "2022-08-03T20:33:09.800948Z",
     "iopub.status.idle": "2022-08-03T20:33:09.835903Z",
     "shell.execute_reply": "2022-08-03T20:33:09.834838Z"
    },
    "papermill": {
     "duration": 0.045181,
     "end_time": "2022-08-03T20:33:09.838764",
     "exception": false,
     "start_time": "2022-08-03T20:33:09.793583",
     "status": "completed"
    },
    "tags": []
   },
   "outputs": [
    {
     "name": "stdout",
     "output_type": "stream",
     "text": [
      "(18233, 2)\n",
      "(2015, 2)\n"
     ]
    }
   ],
   "source": [
    "df_test = fold4.copy()\n",
    "train = pd.concat([fold10,fold1,fold2,fold3,fold5,fold6,fold7,fold8,fold9], axis=0).reset_index(drop=True)\n",
    "train = shuffle(train)\n",
    "\n",
    "df_test.to_csv(\"testexp4.csv\",index=False)\n",
    "train.to_csv(\"trainexp4.csv\",index=False)\n",
    "\n",
    "print(train.shape)\n",
    "print(df_test.shape)"
   ]
  },
  {
   "cell_type": "code",
   "execution_count": 7,
   "id": "82cad8ff",
   "metadata": {
    "execution": {
     "iopub.execute_input": "2022-08-03T20:33:09.854783Z",
     "iopub.status.busy": "2022-08-03T20:33:09.854478Z",
     "iopub.status.idle": "2022-08-03T20:33:09.870904Z",
     "shell.execute_reply": "2022-08-03T20:33:09.869404Z"
    },
    "papermill": {
     "duration": 0.026777,
     "end_time": "2022-08-03T20:33:09.873222",
     "exception": false,
     "start_time": "2022-08-03T20:33:09.846445",
     "status": "completed"
    },
    "tags": []
   },
   "outputs": [
    {
     "name": "stdout",
     "output_type": "stream",
     "text": [
      "(16409, 2)\n",
      "(1824, 2)\n"
     ]
    }
   ],
   "source": [
    "df_train, df_val = train_test_split(train, test_size=0.10, random_state=42, stratify=train['label'])\n",
    "print(df_train.shape)\n",
    "print(df_val.shape)"
   ]
  },
  {
   "cell_type": "code",
   "execution_count": 8,
   "id": "ab41935e",
   "metadata": {
    "execution": {
     "iopub.execute_input": "2022-08-03T20:33:09.889666Z",
     "iopub.status.busy": "2022-08-03T20:33:09.889341Z",
     "iopub.status.idle": "2022-08-03T20:33:09.896790Z",
     "shell.execute_reply": "2022-08-03T20:33:09.895798Z"
    },
    "papermill": {
     "duration": 0.017479,
     "end_time": "2022-08-03T20:33:09.898912",
     "exception": false,
     "start_time": "2022-08-03T20:33:09.881433",
     "status": "completed"
    },
    "tags": []
   },
   "outputs": [
    {
     "data": {
      "text/plain": [
       "1    7521\n",
       "3    4870\n",
       "0    2929\n",
       "2    1089\n",
       "Name: label, dtype: int64"
      ]
     },
     "execution_count": 8,
     "metadata": {},
     "output_type": "execute_result"
    }
   ],
   "source": [
    "df_train['label'].value_counts()"
   ]
  },
  {
   "cell_type": "code",
   "execution_count": 9,
   "id": "0d8a0735",
   "metadata": {
    "execution": {
     "iopub.execute_input": "2022-08-03T20:33:09.914194Z",
     "iopub.status.busy": "2022-08-03T20:33:09.913929Z",
     "iopub.status.idle": "2022-08-03T20:33:09.925973Z",
     "shell.execute_reply": "2022-08-03T20:33:09.925096Z"
    },
    "papermill": {
     "duration": 0.022003,
     "end_time": "2022-08-03T20:33:09.927913",
     "exception": false,
     "start_time": "2022-08-03T20:33:09.905910",
     "status": "completed"
    },
    "tags": []
   },
   "outputs": [],
   "source": [
    "import os\n",
    "# Create a new directory\n",
    "base_dir = 'base_dir'\n",
    "os.mkdir(base_dir)\n",
    "\n",
    "train_dir = os.path.join(base_dir, 'train_dir')\n",
    "os.mkdir(train_dir)\n",
    "\n",
    "val_dir = os.path.join(base_dir, 'val_dir')\n",
    "os.mkdir(val_dir)\n",
    "\n",
    "test_dir = os.path.join(base_dir, 'test_dir')\n",
    "os.mkdir(test_dir)\n",
    "\n",
    "# create new folders inside train_dir\n",
    "train_covid = os.path.join(train_dir, 'covid')\n",
    "os.mkdir(train_covid)\n",
    "train_normal = os.path.join(train_dir, 'normal')\n",
    "os.mkdir(train_normal)\n",
    "train_viral_pneumonia = os.path.join(train_dir, 'viral pneumonia')\n",
    "os.mkdir(train_viral_pneumonia)\n",
    "train_lung_opacity = os.path.join(train_dir, 'lung opacity')\n",
    "os.mkdir(train_lung_opacity)\n",
    "\n",
    "# create new folders inside val_dir\n",
    "val_covid = os.path.join(val_dir, 'covid')\n",
    "os.mkdir(val_covid)\n",
    "val_normal = os.path.join(val_dir, 'normal')\n",
    "os.mkdir(val_normal)\n",
    "val_viral_pneumonia = os.path.join(val_dir, 'viral pneumonia')\n",
    "os.mkdir(val_viral_pneumonia)\n",
    "val_lung_opacity = os.path.join(val_dir, 'lung opacity')\n",
    "os.mkdir(val_lung_opacity)\n",
    "\n",
    "\n",
    "# create new folders inside test_dir\n",
    "test_covid = os.path.join(test_dir, 'covid')\n",
    "os.mkdir(test_covid)\n",
    "test_normal = os.path.join(test_dir, 'normal')\n",
    "os.mkdir(test_normal)\n",
    "test_viral_pneumonia = os.path.join(test_dir, 'viral pneumonia')\n",
    "os.mkdir(test_viral_pneumonia)\n",
    "test_lung_opacity = os.path.join(test_dir, 'lung opacity')\n",
    "os.mkdir(test_lung_opacity)"
   ]
  },
  {
   "cell_type": "code",
   "execution_count": 10,
   "id": "caf0d7cd",
   "metadata": {
    "execution": {
     "iopub.execute_input": "2022-08-03T20:33:09.943437Z",
     "iopub.status.busy": "2022-08-03T20:33:09.943155Z",
     "iopub.status.idle": "2022-08-03T20:33:09.952083Z",
     "shell.execute_reply": "2022-08-03T20:33:09.950698Z"
    },
    "papermill": {
     "duration": 0.019927,
     "end_time": "2022-08-03T20:33:09.954688",
     "exception": false,
     "start_time": "2022-08-03T20:33:09.934761",
     "status": "completed"
    },
    "tags": []
   },
   "outputs": [],
   "source": [
    "train_list = list(df_train['FILE NAME'])\n",
    "val_list = list(df_val['FILE NAME'])\n",
    "test_list = list(df_test['FILE NAME'])"
   ]
  },
  {
   "cell_type": "code",
   "execution_count": 11,
   "id": "0a4f7439",
   "metadata": {
    "execution": {
     "iopub.execute_input": "2022-08-03T20:33:09.969747Z",
     "iopub.status.busy": "2022-08-03T20:33:09.969484Z",
     "iopub.status.idle": "2022-08-03T20:36:24.368758Z",
     "shell.execute_reply": "2022-08-03T20:36:24.367721Z"
    },
    "papermill": {
     "duration": 194.41025,
     "end_time": "2022-08-03T20:36:24.371779",
     "exception": false,
     "start_time": "2022-08-03T20:33:09.961529",
     "status": "completed"
    },
    "tags": []
   },
   "outputs": [],
   "source": [
    "for image in train_list:\n",
    "    \n",
    "    # add .png extension \n",
    "    filename = image + '.png'\n",
    "    # get the label for a certain image\n",
    "    target = int(data.loc[data['FILE NAME'] == image, ['label']].values)\n",
    "    \n",
    "    # match the target with the folder's name and source path of the image\n",
    "    if target == 0:\n",
    "        label = 'covid'\n",
    "        src = os.path.join('../input/covid19-radiography-database/COVID-19_Radiography_Dataset/COVID/images', filename)\n",
    "        \n",
    "    if target == 1:\n",
    "        label = 'normal'\n",
    "        # As 'FILE NAME's in .xlsx file begins with 'NORMAL' but real file names begin with 'Normal'\n",
    "        filename = filename.capitalize()\n",
    "        src = os.path.join('../input/covid19-radiography-database/COVID-19_Radiography_Dataset/Normal/images', filename)\n",
    "        \n",
    "    if target == 2:\n",
    "        label = 'viral pneumonia'\n",
    "        src = os.path.join('../input/covid19-radiography-database/COVID-19_Radiography_Dataset/Viral Pneumonia/images', filename)\n",
    "    \n",
    "    if target == 3:\n",
    "        label = 'lung opacity'\n",
    "        src = os.path.join('../input/covid19-radiography-database/COVID-19_Radiography_Dataset/Lung_Opacity/images', filename)\n",
    "  \n",
    "    # destination path to image\n",
    "    dst = os.path.join(train_dir, label, filename)\n",
    "    \n",
    "    # copy the image from the source to the destination\n",
    "    shutil.copyfile(src, dst)\n",
    "\n",
    "# Copy images to val_dir folder\n",
    "for image in val_list:\n",
    "    \n",
    "    # add .png extension \n",
    "    filename = image + '.png'\n",
    "    # get the label for a certain image\n",
    "    target = int(data.loc[data['FILE NAME'] == image, ['label']].values)\n",
    "    \n",
    "    # match the target with the folder's name and source path of the image\n",
    "    if target == 0:\n",
    "        label = 'covid'\n",
    "        src = os.path.join('../input/covid19-radiography-database/COVID-19_Radiography_Dataset/COVID/images', filename)\n",
    "        \n",
    "    if target == 1:\n",
    "        label = 'normal'\n",
    "        filename = filename.capitalize()\n",
    "        src = os.path.join('../input/covid19-radiography-database/COVID-19_Radiography_Dataset/Normal/images', filename)\n",
    "        \n",
    "    if target == 2:\n",
    "        label = 'viral pneumonia'\n",
    "        src = os.path.join('../input/covid19-radiography-database/COVID-19_Radiography_Dataset/Viral Pneumonia/images', filename)\n",
    "    \n",
    "    if target == 3:\n",
    "        label = 'lung opacity'\n",
    "        src = os.path.join('../input/covid19-radiography-database/COVID-19_Radiography_Dataset/Lung_Opacity/images', filename)\n",
    "\n",
    "  \n",
    "    # destination path to image\n",
    "    dst = os.path.join(val_dir, label, filename)\n",
    "    \n",
    "    # copy the image from the source to the destination\n",
    "    shutil.copyfile(src, dst)\n",
    "    \n",
    "    \n",
    "\n",
    "    \n",
    "# Copy images to test_dir folder\n",
    "for image in test_list:\n",
    "    \n",
    "    # add .png extension \n",
    "    filename = image + '.png'\n",
    "    # get the label for a certain image\n",
    "    target = int(data.loc[data['FILE NAME'] == image, ['label']].values)\n",
    "    \n",
    "    # match the target with the folder's name and source path of the image\n",
    "    if target == 0:\n",
    "        label = 'covid'\n",
    "        src = os.path.join('../input/covid19-radiography-database/COVID-19_Radiography_Dataset/COVID/images', filename)\n",
    "        \n",
    "    if target == 1:\n",
    "        label = 'normal'\n",
    "        filename = filename.capitalize()\n",
    "        src = os.path.join('../input/covid19-radiography-database/COVID-19_Radiography_Dataset/Normal/images', filename)\n",
    "        \n",
    "    if target == 2:\n",
    "        label = 'viral pneumonia'\n",
    "        src = os.path.join('../input/covid19-radiography-database/COVID-19_Radiography_Dataset/Viral Pneumonia/images', filename)\n",
    "    \n",
    "    if target == 3:\n",
    "        label = 'lung opacity'\n",
    "        src = os.path.join('../input/covid19-radiography-database/COVID-19_Radiography_Dataset/Lung_Opacity/images', filename)\n",
    "\n",
    "  \n",
    "    # destination path to image\n",
    "    dst = os.path.join(test_dir, label, filename)\n",
    "    \n",
    "    # copy the image from the source to the destination\n",
    "    shutil.copyfile(src, dst)"
   ]
  },
  {
   "cell_type": "code",
   "execution_count": 12,
   "id": "f74e7fe5",
   "metadata": {
    "execution": {
     "iopub.execute_input": "2022-08-03T20:36:24.389712Z",
     "iopub.status.busy": "2022-08-03T20:36:24.388650Z",
     "iopub.status.idle": "2022-08-03T20:36:24.405089Z",
     "shell.execute_reply": "2022-08-03T20:36:24.403506Z"
    },
    "papermill": {
     "duration": 0.028244,
     "end_time": "2022-08-03T20:36:24.408125",
     "exception": false,
     "start_time": "2022-08-03T20:36:24.379881",
     "status": "completed"
    },
    "tags": []
   },
   "outputs": [
    {
     "name": "stdout",
     "output_type": "stream",
     "text": [
      "2929\n",
      "7521\n",
      "1089\n",
      "4870\n"
     ]
    }
   ],
   "source": [
    "print(len(os.listdir('base_dir/train_dir/covid')))\n",
    "print(len(os.listdir('base_dir/train_dir/normal')))\n",
    "print(len(os.listdir('base_dir/train_dir/viral pneumonia')))\n",
    "print(len(os.listdir('base_dir/train_dir/lung opacity')))"
   ]
  },
  {
   "cell_type": "code",
   "execution_count": 13,
   "id": "4e70bf9f",
   "metadata": {
    "execution": {
     "iopub.execute_input": "2022-08-03T20:36:24.426243Z",
     "iopub.status.busy": "2022-08-03T20:36:24.425874Z",
     "iopub.status.idle": "2022-08-03T20:36:24.435764Z",
     "shell.execute_reply": "2022-08-03T20:36:24.434696Z"
    },
    "papermill": {
     "duration": 0.021329,
     "end_time": "2022-08-03T20:36:24.438003",
     "exception": false,
     "start_time": "2022-08-03T20:36:24.416674",
     "status": "completed"
    },
    "tags": []
   },
   "outputs": [
    {
     "name": "stdout",
     "output_type": "stream",
     "text": [
      "1824\n"
     ]
    }
   ],
   "source": [
    "print(len(os.listdir('base_dir/val_dir/covid')) + len(os.listdir('base_dir/val_dir/normal')) + len(os.listdir('base_dir/val_dir/viral pneumonia')) + len(os.listdir('base_dir/val_dir/lung opacity')))"
   ]
  },
  {
   "cell_type": "code",
   "execution_count": 14,
   "id": "b71d3e08",
   "metadata": {
    "execution": {
     "iopub.execute_input": "2022-08-03T20:36:24.456679Z",
     "iopub.status.busy": "2022-08-03T20:36:24.455713Z",
     "iopub.status.idle": "2022-08-03T20:36:24.463940Z",
     "shell.execute_reply": "2022-08-03T20:36:24.462581Z"
    },
    "papermill": {
     "duration": 0.020758,
     "end_time": "2022-08-03T20:36:24.467168",
     "exception": false,
     "start_time": "2022-08-03T20:36:24.446410",
     "status": "completed"
    },
    "tags": []
   },
   "outputs": [
    {
     "name": "stdout",
     "output_type": "stream",
     "text": [
      "2015\n"
     ]
    }
   ],
   "source": [
    "print(len(os.listdir('base_dir/test_dir/covid')) + len(os.listdir('base_dir/test_dir/normal')) + len(os.listdir('base_dir/test_dir/viral pneumonia')) + len(os.listdir('base_dir/test_dir/lung opacity')))"
   ]
  },
  {
   "cell_type": "code",
   "execution_count": 15,
   "id": "8d9616e0",
   "metadata": {
    "execution": {
     "iopub.execute_input": "2022-08-03T20:36:24.485233Z",
     "iopub.status.busy": "2022-08-03T20:36:24.484895Z",
     "iopub.status.idle": "2022-08-03T20:36:24.490084Z",
     "shell.execute_reply": "2022-08-03T20:36:24.489045Z"
    },
    "papermill": {
     "duration": 0.016404,
     "end_time": "2022-08-03T20:36:24.492275",
     "exception": false,
     "start_time": "2022-08-03T20:36:24.475871",
     "status": "completed"
    },
    "tags": []
   },
   "outputs": [],
   "source": [
    "IMG_SIZE = (224 , 224)\n",
    "train_directory = \"base_dir/train_dir\"\n",
    "val_directory = \"base_dir/val_dir\"\n",
    "test_directory = \"base_dir/test_dir\""
   ]
  },
  {
   "cell_type": "code",
   "execution_count": 16,
   "id": "ceff1f09",
   "metadata": {
    "execution": {
     "iopub.execute_input": "2022-08-03T20:36:24.509337Z",
     "iopub.status.busy": "2022-08-03T20:36:24.508990Z",
     "iopub.status.idle": "2022-08-03T20:36:25.469273Z",
     "shell.execute_reply": "2022-08-03T20:36:25.468102Z"
    },
    "papermill": {
     "duration": 0.97159,
     "end_time": "2022-08-03T20:36:25.471505",
     "exception": false,
     "start_time": "2022-08-03T20:36:24.499915",
     "status": "completed"
    },
    "tags": []
   },
   "outputs": [
    {
     "name": "stdout",
     "output_type": "stream",
     "text": [
      "Found 16409 images belonging to 4 classes.\n",
      "Found 1824 images belonging to 4 classes.\n",
      "Found 2015 images belonging to 4 classes.\n"
     ]
    }
   ],
   "source": [
    "train_datagen = ImageDataGenerator(rescale=1./255)\n",
    "test_datagen = ImageDataGenerator(rescale=1./255)\n",
    "train_generator = train_datagen.flow_from_directory(\n",
    "        train_directory,\n",
    "        target_size=IMG_SIZE,\n",
    "        batch_size=8,\n",
    "        class_mode='categorical')\n",
    "validation_generator = test_datagen.flow_from_directory(\n",
    "        val_directory,\n",
    "        target_size=IMG_SIZE,\n",
    "        batch_size=8,\n",
    "        shuffle=False,\n",
    "        class_mode='categorical')\n",
    "test_generator = test_datagen.flow_from_directory(\n",
    "        test_directory,\n",
    "        target_size=IMG_SIZE,\n",
    "        batch_size=8,\n",
    "        shuffle=False,\n",
    "        class_mode='categorical')"
   ]
  },
  {
   "cell_type": "code",
   "execution_count": 17,
   "id": "3374cfef",
   "metadata": {
    "execution": {
     "iopub.execute_input": "2022-08-03T20:36:25.489758Z",
     "iopub.status.busy": "2022-08-03T20:36:25.488862Z",
     "iopub.status.idle": "2022-08-03T20:36:30.070904Z",
     "shell.execute_reply": "2022-08-03T20:36:30.069915Z"
    },
    "papermill": {
     "duration": 4.593447,
     "end_time": "2022-08-03T20:36:30.073308",
     "exception": false,
     "start_time": "2022-08-03T20:36:25.479861",
     "status": "completed"
    },
    "tags": []
   },
   "outputs": [
    {
     "name": "stderr",
     "output_type": "stream",
     "text": [
      "2022-08-03 20:36:25.955469: I tensorflow/stream_executor/cuda/cuda_gpu_executor.cc:937] successful NUMA node read from SysFS had negative value (-1), but there must be at least one NUMA node, so returning NUMA node zero\n",
      "2022-08-03 20:36:26.114885: I tensorflow/stream_executor/cuda/cuda_gpu_executor.cc:937] successful NUMA node read from SysFS had negative value (-1), but there must be at least one NUMA node, so returning NUMA node zero\n",
      "2022-08-03 20:36:26.115807: I tensorflow/stream_executor/cuda/cuda_gpu_executor.cc:937] successful NUMA node read from SysFS had negative value (-1), but there must be at least one NUMA node, so returning NUMA node zero\n",
      "2022-08-03 20:36:26.117660: I tensorflow/core/platform/cpu_feature_guard.cc:142] This TensorFlow binary is optimized with oneAPI Deep Neural Network Library (oneDNN) to use the following CPU instructions in performance-critical operations:  AVX2 AVX512F FMA\n",
      "To enable them in other operations, rebuild TensorFlow with the appropriate compiler flags.\n",
      "2022-08-03 20:36:26.118064: I tensorflow/stream_executor/cuda/cuda_gpu_executor.cc:937] successful NUMA node read from SysFS had negative value (-1), but there must be at least one NUMA node, so returning NUMA node zero\n",
      "2022-08-03 20:36:26.119070: I tensorflow/stream_executor/cuda/cuda_gpu_executor.cc:937] successful NUMA node read from SysFS had negative value (-1), but there must be at least one NUMA node, so returning NUMA node zero\n",
      "2022-08-03 20:36:26.120110: I tensorflow/stream_executor/cuda/cuda_gpu_executor.cc:937] successful NUMA node read from SysFS had negative value (-1), but there must be at least one NUMA node, so returning NUMA node zero\n",
      "2022-08-03 20:36:28.473524: I tensorflow/stream_executor/cuda/cuda_gpu_executor.cc:937] successful NUMA node read from SysFS had negative value (-1), but there must be at least one NUMA node, so returning NUMA node zero\n",
      "2022-08-03 20:36:28.474475: I tensorflow/stream_executor/cuda/cuda_gpu_executor.cc:937] successful NUMA node read from SysFS had negative value (-1), but there must be at least one NUMA node, so returning NUMA node zero\n",
      "2022-08-03 20:36:28.475199: I tensorflow/stream_executor/cuda/cuda_gpu_executor.cc:937] successful NUMA node read from SysFS had negative value (-1), but there must be at least one NUMA node, so returning NUMA node zero\n",
      "2022-08-03 20:36:28.475837: I tensorflow/core/common_runtime/gpu/gpu_device.cc:1510] Created device /job:localhost/replica:0/task:0/device:GPU:0 with 15403 MB memory:  -> device: 0, name: Tesla P100-PCIE-16GB, pci bus id: 0000:00:04.0, compute capability: 6.0\n"
     ]
    },
    {
     "name": "stdout",
     "output_type": "stream",
     "text": [
      "Downloading data from https://storage.googleapis.com/tensorflow/keras-applications/mobilenet_v2/mobilenet_v2_weights_tf_dim_ordering_tf_kernels_1.0_224_no_top.h5\n",
      "9412608/9406464 [==============================] - 0s 0us/step\n",
      "9420800/9406464 [==============================] - 0s 0us/step\n"
     ]
    }
   ],
   "source": [
    "import tensorflow_hub as hub\n",
    "mobile_net_layers = tf.keras.applications.mobilenet_v2.MobileNetV2(input_shape=(224,224,3), include_top=False, weights='imagenet')"
   ]
  },
  {
   "cell_type": "code",
   "execution_count": 18,
   "id": "d91cfd8c",
   "metadata": {
    "execution": {
     "iopub.execute_input": "2022-08-03T20:36:30.090430Z",
     "iopub.status.busy": "2022-08-03T20:36:30.090118Z",
     "iopub.status.idle": "2022-08-03T20:36:30.117622Z",
     "shell.execute_reply": "2022-08-03T20:36:30.116628Z"
    },
    "papermill": {
     "duration": 0.039089,
     "end_time": "2022-08-03T20:36:30.120286",
     "exception": false,
     "start_time": "2022-08-03T20:36:30.081197",
     "status": "completed"
    },
    "tags": []
   },
   "outputs": [
    {
     "name": "stdout",
     "output_type": "stream",
     "text": [
      "Model: \"mobilenetv2_1.00_224\"\n",
      "__________________________________________________________________________________________________\n",
      "Layer (type)                    Output Shape         Param #     Connected to                     \n",
      "==================================================================================================\n",
      "input_1 (InputLayer)            [(None, 224, 224, 3) 0                                            \n",
      "__________________________________________________________________________________________________\n",
      "Conv1 (Conv2D)                  (None, 112, 112, 32) 864         input_1[0][0]                    \n",
      "__________________________________________________________________________________________________\n",
      "bn_Conv1 (BatchNormalization)   (None, 112, 112, 32) 128         Conv1[0][0]                      \n",
      "__________________________________________________________________________________________________\n",
      "Conv1_relu (ReLU)               (None, 112, 112, 32) 0           bn_Conv1[0][0]                   \n",
      "__________________________________________________________________________________________________\n",
      "expanded_conv_depthwise (Depthw (None, 112, 112, 32) 288         Conv1_relu[0][0]                 \n",
      "__________________________________________________________________________________________________\n",
      "expanded_conv_depthwise_BN (Bat (None, 112, 112, 32) 128         expanded_conv_depthwise[0][0]    \n",
      "__________________________________________________________________________________________________\n",
      "expanded_conv_depthwise_relu (R (None, 112, 112, 32) 0           expanded_conv_depthwise_BN[0][0] \n",
      "__________________________________________________________________________________________________\n",
      "expanded_conv_project (Conv2D)  (None, 112, 112, 16) 512         expanded_conv_depthwise_relu[0][0\n",
      "__________________________________________________________________________________________________\n",
      "expanded_conv_project_BN (Batch (None, 112, 112, 16) 64          expanded_conv_project[0][0]      \n",
      "__________________________________________________________________________________________________\n",
      "block_1_expand (Conv2D)         (None, 112, 112, 96) 1536        expanded_conv_project_BN[0][0]   \n",
      "__________________________________________________________________________________________________\n",
      "block_1_expand_BN (BatchNormali (None, 112, 112, 96) 384         block_1_expand[0][0]             \n",
      "__________________________________________________________________________________________________\n",
      "block_1_expand_relu (ReLU)      (None, 112, 112, 96) 0           block_1_expand_BN[0][0]          \n",
      "__________________________________________________________________________________________________\n",
      "block_1_pad (ZeroPadding2D)     (None, 113, 113, 96) 0           block_1_expand_relu[0][0]        \n",
      "__________________________________________________________________________________________________\n",
      "block_1_depthwise (DepthwiseCon (None, 56, 56, 96)   864         block_1_pad[0][0]                \n",
      "__________________________________________________________________________________________________\n",
      "block_1_depthwise_BN (BatchNorm (None, 56, 56, 96)   384         block_1_depthwise[0][0]          \n",
      "__________________________________________________________________________________________________\n",
      "block_1_depthwise_relu (ReLU)   (None, 56, 56, 96)   0           block_1_depthwise_BN[0][0]       \n",
      "__________________________________________________________________________________________________\n",
      "block_1_project (Conv2D)        (None, 56, 56, 24)   2304        block_1_depthwise_relu[0][0]     \n",
      "__________________________________________________________________________________________________\n",
      "block_1_project_BN (BatchNormal (None, 56, 56, 24)   96          block_1_project[0][0]            \n",
      "__________________________________________________________________________________________________\n",
      "block_2_expand (Conv2D)         (None, 56, 56, 144)  3456        block_1_project_BN[0][0]         \n",
      "__________________________________________________________________________________________________\n",
      "block_2_expand_BN (BatchNormali (None, 56, 56, 144)  576         block_2_expand[0][0]             \n",
      "__________________________________________________________________________________________________\n",
      "block_2_expand_relu (ReLU)      (None, 56, 56, 144)  0           block_2_expand_BN[0][0]          \n",
      "__________________________________________________________________________________________________\n",
      "block_2_depthwise (DepthwiseCon (None, 56, 56, 144)  1296        block_2_expand_relu[0][0]        \n",
      "__________________________________________________________________________________________________\n",
      "block_2_depthwise_BN (BatchNorm (None, 56, 56, 144)  576         block_2_depthwise[0][0]          \n",
      "__________________________________________________________________________________________________\n",
      "block_2_depthwise_relu (ReLU)   (None, 56, 56, 144)  0           block_2_depthwise_BN[0][0]       \n",
      "__________________________________________________________________________________________________\n",
      "block_2_project (Conv2D)        (None, 56, 56, 24)   3456        block_2_depthwise_relu[0][0]     \n",
      "__________________________________________________________________________________________________\n",
      "block_2_project_BN (BatchNormal (None, 56, 56, 24)   96          block_2_project[0][0]            \n",
      "__________________________________________________________________________________________________\n",
      "block_2_add (Add)               (None, 56, 56, 24)   0           block_1_project_BN[0][0]         \n",
      "                                                                 block_2_project_BN[0][0]         \n",
      "__________________________________________________________________________________________________\n",
      "block_3_expand (Conv2D)         (None, 56, 56, 144)  3456        block_2_add[0][0]                \n",
      "__________________________________________________________________________________________________\n",
      "block_3_expand_BN (BatchNormali (None, 56, 56, 144)  576         block_3_expand[0][0]             \n",
      "__________________________________________________________________________________________________\n",
      "block_3_expand_relu (ReLU)      (None, 56, 56, 144)  0           block_3_expand_BN[0][0]          \n",
      "__________________________________________________________________________________________________\n",
      "block_3_pad (ZeroPadding2D)     (None, 57, 57, 144)  0           block_3_expand_relu[0][0]        \n",
      "__________________________________________________________________________________________________\n",
      "block_3_depthwise (DepthwiseCon (None, 28, 28, 144)  1296        block_3_pad[0][0]                \n",
      "__________________________________________________________________________________________________\n",
      "block_3_depthwise_BN (BatchNorm (None, 28, 28, 144)  576         block_3_depthwise[0][0]          \n",
      "__________________________________________________________________________________________________\n",
      "block_3_depthwise_relu (ReLU)   (None, 28, 28, 144)  0           block_3_depthwise_BN[0][0]       \n",
      "__________________________________________________________________________________________________\n",
      "block_3_project (Conv2D)        (None, 28, 28, 32)   4608        block_3_depthwise_relu[0][0]     \n",
      "__________________________________________________________________________________________________\n",
      "block_3_project_BN (BatchNormal (None, 28, 28, 32)   128         block_3_project[0][0]            \n",
      "__________________________________________________________________________________________________\n",
      "block_4_expand (Conv2D)         (None, 28, 28, 192)  6144        block_3_project_BN[0][0]         \n",
      "__________________________________________________________________________________________________\n",
      "block_4_expand_BN (BatchNormali (None, 28, 28, 192)  768         block_4_expand[0][0]             \n",
      "__________________________________________________________________________________________________\n",
      "block_4_expand_relu (ReLU)      (None, 28, 28, 192)  0           block_4_expand_BN[0][0]          \n",
      "__________________________________________________________________________________________________\n",
      "block_4_depthwise (DepthwiseCon (None, 28, 28, 192)  1728        block_4_expand_relu[0][0]        \n",
      "__________________________________________________________________________________________________\n",
      "block_4_depthwise_BN (BatchNorm (None, 28, 28, 192)  768         block_4_depthwise[0][0]          \n",
      "__________________________________________________________________________________________________\n",
      "block_4_depthwise_relu (ReLU)   (None, 28, 28, 192)  0           block_4_depthwise_BN[0][0]       \n",
      "__________________________________________________________________________________________________\n",
      "block_4_project (Conv2D)        (None, 28, 28, 32)   6144        block_4_depthwise_relu[0][0]     \n",
      "__________________________________________________________________________________________________\n",
      "block_4_project_BN (BatchNormal (None, 28, 28, 32)   128         block_4_project[0][0]            \n",
      "__________________________________________________________________________________________________\n",
      "block_4_add (Add)               (None, 28, 28, 32)   0           block_3_project_BN[0][0]         \n",
      "                                                                 block_4_project_BN[0][0]         \n",
      "__________________________________________________________________________________________________\n",
      "block_5_expand (Conv2D)         (None, 28, 28, 192)  6144        block_4_add[0][0]                \n",
      "__________________________________________________________________________________________________\n",
      "block_5_expand_BN (BatchNormali (None, 28, 28, 192)  768         block_5_expand[0][0]             \n",
      "__________________________________________________________________________________________________\n",
      "block_5_expand_relu (ReLU)      (None, 28, 28, 192)  0           block_5_expand_BN[0][0]          \n",
      "__________________________________________________________________________________________________\n",
      "block_5_depthwise (DepthwiseCon (None, 28, 28, 192)  1728        block_5_expand_relu[0][0]        \n",
      "__________________________________________________________________________________________________\n",
      "block_5_depthwise_BN (BatchNorm (None, 28, 28, 192)  768         block_5_depthwise[0][0]          \n",
      "__________________________________________________________________________________________________\n",
      "block_5_depthwise_relu (ReLU)   (None, 28, 28, 192)  0           block_5_depthwise_BN[0][0]       \n",
      "__________________________________________________________________________________________________\n",
      "block_5_project (Conv2D)        (None, 28, 28, 32)   6144        block_5_depthwise_relu[0][0]     \n",
      "__________________________________________________________________________________________________\n",
      "block_5_project_BN (BatchNormal (None, 28, 28, 32)   128         block_5_project[0][0]            \n",
      "__________________________________________________________________________________________________\n",
      "block_5_add (Add)               (None, 28, 28, 32)   0           block_4_add[0][0]                \n",
      "                                                                 block_5_project_BN[0][0]         \n",
      "__________________________________________________________________________________________________\n",
      "block_6_expand (Conv2D)         (None, 28, 28, 192)  6144        block_5_add[0][0]                \n",
      "__________________________________________________________________________________________________\n",
      "block_6_expand_BN (BatchNormali (None, 28, 28, 192)  768         block_6_expand[0][0]             \n",
      "__________________________________________________________________________________________________\n",
      "block_6_expand_relu (ReLU)      (None, 28, 28, 192)  0           block_6_expand_BN[0][0]          \n",
      "__________________________________________________________________________________________________\n",
      "block_6_pad (ZeroPadding2D)     (None, 29, 29, 192)  0           block_6_expand_relu[0][0]        \n",
      "__________________________________________________________________________________________________\n",
      "block_6_depthwise (DepthwiseCon (None, 14, 14, 192)  1728        block_6_pad[0][0]                \n",
      "__________________________________________________________________________________________________\n",
      "block_6_depthwise_BN (BatchNorm (None, 14, 14, 192)  768         block_6_depthwise[0][0]          \n",
      "__________________________________________________________________________________________________\n",
      "block_6_depthwise_relu (ReLU)   (None, 14, 14, 192)  0           block_6_depthwise_BN[0][0]       \n",
      "__________________________________________________________________________________________________\n",
      "block_6_project (Conv2D)        (None, 14, 14, 64)   12288       block_6_depthwise_relu[0][0]     \n",
      "__________________________________________________________________________________________________\n",
      "block_6_project_BN (BatchNormal (None, 14, 14, 64)   256         block_6_project[0][0]            \n",
      "__________________________________________________________________________________________________\n",
      "block_7_expand (Conv2D)         (None, 14, 14, 384)  24576       block_6_project_BN[0][0]         \n",
      "__________________________________________________________________________________________________\n",
      "block_7_expand_BN (BatchNormali (None, 14, 14, 384)  1536        block_7_expand[0][0]             \n",
      "__________________________________________________________________________________________________\n",
      "block_7_expand_relu (ReLU)      (None, 14, 14, 384)  0           block_7_expand_BN[0][0]          \n",
      "__________________________________________________________________________________________________\n",
      "block_7_depthwise (DepthwiseCon (None, 14, 14, 384)  3456        block_7_expand_relu[0][0]        \n",
      "__________________________________________________________________________________________________\n",
      "block_7_depthwise_BN (BatchNorm (None, 14, 14, 384)  1536        block_7_depthwise[0][0]          \n",
      "__________________________________________________________________________________________________\n",
      "block_7_depthwise_relu (ReLU)   (None, 14, 14, 384)  0           block_7_depthwise_BN[0][0]       \n",
      "__________________________________________________________________________________________________\n",
      "block_7_project (Conv2D)        (None, 14, 14, 64)   24576       block_7_depthwise_relu[0][0]     \n",
      "__________________________________________________________________________________________________\n",
      "block_7_project_BN (BatchNormal (None, 14, 14, 64)   256         block_7_project[0][0]            \n",
      "__________________________________________________________________________________________________\n",
      "block_7_add (Add)               (None, 14, 14, 64)   0           block_6_project_BN[0][0]         \n",
      "                                                                 block_7_project_BN[0][0]         \n",
      "__________________________________________________________________________________________________\n",
      "block_8_expand (Conv2D)         (None, 14, 14, 384)  24576       block_7_add[0][0]                \n",
      "__________________________________________________________________________________________________\n",
      "block_8_expand_BN (BatchNormali (None, 14, 14, 384)  1536        block_8_expand[0][0]             \n",
      "__________________________________________________________________________________________________\n",
      "block_8_expand_relu (ReLU)      (None, 14, 14, 384)  0           block_8_expand_BN[0][0]          \n",
      "__________________________________________________________________________________________________\n",
      "block_8_depthwise (DepthwiseCon (None, 14, 14, 384)  3456        block_8_expand_relu[0][0]        \n",
      "__________________________________________________________________________________________________\n",
      "block_8_depthwise_BN (BatchNorm (None, 14, 14, 384)  1536        block_8_depthwise[0][0]          \n",
      "__________________________________________________________________________________________________\n",
      "block_8_depthwise_relu (ReLU)   (None, 14, 14, 384)  0           block_8_depthwise_BN[0][0]       \n",
      "__________________________________________________________________________________________________\n",
      "block_8_project (Conv2D)        (None, 14, 14, 64)   24576       block_8_depthwise_relu[0][0]     \n",
      "__________________________________________________________________________________________________\n",
      "block_8_project_BN (BatchNormal (None, 14, 14, 64)   256         block_8_project[0][0]            \n",
      "__________________________________________________________________________________________________\n",
      "block_8_add (Add)               (None, 14, 14, 64)   0           block_7_add[0][0]                \n",
      "                                                                 block_8_project_BN[0][0]         \n",
      "__________________________________________________________________________________________________\n",
      "block_9_expand (Conv2D)         (None, 14, 14, 384)  24576       block_8_add[0][0]                \n",
      "__________________________________________________________________________________________________\n",
      "block_9_expand_BN (BatchNormali (None, 14, 14, 384)  1536        block_9_expand[0][0]             \n",
      "__________________________________________________________________________________________________\n",
      "block_9_expand_relu (ReLU)      (None, 14, 14, 384)  0           block_9_expand_BN[0][0]          \n",
      "__________________________________________________________________________________________________\n",
      "block_9_depthwise (DepthwiseCon (None, 14, 14, 384)  3456        block_9_expand_relu[0][0]        \n",
      "__________________________________________________________________________________________________\n",
      "block_9_depthwise_BN (BatchNorm (None, 14, 14, 384)  1536        block_9_depthwise[0][0]          \n",
      "__________________________________________________________________________________________________\n",
      "block_9_depthwise_relu (ReLU)   (None, 14, 14, 384)  0           block_9_depthwise_BN[0][0]       \n",
      "__________________________________________________________________________________________________\n",
      "block_9_project (Conv2D)        (None, 14, 14, 64)   24576       block_9_depthwise_relu[0][0]     \n",
      "__________________________________________________________________________________________________\n",
      "block_9_project_BN (BatchNormal (None, 14, 14, 64)   256         block_9_project[0][0]            \n",
      "__________________________________________________________________________________________________\n",
      "block_9_add (Add)               (None, 14, 14, 64)   0           block_8_add[0][0]                \n",
      "                                                                 block_9_project_BN[0][0]         \n",
      "__________________________________________________________________________________________________\n",
      "block_10_expand (Conv2D)        (None, 14, 14, 384)  24576       block_9_add[0][0]                \n",
      "__________________________________________________________________________________________________\n",
      "block_10_expand_BN (BatchNormal (None, 14, 14, 384)  1536        block_10_expand[0][0]            \n",
      "__________________________________________________________________________________________________\n",
      "block_10_expand_relu (ReLU)     (None, 14, 14, 384)  0           block_10_expand_BN[0][0]         \n",
      "__________________________________________________________________________________________________\n",
      "block_10_depthwise (DepthwiseCo (None, 14, 14, 384)  3456        block_10_expand_relu[0][0]       \n",
      "__________________________________________________________________________________________________\n",
      "block_10_depthwise_BN (BatchNor (None, 14, 14, 384)  1536        block_10_depthwise[0][0]         \n",
      "__________________________________________________________________________________________________\n",
      "block_10_depthwise_relu (ReLU)  (None, 14, 14, 384)  0           block_10_depthwise_BN[0][0]      \n",
      "__________________________________________________________________________________________________\n",
      "block_10_project (Conv2D)       (None, 14, 14, 96)   36864       block_10_depthwise_relu[0][0]    \n",
      "__________________________________________________________________________________________________\n",
      "block_10_project_BN (BatchNorma (None, 14, 14, 96)   384         block_10_project[0][0]           \n",
      "__________________________________________________________________________________________________\n",
      "block_11_expand (Conv2D)        (None, 14, 14, 576)  55296       block_10_project_BN[0][0]        \n",
      "__________________________________________________________________________________________________\n",
      "block_11_expand_BN (BatchNormal (None, 14, 14, 576)  2304        block_11_expand[0][0]            \n",
      "__________________________________________________________________________________________________\n",
      "block_11_expand_relu (ReLU)     (None, 14, 14, 576)  0           block_11_expand_BN[0][0]         \n",
      "__________________________________________________________________________________________________\n",
      "block_11_depthwise (DepthwiseCo (None, 14, 14, 576)  5184        block_11_expand_relu[0][0]       \n",
      "__________________________________________________________________________________________________\n",
      "block_11_depthwise_BN (BatchNor (None, 14, 14, 576)  2304        block_11_depthwise[0][0]         \n",
      "__________________________________________________________________________________________________\n",
      "block_11_depthwise_relu (ReLU)  (None, 14, 14, 576)  0           block_11_depthwise_BN[0][0]      \n",
      "__________________________________________________________________________________________________\n",
      "block_11_project (Conv2D)       (None, 14, 14, 96)   55296       block_11_depthwise_relu[0][0]    \n",
      "__________________________________________________________________________________________________\n",
      "block_11_project_BN (BatchNorma (None, 14, 14, 96)   384         block_11_project[0][0]           \n",
      "__________________________________________________________________________________________________\n",
      "block_11_add (Add)              (None, 14, 14, 96)   0           block_10_project_BN[0][0]        \n",
      "                                                                 block_11_project_BN[0][0]        \n",
      "__________________________________________________________________________________________________\n",
      "block_12_expand (Conv2D)        (None, 14, 14, 576)  55296       block_11_add[0][0]               \n",
      "__________________________________________________________________________________________________\n",
      "block_12_expand_BN (BatchNormal (None, 14, 14, 576)  2304        block_12_expand[0][0]            \n",
      "__________________________________________________________________________________________________\n",
      "block_12_expand_relu (ReLU)     (None, 14, 14, 576)  0           block_12_expand_BN[0][0]         \n",
      "__________________________________________________________________________________________________\n",
      "block_12_depthwise (DepthwiseCo (None, 14, 14, 576)  5184        block_12_expand_relu[0][0]       \n",
      "__________________________________________________________________________________________________\n",
      "block_12_depthwise_BN (BatchNor (None, 14, 14, 576)  2304        block_12_depthwise[0][0]         \n",
      "__________________________________________________________________________________________________\n",
      "block_12_depthwise_relu (ReLU)  (None, 14, 14, 576)  0           block_12_depthwise_BN[0][0]      \n",
      "__________________________________________________________________________________________________\n",
      "block_12_project (Conv2D)       (None, 14, 14, 96)   55296       block_12_depthwise_relu[0][0]    \n",
      "__________________________________________________________________________________________________\n",
      "block_12_project_BN (BatchNorma (None, 14, 14, 96)   384         block_12_project[0][0]           \n",
      "__________________________________________________________________________________________________\n",
      "block_12_add (Add)              (None, 14, 14, 96)   0           block_11_add[0][0]               \n",
      "                                                                 block_12_project_BN[0][0]        \n",
      "__________________________________________________________________________________________________\n",
      "block_13_expand (Conv2D)        (None, 14, 14, 576)  55296       block_12_add[0][0]               \n",
      "__________________________________________________________________________________________________\n",
      "block_13_expand_BN (BatchNormal (None, 14, 14, 576)  2304        block_13_expand[0][0]            \n",
      "__________________________________________________________________________________________________\n",
      "block_13_expand_relu (ReLU)     (None, 14, 14, 576)  0           block_13_expand_BN[0][0]         \n",
      "__________________________________________________________________________________________________\n",
      "block_13_pad (ZeroPadding2D)    (None, 15, 15, 576)  0           block_13_expand_relu[0][0]       \n",
      "__________________________________________________________________________________________________\n",
      "block_13_depthwise (DepthwiseCo (None, 7, 7, 576)    5184        block_13_pad[0][0]               \n",
      "__________________________________________________________________________________________________\n",
      "block_13_depthwise_BN (BatchNor (None, 7, 7, 576)    2304        block_13_depthwise[0][0]         \n",
      "__________________________________________________________________________________________________\n",
      "block_13_depthwise_relu (ReLU)  (None, 7, 7, 576)    0           block_13_depthwise_BN[0][0]      \n",
      "__________________________________________________________________________________________________\n",
      "block_13_project (Conv2D)       (None, 7, 7, 160)    92160       block_13_depthwise_relu[0][0]    \n",
      "__________________________________________________________________________________________________\n",
      "block_13_project_BN (BatchNorma (None, 7, 7, 160)    640         block_13_project[0][0]           \n",
      "__________________________________________________________________________________________________\n",
      "block_14_expand (Conv2D)        (None, 7, 7, 960)    153600      block_13_project_BN[0][0]        \n",
      "__________________________________________________________________________________________________\n",
      "block_14_expand_BN (BatchNormal (None, 7, 7, 960)    3840        block_14_expand[0][0]            \n",
      "__________________________________________________________________________________________________\n",
      "block_14_expand_relu (ReLU)     (None, 7, 7, 960)    0           block_14_expand_BN[0][0]         \n",
      "__________________________________________________________________________________________________\n",
      "block_14_depthwise (DepthwiseCo (None, 7, 7, 960)    8640        block_14_expand_relu[0][0]       \n",
      "__________________________________________________________________________________________________\n",
      "block_14_depthwise_BN (BatchNor (None, 7, 7, 960)    3840        block_14_depthwise[0][0]         \n",
      "__________________________________________________________________________________________________\n",
      "block_14_depthwise_relu (ReLU)  (None, 7, 7, 960)    0           block_14_depthwise_BN[0][0]      \n",
      "__________________________________________________________________________________________________\n",
      "block_14_project (Conv2D)       (None, 7, 7, 160)    153600      block_14_depthwise_relu[0][0]    \n",
      "__________________________________________________________________________________________________\n",
      "block_14_project_BN (BatchNorma (None, 7, 7, 160)    640         block_14_project[0][0]           \n",
      "__________________________________________________________________________________________________\n",
      "block_14_add (Add)              (None, 7, 7, 160)    0           block_13_project_BN[0][0]        \n",
      "                                                                 block_14_project_BN[0][0]        \n",
      "__________________________________________________________________________________________________\n",
      "block_15_expand (Conv2D)        (None, 7, 7, 960)    153600      block_14_add[0][0]               \n",
      "__________________________________________________________________________________________________\n",
      "block_15_expand_BN (BatchNormal (None, 7, 7, 960)    3840        block_15_expand[0][0]            \n",
      "__________________________________________________________________________________________________\n",
      "block_15_expand_relu (ReLU)     (None, 7, 7, 960)    0           block_15_expand_BN[0][0]         \n",
      "__________________________________________________________________________________________________\n",
      "block_15_depthwise (DepthwiseCo (None, 7, 7, 960)    8640        block_15_expand_relu[0][0]       \n",
      "__________________________________________________________________________________________________\n",
      "block_15_depthwise_BN (BatchNor (None, 7, 7, 960)    3840        block_15_depthwise[0][0]         \n",
      "__________________________________________________________________________________________________\n",
      "block_15_depthwise_relu (ReLU)  (None, 7, 7, 960)    0           block_15_depthwise_BN[0][0]      \n",
      "__________________________________________________________________________________________________\n",
      "block_15_project (Conv2D)       (None, 7, 7, 160)    153600      block_15_depthwise_relu[0][0]    \n",
      "__________________________________________________________________________________________________\n",
      "block_15_project_BN (BatchNorma (None, 7, 7, 160)    640         block_15_project[0][0]           \n",
      "__________________________________________________________________________________________________\n",
      "block_15_add (Add)              (None, 7, 7, 160)    0           block_14_add[0][0]               \n",
      "                                                                 block_15_project_BN[0][0]        \n",
      "__________________________________________________________________________________________________\n",
      "block_16_expand (Conv2D)        (None, 7, 7, 960)    153600      block_15_add[0][0]               \n",
      "__________________________________________________________________________________________________\n",
      "block_16_expand_BN (BatchNormal (None, 7, 7, 960)    3840        block_16_expand[0][0]            \n",
      "__________________________________________________________________________________________________\n",
      "block_16_expand_relu (ReLU)     (None, 7, 7, 960)    0           block_16_expand_BN[0][0]         \n",
      "__________________________________________________________________________________________________\n",
      "block_16_depthwise (DepthwiseCo (None, 7, 7, 960)    8640        block_16_expand_relu[0][0]       \n",
      "__________________________________________________________________________________________________\n",
      "block_16_depthwise_BN (BatchNor (None, 7, 7, 960)    3840        block_16_depthwise[0][0]         \n",
      "__________________________________________________________________________________________________\n",
      "block_16_depthwise_relu (ReLU)  (None, 7, 7, 960)    0           block_16_depthwise_BN[0][0]      \n",
      "__________________________________________________________________________________________________\n",
      "block_16_project (Conv2D)       (None, 7, 7, 320)    307200      block_16_depthwise_relu[0][0]    \n",
      "__________________________________________________________________________________________________\n",
      "block_16_project_BN (BatchNorma (None, 7, 7, 320)    1280        block_16_project[0][0]           \n",
      "__________________________________________________________________________________________________\n",
      "Conv_1 (Conv2D)                 (None, 7, 7, 1280)   409600      block_16_project_BN[0][0]        \n",
      "__________________________________________________________________________________________________\n",
      "Conv_1_bn (BatchNormalization)  (None, 7, 7, 1280)   5120        Conv_1[0][0]                     \n",
      "__________________________________________________________________________________________________\n",
      "out_relu (ReLU)                 (None, 7, 7, 1280)   0           Conv_1_bn[0][0]                  \n",
      "==================================================================================================\n",
      "Total params: 2,257,984\n",
      "Trainable params: 2,223,872\n",
      "Non-trainable params: 34,112\n",
      "__________________________________________________________________________________________________\n"
     ]
    }
   ],
   "source": [
    "mobile_net_layers.summary()"
   ]
  },
  {
   "cell_type": "code",
   "execution_count": 19,
   "id": "edba27ef",
   "metadata": {
    "execution": {
     "iopub.execute_input": "2022-08-03T20:36:30.139439Z",
     "iopub.status.busy": "2022-08-03T20:36:30.139129Z",
     "iopub.status.idle": "2022-08-03T20:36:30.144150Z",
     "shell.execute_reply": "2022-08-03T20:36:30.143070Z"
    },
    "papermill": {
     "duration": 0.016986,
     "end_time": "2022-08-03T20:36:30.146807",
     "exception": false,
     "start_time": "2022-08-03T20:36:30.129821",
     "status": "completed"
    },
    "tags": []
   },
   "outputs": [
    {
     "name": "stdout",
     "output_type": "stream",
     "text": [
      "Number of layers in the base model:  154\n"
     ]
    }
   ],
   "source": [
    "print(\"Number of layers in the base model: \", len(mobile_net_layers.layers))"
   ]
  },
  {
   "cell_type": "code",
   "execution_count": 20,
   "id": "a0afb44f",
   "metadata": {
    "execution": {
     "iopub.execute_input": "2022-08-03T20:36:30.166472Z",
     "iopub.status.busy": "2022-08-03T20:36:30.164771Z",
     "iopub.status.idle": "2022-08-03T20:36:30.172543Z",
     "shell.execute_reply": "2022-08-03T20:36:30.171631Z"
    },
    "papermill": {
     "duration": 0.018866,
     "end_time": "2022-08-03T20:36:30.174664",
     "exception": false,
     "start_time": "2022-08-03T20:36:30.155798",
     "status": "completed"
    },
    "tags": []
   },
   "outputs": [],
   "source": [
    "fine_tune_at = 77\n",
    "\n",
    "for layer in mobile_net_layers.layers[:fine_tune_at]:\n",
    "    layer.trainable =  False"
   ]
  },
  {
   "cell_type": "code",
   "execution_count": 21,
   "id": "d446e2bb",
   "metadata": {
    "execution": {
     "iopub.execute_input": "2022-08-03T20:36:30.192946Z",
     "iopub.status.busy": "2022-08-03T20:36:30.192111Z",
     "iopub.status.idle": "2022-08-03T20:36:30.533718Z",
     "shell.execute_reply": "2022-08-03T20:36:30.532699Z"
    },
    "papermill": {
     "duration": 0.353694,
     "end_time": "2022-08-03T20:36:30.536321",
     "exception": false,
     "start_time": "2022-08-03T20:36:30.182627",
     "status": "completed"
    },
    "tags": []
   },
   "outputs": [],
   "source": [
    "model1 = tf.keras.Sequential([\n",
    "  mobile_net_layers,\n",
    "  tf.keras.layers.GlobalMaxPool2D(),\n",
    "  tf.keras.layers.Flatten(),\n",
    "  tf.keras.layers.Dense(4,activation='softmax')  \n",
    "])"
   ]
  },
  {
   "cell_type": "code",
   "execution_count": 22,
   "id": "3b1f9229",
   "metadata": {
    "execution": {
     "iopub.execute_input": "2022-08-03T20:36:30.556917Z",
     "iopub.status.busy": "2022-08-03T20:36:30.556476Z",
     "iopub.status.idle": "2022-08-03T20:36:30.571992Z",
     "shell.execute_reply": "2022-08-03T20:36:30.570922Z"
    },
    "papermill": {
     "duration": 0.029399,
     "end_time": "2022-08-03T20:36:30.575028",
     "exception": false,
     "start_time": "2022-08-03T20:36:30.545629",
     "status": "completed"
    },
    "tags": []
   },
   "outputs": [
    {
     "name": "stdout",
     "output_type": "stream",
     "text": [
      "Model: \"sequential\"\n",
      "_________________________________________________________________\n",
      "Layer (type)                 Output Shape              Param #   \n",
      "=================================================================\n",
      "mobilenetv2_1.00_224 (Functi (None, 7, 7, 1280)        2257984   \n",
      "_________________________________________________________________\n",
      "global_max_pooling2d (Global (None, 1280)              0         \n",
      "_________________________________________________________________\n",
      "flatten (Flatten)            (None, 1280)              0         \n",
      "_________________________________________________________________\n",
      "dense (Dense)                (None, 4)                 5124      \n",
      "=================================================================\n",
      "Total params: 2,263,108\n",
      "Trainable params: 2,068,612\n",
      "Non-trainable params: 194,496\n",
      "_________________________________________________________________\n"
     ]
    }
   ],
   "source": [
    "model1.summary()"
   ]
  },
  {
   "cell_type": "code",
   "execution_count": 23,
   "id": "b6b27123",
   "metadata": {
    "execution": {
     "iopub.execute_input": "2022-08-03T20:36:30.598326Z",
     "iopub.status.busy": "2022-08-03T20:36:30.597388Z",
     "iopub.status.idle": "2022-08-03T20:36:30.605022Z",
     "shell.execute_reply": "2022-08-03T20:36:30.604124Z"
    },
    "papermill": {
     "duration": 0.019693,
     "end_time": "2022-08-03T20:36:30.607059",
     "exception": false,
     "start_time": "2022-08-03T20:36:30.587366",
     "status": "completed"
    },
    "tags": []
   },
   "outputs": [],
   "source": [
    "from keras import backend as K\n",
    "def f1SCORE(y_true, y_pred): #taken from old keras source code\n",
    "    true_positives = K.sum(K.round(K.clip(y_true * y_pred, 0, 1)))\n",
    "    possible_positives = K.sum(K.round(K.clip(y_true, 0, 1)))\n",
    "    predicted_positives = K.sum(K.round(K.clip(y_pred, 0, 1)))\n",
    "    precision = true_positives / (predicted_positives + K.epsilon())\n",
    "    recall = true_positives / (possible_positives + K.epsilon())\n",
    "    f1_val = 2*(precision*recall)/(precision+recall+K.epsilon())\n",
    "    return f1_val"
   ]
  },
  {
   "cell_type": "code",
   "execution_count": 24,
   "id": "336b454b",
   "metadata": {
    "execution": {
     "iopub.execute_input": "2022-08-03T20:36:30.626782Z",
     "iopub.status.busy": "2022-08-03T20:36:30.626016Z",
     "iopub.status.idle": "2022-08-03T20:36:30.654630Z",
     "shell.execute_reply": "2022-08-03T20:36:30.653342Z"
    },
    "papermill": {
     "duration": 0.04208,
     "end_time": "2022-08-03T20:36:30.657424",
     "exception": false,
     "start_time": "2022-08-03T20:36:30.615344",
     "status": "completed"
    },
    "tags": []
   },
   "outputs": [],
   "source": [
    "base_learning_rate = 0.0001\n",
    "model1.compile(optimizer=tf.keras.optimizers.Adam(learning_rate=base_learning_rate),\n",
    "              loss=tf.keras.losses.CategoricalCrossentropy(),\n",
    "              metrics=['accuracy', keras.metrics.Precision(), keras.metrics.Recall(), keras.metrics.AUC(),f1SCORE])"
   ]
  },
  {
   "cell_type": "code",
   "execution_count": 25,
   "id": "98ef15fb",
   "metadata": {
    "execution": {
     "iopub.execute_input": "2022-08-03T20:36:30.676543Z",
     "iopub.status.busy": "2022-08-03T20:36:30.676177Z",
     "iopub.status.idle": "2022-08-03T20:36:30.686044Z",
     "shell.execute_reply": "2022-08-03T20:36:30.682167Z"
    },
    "papermill": {
     "duration": 0.022461,
     "end_time": "2022-08-03T20:36:30.688639",
     "exception": false,
     "start_time": "2022-08-03T20:36:30.666178",
     "status": "completed"
    },
    "tags": []
   },
   "outputs": [],
   "source": [
    "early_stopping = tf.keras.callbacks.EarlyStopping(monitor='val_loss', patience=5, restore_best_weights=True)"
   ]
  },
  {
   "cell_type": "code",
   "execution_count": 26,
   "id": "5e27c7c5",
   "metadata": {
    "execution": {
     "iopub.execute_input": "2022-08-03T20:36:30.711452Z",
     "iopub.status.busy": "2022-08-03T20:36:30.709469Z",
     "iopub.status.idle": "2022-08-03T20:58:26.999413Z",
     "shell.execute_reply": "2022-08-03T20:58:26.997901Z"
    },
    "papermill": {
     "duration": 1316.303823,
     "end_time": "2022-08-03T20:58:27.002330",
     "exception": false,
     "start_time": "2022-08-03T20:36:30.698507",
     "status": "completed"
    },
    "tags": []
   },
   "outputs": [
    {
     "name": "stderr",
     "output_type": "stream",
     "text": [
      "2022-08-03 20:36:30.838875: I tensorflow/compiler/mlir/mlir_graph_optimization_pass.cc:185] None of the MLIR Optimization Passes are enabled (registered 2)\n"
     ]
    },
    {
     "name": "stdout",
     "output_type": "stream",
     "text": [
      "Epoch 1/10000\n"
     ]
    },
    {
     "name": "stderr",
     "output_type": "stream",
     "text": [
      "2022-08-03 20:36:36.099205: I tensorflow/stream_executor/cuda/cuda_dnn.cc:369] Loaded cuDNN version 8005\n"
     ]
    },
    {
     "name": "stdout",
     "output_type": "stream",
     "text": [
      "2052/2052 [==============================] - 88s 37ms/step - loss: 0.7177 - accuracy: 0.8144 - precision: 0.8189 - recall: 0.8114 - auc: 0.9460 - f1SCORE: 0.8144 - val_loss: 0.4373 - val_accuracy: 0.8854 - val_precision: 0.8867 - val_recall: 0.8838 - val_auc: 0.9733 - val_f1SCORE: 0.8852\n",
      "Epoch 2/10000\n",
      "2052/2052 [==============================] - 76s 37ms/step - loss: 0.4012 - accuracy: 0.8890 - precision: 0.8906 - recall: 0.8876 - auc: 0.9751 - f1SCORE: 0.8890 - val_loss: 0.4492 - val_accuracy: 0.8317 - val_precision: 0.8353 - val_recall: 0.8284 - val_auc: 0.9676 - val_f1SCORE: 0.8317\n",
      "Epoch 3/10000\n",
      "2052/2052 [==============================] - 75s 36ms/step - loss: 0.3187 - accuracy: 0.9085 - precision: 0.9103 - recall: 0.9076 - auc: 0.9818 - f1SCORE: 0.9085 - val_loss: 0.2889 - val_accuracy: 0.9271 - val_precision: 0.9276 - val_recall: 0.9271 - val_auc: 0.9838 - val_f1SCORE: 0.9273\n",
      "Epoch 4/10000\n",
      "2052/2052 [==============================] - 76s 37ms/step - loss: 0.2621 - accuracy: 0.9238 - precision: 0.9250 - recall: 0.9231 - auc: 0.9861 - f1SCORE: 0.9240 - val_loss: 0.3094 - val_accuracy: 0.9194 - val_precision: 0.9194 - val_recall: 0.9189 - val_auc: 0.9835 - val_f1SCORE: 0.9190\n",
      "Epoch 5/10000\n",
      "2052/2052 [==============================] - 76s 37ms/step - loss: 0.2173 - accuracy: 0.9347 - precision: 0.9355 - recall: 0.9338 - auc: 0.9892 - f1SCORE: 0.9346 - val_loss: 0.2985 - val_accuracy: 0.9041 - val_precision: 0.9049 - val_recall: 0.9030 - val_auc: 0.9821 - val_f1SCORE: 0.9038\n",
      "Epoch 6/10000\n",
      "2052/2052 [==============================] - 78s 38ms/step - loss: 0.2044 - accuracy: 0.9388 - precision: 0.9396 - recall: 0.9383 - auc: 0.9899 - f1SCORE: 0.9389 - val_loss: 0.3259 - val_accuracy: 0.9101 - val_precision: 0.9099 - val_recall: 0.9079 - val_auc: 0.9822 - val_f1SCORE: 0.9089\n",
      "Epoch 7/10000\n",
      "2052/2052 [==============================] - 77s 37ms/step - loss: 0.1559 - accuracy: 0.9517 - precision: 0.9519 - recall: 0.9512 - auc: 0.9932 - f1SCORE: 0.9516 - val_loss: 0.3589 - val_accuracy: 0.9002 - val_precision: 0.9007 - val_recall: 0.9002 - val_auc: 0.9792 - val_f1SCORE: 0.9004\n",
      "Epoch 8/10000\n",
      "2052/2052 [==============================] - 78s 38ms/step - loss: 0.1375 - accuracy: 0.9575 - precision: 0.9576 - recall: 0.9573 - auc: 0.9943 - f1SCORE: 0.9575 - val_loss: 0.2541 - val_accuracy: 0.9337 - val_precision: 0.9347 - val_recall: 0.9337 - val_auc: 0.9877 - val_f1SCORE: 0.9342\n",
      "Epoch 9/10000\n",
      "2052/2052 [==============================] - 77s 38ms/step - loss: 0.1295 - accuracy: 0.9615 - precision: 0.9617 - recall: 0.9613 - auc: 0.9949 - f1SCORE: 0.9615 - val_loss: 0.3063 - val_accuracy: 0.9232 - val_precision: 0.9242 - val_recall: 0.9227 - val_auc: 0.9829 - val_f1SCORE: 0.9234\n",
      "Epoch 10/10000\n",
      "2052/2052 [==============================] - 77s 37ms/step - loss: 0.1069 - accuracy: 0.9682 - precision: 0.9684 - recall: 0.9681 - auc: 0.9958 - f1SCORE: 0.9683 - val_loss: 0.3502 - val_accuracy: 0.9189 - val_precision: 0.9189 - val_recall: 0.9189 - val_auc: 0.9808 - val_f1SCORE: 0.9189\n",
      "Epoch 11/10000\n",
      "2052/2052 [==============================] - 78s 38ms/step - loss: 0.0986 - accuracy: 0.9709 - precision: 0.9710 - recall: 0.9707 - auc: 0.9962 - f1SCORE: 0.9708 - val_loss: 0.2359 - val_accuracy: 0.9441 - val_precision: 0.9440 - val_recall: 0.9435 - val_auc: 0.9866 - val_f1SCORE: 0.9438\n",
      "Epoch 12/10000\n",
      "2052/2052 [==============================] - 78s 38ms/step - loss: 0.0803 - accuracy: 0.9760 - precision: 0.9760 - recall: 0.9759 - auc: 0.9972 - f1SCORE: 0.9760 - val_loss: 0.5763 - val_accuracy: 0.8843 - val_precision: 0.8853 - val_recall: 0.8843 - val_auc: 0.9663 - val_f1SCORE: 0.8848\n",
      "Epoch 13/10000\n",
      "2052/2052 [==============================] - 79s 39ms/step - loss: 0.0865 - accuracy: 0.9743 - precision: 0.9746 - recall: 0.9742 - auc: 0.9967 - f1SCORE: 0.9744 - val_loss: 0.4244 - val_accuracy: 0.9062 - val_precision: 0.9071 - val_recall: 0.9052 - val_auc: 0.9771 - val_f1SCORE: 0.9061\n",
      "Epoch 14/10000\n",
      "2052/2052 [==============================] - 76s 37ms/step - loss: 0.0748 - accuracy: 0.9778 - precision: 0.9779 - recall: 0.9778 - auc: 0.9973 - f1SCORE: 0.9778 - val_loss: 0.6419 - val_accuracy: 0.9172 - val_precision: 0.9172 - val_recall: 0.9172 - val_auc: 0.9669 - val_f1SCORE: 0.9172\n",
      "Epoch 15/10000\n",
      "2052/2052 [==============================] - 82s 40ms/step - loss: 0.0691 - accuracy: 0.9798 - precision: 0.9799 - recall: 0.9797 - auc: 0.9971 - f1SCORE: 0.9794 - val_loss: 0.3388 - val_accuracy: 0.9397 - val_precision: 0.9397 - val_recall: 0.9397 - val_auc: 0.9810 - val_f1SCORE: 0.9397\n",
      "Epoch 16/10000\n",
      "2052/2052 [==============================] - 82s 40ms/step - loss: 0.0576 - accuracy: 0.9842 - precision: 0.9843 - recall: 0.9840 - auc: 0.9980 - f1SCORE: 0.9837 - val_loss: 0.5867 - val_accuracy: 0.8728 - val_precision: 0.8728 - val_recall: 0.8728 - val_auc: 0.9623 - val_f1SCORE: 0.8728\n"
     ]
    }
   ],
   "source": [
    "initial_epochs = 10000\n",
    "history = model1.fit(train_generator, epochs=initial_epochs, \n",
    "                     validation_data = validation_generator, callbacks=[early_stopping])"
   ]
  },
  {
   "cell_type": "code",
   "execution_count": 27,
   "id": "09394049",
   "metadata": {
    "execution": {
     "iopub.execute_input": "2022-08-03T20:58:29.235946Z",
     "iopub.status.busy": "2022-08-03T20:58:29.235590Z",
     "iopub.status.idle": "2022-08-03T20:58:30.603035Z",
     "shell.execute_reply": "2022-08-03T20:58:30.602089Z"
    },
    "papermill": {
     "duration": 2.493626,
     "end_time": "2022-08-03T20:58:30.607336",
     "exception": false,
     "start_time": "2022-08-03T20:58:28.113710",
     "status": "completed"
    },
    "tags": []
   },
   "outputs": [
    {
     "data": {
      "image/png": "[encoded data removed]",
      "text/plain": [
       "<Figure size 1440x1152 with 6 Axes>"
      ]
     },
     "metadata": {},
     "output_type": "display_data"
    }
   ],
   "source": [
    "import seaborn as sns\n",
    "def data(history):\n",
    "  return pd.DataFrame(data=list(zip(history.history[\"accuracy\"], history.history[\"val_accuracy\"], history.history[\"loss\"], history.history[\"val_loss\"], history.history[\"recall\"], history.history[\"val_recall\"], history.history[\"precision\"], history.history[\"val_precision\"], history.history[\"auc\"], history.history[\"val_auc\"],history.history[\"f1SCORE\"],history.history[\"val_f1SCORE\"] )) , columns=[\"Accuracy\", \"Validation Accuracy\", \"Loss\", \"Validation Loss\", \"Recall\", \"Validation Recall\", \"Precision\", \"Validation Precision\", \"AUC\", \"Validation AUC\", \"f1SCORE\", \"Validation f1SCORE\"])\n",
    "def history_visualization(history):\n",
    "  df = data(history)\n",
    "  sns.set_style('darkgrid')\n",
    "  nrow = 3\n",
    "  ncol = 2\n",
    "  df_columns = df.columns\n",
    "  df_list = [df[col] for col in df]\n",
    "  titles=[\"Accuracy Visualization\", \"Loss Visualization\", \"Recall Visualization\", \"Precision Visualization\", \"AUC Visualization\", \"F1 Score Visualization\"]\n",
    "  fig, axes = plt.subplots(nrow, ncol, figsize=(20, 16))\n",
    "  count = 0\n",
    "  i = 0\n",
    "  for r in range(nrow):\n",
    "    for c in range(ncol):\n",
    "        df_list[count].plot(ax=axes[r,c], x=\"Number of Epochs\", legend=\"brief\", label=df_columns[count], marker=\"o\").set_title(titles[i])\n",
    "        df_list[count+1].plot(ax=axes[r, c], x=\"Number of Epochs\", legend=\"brief\" ,label=df_columns[count+1], marker=\"o\").set_title(titles[i])\n",
    "        i+=1\n",
    "        count+=2\n",
    "history_visualization(history)"
   ]
  },
  {
   "cell_type": "code",
   "execution_count": 28,
   "id": "03fc5542",
   "metadata": {
    "execution": {
     "iopub.execute_input": "2022-08-03T20:58:33.016707Z",
     "iopub.status.busy": "2022-08-03T20:58:33.016310Z",
     "iopub.status.idle": "2022-08-03T20:58:43.319240Z",
     "shell.execute_reply": "2022-08-03T20:58:43.318263Z"
    },
    "papermill": {
     "duration": 11.666721,
     "end_time": "2022-08-03T20:58:43.321682",
     "exception": false,
     "start_time": "2022-08-03T20:58:31.654961",
     "status": "completed"
    },
    "tags": []
   },
   "outputs": [
    {
     "name": "stdout",
     "output_type": "stream",
     "text": [
      "252/252 [==============================] - 8s 30ms/step - loss: 0.3084 - accuracy: 0.9345 - precision: 0.9345 - recall: 0.9345 - auc: 0.9811 - f1SCORE: 0.9345\n"
     ]
    },
    {
     "data": {
      "text/plain": [
       "[0.3084198832511902,\n",
       " 0.9344913363456726,\n",
       " 0.9344913363456726,\n",
       " 0.9344913363456726,\n",
       " 0.9810522794723511,\n",
       " 0.9345238208770752]"
      ]
     },
     "execution_count": 28,
     "metadata": {},
     "output_type": "execute_result"
    }
   ],
   "source": [
    "model1.evaluate(test_generator)\n",
    "# loss and accuracy"
   ]
  },
  {
   "cell_type": "code",
   "execution_count": 29,
   "id": "d6a73e34",
   "metadata": {
    "execution": {
     "iopub.execute_input": "2022-08-03T20:58:45.415698Z",
     "iopub.status.busy": "2022-08-03T20:58:45.415066Z",
     "iopub.status.idle": "2022-08-03T20:58:52.272171Z",
     "shell.execute_reply": "2022-08-03T20:58:52.270984Z"
    },
    "papermill": {
     "duration": 7.861868,
     "end_time": "2022-08-03T20:58:52.275355",
     "exception": false,
     "start_time": "2022-08-03T20:58:44.413487",
     "status": "completed"
    },
    "tags": []
   },
   "outputs": [
    {
     "name": "stdout",
     "output_type": "stream",
     "text": [
      "                 precision    recall  f1-score   support\n",
      "\n",
      "          Covid       0.96      0.98      0.97       361\n",
      "   Lung opacity       0.92      0.89      0.90       601\n",
      "         Normal       0.93      0.94      0.93       918\n",
      "Viral Pneumonia       0.96      0.99      0.97       135\n",
      "\n",
      "       accuracy                           0.93      2015\n",
      "      macro avg       0.94      0.95      0.95      2015\n",
      "   weighted avg       0.93      0.93      0.93      2015\n",
      "\n"
     ]
    }
   ],
   "source": [
    "from sklearn.metrics import confusion_matrix, classification_report\n",
    "import seaborn as sns\n",
    "val_predict = model1.predict(test_generator)\n",
    "predict_class = np.argmax(val_predict, axis=1)\n",
    "predict_class = predict_class.tolist()\n",
    "labels = ['Covid','Lung opacity' ,'Normal', 'Viral Pneumonia']\n",
    "report = classification_report(test_generator.classes, predict_class, target_names=labels)\n",
    "print(report)"
   ]
  },
  {
   "cell_type": "code",
   "execution_count": 30,
   "id": "9f0115f5",
   "metadata": {
    "execution": {
     "iopub.execute_input": "2022-08-03T20:58:54.679082Z",
     "iopub.status.busy": "2022-08-03T20:58:54.678685Z",
     "iopub.status.idle": "2022-08-03T20:58:54.687638Z",
     "shell.execute_reply": "2022-08-03T20:58:54.686294Z"
    },
    "papermill": {
     "duration": 1.303046,
     "end_time": "2022-08-03T20:58:54.689793",
     "exception": false,
     "start_time": "2022-08-03T20:58:53.386747",
     "status": "completed"
    },
    "tags": []
   },
   "outputs": [],
   "source": [
    "cm = confusion_matrix(test_generator.classes, predict_class)\n",
    "cm_df = pd.DataFrame(cm,\n",
    "                     index = ['COVID','LUNG OPACITY' ,'NORMAL','VIRAL PNEUMONIA'], \n",
    "                     columns = ['COVID','LUNG OPACITY' ,'NORMAL','VIRAL PNEUMONIA'])"
   ]
  },
  {
   "cell_type": "code",
   "execution_count": 31,
   "id": "45dbdc72",
   "metadata": {
    "execution": {
     "iopub.execute_input": "2022-08-03T20:58:56.814842Z",
     "iopub.status.busy": "2022-08-03T20:58:56.814450Z",
     "iopub.status.idle": "2022-08-03T20:58:57.145323Z",
     "shell.execute_reply": "2022-08-03T20:58:57.144343Z"
    },
    "papermill": {
     "duration": 1.393233,
     "end_time": "2022-08-03T20:58:57.147863",
     "exception": false,
     "start_time": "2022-08-03T20:58:55.754630",
     "status": "completed"
    },
    "tags": []
   },
   "outputs": [
    {
     "data": {
      "image/png": "[encoded data removed]",
      "text/plain": [
       "<Figure size 720x576 with 2 Axes>"
      ]
     },
     "metadata": {},
     "output_type": "display_data"
    }
   ],
   "source": [
    "plt.figure(figsize=(10,8))\n",
    "sns.heatmap(cm_df, annot=True, fmt='d')\n",
    "plt.title(\"Confusion Matrixx\")\n",
    "plt.xlabel(\"Predicted\")\n",
    "plt.ylabel(\"Actual\")\n",
    "plt.show()"
   ]
  },
  {
   "cell_type": "code",
   "execution_count": 32,
   "id": "cd6035ad",
   "metadata": {
    "execution": {
     "iopub.execute_input": "2022-08-03T20:58:59.340454Z",
     "iopub.status.busy": "2022-08-03T20:58:59.339516Z",
     "iopub.status.idle": "2022-08-03T20:58:59.726670Z",
     "shell.execute_reply": "2022-08-03T20:58:59.725487Z"
    },
    "papermill": {
     "duration": 1.549978,
     "end_time": "2022-08-03T20:58:59.729788",
     "exception": false,
     "start_time": "2022-08-03T20:58:58.179810",
     "status": "completed"
    },
    "tags": []
   },
   "outputs": [
    {
     "name": "stderr",
     "output_type": "stream",
     "text": [
      "/opt/conda/lib/python3.7/site-packages/keras/utils/generic_utils.py:497: CustomMaskWarning: Custom mask layers require a config and must override get_config. When loading, the custom mask layer must be passed to the custom_objects argument.\n",
      "  category=CustomMaskWarning)\n"
     ]
    }
   ],
   "source": [
    "keras.models.save_model(model1,\"./base_dir/mobilenetfold4.h5\")"
   ]
  }
 ],
 "metadata": {
  "kernelspec": {
   "display_name": "Python 3",
   "language": "python",
   "name": "python3"
  },
  "language_info": {
   "codemirror_mode": {
    "name": "ipython",
    "version": 3
   },
   "file_extension": ".py",
   "mimetype": "text/x-python",
   "name": "python",
   "nbconvert_exporter": "python",
   "pygments_lexer": "ipython3",
   "version": "3.7.12"
  },
  "papermill": {
   "default_parameters": {},
   "duration": 1581.708923,
   "end_time": "2022-08-03T20:59:04.296133",
   "environment_variables": {},
   "exception": null,
   "input_path": "__notebook__.ipynb",
   "output_path": "__notebook__.ipynb",
   "parameters": {},
   "start_time": "2022-08-03T20:32:42.587210",
   "version": "2.3.4"
  }
 },
 "nbformat": 4,
 "nbformat_minor": 5
}
