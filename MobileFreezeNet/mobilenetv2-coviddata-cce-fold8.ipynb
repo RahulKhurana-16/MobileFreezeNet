{
 "cells": [
  {
   "cell_type": "code",
   "execution_count": 1,
   "id": "952d57ce",
   "metadata": {
    "_cell_guid": "b1076dfc-b9ad-4769-8c92-a6c4dae69d19",
    "_uuid": "8f2839f25d086af736a60e9eeb907d3b93b6e0e5",
    "execution": {
     "iopub.execute_input": "2022-08-23T05:11:25.425171Z",
     "iopub.status.busy": "2022-08-23T05:11:25.424346Z",
     "iopub.status.idle": "2022-08-23T05:11:38.631463Z",
     "shell.execute_reply": "2022-08-23T05:11:38.630342Z"
    },
    "papermill": {
     "duration": 13.219123,
     "end_time": "2022-08-23T05:11:38.634256",
     "exception": false,
     "start_time": "2022-08-23T05:11:25.415133",
     "status": "completed"
    },
    "tags": []
   },
   "outputs": [
    {
     "name": "stdout",
     "output_type": "stream",
     "text": [
      "Collecting openpyxl\r\n",
      "  Downloading openpyxl-3.0.10-py2.py3-none-any.whl (242 kB)\r\n",
      "\u001b[2K     \u001b[90m━━━━━━━━━━━━━━━━━━━━━━━━━━━━━━━━━━━━━\u001b[0m \u001b[32m242.1/242.1 kB\u001b[0m \u001b[31m473.4 kB/s\u001b[0m eta \u001b[36m0:00:00\u001b[0m\r\n",
      "\u001b[?25hCollecting et-xmlfile\r\n",
      "  Downloading et_xmlfile-1.1.0-py3-none-any.whl (4.7 kB)\r\n",
      "Installing collected packages: et-xmlfile, openpyxl\r\n",
      "Successfully installed et-xmlfile-1.1.0 openpyxl-3.0.10\r\n",
      "\u001b[33mWARNING: Running pip as the 'root' user can result in broken permissions and conflicting behaviour with the system package manager. It is recommended to use a virtual environment instead: https://pip.pypa.io/warnings/venv\u001b[0m\u001b[33m\r\n",
      "\u001b[0m"
     ]
    }
   ],
   "source": [
    "!pip install openpyxl"
   ]
  },
  {
   "cell_type": "code",
   "execution_count": 2,
   "id": "3eabe322",
   "metadata": {
    "execution": {
     "iopub.execute_input": "2022-08-23T05:11:38.650340Z",
     "iopub.status.busy": "2022-08-23T05:11:38.650000Z",
     "iopub.status.idle": "2022-08-23T05:11:44.553484Z",
     "shell.execute_reply": "2022-08-23T05:11:44.552492Z"
    },
    "papermill": {
     "duration": 5.914145,
     "end_time": "2022-08-23T05:11:44.555976",
     "exception": false,
     "start_time": "2022-08-23T05:11:38.641831",
     "status": "completed"
    },
    "tags": []
   },
   "outputs": [],
   "source": [
    "import numpy as np # linear algebra\n",
    "import pandas as pd \n",
    "import os\n",
    "import cv2\n",
    "import seaborn as sns\n",
    "\n",
    "# libraries for files preparation\n",
    "from sklearn.utils import shuffle\n",
    "from sklearn.model_selection import train_test_split\n",
    "import shutil\n",
    "from sklearn.metrics import matthews_corrcoef\n",
    "\n",
    "# libraries for CNN models and plotting\n",
    "import tensorflow as tf\n",
    "import tensorflow.keras.layers as tfl\n",
    "import tensorflow.keras as keras\n",
    "\n",
    "from tensorflow.keras.preprocessing.image import ImageDataGenerator\n",
    "from tensorflow.keras.layers import Conv2D, MaxPooling2D, Dense, Flatten, Dropout\n",
    "from tensorflow.keras import Sequential\n",
    "from tensorflow.keras.callbacks import EarlyStopping\n",
    "\n",
    "import matplotlib.pyplot as plt\n",
    "%matplotlib inline"
   ]
  },
  {
   "cell_type": "code",
   "execution_count": 3,
   "id": "f8cc559f",
   "metadata": {
    "execution": {
     "iopub.execute_input": "2022-08-23T05:11:44.572905Z",
     "iopub.status.busy": "2022-08-23T05:11:44.572393Z",
     "iopub.status.idle": "2022-08-23T05:11:44.635079Z",
     "shell.execute_reply": "2022-08-23T05:11:44.634204Z"
    },
    "papermill": {
     "duration": 0.073952,
     "end_time": "2022-08-23T05:11:44.637383",
     "exception": false,
     "start_time": "2022-08-23T05:11:44.563431",
     "status": "completed"
    },
    "tags": []
   },
   "outputs": [],
   "source": [
    "path = '../input/mobilenetv2-kfolds/MobileNetFOLDS/'\n",
    "fold1 = pd.read_csv(path+'Fold1.csv')\n",
    "fold2 = pd.read_csv(path+'Fold2.csv')\n",
    "fold3 = pd.read_csv(path+'Fold3.csv')\n",
    "fold4 = pd.read_csv(path+'Fold4.csv')\n",
    "fold5 = pd.read_csv(path+'Fold5.csv')\n",
    "fold6 = pd.read_csv(path+'Fold6.csv')\n",
    "fold7 = pd.read_csv(path+'Fold7.csv')\n",
    "fold8 = pd.read_csv(path+'Fold8.csv')\n",
    "fold9 = pd.read_csv(path+'Fold9.csv')\n",
    "fold10 = pd.read_csv(path+'Fold10.csv')"
   ]
  },
  {
   "cell_type": "code",
   "execution_count": 4,
   "id": "6c8f63e8",
   "metadata": {
    "execution": {
     "iopub.execute_input": "2022-08-23T05:11:44.654010Z",
     "iopub.status.busy": "2022-08-23T05:11:44.652321Z",
     "iopub.status.idle": "2022-08-23T05:11:44.675245Z",
     "shell.execute_reply": "2022-08-23T05:11:44.674392Z"
    },
    "papermill": {
     "duration": 0.032811,
     "end_time": "2022-08-23T05:11:44.677335",
     "exception": false,
     "start_time": "2022-08-23T05:11:44.644524",
     "status": "completed"
    },
    "tags": []
   },
   "outputs": [
    {
     "data": {
      "text/plain": [
       "1    9275\n",
       "3    6012\n",
       "0    3616\n",
       "2    1345\n",
       "Name: label, dtype: int64"
      ]
     },
     "execution_count": 4,
     "metadata": {},
     "output_type": "execute_result"
    }
   ],
   "source": [
    "data = pd.concat([fold1,fold2,fold3,fold4,fold5,fold6,fold7,fold8,fold9,fold10], axis=0).reset_index(drop=True)\n",
    "data['label'].value_counts()"
   ]
  },
  {
   "cell_type": "code",
   "execution_count": 5,
   "id": "e24250d5",
   "metadata": {
    "execution": {
     "iopub.execute_input": "2022-08-23T05:11:44.693194Z",
     "iopub.status.busy": "2022-08-23T05:11:44.692247Z",
     "iopub.status.idle": "2022-08-23T05:11:44.700551Z",
     "shell.execute_reply": "2022-08-23T05:11:44.699736Z"
    },
    "papermill": {
     "duration": 0.018134,
     "end_time": "2022-08-23T05:11:44.702567",
     "exception": false,
     "start_time": "2022-08-23T05:11:44.684433",
     "status": "completed"
    },
    "tags": []
   },
   "outputs": [],
   "source": [
    "data = shuffle(data)"
   ]
  },
  {
   "cell_type": "code",
   "execution_count": 6,
   "id": "c7fba280",
   "metadata": {
    "execution": {
     "iopub.execute_input": "2022-08-23T05:11:44.717643Z",
     "iopub.status.busy": "2022-08-23T05:11:44.717368Z",
     "iopub.status.idle": "2022-08-23T05:11:44.752489Z",
     "shell.execute_reply": "2022-08-23T05:11:44.751388Z"
    },
    "papermill": {
     "duration": 0.045408,
     "end_time": "2022-08-23T05:11:44.754961",
     "exception": false,
     "start_time": "2022-08-23T05:11:44.709553",
     "status": "completed"
    },
    "tags": []
   },
   "outputs": [
    {
     "name": "stdout",
     "output_type": "stream",
     "text": [
      "(18234, 2)\n",
      "(2014, 2)\n"
     ]
    }
   ],
   "source": [
    "df_test = fold8.copy()\n",
    "train = pd.concat([fold10,fold1,fold2,fold3,fold4,fold5,fold6,fold7,fold9], axis=0).reset_index(drop=True)\n",
    "train = shuffle(train)\n",
    "\n",
    "df_test.to_csv(\"testexp8.csv\",index=False)\n",
    "train.to_csv(\"trainexp8.csv\",index=False)\n",
    "\n",
    "print(train.shape)\n",
    "print(df_test.shape)"
   ]
  },
  {
   "cell_type": "code",
   "execution_count": 7,
   "id": "342e2651",
   "metadata": {
    "execution": {
     "iopub.execute_input": "2022-08-23T05:11:44.770980Z",
     "iopub.status.busy": "2022-08-23T05:11:44.770713Z",
     "iopub.status.idle": "2022-08-23T05:11:44.785339Z",
     "shell.execute_reply": "2022-08-23T05:11:44.784052Z"
    },
    "papermill": {
     "duration": 0.025213,
     "end_time": "2022-08-23T05:11:44.787969",
     "exception": false,
     "start_time": "2022-08-23T05:11:44.762756",
     "status": "completed"
    },
    "tags": []
   },
   "outputs": [
    {
     "name": "stdout",
     "output_type": "stream",
     "text": [
      "(16410, 2)\n",
      "(1824, 2)\n"
     ]
    }
   ],
   "source": [
    "df_train, df_val = train_test_split(train, test_size=0.10, random_state=42, stratify=train['label'])\n",
    "print(df_train.shape)\n",
    "print(df_val.shape)"
   ]
  },
  {
   "cell_type": "code",
   "execution_count": 8,
   "id": "351a2264",
   "metadata": {
    "execution": {
     "iopub.execute_input": "2022-08-23T05:11:44.806201Z",
     "iopub.status.busy": "2022-08-23T05:11:44.804612Z",
     "iopub.status.idle": "2022-08-23T05:11:44.812658Z",
     "shell.execute_reply": "2022-08-23T05:11:44.811659Z"
    },
    "papermill": {
     "duration": 0.018938,
     "end_time": "2022-08-23T05:11:44.814743",
     "exception": false,
     "start_time": "2022-08-23T05:11:44.795805",
     "status": "completed"
    },
    "tags": []
   },
   "outputs": [
    {
     "data": {
      "text/plain": [
       "1    7522\n",
       "3    4870\n",
       "0    2928\n",
       "2    1090\n",
       "Name: label, dtype: int64"
      ]
     },
     "execution_count": 8,
     "metadata": {},
     "output_type": "execute_result"
    }
   ],
   "source": [
    "df_train['label'].value_counts()"
   ]
  },
  {
   "cell_type": "code",
   "execution_count": 9,
   "id": "950c9bcf",
   "metadata": {
    "execution": {
     "iopub.execute_input": "2022-08-23T05:11:44.832825Z",
     "iopub.status.busy": "2022-08-23T05:11:44.831451Z",
     "iopub.status.idle": "2022-08-23T05:11:44.842938Z",
     "shell.execute_reply": "2022-08-23T05:11:44.842108Z"
    },
    "papermill": {
     "duration": 0.022446,
     "end_time": "2022-08-23T05:11:44.844931",
     "exception": false,
     "start_time": "2022-08-23T05:11:44.822485",
     "status": "completed"
    },
    "tags": []
   },
   "outputs": [],
   "source": [
    "import os\n",
    "# Create a new directory\n",
    "base_dir = 'base_dir'\n",
    "os.mkdir(base_dir)\n",
    "\n",
    "train_dir = os.path.join(base_dir, 'train_dir')\n",
    "os.mkdir(train_dir)\n",
    "\n",
    "val_dir = os.path.join(base_dir, 'val_dir')\n",
    "os.mkdir(val_dir)\n",
    "\n",
    "test_dir = os.path.join(base_dir, 'test_dir')\n",
    "os.mkdir(test_dir)\n",
    "\n",
    "# create new folders inside train_dir\n",
    "train_covid = os.path.join(train_dir, 'covid')\n",
    "os.mkdir(train_covid)\n",
    "train_normal = os.path.join(train_dir, 'normal')\n",
    "os.mkdir(train_normal)\n",
    "train_viral_pneumonia = os.path.join(train_dir, 'viral pneumonia')\n",
    "os.mkdir(train_viral_pneumonia)\n",
    "train_lung_opacity = os.path.join(train_dir, 'lung opacity')\n",
    "os.mkdir(train_lung_opacity)\n",
    "\n",
    "# create new folders inside val_dir\n",
    "val_covid = os.path.join(val_dir, 'covid')\n",
    "os.mkdir(val_covid)\n",
    "val_normal = os.path.join(val_dir, 'normal')\n",
    "os.mkdir(val_normal)\n",
    "val_viral_pneumonia = os.path.join(val_dir, 'viral pneumonia')\n",
    "os.mkdir(val_viral_pneumonia)\n",
    "val_lung_opacity = os.path.join(val_dir, 'lung opacity')\n",
    "os.mkdir(val_lung_opacity)\n",
    "\n",
    "\n",
    "# create new folders inside test_dir\n",
    "test_covid = os.path.join(test_dir, 'covid')\n",
    "os.mkdir(test_covid)\n",
    "test_normal = os.path.join(test_dir, 'normal')\n",
    "os.mkdir(test_normal)\n",
    "test_viral_pneumonia = os.path.join(test_dir, 'viral pneumonia')\n",
    "os.mkdir(test_viral_pneumonia)\n",
    "test_lung_opacity = os.path.join(test_dir, 'lung opacity')\n",
    "os.mkdir(test_lung_opacity)"
   ]
  },
  {
   "cell_type": "code",
   "execution_count": 10,
   "id": "1b82e9fa",
   "metadata": {
    "execution": {
     "iopub.execute_input": "2022-08-23T05:11:44.861060Z",
     "iopub.status.busy": "2022-08-23T05:11:44.860278Z",
     "iopub.status.idle": "2022-08-23T05:11:44.867778Z",
     "shell.execute_reply": "2022-08-23T05:11:44.866942Z"
    },
    "papermill": {
     "duration": 0.017677,
     "end_time": "2022-08-23T05:11:44.869810",
     "exception": false,
     "start_time": "2022-08-23T05:11:44.852133",
     "status": "completed"
    },
    "tags": []
   },
   "outputs": [],
   "source": [
    "train_list = list(df_train['FILE NAME'])\n",
    "val_list = list(df_val['FILE NAME'])\n",
    "test_list = list(df_test['FILE NAME'])"
   ]
  },
  {
   "cell_type": "code",
   "execution_count": 11,
   "id": "cf7df286",
   "metadata": {
    "execution": {
     "iopub.execute_input": "2022-08-23T05:11:44.886181Z",
     "iopub.status.busy": "2022-08-23T05:11:44.885902Z",
     "iopub.status.idle": "2022-08-23T05:15:34.110361Z",
     "shell.execute_reply": "2022-08-23T05:15:34.109350Z"
    },
    "papermill": {
     "duration": 229.23538,
     "end_time": "2022-08-23T05:15:34.112952",
     "exception": false,
     "start_time": "2022-08-23T05:11:44.877572",
     "status": "completed"
    },
    "tags": []
   },
   "outputs": [],
   "source": [
    "for image in train_list:\n",
    "    \n",
    "    # add .png extension \n",
    "    filename = image + '.png'\n",
    "    # get the label for a certain image\n",
    "    target = int(data.loc[data['FILE NAME'] == image, ['label']].values)\n",
    "    \n",
    "    # match the target with the folder's name and source path of the image\n",
    "    if target == 0:\n",
    "        label = 'covid'\n",
    "        src = os.path.join('../input/covid19-radiography-database/COVID-19_Radiography_Dataset/COVID/images', filename)\n",
    "        \n",
    "    if target == 1:\n",
    "        label = 'normal'\n",
    "        # As 'FILE NAME's in .xlsx file begins with 'NORMAL' but real file names begin with 'Normal'\n",
    "        filename = filename.capitalize()\n",
    "        src = os.path.join('../input/covid19-radiography-database/COVID-19_Radiography_Dataset/Normal/images', filename)\n",
    "        \n",
    "    if target == 2:\n",
    "        label = 'viral pneumonia'\n",
    "        src = os.path.join('../input/covid19-radiography-database/COVID-19_Radiography_Dataset/Viral Pneumonia/images', filename)\n",
    "    \n",
    "    if target == 3:\n",
    "        label = 'lung opacity'\n",
    "        src = os.path.join('../input/covid19-radiography-database/COVID-19_Radiography_Dataset/Lung_Opacity/images', filename)\n",
    "  \n",
    "    # destination path to image\n",
    "    dst = os.path.join(train_dir, label, filename)\n",
    "    \n",
    "    # copy the image from the source to the destination\n",
    "    shutil.copyfile(src, dst)\n",
    "\n",
    "# Copy images to val_dir folder\n",
    "for image in val_list:\n",
    "    \n",
    "    # add .png extension \n",
    "    filename = image + '.png'\n",
    "    # get the label for a certain image\n",
    "    target = int(data.loc[data['FILE NAME'] == image, ['label']].values)\n",
    "    \n",
    "    # match the target with the folder's name and source path of the image\n",
    "    if target == 0:\n",
    "        label = 'covid'\n",
    "        src = os.path.join('../input/covid19-radiography-database/COVID-19_Radiography_Dataset/COVID/images', filename)\n",
    "        \n",
    "    if target == 1:\n",
    "        label = 'normal'\n",
    "        filename = filename.capitalize()\n",
    "        src = os.path.join('../input/covid19-radiography-database/COVID-19_Radiography_Dataset/Normal/images', filename)\n",
    "        \n",
    "    if target == 2:\n",
    "        label = 'viral pneumonia'\n",
    "        src = os.path.join('../input/covid19-radiography-database/COVID-19_Radiography_Dataset/Viral Pneumonia/images', filename)\n",
    "    \n",
    "    if target == 3:\n",
    "        label = 'lung opacity'\n",
    "        src = os.path.join('../input/covid19-radiography-database/COVID-19_Radiography_Dataset/Lung_Opacity/images', filename)\n",
    "\n",
    "  \n",
    "    # destination path to image\n",
    "    dst = os.path.join(val_dir, label, filename)\n",
    "    \n",
    "    # copy the image from the source to the destination\n",
    "    shutil.copyfile(src, dst)\n",
    "    \n",
    "    \n",
    "\n",
    "    \n",
    "# Copy images to test_dir folder\n",
    "for image in test_list:\n",
    "    \n",
    "    # add .png extension \n",
    "    filename = image + '.png'\n",
    "    # get the label for a certain image\n",
    "    target = int(data.loc[data['FILE NAME'] == image, ['label']].values)\n",
    "    \n",
    "    # match the target with the folder's name and source path of the image\n",
    "    if target == 0:\n",
    "        label = 'covid'\n",
    "        src = os.path.join('../input/covid19-radiography-database/COVID-19_Radiography_Dataset/COVID/images', filename)\n",
    "        \n",
    "    if target == 1:\n",
    "        label = 'normal'\n",
    "        filename = filename.capitalize()\n",
    "        src = os.path.join('../input/covid19-radiography-database/COVID-19_Radiography_Dataset/Normal/images', filename)\n",
    "        \n",
    "    if target == 2:\n",
    "        label = 'viral pneumonia'\n",
    "        src = os.path.join('../input/covid19-radiography-database/COVID-19_Radiography_Dataset/Viral Pneumonia/images', filename)\n",
    "    \n",
    "    if target == 3:\n",
    "        label = 'lung opacity'\n",
    "        src = os.path.join('../input/covid19-radiography-database/COVID-19_Radiography_Dataset/Lung_Opacity/images', filename)\n",
    "\n",
    "  \n",
    "    # destination path to image\n",
    "    dst = os.path.join(test_dir, label, filename)\n",
    "    \n",
    "    # copy the image from the source to the destination\n",
    "    shutil.copyfile(src, dst)"
   ]
  },
  {
   "cell_type": "code",
   "execution_count": 12,
   "id": "a25027de",
   "metadata": {
    "execution": {
     "iopub.execute_input": "2022-08-23T05:15:34.130098Z",
     "iopub.status.busy": "2022-08-23T05:15:34.129259Z",
     "iopub.status.idle": "2022-08-23T05:15:34.143901Z",
     "shell.execute_reply": "2022-08-23T05:15:34.142640Z"
    },
    "papermill": {
     "duration": 0.025106,
     "end_time": "2022-08-23T05:15:34.146008",
     "exception": false,
     "start_time": "2022-08-23T05:15:34.120902",
     "status": "completed"
    },
    "tags": []
   },
   "outputs": [
    {
     "name": "stdout",
     "output_type": "stream",
     "text": [
      "2928\n",
      "7522\n",
      "1090\n",
      "4870\n"
     ]
    }
   ],
   "source": [
    "print(len(os.listdir('base_dir/train_dir/covid')))\n",
    "print(len(os.listdir('base_dir/train_dir/normal')))\n",
    "print(len(os.listdir('base_dir/train_dir/viral pneumonia')))\n",
    "print(len(os.listdir('base_dir/train_dir/lung opacity')))"
   ]
  },
  {
   "cell_type": "code",
   "execution_count": 13,
   "id": "3a1405f5",
   "metadata": {
    "execution": {
     "iopub.execute_input": "2022-08-23T05:15:34.162252Z",
     "iopub.status.busy": "2022-08-23T05:15:34.161890Z",
     "iopub.status.idle": "2022-08-23T05:15:34.169729Z",
     "shell.execute_reply": "2022-08-23T05:15:34.168271Z"
    },
    "papermill": {
     "duration": 0.018501,
     "end_time": "2022-08-23T05:15:34.171822",
     "exception": false,
     "start_time": "2022-08-23T05:15:34.153321",
     "status": "completed"
    },
    "tags": []
   },
   "outputs": [
    {
     "name": "stdout",
     "output_type": "stream",
     "text": [
      "1824\n"
     ]
    }
   ],
   "source": [
    "print(len(os.listdir('base_dir/val_dir/covid')) + len(os.listdir('base_dir/val_dir/normal')) + len(os.listdir('base_dir/val_dir/viral pneumonia')) + len(os.listdir('base_dir/val_dir/lung opacity')))"
   ]
  },
  {
   "cell_type": "code",
   "execution_count": 14,
   "id": "f98e75b4",
   "metadata": {
    "execution": {
     "iopub.execute_input": "2022-08-23T05:15:34.187536Z",
     "iopub.status.busy": "2022-08-23T05:15:34.187273Z",
     "iopub.status.idle": "2022-08-23T05:15:34.195692Z",
     "shell.execute_reply": "2022-08-23T05:15:34.194322Z"
    },
    "papermill": {
     "duration": 0.019209,
     "end_time": "2022-08-23T05:15:34.198416",
     "exception": false,
     "start_time": "2022-08-23T05:15:34.179207",
     "status": "completed"
    },
    "tags": []
   },
   "outputs": [
    {
     "name": "stdout",
     "output_type": "stream",
     "text": [
      "2014\n"
     ]
    }
   ],
   "source": [
    "print(len(os.listdir('base_dir/test_dir/covid')) + len(os.listdir('base_dir/test_dir/normal')) + len(os.listdir('base_dir/test_dir/viral pneumonia')) + len(os.listdir('base_dir/test_dir/lung opacity')))"
   ]
  },
  {
   "cell_type": "code",
   "execution_count": 15,
   "id": "57270adb",
   "metadata": {
    "execution": {
     "iopub.execute_input": "2022-08-23T05:15:34.214738Z",
     "iopub.status.busy": "2022-08-23T05:15:34.214483Z",
     "iopub.status.idle": "2022-08-23T05:15:34.218593Z",
     "shell.execute_reply": "2022-08-23T05:15:34.217648Z"
    },
    "papermill": {
     "duration": 0.014175,
     "end_time": "2022-08-23T05:15:34.220574",
     "exception": false,
     "start_time": "2022-08-23T05:15:34.206399",
     "status": "completed"
    },
    "tags": []
   },
   "outputs": [],
   "source": [
    "IMG_SIZE = (224 , 224)\n",
    "train_directory = \"base_dir/train_dir\"\n",
    "val_directory = \"base_dir/val_dir\"\n",
    "test_directory = \"base_dir/test_dir\""
   ]
  },
  {
   "cell_type": "code",
   "execution_count": 16,
   "id": "23efd4d6",
   "metadata": {
    "execution": {
     "iopub.execute_input": "2022-08-23T05:15:34.236757Z",
     "iopub.status.busy": "2022-08-23T05:15:34.236320Z",
     "iopub.status.idle": "2022-08-23T05:15:35.199455Z",
     "shell.execute_reply": "2022-08-23T05:15:35.197892Z"
    },
    "papermill": {
     "duration": 0.974486,
     "end_time": "2022-08-23T05:15:35.202320",
     "exception": false,
     "start_time": "2022-08-23T05:15:34.227834",
     "status": "completed"
    },
    "tags": []
   },
   "outputs": [
    {
     "name": "stdout",
     "output_type": "stream",
     "text": [
      "Found 16410 images belonging to 4 classes.\n",
      "Found 1824 images belonging to 4 classes.\n",
      "Found 2014 images belonging to 4 classes.\n"
     ]
    }
   ],
   "source": [
    "train_datagen = ImageDataGenerator(rescale=1./255)\n",
    "test_datagen = ImageDataGenerator(rescale=1./255)\n",
    "train_generator = train_datagen.flow_from_directory(\n",
    "        train_directory,\n",
    "        target_size=IMG_SIZE,\n",
    "        batch_size=8,\n",
    "        class_mode='categorical')\n",
    "validation_generator = test_datagen.flow_from_directory(\n",
    "        val_directory,\n",
    "        target_size=IMG_SIZE,\n",
    "        batch_size=8,\n",
    "        shuffle=False,\n",
    "        class_mode='categorical')\n",
    "test_generator = test_datagen.flow_from_directory(\n",
    "        test_directory,\n",
    "        target_size=IMG_SIZE,\n",
    "        batch_size=8,\n",
    "        shuffle=False,\n",
    "        class_mode='categorical')"
   ]
  },
  {
   "cell_type": "code",
   "execution_count": 17,
   "id": "8a99f633",
   "metadata": {
    "execution": {
     "iopub.execute_input": "2022-08-23T05:15:35.219614Z",
     "iopub.status.busy": "2022-08-23T05:15:35.219032Z",
     "iopub.status.idle": "2022-08-23T05:15:39.589801Z",
     "shell.execute_reply": "2022-08-23T05:15:39.588752Z"
    },
    "papermill": {
     "duration": 4.381833,
     "end_time": "2022-08-23T05:15:39.592273",
     "exception": false,
     "start_time": "2022-08-23T05:15:35.210440",
     "status": "completed"
    },
    "tags": []
   },
   "outputs": [
    {
     "name": "stderr",
     "output_type": "stream",
     "text": [
      "2022-08-23 05:15:35.614159: I tensorflow/stream_executor/cuda/cuda_gpu_executor.cc:937] successful NUMA node read from SysFS had negative value (-1), but there must be at least one NUMA node, so returning NUMA node zero\n",
      "2022-08-23 05:15:35.703142: I tensorflow/stream_executor/cuda/cuda_gpu_executor.cc:937] successful NUMA node read from SysFS had negative value (-1), but there must be at least one NUMA node, so returning NUMA node zero\n",
      "2022-08-23 05:15:35.703915: I tensorflow/stream_executor/cuda/cuda_gpu_executor.cc:937] successful NUMA node read from SysFS had negative value (-1), but there must be at least one NUMA node, so returning NUMA node zero\n",
      "2022-08-23 05:15:35.705797: I tensorflow/core/platform/cpu_feature_guard.cc:142] This TensorFlow binary is optimized with oneAPI Deep Neural Network Library (oneDNN) to use the following CPU instructions in performance-critical operations:  AVX2 AVX512F FMA\n",
      "To enable them in other operations, rebuild TensorFlow with the appropriate compiler flags.\n",
      "2022-08-23 05:15:35.706119: I tensorflow/stream_executor/cuda/cuda_gpu_executor.cc:937] successful NUMA node read from SysFS had negative value (-1), but there must be at least one NUMA node, so returning NUMA node zero\n",
      "2022-08-23 05:15:35.707047: I tensorflow/stream_executor/cuda/cuda_gpu_executor.cc:937] successful NUMA node read from SysFS had negative value (-1), but there must be at least one NUMA node, so returning NUMA node zero\n",
      "2022-08-23 05:15:35.707954: I tensorflow/stream_executor/cuda/cuda_gpu_executor.cc:937] successful NUMA node read from SysFS had negative value (-1), but there must be at least one NUMA node, so returning NUMA node zero\n",
      "2022-08-23 05:15:37.704347: I tensorflow/stream_executor/cuda/cuda_gpu_executor.cc:937] successful NUMA node read from SysFS had negative value (-1), but there must be at least one NUMA node, so returning NUMA node zero\n",
      "2022-08-23 05:15:37.705218: I tensorflow/stream_executor/cuda/cuda_gpu_executor.cc:937] successful NUMA node read from SysFS had negative value (-1), but there must be at least one NUMA node, so returning NUMA node zero\n",
      "2022-08-23 05:15:37.705888: I tensorflow/stream_executor/cuda/cuda_gpu_executor.cc:937] successful NUMA node read from SysFS had negative value (-1), but there must be at least one NUMA node, so returning NUMA node zero\n",
      "2022-08-23 05:15:37.706575: I tensorflow/core/common_runtime/gpu/gpu_device.cc:1510] Created device /job:localhost/replica:0/task:0/device:GPU:0 with 15403 MB memory:  -> device: 0, name: Tesla P100-PCIE-16GB, pci bus id: 0000:00:04.0, compute capability: 6.0\n"
     ]
    },
    {
     "name": "stdout",
     "output_type": "stream",
     "text": [
      "Downloading data from https://storage.googleapis.com/tensorflow/keras-applications/mobilenet_v2/mobilenet_v2_weights_tf_dim_ordering_tf_kernels_1.0_224_no_top.h5\n",
      "9412608/9406464 [==============================] - 0s 0us/step\n",
      "9420800/9406464 [==============================] - 0s 0us/step\n"
     ]
    }
   ],
   "source": [
    "import tensorflow_hub as hub\n",
    "mobile_net_layers = tf.keras.applications.mobilenet_v2.MobileNetV2(input_shape=(224,224,3), include_top=False, weights='imagenet')"
   ]
  },
  {
   "cell_type": "code",
   "execution_count": 18,
   "id": "1d2f0fb7",
   "metadata": {
    "execution": {
     "iopub.execute_input": "2022-08-23T05:15:39.610226Z",
     "iopub.status.busy": "2022-08-23T05:15:39.609391Z",
     "iopub.status.idle": "2022-08-23T05:15:39.631277Z",
     "shell.execute_reply": "2022-08-23T05:15:39.630263Z"
    },
    "papermill": {
     "duration": 0.038378,
     "end_time": "2022-08-23T05:15:39.638952",
     "exception": false,
     "start_time": "2022-08-23T05:15:39.600574",
     "status": "completed"
    },
    "tags": []
   },
   "outputs": [
    {
     "name": "stdout",
     "output_type": "stream",
     "text": [
      "Model: \"mobilenetv2_1.00_224\"\n",
      "__________________________________________________________________________________________________\n",
      "Layer (type)                    Output Shape         Param #     Connected to                     \n",
      "==================================================================================================\n",
      "input_1 (InputLayer)            [(None, 224, 224, 3) 0                                            \n",
      "__________________________________________________________________________________________________\n",
      "Conv1 (Conv2D)                  (None, 112, 112, 32) 864         input_1[0][0]                    \n",
      "__________________________________________________________________________________________________\n",
      "bn_Conv1 (BatchNormalization)   (None, 112, 112, 32) 128         Conv1[0][0]                      \n",
      "__________________________________________________________________________________________________\n",
      "Conv1_relu (ReLU)               (None, 112, 112, 32) 0           bn_Conv1[0][0]                   \n",
      "__________________________________________________________________________________________________\n",
      "expanded_conv_depthwise (Depthw (None, 112, 112, 32) 288         Conv1_relu[0][0]                 \n",
      "__________________________________________________________________________________________________\n",
      "expanded_conv_depthwise_BN (Bat (None, 112, 112, 32) 128         expanded_conv_depthwise[0][0]    \n",
      "__________________________________________________________________________________________________\n",
      "expanded_conv_depthwise_relu (R (None, 112, 112, 32) 0           expanded_conv_depthwise_BN[0][0] \n",
      "__________________________________________________________________________________________________\n",
      "expanded_conv_project (Conv2D)  (None, 112, 112, 16) 512         expanded_conv_depthwise_relu[0][0\n",
      "__________________________________________________________________________________________________\n",
      "expanded_conv_project_BN (Batch (None, 112, 112, 16) 64          expanded_conv_project[0][0]      \n",
      "__________________________________________________________________________________________________\n",
      "block_1_expand (Conv2D)         (None, 112, 112, 96) 1536        expanded_conv_project_BN[0][0]   \n",
      "__________________________________________________________________________________________________\n",
      "block_1_expand_BN (BatchNormali (None, 112, 112, 96) 384         block_1_expand[0][0]             \n",
      "__________________________________________________________________________________________________\n",
      "block_1_expand_relu (ReLU)      (None, 112, 112, 96) 0           block_1_expand_BN[0][0]          \n",
      "__________________________________________________________________________________________________\n",
      "block_1_pad (ZeroPadding2D)     (None, 113, 113, 96) 0           block_1_expand_relu[0][0]        \n",
      "__________________________________________________________________________________________________\n",
      "block_1_depthwise (DepthwiseCon (None, 56, 56, 96)   864         block_1_pad[0][0]                \n",
      "__________________________________________________________________________________________________\n",
      "block_1_depthwise_BN (BatchNorm (None, 56, 56, 96)   384         block_1_depthwise[0][0]          \n",
      "__________________________________________________________________________________________________\n",
      "block_1_depthwise_relu (ReLU)   (None, 56, 56, 96)   0           block_1_depthwise_BN[0][0]       \n",
      "__________________________________________________________________________________________________\n",
      "block_1_project (Conv2D)        (None, 56, 56, 24)   2304        block_1_depthwise_relu[0][0]     \n",
      "__________________________________________________________________________________________________\n",
      "block_1_project_BN (BatchNormal (None, 56, 56, 24)   96          block_1_project[0][0]            \n",
      "__________________________________________________________________________________________________\n",
      "block_2_expand (Conv2D)         (None, 56, 56, 144)  3456        block_1_project_BN[0][0]         \n",
      "__________________________________________________________________________________________________\n",
      "block_2_expand_BN (BatchNormali (None, 56, 56, 144)  576         block_2_expand[0][0]             \n",
      "__________________________________________________________________________________________________\n",
      "block_2_expand_relu (ReLU)      (None, 56, 56, 144)  0           block_2_expand_BN[0][0]          \n",
      "__________________________________________________________________________________________________\n",
      "block_2_depthwise (DepthwiseCon (None, 56, 56, 144)  1296        block_2_expand_relu[0][0]        \n",
      "__________________________________________________________________________________________________\n",
      "block_2_depthwise_BN (BatchNorm (None, 56, 56, 144)  576         block_2_depthwise[0][0]          \n",
      "__________________________________________________________________________________________________\n",
      "block_2_depthwise_relu (ReLU)   (None, 56, 56, 144)  0           block_2_depthwise_BN[0][0]       \n",
      "__________________________________________________________________________________________________\n",
      "block_2_project (Conv2D)        (None, 56, 56, 24)   3456        block_2_depthwise_relu[0][0]     \n",
      "__________________________________________________________________________________________________\n",
      "block_2_project_BN (BatchNormal (None, 56, 56, 24)   96          block_2_project[0][0]            \n",
      "__________________________________________________________________________________________________\n",
      "block_2_add (Add)               (None, 56, 56, 24)   0           block_1_project_BN[0][0]         \n",
      "                                                                 block_2_project_BN[0][0]         \n",
      "__________________________________________________________________________________________________\n",
      "block_3_expand (Conv2D)         (None, 56, 56, 144)  3456        block_2_add[0][0]                \n",
      "__________________________________________________________________________________________________\n",
      "block_3_expand_BN (BatchNormali (None, 56, 56, 144)  576         block_3_expand[0][0]             \n",
      "__________________________________________________________________________________________________\n",
      "block_3_expand_relu (ReLU)      (None, 56, 56, 144)  0           block_3_expand_BN[0][0]          \n",
      "__________________________________________________________________________________________________\n",
      "block_3_pad (ZeroPadding2D)     (None, 57, 57, 144)  0           block_3_expand_relu[0][0]        \n",
      "__________________________________________________________________________________________________\n",
      "block_3_depthwise (DepthwiseCon (None, 28, 28, 144)  1296        block_3_pad[0][0]                \n",
      "__________________________________________________________________________________________________\n",
      "block_3_depthwise_BN (BatchNorm (None, 28, 28, 144)  576         block_3_depthwise[0][0]          \n",
      "__________________________________________________________________________________________________\n",
      "block_3_depthwise_relu (ReLU)   (None, 28, 28, 144)  0           block_3_depthwise_BN[0][0]       \n",
      "__________________________________________________________________________________________________\n",
      "block_3_project (Conv2D)        (None, 28, 28, 32)   4608        block_3_depthwise_relu[0][0]     \n",
      "__________________________________________________________________________________________________\n",
      "block_3_project_BN (BatchNormal (None, 28, 28, 32)   128         block_3_project[0][0]            \n",
      "__________________________________________________________________________________________________\n",
      "block_4_expand (Conv2D)         (None, 28, 28, 192)  6144        block_3_project_BN[0][0]         \n",
      "__________________________________________________________________________________________________\n",
      "block_4_expand_BN (BatchNormali (None, 28, 28, 192)  768         block_4_expand[0][0]             \n",
      "__________________________________________________________________________________________________\n",
      "block_4_expand_relu (ReLU)      (None, 28, 28, 192)  0           block_4_expand_BN[0][0]          \n",
      "__________________________________________________________________________________________________\n",
      "block_4_depthwise (DepthwiseCon (None, 28, 28, 192)  1728        block_4_expand_relu[0][0]        \n",
      "__________________________________________________________________________________________________\n",
      "block_4_depthwise_BN (BatchNorm (None, 28, 28, 192)  768         block_4_depthwise[0][0]          \n",
      "__________________________________________________________________________________________________\n",
      "block_4_depthwise_relu (ReLU)   (None, 28, 28, 192)  0           block_4_depthwise_BN[0][0]       \n",
      "__________________________________________________________________________________________________\n",
      "block_4_project (Conv2D)        (None, 28, 28, 32)   6144        block_4_depthwise_relu[0][0]     \n",
      "__________________________________________________________________________________________________\n",
      "block_4_project_BN (BatchNormal (None, 28, 28, 32)   128         block_4_project[0][0]            \n",
      "__________________________________________________________________________________________________\n",
      "block_4_add (Add)               (None, 28, 28, 32)   0           block_3_project_BN[0][0]         \n",
      "                                                                 block_4_project_BN[0][0]         \n",
      "__________________________________________________________________________________________________\n",
      "block_5_expand (Conv2D)         (None, 28, 28, 192)  6144        block_4_add[0][0]                \n",
      "__________________________________________________________________________________________________\n",
      "block_5_expand_BN (BatchNormali (None, 28, 28, 192)  768         block_5_expand[0][0]             \n",
      "__________________________________________________________________________________________________\n",
      "block_5_expand_relu (ReLU)      (None, 28, 28, 192)  0           block_5_expand_BN[0][0]          \n",
      "__________________________________________________________________________________________________\n",
      "block_5_depthwise (DepthwiseCon (None, 28, 28, 192)  1728        block_5_expand_relu[0][0]        \n",
      "__________________________________________________________________________________________________\n",
      "block_5_depthwise_BN (BatchNorm (None, 28, 28, 192)  768         block_5_depthwise[0][0]          \n",
      "__________________________________________________________________________________________________\n",
      "block_5_depthwise_relu (ReLU)   (None, 28, 28, 192)  0           block_5_depthwise_BN[0][0]       \n",
      "__________________________________________________________________________________________________\n",
      "block_5_project (Conv2D)        (None, 28, 28, 32)   6144        block_5_depthwise_relu[0][0]     \n",
      "__________________________________________________________________________________________________\n",
      "block_5_project_BN (BatchNormal (None, 28, 28, 32)   128         block_5_project[0][0]            \n",
      "__________________________________________________________________________________________________\n",
      "block_5_add (Add)               (None, 28, 28, 32)   0           block_4_add[0][0]                \n",
      "                                                                 block_5_project_BN[0][0]         \n",
      "__________________________________________________________________________________________________\n",
      "block_6_expand (Conv2D)         (None, 28, 28, 192)  6144        block_5_add[0][0]                \n",
      "__________________________________________________________________________________________________\n",
      "block_6_expand_BN (BatchNormali (None, 28, 28, 192)  768         block_6_expand[0][0]             \n",
      "__________________________________________________________________________________________________\n",
      "block_6_expand_relu (ReLU)      (None, 28, 28, 192)  0           block_6_expand_BN[0][0]          \n",
      "__________________________________________________________________________________________________\n",
      "block_6_pad (ZeroPadding2D)     (None, 29, 29, 192)  0           block_6_expand_relu[0][0]        \n",
      "__________________________________________________________________________________________________\n",
      "block_6_depthwise (DepthwiseCon (None, 14, 14, 192)  1728        block_6_pad[0][0]                \n",
      "__________________________________________________________________________________________________\n",
      "block_6_depthwise_BN (BatchNorm (None, 14, 14, 192)  768         block_6_depthwise[0][0]          \n",
      "__________________________________________________________________________________________________\n",
      "block_6_depthwise_relu (ReLU)   (None, 14, 14, 192)  0           block_6_depthwise_BN[0][0]       \n",
      "__________________________________________________________________________________________________\n",
      "block_6_project (Conv2D)        (None, 14, 14, 64)   12288       block_6_depthwise_relu[0][0]     \n",
      "__________________________________________________________________________________________________\n",
      "block_6_project_BN (BatchNormal (None, 14, 14, 64)   256         block_6_project[0][0]            \n",
      "__________________________________________________________________________________________________\n",
      "block_7_expand (Conv2D)         (None, 14, 14, 384)  24576       block_6_project_BN[0][0]         \n",
      "__________________________________________________________________________________________________\n",
      "block_7_expand_BN (BatchNormali (None, 14, 14, 384)  1536        block_7_expand[0][0]             \n",
      "__________________________________________________________________________________________________\n",
      "block_7_expand_relu (ReLU)      (None, 14, 14, 384)  0           block_7_expand_BN[0][0]          \n",
      "__________________________________________________________________________________________________\n",
      "block_7_depthwise (DepthwiseCon (None, 14, 14, 384)  3456        block_7_expand_relu[0][0]        \n",
      "__________________________________________________________________________________________________\n",
      "block_7_depthwise_BN (BatchNorm (None, 14, 14, 384)  1536        block_7_depthwise[0][0]          \n",
      "__________________________________________________________________________________________________\n",
      "block_7_depthwise_relu (ReLU)   (None, 14, 14, 384)  0           block_7_depthwise_BN[0][0]       \n",
      "__________________________________________________________________________________________________\n",
      "block_7_project (Conv2D)        (None, 14, 14, 64)   24576       block_7_depthwise_relu[0][0]     \n",
      "__________________________________________________________________________________________________\n",
      "block_7_project_BN (BatchNormal (None, 14, 14, 64)   256         block_7_project[0][0]            \n",
      "__________________________________________________________________________________________________\n",
      "block_7_add (Add)               (None, 14, 14, 64)   0           block_6_project_BN[0][0]         \n",
      "                                                                 block_7_project_BN[0][0]         \n",
      "__________________________________________________________________________________________________\n",
      "block_8_expand (Conv2D)         (None, 14, 14, 384)  24576       block_7_add[0][0]                \n",
      "__________________________________________________________________________________________________\n",
      "block_8_expand_BN (BatchNormali (None, 14, 14, 384)  1536        block_8_expand[0][0]             \n",
      "__________________________________________________________________________________________________\n",
      "block_8_expand_relu (ReLU)      (None, 14, 14, 384)  0           block_8_expand_BN[0][0]          \n",
      "__________________________________________________________________________________________________\n",
      "block_8_depthwise (DepthwiseCon (None, 14, 14, 384)  3456        block_8_expand_relu[0][0]        \n",
      "__________________________________________________________________________________________________\n",
      "block_8_depthwise_BN (BatchNorm (None, 14, 14, 384)  1536        block_8_depthwise[0][0]          \n",
      "__________________________________________________________________________________________________\n",
      "block_8_depthwise_relu (ReLU)   (None, 14, 14, 384)  0           block_8_depthwise_BN[0][0]       \n",
      "__________________________________________________________________________________________________\n",
      "block_8_project (Conv2D)        (None, 14, 14, 64)   24576       block_8_depthwise_relu[0][0]     \n",
      "__________________________________________________________________________________________________\n",
      "block_8_project_BN (BatchNormal (None, 14, 14, 64)   256         block_8_project[0][0]            \n",
      "__________________________________________________________________________________________________\n",
      "block_8_add (Add)               (None, 14, 14, 64)   0           block_7_add[0][0]                \n",
      "                                                                 block_8_project_BN[0][0]         \n",
      "__________________________________________________________________________________________________\n",
      "block_9_expand (Conv2D)         (None, 14, 14, 384)  24576       block_8_add[0][0]                \n",
      "__________________________________________________________________________________________________\n",
      "block_9_expand_BN (BatchNormali (None, 14, 14, 384)  1536        block_9_expand[0][0]             \n",
      "__________________________________________________________________________________________________\n",
      "block_9_expand_relu (ReLU)      (None, 14, 14, 384)  0           block_9_expand_BN[0][0]          \n",
      "__________________________________________________________________________________________________\n",
      "block_9_depthwise (DepthwiseCon (None, 14, 14, 384)  3456        block_9_expand_relu[0][0]        \n",
      "__________________________________________________________________________________________________\n",
      "block_9_depthwise_BN (BatchNorm (None, 14, 14, 384)  1536        block_9_depthwise[0][0]          \n",
      "__________________________________________________________________________________________________\n",
      "block_9_depthwise_relu (ReLU)   (None, 14, 14, 384)  0           block_9_depthwise_BN[0][0]       \n",
      "__________________________________________________________________________________________________\n",
      "block_9_project (Conv2D)        (None, 14, 14, 64)   24576       block_9_depthwise_relu[0][0]     \n",
      "__________________________________________________________________________________________________\n",
      "block_9_project_BN (BatchNormal (None, 14, 14, 64)   256         block_9_project[0][0]            \n",
      "__________________________________________________________________________________________________\n",
      "block_9_add (Add)               (None, 14, 14, 64)   0           block_8_add[0][0]                \n",
      "                                                                 block_9_project_BN[0][0]         \n",
      "__________________________________________________________________________________________________\n",
      "block_10_expand (Conv2D)        (None, 14, 14, 384)  24576       block_9_add[0][0]                \n",
      "__________________________________________________________________________________________________\n",
      "block_10_expand_BN (BatchNormal (None, 14, 14, 384)  1536        block_10_expand[0][0]            \n",
      "__________________________________________________________________________________________________\n",
      "block_10_expand_relu (ReLU)     (None, 14, 14, 384)  0           block_10_expand_BN[0][0]         \n",
      "__________________________________________________________________________________________________\n",
      "block_10_depthwise (DepthwiseCo (None, 14, 14, 384)  3456        block_10_expand_relu[0][0]       \n",
      "__________________________________________________________________________________________________\n",
      "block_10_depthwise_BN (BatchNor (None, 14, 14, 384)  1536        block_10_depthwise[0][0]         \n",
      "__________________________________________________________________________________________________\n",
      "block_10_depthwise_relu (ReLU)  (None, 14, 14, 384)  0           block_10_depthwise_BN[0][0]      \n",
      "__________________________________________________________________________________________________\n",
      "block_10_project (Conv2D)       (None, 14, 14, 96)   36864       block_10_depthwise_relu[0][0]    \n",
      "__________________________________________________________________________________________________\n",
      "block_10_project_BN (BatchNorma (None, 14, 14, 96)   384         block_10_project[0][0]           \n",
      "__________________________________________________________________________________________________\n",
      "block_11_expand (Conv2D)        (None, 14, 14, 576)  55296       block_10_project_BN[0][0]        \n",
      "__________________________________________________________________________________________________\n",
      "block_11_expand_BN (BatchNormal (None, 14, 14, 576)  2304        block_11_expand[0][0]            \n",
      "__________________________________________________________________________________________________\n",
      "block_11_expand_relu (ReLU)     (None, 14, 14, 576)  0           block_11_expand_BN[0][0]         \n",
      "__________________________________________________________________________________________________\n",
      "block_11_depthwise (DepthwiseCo (None, 14, 14, 576)  5184        block_11_expand_relu[0][0]       \n",
      "__________________________________________________________________________________________________\n",
      "block_11_depthwise_BN (BatchNor (None, 14, 14, 576)  2304        block_11_depthwise[0][0]         \n",
      "__________________________________________________________________________________________________\n",
      "block_11_depthwise_relu (ReLU)  (None, 14, 14, 576)  0           block_11_depthwise_BN[0][0]      \n",
      "__________________________________________________________________________________________________\n",
      "block_11_project (Conv2D)       (None, 14, 14, 96)   55296       block_11_depthwise_relu[0][0]    \n",
      "__________________________________________________________________________________________________\n",
      "block_11_project_BN (BatchNorma (None, 14, 14, 96)   384         block_11_project[0][0]           \n",
      "__________________________________________________________________________________________________\n",
      "block_11_add (Add)              (None, 14, 14, 96)   0           block_10_project_BN[0][0]        \n",
      "                                                                 block_11_project_BN[0][0]        \n",
      "__________________________________________________________________________________________________\n",
      "block_12_expand (Conv2D)        (None, 14, 14, 576)  55296       block_11_add[0][0]               \n",
      "__________________________________________________________________________________________________\n",
      "block_12_expand_BN (BatchNormal (None, 14, 14, 576)  2304        block_12_expand[0][0]            \n",
      "__________________________________________________________________________________________________\n",
      "block_12_expand_relu (ReLU)     (None, 14, 14, 576)  0           block_12_expand_BN[0][0]         \n",
      "__________________________________________________________________________________________________\n",
      "block_12_depthwise (DepthwiseCo (None, 14, 14, 576)  5184        block_12_expand_relu[0][0]       \n",
      "__________________________________________________________________________________________________\n",
      "block_12_depthwise_BN (BatchNor (None, 14, 14, 576)  2304        block_12_depthwise[0][0]         \n",
      "__________________________________________________________________________________________________\n",
      "block_12_depthwise_relu (ReLU)  (None, 14, 14, 576)  0           block_12_depthwise_BN[0][0]      \n",
      "__________________________________________________________________________________________________\n",
      "block_12_project (Conv2D)       (None, 14, 14, 96)   55296       block_12_depthwise_relu[0][0]    \n",
      "__________________________________________________________________________________________________\n",
      "block_12_project_BN (BatchNorma (None, 14, 14, 96)   384         block_12_project[0][0]           \n",
      "__________________________________________________________________________________________________\n",
      "block_12_add (Add)              (None, 14, 14, 96)   0           block_11_add[0][0]               \n",
      "                                                                 block_12_project_BN[0][0]        \n",
      "__________________________________________________________________________________________________\n",
      "block_13_expand (Conv2D)        (None, 14, 14, 576)  55296       block_12_add[0][0]               \n",
      "__________________________________________________________________________________________________\n",
      "block_13_expand_BN (BatchNormal (None, 14, 14, 576)  2304        block_13_expand[0][0]            \n",
      "__________________________________________________________________________________________________\n",
      "block_13_expand_relu (ReLU)     (None, 14, 14, 576)  0           block_13_expand_BN[0][0]         \n",
      "__________________________________________________________________________________________________\n",
      "block_13_pad (ZeroPadding2D)    (None, 15, 15, 576)  0           block_13_expand_relu[0][0]       \n",
      "__________________________________________________________________________________________________\n",
      "block_13_depthwise (DepthwiseCo (None, 7, 7, 576)    5184        block_13_pad[0][0]               \n",
      "__________________________________________________________________________________________________\n",
      "block_13_depthwise_BN (BatchNor (None, 7, 7, 576)    2304        block_13_depthwise[0][0]         \n",
      "__________________________________________________________________________________________________\n",
      "block_13_depthwise_relu (ReLU)  (None, 7, 7, 576)    0           block_13_depthwise_BN[0][0]      \n",
      "__________________________________________________________________________________________________\n",
      "block_13_project (Conv2D)       (None, 7, 7, 160)    92160       block_13_depthwise_relu[0][0]    \n",
      "__________________________________________________________________________________________________\n",
      "block_13_project_BN (BatchNorma (None, 7, 7, 160)    640         block_13_project[0][0]           \n",
      "__________________________________________________________________________________________________\n",
      "block_14_expand (Conv2D)        (None, 7, 7, 960)    153600      block_13_project_BN[0][0]        \n",
      "__________________________________________________________________________________________________\n",
      "block_14_expand_BN (BatchNormal (None, 7, 7, 960)    3840        block_14_expand[0][0]            \n",
      "__________________________________________________________________________________________________\n",
      "block_14_expand_relu (ReLU)     (None, 7, 7, 960)    0           block_14_expand_BN[0][0]         \n",
      "__________________________________________________________________________________________________\n",
      "block_14_depthwise (DepthwiseCo (None, 7, 7, 960)    8640        block_14_expand_relu[0][0]       \n",
      "__________________________________________________________________________________________________\n",
      "block_14_depthwise_BN (BatchNor (None, 7, 7, 960)    3840        block_14_depthwise[0][0]         \n",
      "__________________________________________________________________________________________________\n",
      "block_14_depthwise_relu (ReLU)  (None, 7, 7, 960)    0           block_14_depthwise_BN[0][0]      \n",
      "__________________________________________________________________________________________________\n",
      "block_14_project (Conv2D)       (None, 7, 7, 160)    153600      block_14_depthwise_relu[0][0]    \n",
      "__________________________________________________________________________________________________\n",
      "block_14_project_BN (BatchNorma (None, 7, 7, 160)    640         block_14_project[0][0]           \n",
      "__________________________________________________________________________________________________\n",
      "block_14_add (Add)              (None, 7, 7, 160)    0           block_13_project_BN[0][0]        \n",
      "                                                                 block_14_project_BN[0][0]        \n",
      "__________________________________________________________________________________________________\n",
      "block_15_expand (Conv2D)        (None, 7, 7, 960)    153600      block_14_add[0][0]               \n",
      "__________________________________________________________________________________________________\n",
      "block_15_expand_BN (BatchNormal (None, 7, 7, 960)    3840        block_15_expand[0][0]            \n",
      "__________________________________________________________________________________________________\n",
      "block_15_expand_relu (ReLU)     (None, 7, 7, 960)    0           block_15_expand_BN[0][0]         \n",
      "__________________________________________________________________________________________________\n",
      "block_15_depthwise (DepthwiseCo (None, 7, 7, 960)    8640        block_15_expand_relu[0][0]       \n",
      "__________________________________________________________________________________________________\n",
      "block_15_depthwise_BN (BatchNor (None, 7, 7, 960)    3840        block_15_depthwise[0][0]         \n",
      "__________________________________________________________________________________________________\n",
      "block_15_depthwise_relu (ReLU)  (None, 7, 7, 960)    0           block_15_depthwise_BN[0][0]      \n",
      "__________________________________________________________________________________________________\n",
      "block_15_project (Conv2D)       (None, 7, 7, 160)    153600      block_15_depthwise_relu[0][0]    \n",
      "__________________________________________________________________________________________________\n",
      "block_15_project_BN (BatchNorma (None, 7, 7, 160)    640         block_15_project[0][0]           \n",
      "__________________________________________________________________________________________________\n",
      "block_15_add (Add)              (None, 7, 7, 160)    0           block_14_add[0][0]               \n",
      "                                                                 block_15_project_BN[0][0]        \n",
      "__________________________________________________________________________________________________\n",
      "block_16_expand (Conv2D)        (None, 7, 7, 960)    153600      block_15_add[0][0]               \n",
      "__________________________________________________________________________________________________\n",
      "block_16_expand_BN (BatchNormal (None, 7, 7, 960)    3840        block_16_expand[0][0]            \n",
      "__________________________________________________________________________________________________\n",
      "block_16_expand_relu (ReLU)     (None, 7, 7, 960)    0           block_16_expand_BN[0][0]         \n",
      "__________________________________________________________________________________________________\n",
      "block_16_depthwise (DepthwiseCo (None, 7, 7, 960)    8640        block_16_expand_relu[0][0]       \n",
      "__________________________________________________________________________________________________\n",
      "block_16_depthwise_BN (BatchNor (None, 7, 7, 960)    3840        block_16_depthwise[0][0]         \n",
      "__________________________________________________________________________________________________\n",
      "block_16_depthwise_relu (ReLU)  (None, 7, 7, 960)    0           block_16_depthwise_BN[0][0]      \n",
      "__________________________________________________________________________________________________\n",
      "block_16_project (Conv2D)       (None, 7, 7, 320)    307200      block_16_depthwise_relu[0][0]    \n",
      "__________________________________________________________________________________________________\n",
      "block_16_project_BN (BatchNorma (None, 7, 7, 320)    1280        block_16_project[0][0]           \n",
      "__________________________________________________________________________________________________\n",
      "Conv_1 (Conv2D)                 (None, 7, 7, 1280)   409600      block_16_project_BN[0][0]        \n",
      "__________________________________________________________________________________________________\n",
      "Conv_1_bn (BatchNormalization)  (None, 7, 7, 1280)   5120        Conv_1[0][0]                     \n",
      "__________________________________________________________________________________________________\n",
      "out_relu (ReLU)                 (None, 7, 7, 1280)   0           Conv_1_bn[0][0]                  \n",
      "==================================================================================================\n",
      "Total params: 2,257,984\n",
      "Trainable params: 2,223,872\n",
      "Non-trainable params: 34,112\n",
      "__________________________________________________________________________________________________\n"
     ]
    }
   ],
   "source": [
    "mobile_net_layers.summary()"
   ]
  },
  {
   "cell_type": "code",
   "execution_count": 19,
   "id": "b64db405",
   "metadata": {
    "execution": {
     "iopub.execute_input": "2022-08-23T05:15:39.657363Z",
     "iopub.status.busy": "2022-08-23T05:15:39.656916Z",
     "iopub.status.idle": "2022-08-23T05:15:39.662145Z",
     "shell.execute_reply": "2022-08-23T05:15:39.661030Z"
    },
    "papermill": {
     "duration": 0.017426,
     "end_time": "2022-08-23T05:15:39.664858",
     "exception": false,
     "start_time": "2022-08-23T05:15:39.647432",
     "status": "completed"
    },
    "tags": []
   },
   "outputs": [
    {
     "name": "stdout",
     "output_type": "stream",
     "text": [
      "Number of layers in the base model:  154\n"
     ]
    }
   ],
   "source": [
    "print(\"Number of layers in the base model: \", len(mobile_net_layers.layers))"
   ]
  },
  {
   "cell_type": "code",
   "execution_count": 20,
   "id": "dddc0b62",
   "metadata": {
    "execution": {
     "iopub.execute_input": "2022-08-23T05:15:39.684178Z",
     "iopub.status.busy": "2022-08-23T05:15:39.683297Z",
     "iopub.status.idle": "2022-08-23T05:15:39.690298Z",
     "shell.execute_reply": "2022-08-23T05:15:39.689375Z"
    },
    "papermill": {
     "duration": 0.018273,
     "end_time": "2022-08-23T05:15:39.692313",
     "exception": false,
     "start_time": "2022-08-23T05:15:39.674040",
     "status": "completed"
    },
    "tags": []
   },
   "outputs": [],
   "source": [
    "fine_tune_at = 77\n",
    "\n",
    "for layer in mobile_net_layers.layers[:fine_tune_at]:\n",
    "    layer.trainable =  False"
   ]
  },
  {
   "cell_type": "code",
   "execution_count": 21,
   "id": "690de5f8",
   "metadata": {
    "execution": {
     "iopub.execute_input": "2022-08-23T05:15:39.710308Z",
     "iopub.status.busy": "2022-08-23T05:15:39.710027Z",
     "iopub.status.idle": "2022-08-23T05:15:40.039721Z",
     "shell.execute_reply": "2022-08-23T05:15:40.038726Z"
    },
    "papermill": {
     "duration": 0.341354,
     "end_time": "2022-08-23T05:15:40.042125",
     "exception": false,
     "start_time": "2022-08-23T05:15:39.700771",
     "status": "completed"
    },
    "tags": []
   },
   "outputs": [],
   "source": [
    "model1 = tf.keras.Sequential([\n",
    "  mobile_net_layers,\n",
    "  tf.keras.layers.GlobalMaxPool2D(),\n",
    "  tf.keras.layers.Flatten(),\n",
    "  tf.keras.layers.Dense(4,activation='softmax')  \n",
    "])"
   ]
  },
  {
   "cell_type": "code",
   "execution_count": 22,
   "id": "5afd2c93",
   "metadata": {
    "execution": {
     "iopub.execute_input": "2022-08-23T05:15:40.060837Z",
     "iopub.status.busy": "2022-08-23T05:15:40.060536Z",
     "iopub.status.idle": "2022-08-23T05:15:40.075422Z",
     "shell.execute_reply": "2022-08-23T05:15:40.074296Z"
    },
    "papermill": {
     "duration": 0.026547,
     "end_time": "2022-08-23T05:15:40.077517",
     "exception": false,
     "start_time": "2022-08-23T05:15:40.050970",
     "status": "completed"
    },
    "tags": []
   },
   "outputs": [
    {
     "name": "stdout",
     "output_type": "stream",
     "text": [
      "Model: \"sequential\"\n",
      "_________________________________________________________________\n",
      "Layer (type)                 Output Shape              Param #   \n",
      "=================================================================\n",
      "mobilenetv2_1.00_224 (Functi (None, 7, 7, 1280)        2257984   \n",
      "_________________________________________________________________\n",
      "global_max_pooling2d (Global (None, 1280)              0         \n",
      "_________________________________________________________________\n",
      "flatten (Flatten)            (None, 1280)              0         \n",
      "_________________________________________________________________\n",
      "dense (Dense)                (None, 4)                 5124      \n",
      "=================================================================\n",
      "Total params: 2,263,108\n",
      "Trainable params: 2,068,612\n",
      "Non-trainable params: 194,496\n",
      "_________________________________________________________________\n"
     ]
    }
   ],
   "source": [
    "model1.summary()"
   ]
  },
  {
   "cell_type": "code",
   "execution_count": 23,
   "id": "79a7e0c8",
   "metadata": {
    "execution": {
     "iopub.execute_input": "2022-08-23T05:15:40.096505Z",
     "iopub.status.busy": "2022-08-23T05:15:40.096227Z",
     "iopub.status.idle": "2022-08-23T05:15:40.104396Z",
     "shell.execute_reply": "2022-08-23T05:15:40.103503Z"
    },
    "papermill": {
     "duration": 0.020358,
     "end_time": "2022-08-23T05:15:40.106374",
     "exception": false,
     "start_time": "2022-08-23T05:15:40.086016",
     "status": "completed"
    },
    "tags": []
   },
   "outputs": [],
   "source": [
    "from keras import backend as K\n",
    "def f1SCORE(y_true, y_pred): #taken from old keras source code\n",
    "    true_positives = K.sum(K.round(K.clip(y_true * y_pred, 0, 1)))\n",
    "    possible_positives = K.sum(K.round(K.clip(y_true, 0, 1)))\n",
    "    predicted_positives = K.sum(K.round(K.clip(y_pred, 0, 1)))\n",
    "    precision = true_positives / (predicted_positives + K.epsilon())\n",
    "    recall = true_positives / (possible_positives + K.epsilon())\n",
    "    f1_val = 2*(precision*recall)/(precision+recall+K.epsilon())\n",
    "    return f1_val"
   ]
  },
  {
   "cell_type": "code",
   "execution_count": 24,
   "id": "422c643f",
   "metadata": {
    "execution": {
     "iopub.execute_input": "2022-08-23T05:15:40.137941Z",
     "iopub.status.busy": "2022-08-23T05:15:40.137659Z",
     "iopub.status.idle": "2022-08-23T05:15:40.161434Z",
     "shell.execute_reply": "2022-08-23T05:15:40.160571Z"
    },
    "papermill": {
     "duration": 0.035533,
     "end_time": "2022-08-23T05:15:40.163403",
     "exception": false,
     "start_time": "2022-08-23T05:15:40.127870",
     "status": "completed"
    },
    "tags": []
   },
   "outputs": [],
   "source": [
    "base_learning_rate = 0.0001\n",
    "model1.compile(optimizer=tf.keras.optimizers.Adam(learning_rate=base_learning_rate),\n",
    "              loss=tf.keras.losses.CategoricalCrossentropy(),\n",
    "              metrics=['accuracy', keras.metrics.Precision(), keras.metrics.Recall(), keras.metrics.AUC(),f1SCORE])"
   ]
  },
  {
   "cell_type": "code",
   "execution_count": 25,
   "id": "c295ff5d",
   "metadata": {
    "execution": {
     "iopub.execute_input": "2022-08-23T05:15:40.182499Z",
     "iopub.status.busy": "2022-08-23T05:15:40.181705Z",
     "iopub.status.idle": "2022-08-23T05:15:40.186919Z",
     "shell.execute_reply": "2022-08-23T05:15:40.186045Z"
    },
    "papermill": {
     "duration": 0.017097,
     "end_time": "2022-08-23T05:15:40.188956",
     "exception": false,
     "start_time": "2022-08-23T05:15:40.171859",
     "status": "completed"
    },
    "tags": []
   },
   "outputs": [],
   "source": [
    "early_stopping = tf.keras.callbacks.EarlyStopping(monitor='val_loss', patience=5, restore_best_weights=True)"
   ]
  },
  {
   "cell_type": "code",
   "execution_count": 26,
   "id": "7614e2c9",
   "metadata": {
    "execution": {
     "iopub.execute_input": "2022-08-23T05:15:40.206890Z",
     "iopub.status.busy": "2022-08-23T05:15:40.206633Z",
     "iopub.status.idle": "2022-08-23T05:30:18.810275Z",
     "shell.execute_reply": "2022-08-23T05:30:18.809233Z"
    },
    "papermill": {
     "duration": 878.615085,
     "end_time": "2022-08-23T05:30:18.812484",
     "exception": false,
     "start_time": "2022-08-23T05:15:40.197399",
     "status": "completed"
    },
    "tags": []
   },
   "outputs": [
    {
     "name": "stderr",
     "output_type": "stream",
     "text": [
      "2022-08-23 05:15:40.310200: I tensorflow/compiler/mlir/mlir_graph_optimization_pass.cc:185] None of the MLIR Optimization Passes are enabled (registered 2)\n"
     ]
    },
    {
     "name": "stdout",
     "output_type": "stream",
     "text": [
      "Epoch 1/10000\n"
     ]
    },
    {
     "name": "stderr",
     "output_type": "stream",
     "text": [
      "2022-08-23 05:15:45.552494: I tensorflow/stream_executor/cuda/cuda_dnn.cc:369] Loaded cuDNN version 8005\n"
     ]
    },
    {
     "name": "stdout",
     "output_type": "stream",
     "text": [
      "2052/2052 [==============================] - 79s 33ms/step - loss: 0.7341 - accuracy: 0.8066 - precision: 0.8120 - recall: 0.8038 - auc: 0.9440 - f1SCORE: 0.8075 - val_loss: 0.5619 - val_accuracy: 0.8295 - val_precision: 0.8309 - val_recall: 0.8268 - val_auc: 0.9585 - val_f1SCORE: 0.8286\n",
      "Epoch 2/10000\n",
      "2052/2052 [==============================] - 67s 33ms/step - loss: 0.3941 - accuracy: 0.8887 - precision: 0.8902 - recall: 0.8874 - auc: 0.9762 - f1SCORE: 0.8887 - val_loss: 0.4226 - val_accuracy: 0.8843 - val_precision: 0.8854 - val_recall: 0.8810 - val_auc: 0.9746 - val_f1SCORE: 0.8825\n",
      "Epoch 3/10000\n",
      "2052/2052 [==============================] - 66s 32ms/step - loss: 0.3099 - accuracy: 0.9098 - precision: 0.9108 - recall: 0.9082 - auc: 0.9823 - f1SCORE: 0.9094 - val_loss: 0.2795 - val_accuracy: 0.9150 - val_precision: 0.9159 - val_recall: 0.9139 - val_auc: 0.9857 - val_f1SCORE: 0.9149\n",
      "Epoch 4/10000\n",
      "2052/2052 [==============================] - 66s 32ms/step - loss: 0.2608 - accuracy: 0.9215 - precision: 0.9226 - recall: 0.9206 - auc: 0.9865 - f1SCORE: 0.9215 - val_loss: 0.3053 - val_accuracy: 0.9211 - val_precision: 0.9241 - val_recall: 0.9205 - val_auc: 0.9853 - val_f1SCORE: 0.9222\n",
      "Epoch 5/10000\n",
      "2052/2052 [==============================] - 69s 34ms/step - loss: 0.2264 - accuracy: 0.9319 - precision: 0.9324 - recall: 0.9311 - auc: 0.9887 - f1SCORE: 0.9316 - val_loss: 0.3535 - val_accuracy: 0.8920 - val_precision: 0.8919 - val_recall: 0.8909 - val_auc: 0.9779 - val_f1SCORE: 0.8914\n",
      "Epoch 6/10000\n",
      "2052/2052 [==============================] - 67s 33ms/step - loss: 0.1780 - accuracy: 0.9429 - precision: 0.9434 - recall: 0.9425 - auc: 0.9924 - f1SCORE: 0.9430 - val_loss: 0.2418 - val_accuracy: 0.9331 - val_precision: 0.9356 - val_recall: 0.9326 - val_auc: 0.9869 - val_f1SCORE: 0.9339\n",
      "Epoch 7/10000\n",
      "2052/2052 [==============================] - 67s 33ms/step - loss: 0.1448 - accuracy: 0.9523 - precision: 0.9527 - recall: 0.9517 - auc: 0.9940 - f1SCORE: 0.9522 - val_loss: 0.2126 - val_accuracy: 0.9342 - val_precision: 0.9347 - val_recall: 0.9337 - val_auc: 0.9908 - val_f1SCORE: 0.9341\n",
      "Epoch 8/10000\n",
      "2052/2052 [==============================] - 67s 33ms/step - loss: 0.1307 - accuracy: 0.9577 - precision: 0.9584 - recall: 0.9576 - auc: 0.9948 - f1SCORE: 0.9580 - val_loss: 0.2360 - val_accuracy: 0.9446 - val_precision: 0.9451 - val_recall: 0.9446 - val_auc: 0.9876 - val_f1SCORE: 0.9448\n",
      "Epoch 9/10000\n",
      "2052/2052 [==============================] - 67s 33ms/step - loss: 0.1207 - accuracy: 0.9617 - precision: 0.9622 - recall: 0.9611 - auc: 0.9956 - f1SCORE: 0.9616 - val_loss: 0.2639 - val_accuracy: 0.9342 - val_precision: 0.9342 - val_recall: 0.9337 - val_auc: 0.9862 - val_f1SCORE: 0.9339\n",
      "Epoch 10/10000\n",
      "2052/2052 [==============================] - 67s 32ms/step - loss: 0.1030 - accuracy: 0.9656 - precision: 0.9661 - recall: 0.9653 - auc: 0.9966 - f1SCORE: 0.9657 - val_loss: 0.2559 - val_accuracy: 0.9419 - val_precision: 0.9429 - val_recall: 0.9408 - val_auc: 0.9843 - val_f1SCORE: 0.9418\n",
      "Epoch 11/10000\n",
      "2052/2052 [==============================] - 67s 33ms/step - loss: 0.0848 - accuracy: 0.9718 - precision: 0.9722 - recall: 0.9713 - auc: 0.9977 - f1SCORE: 0.9715 - val_loss: 0.2558 - val_accuracy: 0.9468 - val_precision: 0.9473 - val_recall: 0.9468 - val_auc: 0.9860 - val_f1SCORE: 0.9471\n",
      "Epoch 12/10000\n",
      "2052/2052 [==============================] - 67s 33ms/step - loss: 0.0822 - accuracy: 0.9732 - precision: 0.9734 - recall: 0.9730 - auc: 0.9976 - f1SCORE: 0.9732 - val_loss: 0.3550 - val_accuracy: 0.9095 - val_precision: 0.9100 - val_recall: 0.9090 - val_auc: 0.9795 - val_f1SCORE: 0.9094\n"
     ]
    }
   ],
   "source": [
    "initial_epochs = 10000\n",
    "history = model1.fit(train_generator, epochs=initial_epochs, \n",
    "                     validation_data = validation_generator, callbacks=[early_stopping])"
   ]
  },
  {
   "cell_type": "code",
   "execution_count": 27,
   "id": "684b6743",
   "metadata": {
    "execution": {
     "iopub.execute_input": "2022-08-23T05:30:20.236559Z",
     "iopub.status.busy": "2022-08-23T05:30:20.236022Z",
     "iopub.status.idle": "2022-08-23T05:30:34.868790Z",
     "shell.execute_reply": "2022-08-23T05:30:34.867844Z"
    },
    "papermill": {
     "duration": 15.370794,
     "end_time": "2022-08-23T05:30:34.872377",
     "exception": false,
     "start_time": "2022-08-23T05:30:19.501583",
     "status": "completed"
    },
    "tags": []
   },
   "outputs": [
    {
     "data": {
      "image/png": "[encoded data removed]",
      "text/plain": [
       "<Figure size 1440x1152 with 6 Axes>"
      ]
     },
     "metadata": {},
     "output_type": "display_data"
    }
   ],
   "source": [
    "import seaborn as sns\n",
    "def data(history):\n",
    "  return pd.DataFrame(data=list(zip(history.history[\"accuracy\"], history.history[\"val_accuracy\"], history.history[\"loss\"], history.history[\"val_loss\"], history.history[\"recall\"], history.history[\"val_recall\"], history.history[\"precision\"], history.history[\"val_precision\"], history.history[\"auc\"], history.history[\"val_auc\"],history.history[\"f1SCORE\"],history.history[\"val_f1SCORE\"] )) , columns=[\"Accuracy\", \"Validation Accuracy\", \"Loss\", \"Validation Loss\", \"Recall\", \"Validation Recall\", \"Precision\", \"Validation Precision\", \"AUC\", \"Validation AUC\", \"f1SCORE\", \"Validation f1SCORE\"])\n",
    "def history_visualization(history):\n",
    "  df = data(history)\n",
    "  sns.set_style('darkgrid')\n",
    "  nrow = 3\n",
    "  ncol = 2\n",
    "  df_columns = df.columns\n",
    "  df_list = [df[col] for col in df]\n",
    "  titles=[\"Accuracy Visualization\", \"Loss Visualization\", \"Recall Visualization\", \"Precision Visualization\", \"AUC Visualization\", \"F1 Score Visualization\"]\n",
    "  fig, axes = plt.subplots(nrow, ncol, figsize=(20, 16))\n",
    "  count = 0\n",
    "  i = 0\n",
    "  for r in range(nrow):\n",
    "    for c in range(ncol):\n",
    "        df_list[count].plot(ax=axes[r,c], x=\"Number of Epochs\", legend=\"brief\", label=df_columns[count], marker=\"o\").set_title(titles[i])\n",
    "        df_list[count+1].plot(ax=axes[r, c], x=\"Number of Epochs\", legend=\"brief\" ,label=df_columns[count+1], marker=\"o\").set_title(titles[i])\n",
    "        i+=1\n",
    "        count+=2\n",
    "history_visualization(history)"
   ]
  },
  {
   "cell_type": "code",
   "execution_count": 28,
   "id": "202d572a",
   "metadata": {
    "execution": {
     "iopub.execute_input": "2022-08-23T05:30:36.296488Z",
     "iopub.status.busy": "2022-08-23T05:30:36.295915Z",
     "iopub.status.idle": "2022-08-23T05:30:42.577975Z",
     "shell.execute_reply": "2022-08-23T05:30:42.576969Z"
    },
    "papermill": {
     "duration": 6.973611,
     "end_time": "2022-08-23T05:30:42.580104",
     "exception": false,
     "start_time": "2022-08-23T05:30:35.606493",
     "status": "completed"
    },
    "tags": []
   },
   "outputs": [
    {
     "name": "stdout",
     "output_type": "stream",
     "text": [
      "252/252 [==============================] - 6s 25ms/step - loss: 0.2082 - accuracy: 0.9355 - precision: 0.9359 - recall: 0.9355 - auc: 0.9903 - f1SCORE: 0.9357\n"
     ]
    },
    {
     "data": {
      "text/plain": [
       "[0.20821166038513184,\n",
       " 0.935451865196228,\n",
       " 0.935916543006897,\n",
       " 0.935451865196228,\n",
       " 0.990273654460907,\n",
       " 0.9357473850250244]"
      ]
     },
     "execution_count": 28,
     "metadata": {},
     "output_type": "execute_result"
    }
   ],
   "source": [
    "model1.evaluate(test_generator)\n",
    "# loss and accuracy"
   ]
  },
  {
   "cell_type": "code",
   "execution_count": 29,
   "id": "e1294393",
   "metadata": {
    "execution": {
     "iopub.execute_input": "2022-08-23T05:30:44.027285Z",
     "iopub.status.busy": "2022-08-23T05:30:44.026870Z",
     "iopub.status.idle": "2022-08-23T05:30:50.044841Z",
     "shell.execute_reply": "2022-08-23T05:30:50.042451Z"
    },
    "papermill": {
     "duration": 6.724191,
     "end_time": "2022-08-23T05:30:50.047226",
     "exception": false,
     "start_time": "2022-08-23T05:30:43.323035",
     "status": "completed"
    },
    "tags": []
   },
   "outputs": [
    {
     "name": "stdout",
     "output_type": "stream",
     "text": [
      "                 precision    recall  f1-score   support\n",
      "\n",
      "          Covid       0.95      0.97      0.96       362\n",
      "   Lung opacity       0.91      0.91      0.91       601\n",
      "         Normal       0.94      0.94      0.94       917\n",
      "Viral Pneumonia       0.98      0.96      0.97       134\n",
      "\n",
      "       accuracy                           0.94      2014\n",
      "      macro avg       0.95      0.94      0.94      2014\n",
      "   weighted avg       0.94      0.94      0.94      2014\n",
      "\n"
     ]
    }
   ],
   "source": [
    "from sklearn.metrics import confusion_matrix, classification_report\n",
    "import seaborn as sns\n",
    "val_predict = model1.predict(test_generator)\n",
    "predict_class = np.argmax(val_predict, axis=1)\n",
    "predict_class = predict_class.tolist()\n",
    "labels = ['Covid','Lung opacity' ,'Normal', 'Viral Pneumonia']\n",
    "report = classification_report(test_generator.classes, predict_class, target_names=labels)\n",
    "print(report)"
   ]
  },
  {
   "cell_type": "code",
   "execution_count": 30,
   "id": "7f4de90c",
   "metadata": {
    "execution": {
     "iopub.execute_input": "2022-08-23T05:30:51.473012Z",
     "iopub.status.busy": "2022-08-23T05:30:51.472499Z",
     "iopub.status.idle": "2022-08-23T05:30:51.480610Z",
     "shell.execute_reply": "2022-08-23T05:30:51.479695Z"
    },
    "papermill": {
     "duration": 0.738977,
     "end_time": "2022-08-23T05:30:51.482651",
     "exception": false,
     "start_time": "2022-08-23T05:30:50.743674",
     "status": "completed"
    },
    "tags": []
   },
   "outputs": [],
   "source": [
    "cm = confusion_matrix(test_generator.classes, predict_class)\n",
    "cm_df = pd.DataFrame(cm,\n",
    "                     index = ['COVID','LUNG OPACITY' ,'NORMAL','VIRAL PNEUMONIA'], \n",
    "                     columns = ['COVID','LUNG OPACITY' ,'NORMAL','VIRAL PNEUMONIA'])"
   ]
  },
  {
   "cell_type": "code",
   "execution_count": 31,
   "id": "54011b7f",
   "metadata": {
    "execution": {
     "iopub.execute_input": "2022-08-23T05:30:52.904896Z",
     "iopub.status.busy": "2022-08-23T05:30:52.904380Z",
     "iopub.status.idle": "2022-08-23T05:30:53.200234Z",
     "shell.execute_reply": "2022-08-23T05:30:53.199318Z"
    },
    "papermill": {
     "duration": 1.040967,
     "end_time": "2022-08-23T05:30:53.202256",
     "exception": false,
     "start_time": "2022-08-23T05:30:52.161289",
     "status": "completed"
    },
    "tags": []
   },
   "outputs": [
    {
     "data": {
      "image/png": "[encoded data removed]",
      "text/plain": [
       "<Figure size 720x576 with 2 Axes>"
      ]
     },
     "metadata": {},
     "output_type": "display_data"
    }
   ],
   "source": [
    "plt.figure(figsize=(10,8))\n",
    "sns.heatmap(cm_df, annot=True, fmt='d')\n",
    "plt.title(\"Confusion Matrixx\")\n",
    "plt.xlabel(\"Predicted\")\n",
    "plt.ylabel(\"Actual\")\n",
    "plt.show()"
   ]
  },
  {
   "cell_type": "code",
   "execution_count": 32,
   "id": "8677697c",
   "metadata": {
    "execution": {
     "iopub.execute_input": "2022-08-23T05:30:54.631105Z",
     "iopub.status.busy": "2022-08-23T05:30:54.630565Z",
     "iopub.status.idle": "2022-08-23T05:30:54.978860Z",
     "shell.execute_reply": "2022-08-23T05:30:54.977852Z"
    },
    "papermill": {
     "duration": 1.049258,
     "end_time": "2022-08-23T05:30:54.981410",
     "exception": false,
     "start_time": "2022-08-23T05:30:53.932152",
     "status": "completed"
    },
    "tags": []
   },
   "outputs": [
    {
     "name": "stderr",
     "output_type": "stream",
     "text": [
      "/opt/conda/lib/python3.7/site-packages/keras/utils/generic_utils.py:497: CustomMaskWarning: Custom mask layers require a config and must override get_config. When loading, the custom mask layer must be passed to the custom_objects argument.\n",
      "  category=CustomMaskWarning)\n"
     ]
    }
   ],
   "source": [
    "keras.models.save_model(model1,\"./base_dir/mobilenetfold8.h5\")"
   ]
  }
 ],
 "metadata": {
  "kernelspec": {
   "display_name": "Python 3",
   "language": "python",
   "name": "python3"
  },
  "language_info": {
   "codemirror_mode": {
    "name": "ipython",
    "version": 3
   },
   "file_extension": ".py",
   "mimetype": "text/x-python",
   "name": "python",
   "nbconvert_exporter": "python",
   "pygments_lexer": "ipython3",
   "version": "3.7.12"
  },
  "papermill": {
   "default_parameters": {},
   "duration": 1181.447942,
   "end_time": "2022-08-23T05:30:58.916182",
   "environment_variables": {},
   "exception": null,
   "input_path": "__notebook__.ipynb",
   "output_path": "__notebook__.ipynb",
   "parameters": {},
   "start_time": "2022-08-23T05:11:17.468240",
   "version": "2.3.4"
  }
 },
 "nbformat": 4,
 "nbformat_minor": 5
}
