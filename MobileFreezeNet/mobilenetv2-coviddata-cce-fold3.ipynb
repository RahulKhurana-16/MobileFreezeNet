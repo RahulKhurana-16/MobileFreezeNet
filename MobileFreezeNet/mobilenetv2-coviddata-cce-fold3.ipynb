{
 "cells": [
  {
   "cell_type": "code",
   "execution_count": 1,
   "id": "86b9312a",
   "metadata": {
    "_cell_guid": "b1076dfc-b9ad-4769-8c92-a6c4dae69d19",
    "_uuid": "8f2839f25d086af736a60e9eeb907d3b93b6e0e5",
    "execution": {
     "iopub.execute_input": "2022-08-03T19:48:29.165664Z",
     "iopub.status.busy": "2022-08-03T19:48:29.164527Z",
     "iopub.status.idle": "2022-08-03T19:48:42.138097Z",
     "shell.execute_reply": "2022-08-03T19:48:42.136918Z"
    },
    "papermill": {
     "duration": 12.985694,
     "end_time": "2022-08-03T19:48:42.141118",
     "exception": false,
     "start_time": "2022-08-03T19:48:29.155424",
     "status": "completed"
    },
    "tags": []
   },
   "outputs": [
    {
     "name": "stdout",
     "output_type": "stream",
     "text": [
      "Collecting openpyxl\r\n",
      "  Downloading openpyxl-3.0.10-py2.py3-none-any.whl (242 kB)\r\n",
      "\u001b[2K     \u001b[90m━━━━━━━━━━━━━━━━━━━━━━━━━━━━━━━━━━━━━\u001b[0m \u001b[32m242.1/242.1 kB\u001b[0m \u001b[31m459.5 kB/s\u001b[0m eta \u001b[36m0:00:00\u001b[0m\r\n",
      "\u001b[?25hCollecting et-xmlfile\r\n",
      "  Downloading et_xmlfile-1.1.0-py3-none-any.whl (4.7 kB)\r\n",
      "Installing collected packages: et-xmlfile, openpyxl\r\n",
      "Successfully installed et-xmlfile-1.1.0 openpyxl-3.0.10\r\n",
      "\u001b[33mWARNING: Running pip as the 'root' user can result in broken permissions and conflicting behaviour with the system package manager. It is recommended to use a virtual environment instead: https://pip.pypa.io/warnings/venv\u001b[0m\u001b[33m\r\n",
      "\u001b[0m"
     ]
    }
   ],
   "source": [
    "!pip install openpyxl"
   ]
  },
  {
   "cell_type": "code",
   "execution_count": 2,
   "id": "7975bac2",
   "metadata": {
    "execution": {
     "iopub.execute_input": "2022-08-03T19:48:42.157088Z",
     "iopub.status.busy": "2022-08-03T19:48:42.156781Z",
     "iopub.status.idle": "2022-08-03T19:48:47.940498Z",
     "shell.execute_reply": "2022-08-03T19:48:47.939459Z"
    },
    "papermill": {
     "duration": 5.794391,
     "end_time": "2022-08-03T19:48:47.943050",
     "exception": false,
     "start_time": "2022-08-03T19:48:42.148659",
     "status": "completed"
    },
    "tags": []
   },
   "outputs": [],
   "source": [
    "import numpy as np # linear algebra\n",
    "import pandas as pd \n",
    "import os\n",
    "import cv2\n",
    "import seaborn as sns\n",
    "\n",
    "# libraries for files preparation\n",
    "from sklearn.utils import shuffle\n",
    "from sklearn.model_selection import train_test_split\n",
    "import shutil\n",
    "from sklearn.metrics import matthews_corrcoef\n",
    "\n",
    "# libraries for CNN models and plotting\n",
    "import tensorflow as tf\n",
    "import tensorflow.keras.layers as tfl\n",
    "import tensorflow.keras as keras\n",
    "\n",
    "from tensorflow.keras.preprocessing.image import ImageDataGenerator\n",
    "from tensorflow.keras.layers import Conv2D, MaxPooling2D, Dense, Flatten, Dropout\n",
    "from tensorflow.keras import Sequential\n",
    "from tensorflow.keras.callbacks import EarlyStopping\n",
    "\n",
    "import matplotlib.pyplot as plt\n",
    "%matplotlib inline"
   ]
  },
  {
   "cell_type": "code",
   "execution_count": 3,
   "id": "06a04fd6",
   "metadata": {
    "execution": {
     "iopub.execute_input": "2022-08-03T19:48:47.959324Z",
     "iopub.status.busy": "2022-08-03T19:48:47.958566Z",
     "iopub.status.idle": "2022-08-03T19:48:48.060771Z",
     "shell.execute_reply": "2022-08-03T19:48:48.059827Z"
    },
    "papermill": {
     "duration": 0.112761,
     "end_time": "2022-08-03T19:48:48.063001",
     "exception": false,
     "start_time": "2022-08-03T19:48:47.950240",
     "status": "completed"
    },
    "tags": []
   },
   "outputs": [],
   "source": [
    "path = '../input/mobilenetv2-kfolds/MobileNetFOLDS/'\n",
    "fold1 = pd.read_csv(path+'Fold1.csv')\n",
    "fold2 = pd.read_csv(path+'Fold2.csv')\n",
    "fold3 = pd.read_csv(path+'Fold3.csv')\n",
    "fold4 = pd.read_csv(path+'Fold4.csv')\n",
    "fold5 = pd.read_csv(path+'Fold5.csv')\n",
    "fold6 = pd.read_csv(path+'Fold6.csv')\n",
    "fold7 = pd.read_csv(path+'Fold7.csv')\n",
    "fold8 = pd.read_csv(path+'Fold8.csv')\n",
    "fold9 = pd.read_csv(path+'Fold9.csv')\n",
    "fold10 = pd.read_csv(path+'Fold10.csv')"
   ]
  },
  {
   "cell_type": "code",
   "execution_count": 4,
   "id": "c9853158",
   "metadata": {
    "execution": {
     "iopub.execute_input": "2022-08-03T19:48:48.078802Z",
     "iopub.status.busy": "2022-08-03T19:48:48.078251Z",
     "iopub.status.idle": "2022-08-03T19:48:48.098081Z",
     "shell.execute_reply": "2022-08-03T19:48:48.097052Z"
    },
    "papermill": {
     "duration": 0.030229,
     "end_time": "2022-08-03T19:48:48.100487",
     "exception": false,
     "start_time": "2022-08-03T19:48:48.070258",
     "status": "completed"
    },
    "tags": []
   },
   "outputs": [
    {
     "data": {
      "text/plain": [
       "1    9275\n",
       "3    6012\n",
       "0    3616\n",
       "2    1345\n",
       "Name: label, dtype: int64"
      ]
     },
     "execution_count": 4,
     "metadata": {},
     "output_type": "execute_result"
    }
   ],
   "source": [
    "data = pd.concat([fold1,fold2,fold3,fold4,fold5,fold6,fold7,fold8,fold9,fold10], axis=0).reset_index(drop=True)\n",
    "data['label'].value_counts()"
   ]
  },
  {
   "cell_type": "code",
   "execution_count": 5,
   "id": "a14d8535",
   "metadata": {
    "execution": {
     "iopub.execute_input": "2022-08-03T19:48:48.116230Z",
     "iopub.status.busy": "2022-08-03T19:48:48.115930Z",
     "iopub.status.idle": "2022-08-03T19:48:48.124692Z",
     "shell.execute_reply": "2022-08-03T19:48:48.123845Z"
    },
    "papermill": {
     "duration": 0.019042,
     "end_time": "2022-08-03T19:48:48.126747",
     "exception": false,
     "start_time": "2022-08-03T19:48:48.107705",
     "status": "completed"
    },
    "tags": []
   },
   "outputs": [],
   "source": [
    "data = shuffle(data)"
   ]
  },
  {
   "cell_type": "code",
   "execution_count": 6,
   "id": "6f650dfc",
   "metadata": {
    "execution": {
     "iopub.execute_input": "2022-08-03T19:48:48.142131Z",
     "iopub.status.busy": "2022-08-03T19:48:48.141862Z",
     "iopub.status.idle": "2022-08-03T19:48:48.176435Z",
     "shell.execute_reply": "2022-08-03T19:48:48.175245Z"
    },
    "papermill": {
     "duration": 0.044993,
     "end_time": "2022-08-03T19:48:48.178976",
     "exception": false,
     "start_time": "2022-08-03T19:48:48.133983",
     "status": "completed"
    },
    "tags": []
   },
   "outputs": [
    {
     "name": "stdout",
     "output_type": "stream",
     "text": [
      "(18233, 2)\n",
      "(2015, 2)\n"
     ]
    }
   ],
   "source": [
    "df_test = fold3.copy()\n",
    "train = pd.concat([fold10,fold1,fold2,fold4,fold5,fold6,fold7,fold8,fold9], axis=0).reset_index(drop=True)\n",
    "train = shuffle(train)\n",
    "\n",
    "df_test.to_csv(\"testexp3.csv\",index=False)\n",
    "train.to_csv(\"trainexp3.csv\",index=False)\n",
    "\n",
    "print(train.shape)\n",
    "print(df_test.shape)"
   ]
  },
  {
   "cell_type": "code",
   "execution_count": 7,
   "id": "ba57f244",
   "metadata": {
    "execution": {
     "iopub.execute_input": "2022-08-03T19:48:48.194743Z",
     "iopub.status.busy": "2022-08-03T19:48:48.194476Z",
     "iopub.status.idle": "2022-08-03T19:48:48.209038Z",
     "shell.execute_reply": "2022-08-03T19:48:48.208099Z"
    },
    "papermill": {
     "duration": 0.02473,
     "end_time": "2022-08-03T19:48:48.211130",
     "exception": false,
     "start_time": "2022-08-03T19:48:48.186400",
     "status": "completed"
    },
    "tags": []
   },
   "outputs": [
    {
     "name": "stdout",
     "output_type": "stream",
     "text": [
      "(16409, 2)\n",
      "(1824, 2)\n"
     ]
    }
   ],
   "source": [
    "df_train, df_val = train_test_split(train, test_size=0.10, random_state=42, stratify=train['label'])\n",
    "print(df_train.shape)\n",
    "print(df_val.shape)"
   ]
  },
  {
   "cell_type": "code",
   "execution_count": 8,
   "id": "b3420d25",
   "metadata": {
    "execution": {
     "iopub.execute_input": "2022-08-03T19:48:48.228136Z",
     "iopub.status.busy": "2022-08-03T19:48:48.227878Z",
     "iopub.status.idle": "2022-08-03T19:48:48.235114Z",
     "shell.execute_reply": "2022-08-03T19:48:48.234212Z"
    },
    "papermill": {
     "duration": 0.017742,
     "end_time": "2022-08-03T19:48:48.237177",
     "exception": false,
     "start_time": "2022-08-03T19:48:48.219435",
     "status": "completed"
    },
    "tags": []
   },
   "outputs": [
    {
     "data": {
      "text/plain": [
       "1    7521\n",
       "3    4870\n",
       "0    2929\n",
       "2    1089\n",
       "Name: label, dtype: int64"
      ]
     },
     "execution_count": 8,
     "metadata": {},
     "output_type": "execute_result"
    }
   ],
   "source": [
    "df_train['label'].value_counts()"
   ]
  },
  {
   "cell_type": "code",
   "execution_count": 9,
   "id": "4b348f4b",
   "metadata": {
    "execution": {
     "iopub.execute_input": "2022-08-03T19:48:48.252579Z",
     "iopub.status.busy": "2022-08-03T19:48:48.252285Z",
     "iopub.status.idle": "2022-08-03T19:48:48.263822Z",
     "shell.execute_reply": "2022-08-03T19:48:48.262977Z"
    },
    "papermill": {
     "duration": 0.021584,
     "end_time": "2022-08-03T19:48:48.265849",
     "exception": false,
     "start_time": "2022-08-03T19:48:48.244265",
     "status": "completed"
    },
    "tags": []
   },
   "outputs": [],
   "source": [
    "import os\n",
    "# Create a new directory\n",
    "base_dir = 'base_dir'\n",
    "os.mkdir(base_dir)\n",
    "\n",
    "train_dir = os.path.join(base_dir, 'train_dir')\n",
    "os.mkdir(train_dir)\n",
    "\n",
    "val_dir = os.path.join(base_dir, 'val_dir')\n",
    "os.mkdir(val_dir)\n",
    "\n",
    "test_dir = os.path.join(base_dir, 'test_dir')\n",
    "os.mkdir(test_dir)\n",
    "\n",
    "# create new folders inside train_dir\n",
    "train_covid = os.path.join(train_dir, 'covid')\n",
    "os.mkdir(train_covid)\n",
    "train_normal = os.path.join(train_dir, 'normal')\n",
    "os.mkdir(train_normal)\n",
    "train_viral_pneumonia = os.path.join(train_dir, 'viral pneumonia')\n",
    "os.mkdir(train_viral_pneumonia)\n",
    "train_lung_opacity = os.path.join(train_dir, 'lung opacity')\n",
    "os.mkdir(train_lung_opacity)\n",
    "\n",
    "# create new folders inside val_dir\n",
    "val_covid = os.path.join(val_dir, 'covid')\n",
    "os.mkdir(val_covid)\n",
    "val_normal = os.path.join(val_dir, 'normal')\n",
    "os.mkdir(val_normal)\n",
    "val_viral_pneumonia = os.path.join(val_dir, 'viral pneumonia')\n",
    "os.mkdir(val_viral_pneumonia)\n",
    "val_lung_opacity = os.path.join(val_dir, 'lung opacity')\n",
    "os.mkdir(val_lung_opacity)\n",
    "\n",
    "\n",
    "# create new folders inside test_dir\n",
    "test_covid = os.path.join(test_dir, 'covid')\n",
    "os.mkdir(test_covid)\n",
    "test_normal = os.path.join(test_dir, 'normal')\n",
    "os.mkdir(test_normal)\n",
    "test_viral_pneumonia = os.path.join(test_dir, 'viral pneumonia')\n",
    "os.mkdir(test_viral_pneumonia)\n",
    "test_lung_opacity = os.path.join(test_dir, 'lung opacity')\n",
    "os.mkdir(test_lung_opacity)"
   ]
  },
  {
   "cell_type": "code",
   "execution_count": 10,
   "id": "9f63284f",
   "metadata": {
    "execution": {
     "iopub.execute_input": "2022-08-03T19:48:48.283838Z",
     "iopub.status.busy": "2022-08-03T19:48:48.283569Z",
     "iopub.status.idle": "2022-08-03T19:48:48.291332Z",
     "shell.execute_reply": "2022-08-03T19:48:48.290359Z"
    },
    "papermill": {
     "duration": 0.020028,
     "end_time": "2022-08-03T19:48:48.293455",
     "exception": false,
     "start_time": "2022-08-03T19:48:48.273427",
     "status": "completed"
    },
    "tags": []
   },
   "outputs": [],
   "source": [
    "train_list = list(df_train['FILE NAME'])\n",
    "val_list = list(df_val['FILE NAME'])\n",
    "test_list = list(df_test['FILE NAME'])"
   ]
  },
  {
   "cell_type": "code",
   "execution_count": 11,
   "id": "b2e26f98",
   "metadata": {
    "execution": {
     "iopub.execute_input": "2022-08-03T19:48:48.309641Z",
     "iopub.status.busy": "2022-08-03T19:48:48.309190Z",
     "iopub.status.idle": "2022-08-03T19:51:50.666569Z",
     "shell.execute_reply": "2022-08-03T19:51:50.665542Z"
    },
    "papermill": {
     "duration": 182.36831,
     "end_time": "2022-08-03T19:51:50.669207",
     "exception": false,
     "start_time": "2022-08-03T19:48:48.300897",
     "status": "completed"
    },
    "tags": []
   },
   "outputs": [],
   "source": [
    "for image in train_list:\n",
    "    \n",
    "    # add .png extension \n",
    "    filename = image + '.png'\n",
    "    # get the label for a certain image\n",
    "    target = int(data.loc[data['FILE NAME'] == image, ['label']].values)\n",
    "    \n",
    "    # match the target with the folder's name and source path of the image\n",
    "    if target == 0:\n",
    "        label = 'covid'\n",
    "        src = os.path.join('../input/covid19-radiography-database/COVID-19_Radiography_Dataset/COVID/images', filename)\n",
    "        \n",
    "    if target == 1:\n",
    "        label = 'normal'\n",
    "        # As 'FILE NAME's in .xlsx file begins with 'NORMAL' but real file names begin with 'Normal'\n",
    "        filename = filename.capitalize()\n",
    "        src = os.path.join('../input/covid19-radiography-database/COVID-19_Radiography_Dataset/Normal/images', filename)\n",
    "        \n",
    "    if target == 2:\n",
    "        label = 'viral pneumonia'\n",
    "        src = os.path.join('../input/covid19-radiography-database/COVID-19_Radiography_Dataset/Viral Pneumonia/images', filename)\n",
    "    \n",
    "    if target == 3:\n",
    "        label = 'lung opacity'\n",
    "        src = os.path.join('../input/covid19-radiography-database/COVID-19_Radiography_Dataset/Lung_Opacity/images', filename)\n",
    "  \n",
    "    # destination path to image\n",
    "    dst = os.path.join(train_dir, label, filename)\n",
    "    \n",
    "    # copy the image from the source to the destination\n",
    "    shutil.copyfile(src, dst)\n",
    "\n",
    "# Copy images to val_dir folder\n",
    "for image in val_list:\n",
    "    \n",
    "    # add .png extension \n",
    "    filename = image + '.png'\n",
    "    # get the label for a certain image\n",
    "    target = int(data.loc[data['FILE NAME'] == image, ['label']].values)\n",
    "    \n",
    "    # match the target with the folder's name and source path of the image\n",
    "    if target == 0:\n",
    "        label = 'covid'\n",
    "        src = os.path.join('../input/covid19-radiography-database/COVID-19_Radiography_Dataset/COVID/images', filename)\n",
    "        \n",
    "    if target == 1:\n",
    "        label = 'normal'\n",
    "        filename = filename.capitalize()\n",
    "        src = os.path.join('../input/covid19-radiography-database/COVID-19_Radiography_Dataset/Normal/images', filename)\n",
    "        \n",
    "    if target == 2:\n",
    "        label = 'viral pneumonia'\n",
    "        src = os.path.join('../input/covid19-radiography-database/COVID-19_Radiography_Dataset/Viral Pneumonia/images', filename)\n",
    "    \n",
    "    if target == 3:\n",
    "        label = 'lung opacity'\n",
    "        src = os.path.join('../input/covid19-radiography-database/COVID-19_Radiography_Dataset/Lung_Opacity/images', filename)\n",
    "\n",
    "  \n",
    "    # destination path to image\n",
    "    dst = os.path.join(val_dir, label, filename)\n",
    "    \n",
    "    # copy the image from the source to the destination\n",
    "    shutil.copyfile(src, dst)\n",
    "    \n",
    "    \n",
    "\n",
    "    \n",
    "# Copy images to test_dir folder\n",
    "for image in test_list:\n",
    "    \n",
    "    # add .png extension \n",
    "    filename = image + '.png'\n",
    "    # get the label for a certain image\n",
    "    target = int(data.loc[data['FILE NAME'] == image, ['label']].values)\n",
    "    \n",
    "    # match the target with the folder's name and source path of the image\n",
    "    if target == 0:\n",
    "        label = 'covid'\n",
    "        src = os.path.join('../input/covid19-radiography-database/COVID-19_Radiography_Dataset/COVID/images', filename)\n",
    "        \n",
    "    if target == 1:\n",
    "        label = 'normal'\n",
    "        filename = filename.capitalize()\n",
    "        src = os.path.join('../input/covid19-radiography-database/COVID-19_Radiography_Dataset/Normal/images', filename)\n",
    "        \n",
    "    if target == 2:\n",
    "        label = 'viral pneumonia'\n",
    "        src = os.path.join('../input/covid19-radiography-database/COVID-19_Radiography_Dataset/Viral Pneumonia/images', filename)\n",
    "    \n",
    "    if target == 3:\n",
    "        label = 'lung opacity'\n",
    "        src = os.path.join('../input/covid19-radiography-database/COVID-19_Radiography_Dataset/Lung_Opacity/images', filename)\n",
    "\n",
    "  \n",
    "    # destination path to image\n",
    "    dst = os.path.join(test_dir, label, filename)\n",
    "    \n",
    "    # copy the image from the source to the destination\n",
    "    shutil.copyfile(src, dst)"
   ]
  },
  {
   "cell_type": "code",
   "execution_count": 12,
   "id": "9b5e7658",
   "metadata": {
    "execution": {
     "iopub.execute_input": "2022-08-03T19:51:50.685773Z",
     "iopub.status.busy": "2022-08-03T19:51:50.685449Z",
     "iopub.status.idle": "2022-08-03T19:51:50.701460Z",
     "shell.execute_reply": "2022-08-03T19:51:50.699791Z"
    },
    "papermill": {
     "duration": 0.026506,
     "end_time": "2022-08-03T19:51:50.703578",
     "exception": false,
     "start_time": "2022-08-03T19:51:50.677072",
     "status": "completed"
    },
    "tags": []
   },
   "outputs": [
    {
     "name": "stdout",
     "output_type": "stream",
     "text": [
      "2929\n",
      "7521\n",
      "1089\n",
      "4870\n"
     ]
    }
   ],
   "source": [
    "print(len(os.listdir('base_dir/train_dir/covid')))\n",
    "print(len(os.listdir('base_dir/train_dir/normal')))\n",
    "print(len(os.listdir('base_dir/train_dir/viral pneumonia')))\n",
    "print(len(os.listdir('base_dir/train_dir/lung opacity')))"
   ]
  },
  {
   "cell_type": "code",
   "execution_count": 13,
   "id": "e62b16dd",
   "metadata": {
    "execution": {
     "iopub.execute_input": "2022-08-03T19:51:50.719511Z",
     "iopub.status.busy": "2022-08-03T19:51:50.719235Z",
     "iopub.status.idle": "2022-08-03T19:51:50.726656Z",
     "shell.execute_reply": "2022-08-03T19:51:50.725291Z"
    },
    "papermill": {
     "duration": 0.018664,
     "end_time": "2022-08-03T19:51:50.729620",
     "exception": false,
     "start_time": "2022-08-03T19:51:50.710956",
     "status": "completed"
    },
    "tags": []
   },
   "outputs": [
    {
     "name": "stdout",
     "output_type": "stream",
     "text": [
      "1824\n"
     ]
    }
   ],
   "source": [
    "print(len(os.listdir('base_dir/val_dir/covid')) + len(os.listdir('base_dir/val_dir/normal')) + len(os.listdir('base_dir/val_dir/viral pneumonia')) + len(os.listdir('base_dir/val_dir/lung opacity')))"
   ]
  },
  {
   "cell_type": "code",
   "execution_count": 14,
   "id": "1f7299fc",
   "metadata": {
    "execution": {
     "iopub.execute_input": "2022-08-03T19:51:50.746380Z",
     "iopub.status.busy": "2022-08-03T19:51:50.746041Z",
     "iopub.status.idle": "2022-08-03T19:51:50.753845Z",
     "shell.execute_reply": "2022-08-03T19:51:50.752797Z"
    },
    "papermill": {
     "duration": 0.018587,
     "end_time": "2022-08-03T19:51:50.756414",
     "exception": false,
     "start_time": "2022-08-03T19:51:50.737827",
     "status": "completed"
    },
    "tags": []
   },
   "outputs": [
    {
     "name": "stdout",
     "output_type": "stream",
     "text": [
      "2015\n"
     ]
    }
   ],
   "source": [
    "print(len(os.listdir('base_dir/test_dir/covid')) + len(os.listdir('base_dir/test_dir/normal')) + len(os.listdir('base_dir/test_dir/viral pneumonia')) + len(os.listdir('base_dir/test_dir/lung opacity')))"
   ]
  },
  {
   "cell_type": "code",
   "execution_count": 15,
   "id": "bcf37eca",
   "metadata": {
    "execution": {
     "iopub.execute_input": "2022-08-03T19:51:50.773839Z",
     "iopub.status.busy": "2022-08-03T19:51:50.772881Z",
     "iopub.status.idle": "2022-08-03T19:51:50.777866Z",
     "shell.execute_reply": "2022-08-03T19:51:50.776999Z"
    },
    "papermill": {
     "duration": 0.015371,
     "end_time": "2022-08-03T19:51:50.779914",
     "exception": false,
     "start_time": "2022-08-03T19:51:50.764543",
     "status": "completed"
    },
    "tags": []
   },
   "outputs": [],
   "source": [
    "IMG_SIZE = (224 , 224)\n",
    "train_directory = \"base_dir/train_dir\"\n",
    "val_directory = \"base_dir/val_dir\"\n",
    "test_directory = \"base_dir/test_dir\""
   ]
  },
  {
   "cell_type": "code",
   "execution_count": 16,
   "id": "818e2ece",
   "metadata": {
    "execution": {
     "iopub.execute_input": "2022-08-03T19:51:50.795718Z",
     "iopub.status.busy": "2022-08-03T19:51:50.795454Z",
     "iopub.status.idle": "2022-08-03T19:51:51.747707Z",
     "shell.execute_reply": "2022-08-03T19:51:51.746677Z"
    },
    "papermill": {
     "duration": 0.963263,
     "end_time": "2022-08-03T19:51:51.750548",
     "exception": false,
     "start_time": "2022-08-03T19:51:50.787285",
     "status": "completed"
    },
    "tags": []
   },
   "outputs": [
    {
     "name": "stdout",
     "output_type": "stream",
     "text": [
      "Found 16409 images belonging to 4 classes.\n",
      "Found 1824 images belonging to 4 classes.\n",
      "Found 2015 images belonging to 4 classes.\n"
     ]
    }
   ],
   "source": [
    "train_datagen = ImageDataGenerator(rescale=1./255)\n",
    "test_datagen = ImageDataGenerator(rescale=1./255)\n",
    "train_generator = train_datagen.flow_from_directory(\n",
    "        train_directory,\n",
    "        target_size=IMG_SIZE,\n",
    "        batch_size=8,\n",
    "        class_mode='categorical')\n",
    "validation_generator = test_datagen.flow_from_directory(\n",
    "        val_directory,\n",
    "        target_size=IMG_SIZE,\n",
    "        batch_size=8,\n",
    "        shuffle=False,\n",
    "        class_mode='categorical')\n",
    "test_generator = test_datagen.flow_from_directory(\n",
    "        test_directory,\n",
    "        target_size=IMG_SIZE,\n",
    "        batch_size=8,\n",
    "        shuffle=False,\n",
    "        class_mode='categorical')"
   ]
  },
  {
   "cell_type": "code",
   "execution_count": 17,
   "id": "62868348",
   "metadata": {
    "execution": {
     "iopub.execute_input": "2022-08-03T19:51:51.769859Z",
     "iopub.status.busy": "2022-08-03T19:51:51.768231Z",
     "iopub.status.idle": "2022-08-03T19:51:56.319049Z",
     "shell.execute_reply": "2022-08-03T19:51:56.317896Z"
    },
    "papermill": {
     "duration": 4.56221,
     "end_time": "2022-08-03T19:51:56.321800",
     "exception": false,
     "start_time": "2022-08-03T19:51:51.759590",
     "status": "completed"
    },
    "tags": []
   },
   "outputs": [
    {
     "name": "stderr",
     "output_type": "stream",
     "text": [
      "2022-08-03 19:51:52.151266: I tensorflow/stream_executor/cuda/cuda_gpu_executor.cc:937] successful NUMA node read from SysFS had negative value (-1), but there must be at least one NUMA node, so returning NUMA node zero\n",
      "2022-08-03 19:51:52.237479: I tensorflow/stream_executor/cuda/cuda_gpu_executor.cc:937] successful NUMA node read from SysFS had negative value (-1), but there must be at least one NUMA node, so returning NUMA node zero\n",
      "2022-08-03 19:51:52.238334: I tensorflow/stream_executor/cuda/cuda_gpu_executor.cc:937] successful NUMA node read from SysFS had negative value (-1), but there must be at least one NUMA node, so returning NUMA node zero\n",
      "2022-08-03 19:51:52.239690: I tensorflow/core/platform/cpu_feature_guard.cc:142] This TensorFlow binary is optimized with oneAPI Deep Neural Network Library (oneDNN) to use the following CPU instructions in performance-critical operations:  AVX2 AVX512F FMA\n",
      "To enable them in other operations, rebuild TensorFlow with the appropriate compiler flags.\n",
      "2022-08-03 19:51:52.239989: I tensorflow/stream_executor/cuda/cuda_gpu_executor.cc:937] successful NUMA node read from SysFS had negative value (-1), but there must be at least one NUMA node, so returning NUMA node zero\n",
      "2022-08-03 19:51:52.240724: I tensorflow/stream_executor/cuda/cuda_gpu_executor.cc:937] successful NUMA node read from SysFS had negative value (-1), but there must be at least one NUMA node, so returning NUMA node zero\n",
      "2022-08-03 19:51:52.241486: I tensorflow/stream_executor/cuda/cuda_gpu_executor.cc:937] successful NUMA node read from SysFS had negative value (-1), but there must be at least one NUMA node, so returning NUMA node zero\n",
      "2022-08-03 19:51:54.219802: I tensorflow/stream_executor/cuda/cuda_gpu_executor.cc:937] successful NUMA node read from SysFS had negative value (-1), but there must be at least one NUMA node, so returning NUMA node zero\n",
      "2022-08-03 19:51:54.220941: I tensorflow/stream_executor/cuda/cuda_gpu_executor.cc:937] successful NUMA node read from SysFS had negative value (-1), but there must be at least one NUMA node, so returning NUMA node zero\n",
      "2022-08-03 19:51:54.221997: I tensorflow/stream_executor/cuda/cuda_gpu_executor.cc:937] successful NUMA node read from SysFS had negative value (-1), but there must be at least one NUMA node, so returning NUMA node zero\n",
      "2022-08-03 19:51:54.223007: I tensorflow/core/common_runtime/gpu/gpu_device.cc:1510] Created device /job:localhost/replica:0/task:0/device:GPU:0 with 15403 MB memory:  -> device: 0, name: Tesla P100-PCIE-16GB, pci bus id: 0000:00:04.0, compute capability: 6.0\n"
     ]
    },
    {
     "name": "stdout",
     "output_type": "stream",
     "text": [
      "Downloading data from https://storage.googleapis.com/tensorflow/keras-applications/mobilenet_v2/mobilenet_v2_weights_tf_dim_ordering_tf_kernels_1.0_224_no_top.h5\n",
      "9412608/9406464 [==============================] - 0s 0us/step\n",
      "9420800/9406464 [==============================] - 0s 0us/step\n"
     ]
    }
   ],
   "source": [
    "import tensorflow_hub as hub\n",
    "mobile_net_layers = tf.keras.applications.mobilenet_v2.MobileNetV2(input_shape=(224,224,3), include_top=False, weights='imagenet')"
   ]
  },
  {
   "cell_type": "code",
   "execution_count": 18,
   "id": "374422c4",
   "metadata": {
    "execution": {
     "iopub.execute_input": "2022-08-03T19:51:56.342314Z",
     "iopub.status.busy": "2022-08-03T19:51:56.340433Z",
     "iopub.status.idle": "2022-08-03T19:51:56.366988Z",
     "shell.execute_reply": "2022-08-03T19:51:56.365848Z"
    },
    "papermill": {
     "duration": 0.045624,
     "end_time": "2022-08-03T19:51:56.376202",
     "exception": false,
     "start_time": "2022-08-03T19:51:56.330578",
     "status": "completed"
    },
    "tags": []
   },
   "outputs": [
    {
     "name": "stdout",
     "output_type": "stream",
     "text": [
      "Model: \"mobilenetv2_1.00_224\"\n",
      "__________________________________________________________________________________________________\n",
      "Layer (type)                    Output Shape         Param #     Connected to                     \n",
      "==================================================================================================\n",
      "input_1 (InputLayer)            [(None, 224, 224, 3) 0                                            \n",
      "__________________________________________________________________________________________________\n",
      "Conv1 (Conv2D)                  (None, 112, 112, 32) 864         input_1[0][0]                    \n",
      "__________________________________________________________________________________________________\n",
      "bn_Conv1 (BatchNormalization)   (None, 112, 112, 32) 128         Conv1[0][0]                      \n",
      "__________________________________________________________________________________________________\n",
      "Conv1_relu (ReLU)               (None, 112, 112, 32) 0           bn_Conv1[0][0]                   \n",
      "__________________________________________________________________________________________________\n",
      "expanded_conv_depthwise (Depthw (None, 112, 112, 32) 288         Conv1_relu[0][0]                 \n",
      "__________________________________________________________________________________________________\n",
      "expanded_conv_depthwise_BN (Bat (None, 112, 112, 32) 128         expanded_conv_depthwise[0][0]    \n",
      "__________________________________________________________________________________________________\n",
      "expanded_conv_depthwise_relu (R (None, 112, 112, 32) 0           expanded_conv_depthwise_BN[0][0] \n",
      "__________________________________________________________________________________________________\n",
      "expanded_conv_project (Conv2D)  (None, 112, 112, 16) 512         expanded_conv_depthwise_relu[0][0\n",
      "__________________________________________________________________________________________________\n",
      "expanded_conv_project_BN (Batch (None, 112, 112, 16) 64          expanded_conv_project[0][0]      \n",
      "__________________________________________________________________________________________________\n",
      "block_1_expand (Conv2D)         (None, 112, 112, 96) 1536        expanded_conv_project_BN[0][0]   \n",
      "__________________________________________________________________________________________________\n",
      "block_1_expand_BN (BatchNormali (None, 112, 112, 96) 384         block_1_expand[0][0]             \n",
      "__________________________________________________________________________________________________\n",
      "block_1_expand_relu (ReLU)      (None, 112, 112, 96) 0           block_1_expand_BN[0][0]          \n",
      "__________________________________________________________________________________________________\n",
      "block_1_pad (ZeroPadding2D)     (None, 113, 113, 96) 0           block_1_expand_relu[0][0]        \n",
      "__________________________________________________________________________________________________\n",
      "block_1_depthwise (DepthwiseCon (None, 56, 56, 96)   864         block_1_pad[0][0]                \n",
      "__________________________________________________________________________________________________\n",
      "block_1_depthwise_BN (BatchNorm (None, 56, 56, 96)   384         block_1_depthwise[0][0]          \n",
      "__________________________________________________________________________________________________\n",
      "block_1_depthwise_relu (ReLU)   (None, 56, 56, 96)   0           block_1_depthwise_BN[0][0]       \n",
      "__________________________________________________________________________________________________\n",
      "block_1_project (Conv2D)        (None, 56, 56, 24)   2304        block_1_depthwise_relu[0][0]     \n",
      "__________________________________________________________________________________________________\n",
      "block_1_project_BN (BatchNormal (None, 56, 56, 24)   96          block_1_project[0][0]            \n",
      "__________________________________________________________________________________________________\n",
      "block_2_expand (Conv2D)         (None, 56, 56, 144)  3456        block_1_project_BN[0][0]         \n",
      "__________________________________________________________________________________________________\n",
      "block_2_expand_BN (BatchNormali (None, 56, 56, 144)  576         block_2_expand[0][0]             \n",
      "__________________________________________________________________________________________________\n",
      "block_2_expand_relu (ReLU)      (None, 56, 56, 144)  0           block_2_expand_BN[0][0]          \n",
      "__________________________________________________________________________________________________\n",
      "block_2_depthwise (DepthwiseCon (None, 56, 56, 144)  1296        block_2_expand_relu[0][0]        \n",
      "__________________________________________________________________________________________________\n",
      "block_2_depthwise_BN (BatchNorm (None, 56, 56, 144)  576         block_2_depthwise[0][0]          \n",
      "__________________________________________________________________________________________________\n",
      "block_2_depthwise_relu (ReLU)   (None, 56, 56, 144)  0           block_2_depthwise_BN[0][0]       \n",
      "__________________________________________________________________________________________________\n",
      "block_2_project (Conv2D)        (None, 56, 56, 24)   3456        block_2_depthwise_relu[0][0]     \n",
      "__________________________________________________________________________________________________\n",
      "block_2_project_BN (BatchNormal (None, 56, 56, 24)   96          block_2_project[0][0]            \n",
      "__________________________________________________________________________________________________\n",
      "block_2_add (Add)               (None, 56, 56, 24)   0           block_1_project_BN[0][0]         \n",
      "                                                                 block_2_project_BN[0][0]         \n",
      "__________________________________________________________________________________________________\n",
      "block_3_expand (Conv2D)         (None, 56, 56, 144)  3456        block_2_add[0][0]                \n",
      "__________________________________________________________________________________________________\n",
      "block_3_expand_BN (BatchNormali (None, 56, 56, 144)  576         block_3_expand[0][0]             \n",
      "__________________________________________________________________________________________________\n",
      "block_3_expand_relu (ReLU)      (None, 56, 56, 144)  0           block_3_expand_BN[0][0]          \n",
      "__________________________________________________________________________________________________\n",
      "block_3_pad (ZeroPadding2D)     (None, 57, 57, 144)  0           block_3_expand_relu[0][0]        \n",
      "__________________________________________________________________________________________________\n",
      "block_3_depthwise (DepthwiseCon (None, 28, 28, 144)  1296        block_3_pad[0][0]                \n",
      "__________________________________________________________________________________________________\n",
      "block_3_depthwise_BN (BatchNorm (None, 28, 28, 144)  576         block_3_depthwise[0][0]          \n",
      "__________________________________________________________________________________________________\n",
      "block_3_depthwise_relu (ReLU)   (None, 28, 28, 144)  0           block_3_depthwise_BN[0][0]       \n",
      "__________________________________________________________________________________________________\n",
      "block_3_project (Conv2D)        (None, 28, 28, 32)   4608        block_3_depthwise_relu[0][0]     \n",
      "__________________________________________________________________________________________________\n",
      "block_3_project_BN (BatchNormal (None, 28, 28, 32)   128         block_3_project[0][0]            \n",
      "__________________________________________________________________________________________________\n",
      "block_4_expand (Conv2D)         (None, 28, 28, 192)  6144        block_3_project_BN[0][0]         \n",
      "__________________________________________________________________________________________________\n",
      "block_4_expand_BN (BatchNormali (None, 28, 28, 192)  768         block_4_expand[0][0]             \n",
      "__________________________________________________________________________________________________\n",
      "block_4_expand_relu (ReLU)      (None, 28, 28, 192)  0           block_4_expand_BN[0][0]          \n",
      "__________________________________________________________________________________________________\n",
      "block_4_depthwise (DepthwiseCon (None, 28, 28, 192)  1728        block_4_expand_relu[0][0]        \n",
      "__________________________________________________________________________________________________\n",
      "block_4_depthwise_BN (BatchNorm (None, 28, 28, 192)  768         block_4_depthwise[0][0]          \n",
      "__________________________________________________________________________________________________\n",
      "block_4_depthwise_relu (ReLU)   (None, 28, 28, 192)  0           block_4_depthwise_BN[0][0]       \n",
      "__________________________________________________________________________________________________\n",
      "block_4_project (Conv2D)        (None, 28, 28, 32)   6144        block_4_depthwise_relu[0][0]     \n",
      "__________________________________________________________________________________________________\n",
      "block_4_project_BN (BatchNormal (None, 28, 28, 32)   128         block_4_project[0][0]            \n",
      "__________________________________________________________________________________________________\n",
      "block_4_add (Add)               (None, 28, 28, 32)   0           block_3_project_BN[0][0]         \n",
      "                                                                 block_4_project_BN[0][0]         \n",
      "__________________________________________________________________________________________________\n",
      "block_5_expand (Conv2D)         (None, 28, 28, 192)  6144        block_4_add[0][0]                \n",
      "__________________________________________________________________________________________________\n",
      "block_5_expand_BN (BatchNormali (None, 28, 28, 192)  768         block_5_expand[0][0]             \n",
      "__________________________________________________________________________________________________\n",
      "block_5_expand_relu (ReLU)      (None, 28, 28, 192)  0           block_5_expand_BN[0][0]          \n",
      "__________________________________________________________________________________________________\n",
      "block_5_depthwise (DepthwiseCon (None, 28, 28, 192)  1728        block_5_expand_relu[0][0]        \n",
      "__________________________________________________________________________________________________\n",
      "block_5_depthwise_BN (BatchNorm (None, 28, 28, 192)  768         block_5_depthwise[0][0]          \n",
      "__________________________________________________________________________________________________\n",
      "block_5_depthwise_relu (ReLU)   (None, 28, 28, 192)  0           block_5_depthwise_BN[0][0]       \n",
      "__________________________________________________________________________________________________\n",
      "block_5_project (Conv2D)        (None, 28, 28, 32)   6144        block_5_depthwise_relu[0][0]     \n",
      "__________________________________________________________________________________________________\n",
      "block_5_project_BN (BatchNormal (None, 28, 28, 32)   128         block_5_project[0][0]            \n",
      "__________________________________________________________________________________________________\n",
      "block_5_add (Add)               (None, 28, 28, 32)   0           block_4_add[0][0]                \n",
      "                                                                 block_5_project_BN[0][0]         \n",
      "__________________________________________________________________________________________________\n",
      "block_6_expand (Conv2D)         (None, 28, 28, 192)  6144        block_5_add[0][0]                \n",
      "__________________________________________________________________________________________________\n",
      "block_6_expand_BN (BatchNormali (None, 28, 28, 192)  768         block_6_expand[0][0]             \n",
      "__________________________________________________________________________________________________\n",
      "block_6_expand_relu (ReLU)      (None, 28, 28, 192)  0           block_6_expand_BN[0][0]          \n",
      "__________________________________________________________________________________________________\n",
      "block_6_pad (ZeroPadding2D)     (None, 29, 29, 192)  0           block_6_expand_relu[0][0]        \n",
      "__________________________________________________________________________________________________\n",
      "block_6_depthwise (DepthwiseCon (None, 14, 14, 192)  1728        block_6_pad[0][0]                \n",
      "__________________________________________________________________________________________________\n",
      "block_6_depthwise_BN (BatchNorm (None, 14, 14, 192)  768         block_6_depthwise[0][0]          \n",
      "__________________________________________________________________________________________________\n",
      "block_6_depthwise_relu (ReLU)   (None, 14, 14, 192)  0           block_6_depthwise_BN[0][0]       \n",
      "__________________________________________________________________________________________________\n",
      "block_6_project (Conv2D)        (None, 14, 14, 64)   12288       block_6_depthwise_relu[0][0]     \n",
      "__________________________________________________________________________________________________\n",
      "block_6_project_BN (BatchNormal (None, 14, 14, 64)   256         block_6_project[0][0]            \n",
      "__________________________________________________________________________________________________\n",
      "block_7_expand (Conv2D)         (None, 14, 14, 384)  24576       block_6_project_BN[0][0]         \n",
      "__________________________________________________________________________________________________\n",
      "block_7_expand_BN (BatchNormali (None, 14, 14, 384)  1536        block_7_expand[0][0]             \n",
      "__________________________________________________________________________________________________\n",
      "block_7_expand_relu (ReLU)      (None, 14, 14, 384)  0           block_7_expand_BN[0][0]          \n",
      "__________________________________________________________________________________________________\n",
      "block_7_depthwise (DepthwiseCon (None, 14, 14, 384)  3456        block_7_expand_relu[0][0]        \n",
      "__________________________________________________________________________________________________\n",
      "block_7_depthwise_BN (BatchNorm (None, 14, 14, 384)  1536        block_7_depthwise[0][0]          \n",
      "__________________________________________________________________________________________________\n",
      "block_7_depthwise_relu (ReLU)   (None, 14, 14, 384)  0           block_7_depthwise_BN[0][0]       \n",
      "__________________________________________________________________________________________________\n",
      "block_7_project (Conv2D)        (None, 14, 14, 64)   24576       block_7_depthwise_relu[0][0]     \n",
      "__________________________________________________________________________________________________\n",
      "block_7_project_BN (BatchNormal (None, 14, 14, 64)   256         block_7_project[0][0]            \n",
      "__________________________________________________________________________________________________\n",
      "block_7_add (Add)               (None, 14, 14, 64)   0           block_6_project_BN[0][0]         \n",
      "                                                                 block_7_project_BN[0][0]         \n",
      "__________________________________________________________________________________________________\n",
      "block_8_expand (Conv2D)         (None, 14, 14, 384)  24576       block_7_add[0][0]                \n",
      "__________________________________________________________________________________________________\n",
      "block_8_expand_BN (BatchNormali (None, 14, 14, 384)  1536        block_8_expand[0][0]             \n",
      "__________________________________________________________________________________________________\n",
      "block_8_expand_relu (ReLU)      (None, 14, 14, 384)  0           block_8_expand_BN[0][0]          \n",
      "__________________________________________________________________________________________________\n",
      "block_8_depthwise (DepthwiseCon (None, 14, 14, 384)  3456        block_8_expand_relu[0][0]        \n",
      "__________________________________________________________________________________________________\n",
      "block_8_depthwise_BN (BatchNorm (None, 14, 14, 384)  1536        block_8_depthwise[0][0]          \n",
      "__________________________________________________________________________________________________\n",
      "block_8_depthwise_relu (ReLU)   (None, 14, 14, 384)  0           block_8_depthwise_BN[0][0]       \n",
      "__________________________________________________________________________________________________\n",
      "block_8_project (Conv2D)        (None, 14, 14, 64)   24576       block_8_depthwise_relu[0][0]     \n",
      "__________________________________________________________________________________________________\n",
      "block_8_project_BN (BatchNormal (None, 14, 14, 64)   256         block_8_project[0][0]            \n",
      "__________________________________________________________________________________________________\n",
      "block_8_add (Add)               (None, 14, 14, 64)   0           block_7_add[0][0]                \n",
      "                                                                 block_8_project_BN[0][0]         \n",
      "__________________________________________________________________________________________________\n",
      "block_9_expand (Conv2D)         (None, 14, 14, 384)  24576       block_8_add[0][0]                \n",
      "__________________________________________________________________________________________________\n",
      "block_9_expand_BN (BatchNormali (None, 14, 14, 384)  1536        block_9_expand[0][0]             \n",
      "__________________________________________________________________________________________________\n",
      "block_9_expand_relu (ReLU)      (None, 14, 14, 384)  0           block_9_expand_BN[0][0]          \n",
      "__________________________________________________________________________________________________\n",
      "block_9_depthwise (DepthwiseCon (None, 14, 14, 384)  3456        block_9_expand_relu[0][0]        \n",
      "__________________________________________________________________________________________________\n",
      "block_9_depthwise_BN (BatchNorm (None, 14, 14, 384)  1536        block_9_depthwise[0][0]          \n",
      "__________________________________________________________________________________________________\n",
      "block_9_depthwise_relu (ReLU)   (None, 14, 14, 384)  0           block_9_depthwise_BN[0][0]       \n",
      "__________________________________________________________________________________________________\n",
      "block_9_project (Conv2D)        (None, 14, 14, 64)   24576       block_9_depthwise_relu[0][0]     \n",
      "__________________________________________________________________________________________________\n",
      "block_9_project_BN (BatchNormal (None, 14, 14, 64)   256         block_9_project[0][0]            \n",
      "__________________________________________________________________________________________________\n",
      "block_9_add (Add)               (None, 14, 14, 64)   0           block_8_add[0][0]                \n",
      "                                                                 block_9_project_BN[0][0]         \n",
      "__________________________________________________________________________________________________\n",
      "block_10_expand (Conv2D)        (None, 14, 14, 384)  24576       block_9_add[0][0]                \n",
      "__________________________________________________________________________________________________\n",
      "block_10_expand_BN (BatchNormal (None, 14, 14, 384)  1536        block_10_expand[0][0]            \n",
      "__________________________________________________________________________________________________\n",
      "block_10_expand_relu (ReLU)     (None, 14, 14, 384)  0           block_10_expand_BN[0][0]         \n",
      "__________________________________________________________________________________________________\n",
      "block_10_depthwise (DepthwiseCo (None, 14, 14, 384)  3456        block_10_expand_relu[0][0]       \n",
      "__________________________________________________________________________________________________\n",
      "block_10_depthwise_BN (BatchNor (None, 14, 14, 384)  1536        block_10_depthwise[0][0]         \n",
      "__________________________________________________________________________________________________\n",
      "block_10_depthwise_relu (ReLU)  (None, 14, 14, 384)  0           block_10_depthwise_BN[0][0]      \n",
      "__________________________________________________________________________________________________\n",
      "block_10_project (Conv2D)       (None, 14, 14, 96)   36864       block_10_depthwise_relu[0][0]    \n",
      "__________________________________________________________________________________________________\n",
      "block_10_project_BN (BatchNorma (None, 14, 14, 96)   384         block_10_project[0][0]           \n",
      "__________________________________________________________________________________________________\n",
      "block_11_expand (Conv2D)        (None, 14, 14, 576)  55296       block_10_project_BN[0][0]        \n",
      "__________________________________________________________________________________________________\n",
      "block_11_expand_BN (BatchNormal (None, 14, 14, 576)  2304        block_11_expand[0][0]            \n",
      "__________________________________________________________________________________________________\n",
      "block_11_expand_relu (ReLU)     (None, 14, 14, 576)  0           block_11_expand_BN[0][0]         \n",
      "__________________________________________________________________________________________________\n",
      "block_11_depthwise (DepthwiseCo (None, 14, 14, 576)  5184        block_11_expand_relu[0][0]       \n",
      "__________________________________________________________________________________________________\n",
      "block_11_depthwise_BN (BatchNor (None, 14, 14, 576)  2304        block_11_depthwise[0][0]         \n",
      "__________________________________________________________________________________________________\n",
      "block_11_depthwise_relu (ReLU)  (None, 14, 14, 576)  0           block_11_depthwise_BN[0][0]      \n",
      "__________________________________________________________________________________________________\n",
      "block_11_project (Conv2D)       (None, 14, 14, 96)   55296       block_11_depthwise_relu[0][0]    \n",
      "__________________________________________________________________________________________________\n",
      "block_11_project_BN (BatchNorma (None, 14, 14, 96)   384         block_11_project[0][0]           \n",
      "__________________________________________________________________________________________________\n",
      "block_11_add (Add)              (None, 14, 14, 96)   0           block_10_project_BN[0][0]        \n",
      "                                                                 block_11_project_BN[0][0]        \n",
      "__________________________________________________________________________________________________\n",
      "block_12_expand (Conv2D)        (None, 14, 14, 576)  55296       block_11_add[0][0]               \n",
      "__________________________________________________________________________________________________\n",
      "block_12_expand_BN (BatchNormal (None, 14, 14, 576)  2304        block_12_expand[0][0]            \n",
      "__________________________________________________________________________________________________\n",
      "block_12_expand_relu (ReLU)     (None, 14, 14, 576)  0           block_12_expand_BN[0][0]         \n",
      "__________________________________________________________________________________________________\n",
      "block_12_depthwise (DepthwiseCo (None, 14, 14, 576)  5184        block_12_expand_relu[0][0]       \n",
      "__________________________________________________________________________________________________\n",
      "block_12_depthwise_BN (BatchNor (None, 14, 14, 576)  2304        block_12_depthwise[0][0]         \n",
      "__________________________________________________________________________________________________\n",
      "block_12_depthwise_relu (ReLU)  (None, 14, 14, 576)  0           block_12_depthwise_BN[0][0]      \n",
      "__________________________________________________________________________________________________\n",
      "block_12_project (Conv2D)       (None, 14, 14, 96)   55296       block_12_depthwise_relu[0][0]    \n",
      "__________________________________________________________________________________________________\n",
      "block_12_project_BN (BatchNorma (None, 14, 14, 96)   384         block_12_project[0][0]           \n",
      "__________________________________________________________________________________________________\n",
      "block_12_add (Add)              (None, 14, 14, 96)   0           block_11_add[0][0]               \n",
      "                                                                 block_12_project_BN[0][0]        \n",
      "__________________________________________________________________________________________________\n",
      "block_13_expand (Conv2D)        (None, 14, 14, 576)  55296       block_12_add[0][0]               \n",
      "__________________________________________________________________________________________________\n",
      "block_13_expand_BN (BatchNormal (None, 14, 14, 576)  2304        block_13_expand[0][0]            \n",
      "__________________________________________________________________________________________________\n",
      "block_13_expand_relu (ReLU)     (None, 14, 14, 576)  0           block_13_expand_BN[0][0]         \n",
      "__________________________________________________________________________________________________\n",
      "block_13_pad (ZeroPadding2D)    (None, 15, 15, 576)  0           block_13_expand_relu[0][0]       \n",
      "__________________________________________________________________________________________________\n",
      "block_13_depthwise (DepthwiseCo (None, 7, 7, 576)    5184        block_13_pad[0][0]               \n",
      "__________________________________________________________________________________________________\n",
      "block_13_depthwise_BN (BatchNor (None, 7, 7, 576)    2304        block_13_depthwise[0][0]         \n",
      "__________________________________________________________________________________________________\n",
      "block_13_depthwise_relu (ReLU)  (None, 7, 7, 576)    0           block_13_depthwise_BN[0][0]      \n",
      "__________________________________________________________________________________________________\n",
      "block_13_project (Conv2D)       (None, 7, 7, 160)    92160       block_13_depthwise_relu[0][0]    \n",
      "__________________________________________________________________________________________________\n",
      "block_13_project_BN (BatchNorma (None, 7, 7, 160)    640         block_13_project[0][0]           \n",
      "__________________________________________________________________________________________________\n",
      "block_14_expand (Conv2D)        (None, 7, 7, 960)    153600      block_13_project_BN[0][0]        \n",
      "__________________________________________________________________________________________________\n",
      "block_14_expand_BN (BatchNormal (None, 7, 7, 960)    3840        block_14_expand[0][0]            \n",
      "__________________________________________________________________________________________________\n",
      "block_14_expand_relu (ReLU)     (None, 7, 7, 960)    0           block_14_expand_BN[0][0]         \n",
      "__________________________________________________________________________________________________\n",
      "block_14_depthwise (DepthwiseCo (None, 7, 7, 960)    8640        block_14_expand_relu[0][0]       \n",
      "__________________________________________________________________________________________________\n",
      "block_14_depthwise_BN (BatchNor (None, 7, 7, 960)    3840        block_14_depthwise[0][0]         \n",
      "__________________________________________________________________________________________________\n",
      "block_14_depthwise_relu (ReLU)  (None, 7, 7, 960)    0           block_14_depthwise_BN[0][0]      \n",
      "__________________________________________________________________________________________________\n",
      "block_14_project (Conv2D)       (None, 7, 7, 160)    153600      block_14_depthwise_relu[0][0]    \n",
      "__________________________________________________________________________________________________\n",
      "block_14_project_BN (BatchNorma (None, 7, 7, 160)    640         block_14_project[0][0]           \n",
      "__________________________________________________________________________________________________\n",
      "block_14_add (Add)              (None, 7, 7, 160)    0           block_13_project_BN[0][0]        \n",
      "                                                                 block_14_project_BN[0][0]        \n",
      "__________________________________________________________________________________________________\n",
      "block_15_expand (Conv2D)        (None, 7, 7, 960)    153600      block_14_add[0][0]               \n",
      "__________________________________________________________________________________________________\n",
      "block_15_expand_BN (BatchNormal (None, 7, 7, 960)    3840        block_15_expand[0][0]            \n",
      "__________________________________________________________________________________________________\n",
      "block_15_expand_relu (ReLU)     (None, 7, 7, 960)    0           block_15_expand_BN[0][0]         \n",
      "__________________________________________________________________________________________________\n",
      "block_15_depthwise (DepthwiseCo (None, 7, 7, 960)    8640        block_15_expand_relu[0][0]       \n",
      "__________________________________________________________________________________________________\n",
      "block_15_depthwise_BN (BatchNor (None, 7, 7, 960)    3840        block_15_depthwise[0][0]         \n",
      "__________________________________________________________________________________________________\n",
      "block_15_depthwise_relu (ReLU)  (None, 7, 7, 960)    0           block_15_depthwise_BN[0][0]      \n",
      "__________________________________________________________________________________________________\n",
      "block_15_project (Conv2D)       (None, 7, 7, 160)    153600      block_15_depthwise_relu[0][0]    \n",
      "__________________________________________________________________________________________________\n",
      "block_15_project_BN (BatchNorma (None, 7, 7, 160)    640         block_15_project[0][0]           \n",
      "__________________________________________________________________________________________________\n",
      "block_15_add (Add)              (None, 7, 7, 160)    0           block_14_add[0][0]               \n",
      "                                                                 block_15_project_BN[0][0]        \n",
      "__________________________________________________________________________________________________\n",
      "block_16_expand (Conv2D)        (None, 7, 7, 960)    153600      block_15_add[0][0]               \n",
      "__________________________________________________________________________________________________\n",
      "block_16_expand_BN (BatchNormal (None, 7, 7, 960)    3840        block_16_expand[0][0]            \n",
      "__________________________________________________________________________________________________\n",
      "block_16_expand_relu (ReLU)     (None, 7, 7, 960)    0           block_16_expand_BN[0][0]         \n",
      "__________________________________________________________________________________________________\n",
      "block_16_depthwise (DepthwiseCo (None, 7, 7, 960)    8640        block_16_expand_relu[0][0]       \n",
      "__________________________________________________________________________________________________\n",
      "block_16_depthwise_BN (BatchNor (None, 7, 7, 960)    3840        block_16_depthwise[0][0]         \n",
      "__________________________________________________________________________________________________\n",
      "block_16_depthwise_relu (ReLU)  (None, 7, 7, 960)    0           block_16_depthwise_BN[0][0]      \n",
      "__________________________________________________________________________________________________\n",
      "block_16_project (Conv2D)       (None, 7, 7, 320)    307200      block_16_depthwise_relu[0][0]    \n",
      "__________________________________________________________________________________________________\n",
      "block_16_project_BN (BatchNorma (None, 7, 7, 320)    1280        block_16_project[0][0]           \n",
      "__________________________________________________________________________________________________\n",
      "Conv_1 (Conv2D)                 (None, 7, 7, 1280)   409600      block_16_project_BN[0][0]        \n",
      "__________________________________________________________________________________________________\n",
      "Conv_1_bn (BatchNormalization)  (None, 7, 7, 1280)   5120        Conv_1[0][0]                     \n",
      "__________________________________________________________________________________________________\n",
      "out_relu (ReLU)                 (None, 7, 7, 1280)   0           Conv_1_bn[0][0]                  \n",
      "==================================================================================================\n",
      "Total params: 2,257,984\n",
      "Trainable params: 2,223,872\n",
      "Non-trainable params: 34,112\n",
      "__________________________________________________________________________________________________\n"
     ]
    }
   ],
   "source": [
    "mobile_net_layers.summary()"
   ]
  },
  {
   "cell_type": "code",
   "execution_count": 19,
   "id": "9efb2aa1",
   "metadata": {
    "execution": {
     "iopub.execute_input": "2022-08-03T19:51:56.396083Z",
     "iopub.status.busy": "2022-08-03T19:51:56.395759Z",
     "iopub.status.idle": "2022-08-03T19:51:56.401624Z",
     "shell.execute_reply": "2022-08-03T19:51:56.400395Z"
    },
    "papermill": {
     "duration": 0.019822,
     "end_time": "2022-08-03T19:51:56.405413",
     "exception": false,
     "start_time": "2022-08-03T19:51:56.385591",
     "status": "completed"
    },
    "tags": []
   },
   "outputs": [
    {
     "name": "stdout",
     "output_type": "stream",
     "text": [
      "Number of layers in the base model:  154\n"
     ]
    }
   ],
   "source": [
    "print(\"Number of layers in the base model: \", len(mobile_net_layers.layers))"
   ]
  },
  {
   "cell_type": "code",
   "execution_count": 20,
   "id": "65aaac4b",
   "metadata": {
    "execution": {
     "iopub.execute_input": "2022-08-03T19:51:56.426096Z",
     "iopub.status.busy": "2022-08-03T19:51:56.425462Z",
     "iopub.status.idle": "2022-08-03T19:51:56.433507Z",
     "shell.execute_reply": "2022-08-03T19:51:56.431916Z"
    },
    "papermill": {
     "duration": 0.021048,
     "end_time": "2022-08-03T19:51:56.436241",
     "exception": false,
     "start_time": "2022-08-03T19:51:56.415193",
     "status": "completed"
    },
    "tags": []
   },
   "outputs": [],
   "source": [
    "fine_tune_at = 77\n",
    "\n",
    "for layer in mobile_net_layers.layers[:fine_tune_at]:\n",
    "    layer.trainable =  False"
   ]
  },
  {
   "cell_type": "code",
   "execution_count": 21,
   "id": "ac3e5442",
   "metadata": {
    "execution": {
     "iopub.execute_input": "2022-08-03T19:51:56.455803Z",
     "iopub.status.busy": "2022-08-03T19:51:56.455531Z",
     "iopub.status.idle": "2022-08-03T19:51:56.833629Z",
     "shell.execute_reply": "2022-08-03T19:51:56.832498Z"
    },
    "papermill": {
     "duration": 0.39072,
     "end_time": "2022-08-03T19:51:56.836097",
     "exception": false,
     "start_time": "2022-08-03T19:51:56.445377",
     "status": "completed"
    },
    "tags": []
   },
   "outputs": [],
   "source": [
    "model1 = tf.keras.Sequential([\n",
    "  mobile_net_layers,\n",
    "  tf.keras.layers.GlobalMaxPool2D(),\n",
    "  tf.keras.layers.Flatten(),\n",
    "  tf.keras.layers.Dense(4,activation='softmax')  \n",
    "])"
   ]
  },
  {
   "cell_type": "code",
   "execution_count": 22,
   "id": "f23165ed",
   "metadata": {
    "execution": {
     "iopub.execute_input": "2022-08-03T19:51:56.856997Z",
     "iopub.status.busy": "2022-08-03T19:51:56.856291Z",
     "iopub.status.idle": "2022-08-03T19:51:56.872031Z",
     "shell.execute_reply": "2022-08-03T19:51:56.870649Z"
    },
    "papermill": {
     "duration": 0.029127,
     "end_time": "2022-08-03T19:51:56.874960",
     "exception": false,
     "start_time": "2022-08-03T19:51:56.845833",
     "status": "completed"
    },
    "tags": []
   },
   "outputs": [
    {
     "name": "stdout",
     "output_type": "stream",
     "text": [
      "Model: \"sequential\"\n",
      "_________________________________________________________________\n",
      "Layer (type)                 Output Shape              Param #   \n",
      "=================================================================\n",
      "mobilenetv2_1.00_224 (Functi (None, 7, 7, 1280)        2257984   \n",
      "_________________________________________________________________\n",
      "global_max_pooling2d (Global (None, 1280)              0         \n",
      "_________________________________________________________________\n",
      "flatten (Flatten)            (None, 1280)              0         \n",
      "_________________________________________________________________\n",
      "dense (Dense)                (None, 4)                 5124      \n",
      "=================================================================\n",
      "Total params: 2,263,108\n",
      "Trainable params: 2,068,612\n",
      "Non-trainable params: 194,496\n",
      "_________________________________________________________________\n"
     ]
    }
   ],
   "source": [
    "model1.summary()"
   ]
  },
  {
   "cell_type": "code",
   "execution_count": 23,
   "id": "74dc7a0f",
   "metadata": {
    "execution": {
     "iopub.execute_input": "2022-08-03T19:51:56.894352Z",
     "iopub.status.busy": "2022-08-03T19:51:56.894004Z",
     "iopub.status.idle": "2022-08-03T19:51:56.900834Z",
     "shell.execute_reply": "2022-08-03T19:51:56.899580Z"
    },
    "papermill": {
     "duration": 0.019044,
     "end_time": "2022-08-03T19:51:56.903285",
     "exception": false,
     "start_time": "2022-08-03T19:51:56.884241",
     "status": "completed"
    },
    "tags": []
   },
   "outputs": [],
   "source": [
    "from keras import backend as K\n",
    "def f1SCORE(y_true, y_pred): #taken from old keras source code\n",
    "    true_positives = K.sum(K.round(K.clip(y_true * y_pred, 0, 1)))\n",
    "    possible_positives = K.sum(K.round(K.clip(y_true, 0, 1)))\n",
    "    predicted_positives = K.sum(K.round(K.clip(y_pred, 0, 1)))\n",
    "    precision = true_positives / (predicted_positives + K.epsilon())\n",
    "    recall = true_positives / (possible_positives + K.epsilon())\n",
    "    f1_val = 2*(precision*recall)/(precision+recall+K.epsilon())\n",
    "    return f1_val"
   ]
  },
  {
   "cell_type": "code",
   "execution_count": 24,
   "id": "bea867e3",
   "metadata": {
    "execution": {
     "iopub.execute_input": "2022-08-03T19:51:56.923389Z",
     "iopub.status.busy": "2022-08-03T19:51:56.922914Z",
     "iopub.status.idle": "2022-08-03T19:51:56.948913Z",
     "shell.execute_reply": "2022-08-03T19:51:56.947826Z"
    },
    "papermill": {
     "duration": 0.038966,
     "end_time": "2022-08-03T19:51:56.951346",
     "exception": false,
     "start_time": "2022-08-03T19:51:56.912380",
     "status": "completed"
    },
    "tags": []
   },
   "outputs": [],
   "source": [
    "base_learning_rate = 0.0001\n",
    "model1.compile(optimizer=tf.keras.optimizers.Adam(learning_rate=base_learning_rate),\n",
    "              loss=tf.keras.losses.CategoricalCrossentropy(),\n",
    "              metrics=['accuracy', keras.metrics.Precision(), keras.metrics.Recall(), keras.metrics.AUC(),f1SCORE])"
   ]
  },
  {
   "cell_type": "code",
   "execution_count": 25,
   "id": "d0389bb3",
   "metadata": {
    "execution": {
     "iopub.execute_input": "2022-08-03T19:51:56.970849Z",
     "iopub.status.busy": "2022-08-03T19:51:56.970525Z",
     "iopub.status.idle": "2022-08-03T19:51:56.975609Z",
     "shell.execute_reply": "2022-08-03T19:51:56.974541Z"
    },
    "papermill": {
     "duration": 0.017421,
     "end_time": "2022-08-03T19:51:56.977844",
     "exception": false,
     "start_time": "2022-08-03T19:51:56.960423",
     "status": "completed"
    },
    "tags": []
   },
   "outputs": [],
   "source": [
    "early_stopping = tf.keras.callbacks.EarlyStopping(monitor='val_loss', patience=5, restore_best_weights=True)"
   ]
  },
  {
   "cell_type": "code",
   "execution_count": 26,
   "id": "88d7d9bd",
   "metadata": {
    "execution": {
     "iopub.execute_input": "2022-08-03T19:51:56.997703Z",
     "iopub.status.busy": "2022-08-03T19:51:56.997218Z",
     "iopub.status.idle": "2022-08-03T20:09:47.688496Z",
     "shell.execute_reply": "2022-08-03T20:09:47.687171Z"
    },
    "papermill": {
     "duration": 1071.584198,
     "end_time": "2022-08-03T20:09:48.571538",
     "exception": false,
     "start_time": "2022-08-03T19:51:56.987340",
     "status": "completed"
    },
    "tags": []
   },
   "outputs": [
    {
     "name": "stderr",
     "output_type": "stream",
     "text": [
      "2022-08-03 19:51:57.102839: I tensorflow/compiler/mlir/mlir_graph_optimization_pass.cc:185] None of the MLIR Optimization Passes are enabled (registered 2)\n"
     ]
    },
    {
     "name": "stdout",
     "output_type": "stream",
     "text": [
      "Epoch 1/10000\n"
     ]
    },
    {
     "name": "stderr",
     "output_type": "stream",
     "text": [
      "2022-08-03 19:52:01.868751: I tensorflow/stream_executor/cuda/cuda_dnn.cc:369] Loaded cuDNN version 8005\n"
     ]
    },
    {
     "name": "stdout",
     "output_type": "stream",
     "text": [
      "2052/2052 [==============================] - 79s 33ms/step - loss: 0.7532 - accuracy: 0.8069 - precision: 0.8118 - recall: 0.8019 - auc: 0.9426 - f1SCORE: 0.8059 - val_loss: 0.6265 - val_accuracy: 0.8092 - val_precision: 0.8128 - val_recall: 0.8070 - val_auc: 0.9522 - val_f1SCORE: 0.8097\n",
      "Epoch 2/10000\n",
      "2052/2052 [==============================] - 70s 34ms/step - loss: 0.4203 - accuracy: 0.8854 - precision: 0.8869 - recall: 0.8839 - auc: 0.9742 - f1SCORE: 0.8849 - val_loss: 0.3833 - val_accuracy: 0.8832 - val_precision: 0.8878 - val_recall: 0.8810 - val_auc: 0.9761 - val_f1SCORE: 0.8842\n",
      "Epoch 3/10000\n",
      "2052/2052 [==============================] - 71s 35ms/step - loss: 0.3147 - accuracy: 0.9090 - precision: 0.9102 - recall: 0.9078 - auc: 0.9824 - f1SCORE: 0.9085 - val_loss: 0.7195 - val_accuracy: 0.8251 - val_precision: 0.8256 - val_recall: 0.8251 - val_auc: 0.9478 - val_f1SCORE: 0.8253\n",
      "Epoch 4/10000\n",
      "2052/2052 [==============================] - 67s 33ms/step - loss: 0.2590 - accuracy: 0.9226 - precision: 0.9239 - recall: 0.9218 - auc: 0.9859 - f1SCORE: 0.9228 - val_loss: 0.2934 - val_accuracy: 0.9090 - val_precision: 0.9094 - val_recall: 0.9079 - val_auc: 0.9849 - val_f1SCORE: 0.9085\n",
      "Epoch 5/10000\n",
      "2052/2052 [==============================] - 68s 33ms/step - loss: 0.2190 - accuracy: 0.9313 - precision: 0.9325 - recall: 0.9306 - auc: 0.9899 - f1SCORE: 0.9315 - val_loss: 0.3182 - val_accuracy: 0.9128 - val_precision: 0.9158 - val_recall: 0.9128 - val_auc: 0.9805 - val_f1SCORE: 0.9141\n",
      "Epoch 6/10000\n",
      "2052/2052 [==============================] - 68s 33ms/step - loss: 0.1754 - accuracy: 0.9438 - precision: 0.9445 - recall: 0.9430 - auc: 0.9922 - f1SCORE: 0.9433 - val_loss: 0.3311 - val_accuracy: 0.9211 - val_precision: 0.9215 - val_recall: 0.9200 - val_auc: 0.9811 - val_f1SCORE: 0.9207\n",
      "Epoch 7/10000\n",
      "2052/2052 [==============================] - 68s 33ms/step - loss: 0.1443 - accuracy: 0.9528 - precision: 0.9537 - recall: 0.9523 - auc: 0.9945 - f1SCORE: 0.9525 - val_loss: 0.4245 - val_accuracy: 0.8646 - val_precision: 0.8676 - val_recall: 0.8624 - val_auc: 0.9729 - val_f1SCORE: 0.8646\n",
      "Epoch 8/10000\n",
      "2052/2052 [==============================] - 68s 33ms/step - loss: 0.1317 - accuracy: 0.9572 - precision: 0.9578 - recall: 0.9566 - auc: 0.9950 - f1SCORE: 0.9571 - val_loss: 0.2702 - val_accuracy: 0.9309 - val_precision: 0.9308 - val_recall: 0.9298 - val_auc: 0.9847 - val_f1SCORE: 0.9303\n",
      "Epoch 9/10000\n",
      "2052/2052 [==============================] - 67s 33ms/step - loss: 0.1071 - accuracy: 0.9644 - precision: 0.9652 - recall: 0.9640 - auc: 0.9962 - f1SCORE: 0.9645 - val_loss: 0.2332 - val_accuracy: 0.9265 - val_precision: 0.9291 - val_recall: 0.9265 - val_auc: 0.9887 - val_f1SCORE: 0.9278\n",
      "Epoch 10/10000\n",
      "2052/2052 [==============================] - 68s 33ms/step - loss: 0.1001 - accuracy: 0.9678 - precision: 0.9683 - recall: 0.9672 - auc: 0.9964 - f1SCORE: 0.9677 - val_loss: 0.2319 - val_accuracy: 0.9424 - val_precision: 0.9424 - val_recall: 0.9419 - val_auc: 0.9880 - val_f1SCORE: 0.9421\n",
      "Epoch 11/10000\n",
      "2052/2052 [==============================] - 70s 34ms/step - loss: 0.0812 - accuracy: 0.9738 - precision: 0.9744 - recall: 0.9736 - auc: 0.9974 - f1SCORE: 0.9740 - val_loss: 0.4634 - val_accuracy: 0.8695 - val_precision: 0.8707 - val_recall: 0.8679 - val_auc: 0.9693 - val_f1SCORE: 0.8691\n",
      "Epoch 12/10000\n",
      "2052/2052 [==============================] - 69s 34ms/step - loss: 0.0810 - accuracy: 0.9729 - precision: 0.9731 - recall: 0.9723 - auc: 0.9976 - f1SCORE: 0.9727 - val_loss: 0.3270 - val_accuracy: 0.9298 - val_precision: 0.9298 - val_recall: 0.9293 - val_auc: 0.9797 - val_f1SCORE: 0.9294\n",
      "Epoch 13/10000\n",
      "2052/2052 [==============================] - 69s 33ms/step - loss: 0.0637 - accuracy: 0.9782 - precision: 0.9782 - recall: 0.9781 - auc: 0.9984 - f1SCORE: 0.9782 - val_loss: 0.3027 - val_accuracy: 0.9194 - val_precision: 0.9204 - val_recall: 0.9189 - val_auc: 0.9821 - val_f1SCORE: 0.9196\n",
      "Epoch 14/10000\n",
      "2052/2052 [==============================] - 69s 34ms/step - loss: 0.0616 - accuracy: 0.9800 - precision: 0.9802 - recall: 0.9798 - auc: 0.9987 - f1SCORE: 0.9800 - val_loss: 0.3059 - val_accuracy: 0.9375 - val_precision: 0.9385 - val_recall: 0.9375 - val_auc: 0.9816 - val_f1SCORE: 0.9380\n",
      "Epoch 15/10000\n",
      "2052/2052 [==============================] - 71s 35ms/step - loss: 0.0551 - accuracy: 0.9823 - precision: 0.9824 - recall: 0.9821 - auc: 0.9983 - f1SCORE: 0.9823 - val_loss: 0.3750 - val_accuracy: 0.9232 - val_precision: 0.9248 - val_recall: 0.9232 - val_auc: 0.9780 - val_f1SCORE: 0.9240\n"
     ]
    }
   ],
   "source": [
    "initial_epochs = 10000\n",
    "history = model1.fit(train_generator, epochs=initial_epochs, \n",
    "                     validation_data = validation_generator, callbacks=[early_stopping])"
   ]
  },
  {
   "cell_type": "code",
   "execution_count": 27,
   "id": "312b6721",
   "metadata": {
    "execution": {
     "iopub.execute_input": "2022-08-03T20:09:50.381905Z",
     "iopub.status.busy": "2022-08-03T20:09:50.381358Z",
     "iopub.status.idle": "2022-08-03T20:09:59.332911Z",
     "shell.execute_reply": "2022-08-03T20:09:59.331912Z"
    },
    "papermill": {
     "duration": 9.824988,
     "end_time": "2022-08-03T20:09:59.336874",
     "exception": false,
     "start_time": "2022-08-03T20:09:49.511886",
     "status": "completed"
    },
    "tags": []
   },
   "outputs": [
    {
     "data": {
      "image/png": "[encoded data removed]",
      "text/plain": [
       "<Figure size 1440x1152 with 6 Axes>"
      ]
     },
     "metadata": {},
     "output_type": "display_data"
    }
   ],
   "source": [
    "import seaborn as sns\n",
    "def data(history):\n",
    "  return pd.DataFrame(data=list(zip(history.history[\"accuracy\"], history.history[\"val_accuracy\"], history.history[\"loss\"], history.history[\"val_loss\"], history.history[\"recall\"], history.history[\"val_recall\"], history.history[\"precision\"], history.history[\"val_precision\"], history.history[\"auc\"], history.history[\"val_auc\"],history.history[\"f1SCORE\"],history.history[\"val_f1SCORE\"] )) , columns=[\"Accuracy\", \"Validation Accuracy\", \"Loss\", \"Validation Loss\", \"Recall\", \"Validation Recall\", \"Precision\", \"Validation Precision\", \"AUC\", \"Validation AUC\", \"f1SCORE\", \"Validation f1SCORE\"])\n",
    "def history_visualization(history):\n",
    "  df = data(history)\n",
    "  sns.set_style('darkgrid')\n",
    "  nrow = 3\n",
    "  ncol = 2\n",
    "  df_columns = df.columns\n",
    "  df_list = [df[col] for col in df]\n",
    "  titles=[\"Accuracy Visualization\", \"Loss Visualization\", \"Recall Visualization\", \"Precision Visualization\", \"AUC Visualization\", \"F1 Score Visualization\"]\n",
    "  fig, axes = plt.subplots(nrow, ncol, figsize=(20, 16))\n",
    "  count = 0\n",
    "  i = 0\n",
    "  for r in range(nrow):\n",
    "    for c in range(ncol):\n",
    "        df_list[count].plot(ax=axes[r,c], x=\"Number of Epochs\", legend=\"brief\", label=df_columns[count], marker=\"o\").set_title(titles[i])\n",
    "        df_list[count+1].plot(ax=axes[r, c], x=\"Number of Epochs\", legend=\"brief\" ,label=df_columns[count+1], marker=\"o\").set_title(titles[i])\n",
    "        i+=1\n",
    "        count+=2\n",
    "history_visualization(history)"
   ]
  },
  {
   "cell_type": "code",
   "execution_count": 28,
   "id": "74b9b407",
   "metadata": {
    "execution": {
     "iopub.execute_input": "2022-08-03T20:10:01.201719Z",
     "iopub.status.busy": "2022-08-03T20:10:01.201113Z",
     "iopub.status.idle": "2022-08-03T20:10:08.098752Z",
     "shell.execute_reply": "2022-08-03T20:10:08.096214Z"
    },
    "papermill": {
     "duration": 7.833038,
     "end_time": "2022-08-03T20:10:08.104335",
     "exception": false,
     "start_time": "2022-08-03T20:10:00.271297",
     "status": "completed"
    },
    "tags": []
   },
   "outputs": [
    {
     "name": "stdout",
     "output_type": "stream",
     "text": [
      "252/252 [==============================] - 7s 27ms/step - loss: 0.2316 - accuracy: 0.9315 - precision: 0.9320 - recall: 0.9315 - auc: 0.9873 - f1SCORE: 0.9317\n"
     ]
    },
    {
     "data": {
      "text/plain": [
       "[0.231635183095932,\n",
       " 0.9315136671066284,\n",
       " 0.9319761395454407,\n",
       " 0.9315136671066284,\n",
       " 0.9873235821723938,\n",
       " 0.9317460656166077]"
      ]
     },
     "execution_count": 28,
     "metadata": {},
     "output_type": "execute_result"
    }
   ],
   "source": [
    "model1.evaluate(test_generator)\n",
    "# loss and accuracy"
   ]
  },
  {
   "cell_type": "code",
   "execution_count": 29,
   "id": "c41dd430",
   "metadata": {
    "execution": {
     "iopub.execute_input": "2022-08-03T20:10:09.910665Z",
     "iopub.status.busy": "2022-08-03T20:10:09.910071Z",
     "iopub.status.idle": "2022-08-03T20:10:16.452638Z",
     "shell.execute_reply": "2022-08-03T20:10:16.451415Z"
    },
    "papermill": {
     "duration": 7.478127,
     "end_time": "2022-08-03T20:10:16.455873",
     "exception": false,
     "start_time": "2022-08-03T20:10:08.977746",
     "status": "completed"
    },
    "tags": []
   },
   "outputs": [
    {
     "name": "stdout",
     "output_type": "stream",
     "text": [
      "                 precision    recall  f1-score   support\n",
      "\n",
      "          Covid       0.96      0.96      0.96       361\n",
      "   Lung opacity       0.90      0.90      0.90       601\n",
      "         Normal       0.93      0.94      0.93       918\n",
      "Viral Pneumonia       0.99      0.97      0.98       135\n",
      "\n",
      "       accuracy                           0.93      2015\n",
      "      macro avg       0.95      0.94      0.94      2015\n",
      "   weighted avg       0.93      0.93      0.93      2015\n",
      "\n"
     ]
    }
   ],
   "source": [
    "from sklearn.metrics import confusion_matrix, classification_report\n",
    "import seaborn as sns\n",
    "val_predict = model1.predict(test_generator)\n",
    "predict_class = np.argmax(val_predict, axis=1)\n",
    "predict_class = predict_class.tolist()\n",
    "labels = ['Covid','Lung opacity' ,'Normal', 'Viral Pneumonia']\n",
    "report = classification_report(test_generator.classes, predict_class, target_names=labels)\n",
    "print(report)"
   ]
  },
  {
   "cell_type": "code",
   "execution_count": 30,
   "id": "0b219018",
   "metadata": {
    "execution": {
     "iopub.execute_input": "2022-08-03T20:10:18.337928Z",
     "iopub.status.busy": "2022-08-03T20:10:18.337342Z",
     "iopub.status.idle": "2022-08-03T20:10:18.346465Z",
     "shell.execute_reply": "2022-08-03T20:10:18.345605Z"
    },
    "papermill": {
     "duration": 0.953216,
     "end_time": "2022-08-03T20:10:18.348630",
     "exception": false,
     "start_time": "2022-08-03T20:10:17.395414",
     "status": "completed"
    },
    "tags": []
   },
   "outputs": [],
   "source": [
    "cm = confusion_matrix(test_generator.classes, predict_class)\n",
    "cm_df = pd.DataFrame(cm,\n",
    "                     index = ['COVID','LUNG OPACITY' ,'NORMAL','VIRAL PNEUMONIA'], \n",
    "                     columns = ['COVID','LUNG OPACITY' ,'NORMAL','VIRAL PNEUMONIA'])"
   ]
  },
  {
   "cell_type": "code",
   "execution_count": 31,
   "id": "cf190af6",
   "metadata": {
    "execution": {
     "iopub.execute_input": "2022-08-03T20:10:20.161365Z",
     "iopub.status.busy": "2022-08-03T20:10:20.160801Z",
     "iopub.status.idle": "2022-08-03T20:10:20.466047Z",
     "shell.execute_reply": "2022-08-03T20:10:20.465094Z"
    },
    "papermill": {
     "duration": 1.244772,
     "end_time": "2022-08-03T20:10:20.468188",
     "exception": false,
     "start_time": "2022-08-03T20:10:19.223416",
     "status": "completed"
    },
    "tags": []
   },
   "outputs": [
    {
     "data": {
      "image/png": "[encoded data removed]",
      "text/plain": [
       "<Figure size 720x576 with 2 Axes>"
      ]
     },
     "metadata": {},
     "output_type": "display_data"
    }
   ],
   "source": [
    "plt.figure(figsize=(10,8))\n",
    "sns.heatmap(cm_df, annot=True, fmt='d')\n",
    "plt.title(\"Confusion Matrixx\")\n",
    "plt.xlabel(\"Predicted\")\n",
    "plt.ylabel(\"Actual\")\n",
    "plt.show()"
   ]
  },
  {
   "cell_type": "code",
   "execution_count": 32,
   "id": "d6f06d7e",
   "metadata": {
    "execution": {
     "iopub.execute_input": "2022-08-03T20:10:22.308359Z",
     "iopub.status.busy": "2022-08-03T20:10:22.307796Z",
     "iopub.status.idle": "2022-08-03T20:10:22.674567Z",
     "shell.execute_reply": "2022-08-03T20:10:22.673597Z"
    },
    "papermill": {
     "duration": 1.321576,
     "end_time": "2022-08-03T20:10:22.676915",
     "exception": false,
     "start_time": "2022-08-03T20:10:21.355339",
     "status": "completed"
    },
    "tags": []
   },
   "outputs": [
    {
     "name": "stderr",
     "output_type": "stream",
     "text": [
      "/opt/conda/lib/python3.7/site-packages/keras/utils/generic_utils.py:497: CustomMaskWarning: Custom mask layers require a config and must override get_config. When loading, the custom mask layer must be passed to the custom_objects argument.\n",
      "  category=CustomMaskWarning)\n"
     ]
    }
   ],
   "source": [
    "keras.models.save_model(model1,\"./base_dir/mobilenetfold3.h5\")"
   ]
  }
 ],
 "metadata": {
  "kernelspec": {
   "display_name": "Python 3",
   "language": "python",
   "name": "python3"
  },
  "language_info": {
   "codemirror_mode": {
    "name": "ipython",
    "version": 3
   },
   "file_extension": ".py",
   "mimetype": "text/x-python",
   "name": "python",
   "nbconvert_exporter": "python",
   "pygments_lexer": "ipython3",
   "version": "3.7.12"
  },
  "papermill": {
   "default_parameters": {},
   "duration": 1325.589727,
   "end_time": "2022-08-03T20:10:27.176791",
   "environment_variables": {},
   "exception": null,
   "input_path": "__notebook__.ipynb",
   "output_path": "__notebook__.ipynb",
   "parameters": {},
   "start_time": "2022-08-03T19:48:21.587064",
   "version": "2.3.4"
  }
 },
 "nbformat": 4,
 "nbformat_minor": 5
}
